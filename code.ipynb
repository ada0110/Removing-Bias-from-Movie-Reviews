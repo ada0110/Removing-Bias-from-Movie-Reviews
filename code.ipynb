{
  "nbformat": 4,
  "nbformat_minor": 5,
  "metadata": {
    "kernelspec": {
      "display_name": "Python 3 (ipykernel)",
      "language": "python",
      "name": "python3"
    },
    "language_info": {
      "codemirror_mode": {
        "name": "ipython",
        "version": 3
      },
      "file_extension": ".py",
      "mimetype": "text/x-python",
      "name": "python",
      "nbconvert_exporter": "python",
      "pygments_lexer": "ipython3",
      "version": "3.8.3"
    },
    "colab": {
      "name": "M20MA002.ipynb",
      "provenance": [],
      "collapsed_sections": [],
      "toc_visible": true
    },
    "accelerator": "GPU"
  },
  "cells": [
    {
      "cell_type": "code",
      "metadata": {
        "colab": {
          "base_uri": "https://localhost:8080/"
        },
        "id": "b_ohKJuGia3y",
        "outputId": "1e476642-42db-4db3-ac3b-9e74e4bee77c"
      },
      "source": [
        "!pip install pickle5"
      ],
      "id": "b_ohKJuGia3y",
      "execution_count": 7,
      "outputs": [
        {
          "output_type": "stream",
          "name": "stdout",
          "text": [
            "Collecting pickle5\n",
            "  Downloading pickle5-0.0.12-cp37-cp37m-manylinux_2_5_x86_64.manylinux1_x86_64.whl (256 kB)\n",
            "\u001b[?25l\r\u001b[K     |█▎                              | 10 kB 21.7 MB/s eta 0:00:01\r\u001b[K     |██▋                             | 20 kB 27.3 MB/s eta 0:00:01\r\u001b[K     |███▉                            | 30 kB 23.5 MB/s eta 0:00:01\r\u001b[K     |█████▏                          | 40 kB 19.1 MB/s eta 0:00:01\r\u001b[K     |██████▍                         | 51 kB 14.8 MB/s eta 0:00:01\r\u001b[K     |███████▊                        | 61 kB 12.2 MB/s eta 0:00:01\r\u001b[K     |█████████                       | 71 kB 12.4 MB/s eta 0:00:01\r\u001b[K     |██████████▎                     | 81 kB 13.7 MB/s eta 0:00:01\r\u001b[K     |███████████▌                    | 92 kB 14.4 MB/s eta 0:00:01\r\u001b[K     |████████████▉                   | 102 kB 10.7 MB/s eta 0:00:01\r\u001b[K     |██████████████                  | 112 kB 10.7 MB/s eta 0:00:01\r\u001b[K     |███████████████▍                | 122 kB 10.7 MB/s eta 0:00:01\r\u001b[K     |████████████████▋               | 133 kB 10.7 MB/s eta 0:00:01\r\u001b[K     |██████████████████              | 143 kB 10.7 MB/s eta 0:00:01\r\u001b[K     |███████████████████▏            | 153 kB 10.7 MB/s eta 0:00:01\r\u001b[K     |████████████████████▌           | 163 kB 10.7 MB/s eta 0:00:01\r\u001b[K     |█████████████████████▊          | 174 kB 10.7 MB/s eta 0:00:01\r\u001b[K     |███████████████████████         | 184 kB 10.7 MB/s eta 0:00:01\r\u001b[K     |████████████████████████▎       | 194 kB 10.7 MB/s eta 0:00:01\r\u001b[K     |█████████████████████████▋      | 204 kB 10.7 MB/s eta 0:00:01\r\u001b[K     |██████████████████████████▉     | 215 kB 10.7 MB/s eta 0:00:01\r\u001b[K     |████████████████████████████▏   | 225 kB 10.7 MB/s eta 0:00:01\r\u001b[K     |█████████████████████████████▍  | 235 kB 10.7 MB/s eta 0:00:01\r\u001b[K     |██████████████████████████████▊ | 245 kB 10.7 MB/s eta 0:00:01\r\u001b[K     |████████████████████████████████| 256 kB 10.7 MB/s eta 0:00:01\r\u001b[K     |████████████████████████████████| 256 kB 10.7 MB/s \n",
            "\u001b[?25hInstalling collected packages: pickle5\n",
            "Successfully installed pickle5-0.0.12\n"
          ]
        }
      ]
    },
    {
      "cell_type": "code",
      "metadata": {
        "colab": {
          "base_uri": "https://localhost:8080/"
        },
        "id": "--8tEty9ABEr",
        "outputId": "34b2f8a7-af1f-4c7b-d424-d17b792c0033"
      },
      "source": [
        "!pip install tensorflow==2.1.0"
      ],
      "id": "--8tEty9ABEr",
      "execution_count": 2,
      "outputs": [
        {
          "output_type": "stream",
          "name": "stdout",
          "text": [
            "Collecting tensorflow==2.1.0\n",
            "  Downloading tensorflow-2.1.0-cp37-cp37m-manylinux2010_x86_64.whl (421.8 MB)\n",
            "\u001b[K     |████████████████████████████████| 421.8 MB 26 kB/s \n",
            "\u001b[?25hRequirement already satisfied: absl-py>=0.7.0 in /usr/local/lib/python3.7/dist-packages (from tensorflow==2.1.0) (0.12.0)\n",
            "Requirement already satisfied: google-pasta>=0.1.6 in /usr/local/lib/python3.7/dist-packages (from tensorflow==2.1.0) (0.2.0)\n",
            "Requirement already satisfied: numpy<2.0,>=1.16.0 in /usr/local/lib/python3.7/dist-packages (from tensorflow==2.1.0) (1.19.5)\n",
            "Collecting tensorboard<2.2.0,>=2.1.0\n",
            "  Downloading tensorboard-2.1.1-py3-none-any.whl (3.8 MB)\n",
            "\u001b[K     |████████████████████████████████| 3.8 MB 31.1 MB/s \n",
            "\u001b[?25hRequirement already satisfied: grpcio>=1.8.6 in /usr/local/lib/python3.7/dist-packages (from tensorflow==2.1.0) (1.42.0)\n",
            "Requirement already satisfied: wheel>=0.26 in /usr/local/lib/python3.7/dist-packages (from tensorflow==2.1.0) (0.37.0)\n",
            "Requirement already satisfied: astor>=0.6.0 in /usr/local/lib/python3.7/dist-packages (from tensorflow==2.1.0) (0.8.1)\n",
            "Requirement already satisfied: opt-einsum>=2.3.2 in /usr/local/lib/python3.7/dist-packages (from tensorflow==2.1.0) (3.3.0)\n",
            "Collecting tensorflow-estimator<2.2.0,>=2.1.0rc0\n",
            "  Downloading tensorflow_estimator-2.1.0-py2.py3-none-any.whl (448 kB)\n",
            "\u001b[K     |████████████████████████████████| 448 kB 44.1 MB/s \n",
            "\u001b[?25hRequirement already satisfied: wrapt>=1.11.1 in /usr/local/lib/python3.7/dist-packages (from tensorflow==2.1.0) (1.13.3)\n",
            "Requirement already satisfied: termcolor>=1.1.0 in /usr/local/lib/python3.7/dist-packages (from tensorflow==2.1.0) (1.1.0)\n",
            "Requirement already satisfied: six>=1.12.0 in /usr/local/lib/python3.7/dist-packages (from tensorflow==2.1.0) (1.15.0)\n",
            "Collecting keras-applications>=1.0.8\n",
            "  Downloading Keras_Applications-1.0.8-py3-none-any.whl (50 kB)\n",
            "\u001b[K     |████████████████████████████████| 50 kB 6.0 MB/s \n",
            "\u001b[?25hRequirement already satisfied: scipy==1.4.1 in /usr/local/lib/python3.7/dist-packages (from tensorflow==2.1.0) (1.4.1)\n",
            "Collecting gast==0.2.2\n",
            "  Downloading gast-0.2.2.tar.gz (10 kB)\n",
            "Requirement already satisfied: protobuf>=3.8.0 in /usr/local/lib/python3.7/dist-packages (from tensorflow==2.1.0) (3.17.3)\n",
            "Requirement already satisfied: keras-preprocessing>=1.1.0 in /usr/local/lib/python3.7/dist-packages (from tensorflow==2.1.0) (1.1.2)\n",
            "Requirement already satisfied: h5py in /usr/local/lib/python3.7/dist-packages (from keras-applications>=1.0.8->tensorflow==2.1.0) (3.1.0)\n",
            "Requirement already satisfied: google-auth<2,>=1.6.3 in /usr/local/lib/python3.7/dist-packages (from tensorboard<2.2.0,>=2.1.0->tensorflow==2.1.0) (1.35.0)\n",
            "Requirement already satisfied: werkzeug>=0.11.15 in /usr/local/lib/python3.7/dist-packages (from tensorboard<2.2.0,>=2.1.0->tensorflow==2.1.0) (1.0.1)\n",
            "Requirement already satisfied: markdown>=2.6.8 in /usr/local/lib/python3.7/dist-packages (from tensorboard<2.2.0,>=2.1.0->tensorflow==2.1.0) (3.3.6)\n",
            "Requirement already satisfied: setuptools>=41.0.0 in /usr/local/lib/python3.7/dist-packages (from tensorboard<2.2.0,>=2.1.0->tensorflow==2.1.0) (57.4.0)\n",
            "Requirement already satisfied: requests<3,>=2.21.0 in /usr/local/lib/python3.7/dist-packages (from tensorboard<2.2.0,>=2.1.0->tensorflow==2.1.0) (2.23.0)\n",
            "Requirement already satisfied: google-auth-oauthlib<0.5,>=0.4.1 in /usr/local/lib/python3.7/dist-packages (from tensorboard<2.2.0,>=2.1.0->tensorflow==2.1.0) (0.4.6)\n",
            "Requirement already satisfied: cachetools<5.0,>=2.0.0 in /usr/local/lib/python3.7/dist-packages (from google-auth<2,>=1.6.3->tensorboard<2.2.0,>=2.1.0->tensorflow==2.1.0) (4.2.4)\n",
            "Requirement already satisfied: rsa<5,>=3.1.4 in /usr/local/lib/python3.7/dist-packages (from google-auth<2,>=1.6.3->tensorboard<2.2.0,>=2.1.0->tensorflow==2.1.0) (4.8)\n",
            "Requirement already satisfied: pyasn1-modules>=0.2.1 in /usr/local/lib/python3.7/dist-packages (from google-auth<2,>=1.6.3->tensorboard<2.2.0,>=2.1.0->tensorflow==2.1.0) (0.2.8)\n",
            "Requirement already satisfied: requests-oauthlib>=0.7.0 in /usr/local/lib/python3.7/dist-packages (from google-auth-oauthlib<0.5,>=0.4.1->tensorboard<2.2.0,>=2.1.0->tensorflow==2.1.0) (1.3.0)\n",
            "Requirement already satisfied: importlib-metadata>=4.4 in /usr/local/lib/python3.7/dist-packages (from markdown>=2.6.8->tensorboard<2.2.0,>=2.1.0->tensorflow==2.1.0) (4.8.2)\n",
            "Requirement already satisfied: typing-extensions>=3.6.4 in /usr/local/lib/python3.7/dist-packages (from importlib-metadata>=4.4->markdown>=2.6.8->tensorboard<2.2.0,>=2.1.0->tensorflow==2.1.0) (3.10.0.2)\n",
            "Requirement already satisfied: zipp>=0.5 in /usr/local/lib/python3.7/dist-packages (from importlib-metadata>=4.4->markdown>=2.6.8->tensorboard<2.2.0,>=2.1.0->tensorflow==2.1.0) (3.6.0)\n",
            "Requirement already satisfied: pyasn1<0.5.0,>=0.4.6 in /usr/local/lib/python3.7/dist-packages (from pyasn1-modules>=0.2.1->google-auth<2,>=1.6.3->tensorboard<2.2.0,>=2.1.0->tensorflow==2.1.0) (0.4.8)\n",
            "Requirement already satisfied: certifi>=2017.4.17 in /usr/local/lib/python3.7/dist-packages (from requests<3,>=2.21.0->tensorboard<2.2.0,>=2.1.0->tensorflow==2.1.0) (2021.10.8)\n",
            "Requirement already satisfied: idna<3,>=2.5 in /usr/local/lib/python3.7/dist-packages (from requests<3,>=2.21.0->tensorboard<2.2.0,>=2.1.0->tensorflow==2.1.0) (2.10)\n",
            "Requirement already satisfied: urllib3!=1.25.0,!=1.25.1,<1.26,>=1.21.1 in /usr/local/lib/python3.7/dist-packages (from requests<3,>=2.21.0->tensorboard<2.2.0,>=2.1.0->tensorflow==2.1.0) (1.24.3)\n",
            "Requirement already satisfied: chardet<4,>=3.0.2 in /usr/local/lib/python3.7/dist-packages (from requests<3,>=2.21.0->tensorboard<2.2.0,>=2.1.0->tensorflow==2.1.0) (3.0.4)\n",
            "Requirement already satisfied: oauthlib>=3.0.0 in /usr/local/lib/python3.7/dist-packages (from requests-oauthlib>=0.7.0->google-auth-oauthlib<0.5,>=0.4.1->tensorboard<2.2.0,>=2.1.0->tensorflow==2.1.0) (3.1.1)\n",
            "Requirement already satisfied: cached-property in /usr/local/lib/python3.7/dist-packages (from h5py->keras-applications>=1.0.8->tensorflow==2.1.0) (1.5.2)\n",
            "Building wheels for collected packages: gast\n",
            "  Building wheel for gast (setup.py) ... \u001b[?25l\u001b[?25hdone\n",
            "  Created wheel for gast: filename=gast-0.2.2-py3-none-any.whl size=7554 sha256=da208b6c8fb8b6be0ce38d34e98c89010b0dbe8dba7378c8e841853c9114040c\n",
            "  Stored in directory: /root/.cache/pip/wheels/21/7f/02/420f32a803f7d0967b48dd823da3f558c5166991bfd204eef3\n",
            "Successfully built gast\n",
            "Installing collected packages: tensorflow-estimator, tensorboard, keras-applications, gast, tensorflow\n",
            "  Attempting uninstall: tensorflow-estimator\n",
            "    Found existing installation: tensorflow-estimator 2.7.0\n",
            "    Uninstalling tensorflow-estimator-2.7.0:\n",
            "      Successfully uninstalled tensorflow-estimator-2.7.0\n",
            "  Attempting uninstall: tensorboard\n",
            "    Found existing installation: tensorboard 2.7.0\n",
            "    Uninstalling tensorboard-2.7.0:\n",
            "      Successfully uninstalled tensorboard-2.7.0\n",
            "  Attempting uninstall: gast\n",
            "    Found existing installation: gast 0.4.0\n",
            "    Uninstalling gast-0.4.0:\n",
            "      Successfully uninstalled gast-0.4.0\n",
            "  Attempting uninstall: tensorflow\n",
            "    Found existing installation: tensorflow 2.7.0\n",
            "    Uninstalling tensorflow-2.7.0:\n",
            "      Successfully uninstalled tensorflow-2.7.0\n",
            "\u001b[31mERROR: pip's dependency resolver does not currently take into account all the packages that are installed. This behaviour is the source of the following dependency conflicts.\n",
            "tensorflow-probability 0.15.0 requires gast>=0.3.2, but you have gast 0.2.2 which is incompatible.\u001b[0m\n",
            "Successfully installed gast-0.2.2 keras-applications-1.0.8 tensorboard-2.1.1 tensorflow-2.1.0 tensorflow-estimator-2.1.0\n"
          ]
        }
      ]
    },
    {
      "cell_type": "code",
      "metadata": {
        "colab": {
          "base_uri": "https://localhost:8080/"
        },
        "id": "TXzASrI4GcXm",
        "outputId": "782135a4-a6e1-4036-817f-7e1679ccc1ea"
      },
      "source": [
        "!pip install h5py==2.10.0"
      ],
      "id": "TXzASrI4GcXm",
      "execution_count": 3,
      "outputs": [
        {
          "output_type": "stream",
          "name": "stdout",
          "text": [
            "Collecting h5py==2.10.0\n",
            "  Downloading h5py-2.10.0-cp37-cp37m-manylinux1_x86_64.whl (2.9 MB)\n",
            "\u001b[K     |████████████████████████████████| 2.9 MB 4.0 MB/s \n",
            "\u001b[?25hRequirement already satisfied: six in /usr/local/lib/python3.7/dist-packages (from h5py==2.10.0) (1.15.0)\n",
            "Requirement already satisfied: numpy>=1.7 in /usr/local/lib/python3.7/dist-packages (from h5py==2.10.0) (1.19.5)\n",
            "Installing collected packages: h5py\n",
            "  Attempting uninstall: h5py\n",
            "    Found existing installation: h5py 3.1.0\n",
            "    Uninstalling h5py-3.1.0:\n",
            "      Successfully uninstalled h5py-3.1.0\n",
            "Successfully installed h5py-2.10.0\n"
          ]
        }
      ]
    },
    {
      "cell_type": "markdown",
      "metadata": {
        "id": "2c5dd4a8-c759-46f4-a195-20cf5993a029"
      },
      "source": [
        "## imports"
      ],
      "id": "2c5dd4a8-c759-46f4-a195-20cf5993a029"
    },
    {
      "cell_type": "code",
      "metadata": {
        "execution": {
          "iopub.execute_input": "2021-11-29T19:20:32.276855Z",
          "iopub.status.busy": "2021-11-29T19:20:32.276855Z",
          "iopub.status.idle": "2021-11-29T19:20:35.097092Z",
          "shell.execute_reply": "2021-11-29T19:20:35.094965Z",
          "shell.execute_reply.started": "2021-11-29T19:20:32.276855Z"
        },
        "tags": [],
        "id": "b3a1ac0d-6474-4f9c-8b59-347e96eb3fbb"
      },
      "source": [
        "import pandas as pd\n",
        "import numpy as np\n",
        "from collections import Counter\n",
        "import random\n",
        "import re\n",
        "import matplotlib.pyplot as plt \n",
        "import seaborn as sns\n",
        "import pickle5 as pickle\n",
        "from IPython.display import HTML"
      ],
      "id": "b3a1ac0d-6474-4f9c-8b59-347e96eb3fbb",
      "execution_count": 10,
      "outputs": []
    },
    {
      "cell_type": "code",
      "metadata": {
        "execution": {
          "iopub.execute_input": "2021-11-28T16:05:48.186276Z",
          "iopub.status.busy": "2021-11-28T16:05:48.186276Z",
          "iopub.status.idle": "2021-11-28T16:05:50.486816Z",
          "shell.execute_reply": "2021-11-28T16:05:50.484863Z",
          "shell.execute_reply.started": "2021-11-28T16:05:48.186276Z"
        },
        "tags": [],
        "id": "e4e3f4f1-b719-4eb8-ad60-0251b7d496ca"
      },
      "source": [
        "import nltk\n",
        "from nltk.corpus import stopwords"
      ],
      "id": "e4e3f4f1-b719-4eb8-ad60-0251b7d496ca",
      "execution_count": 11,
      "outputs": []
    },
    {
      "cell_type": "code",
      "metadata": {
        "execution": {
          "iopub.execute_input": "2021-11-29T19:20:35.101714Z",
          "iopub.status.busy": "2021-11-29T19:20:35.101714Z",
          "iopub.status.idle": "2021-11-29T19:20:35.112047Z",
          "shell.execute_reply": "2021-11-29T19:20:35.111049Z",
          "shell.execute_reply.started": "2021-11-29T19:20:35.101714Z"
        },
        "tags": [],
        "id": "dd94f5e0-5aef-4072-8b4c-0f7155874eff"
      },
      "source": [
        "from sklearn.metrics import classification_report, confusion_matrix, accuracy_score, recall_score, precision_score, f1_score\n",
        "from sklearn.utils import class_weight\n",
        "from sklearn.model_selection import train_test_split"
      ],
      "id": "dd94f5e0-5aef-4072-8b4c-0f7155874eff",
      "execution_count": 12,
      "outputs": []
    },
    {
      "cell_type": "code",
      "metadata": {
        "execution": {
          "iopub.execute_input": "2021-11-29T19:20:35.654405Z",
          "iopub.status.busy": "2021-11-29T19:20:35.653405Z",
          "iopub.status.idle": "2021-11-29T19:20:44.916297Z",
          "shell.execute_reply": "2021-11-29T19:20:44.914957Z",
          "shell.execute_reply.started": "2021-11-29T19:20:35.654405Z"
        },
        "tags": [],
        "id": "1c81650a-50dc-45e4-a0b1-1960ea4b8b5d"
      },
      "source": [
        "import tensorflow\n",
        "from tensorflow.keras.models import Sequential, Model, load_model\n",
        "from tensorflow.keras.layers import Bidirectional, Dense, Flatten, LSTM, Conv1D, MaxPooling1D, Dropout, Activation, Input, Embedding, LeakyReLU, concatenate\n",
        "from tensorflow.keras.optimizers import Adam, SGD\n",
        "from tensorflow.keras.callbacks import ModelCheckpoint, EarlyStopping\n",
        "from tensorflow.keras.utils import to_categorical\n",
        "from tensorflow.keras.losses import sparse_categorical_crossentropy\n",
        "from tensorflow.keras import regularizers\n",
        "\n",
        "from tensorflow.keras.preprocessing.text import Tokenizer\n",
        "from tensorflow.keras.preprocessing.sequence import pad_sequences"
      ],
      "id": "1c81650a-50dc-45e4-a0b1-1960ea4b8b5d",
      "execution_count": 13,
      "outputs": []
    },
    {
      "cell_type": "code",
      "metadata": {
        "execution": {
          "iopub.execute_input": "2021-11-28T16:05:55.383302Z",
          "iopub.status.busy": "2021-11-28T16:05:55.383302Z",
          "iopub.status.idle": "2021-11-28T16:05:55.398309Z",
          "shell.execute_reply": "2021-11-28T16:05:55.397309Z",
          "shell.execute_reply.started": "2021-11-28T16:05:55.383302Z"
        },
        "tags": [],
        "colab": {
          "base_uri": "https://localhost:8080/",
          "height": 35
        },
        "id": "087714c5-224c-496a-b046-00d568feb36f",
        "outputId": "a12273b3-4959-41e5-df12-121b94e98c4d"
      },
      "source": [
        "tensorflow.__version__"
      ],
      "id": "087714c5-224c-496a-b046-00d568feb36f",
      "execution_count": null,
      "outputs": [
        {
          "output_type": "execute_result",
          "data": {
            "application/vnd.google.colaboratory.intrinsic+json": {
              "type": "string"
            },
            "text/plain": [
              "'2.1.0'"
            ]
          },
          "metadata": {},
          "execution_count": 5
        }
      ]
    },
    {
      "cell_type": "code",
      "metadata": {
        "colab": {
          "base_uri": "https://localhost:8080/"
        },
        "id": "1z3L125nhx3i",
        "outputId": "8b9b2242-730d-4de1-f989-eae4483b6256"
      },
      "source": [
        "from google.colab import drive\n",
        "drive.mount('/content/drive')"
      ],
      "id": "1z3L125nhx3i",
      "execution_count": 3,
      "outputs": [
        {
          "output_type": "stream",
          "name": "stdout",
          "text": [
            "Mounted at /content/drive\n"
          ]
        }
      ]
    },
    {
      "cell_type": "markdown",
      "metadata": {
        "id": "29bfb5d3-afe7-40aa-8cf6-914cd6c39a4e"
      },
      "source": [
        "## load data"
      ],
      "id": "29bfb5d3-afe7-40aa-8cf6-914cd6c39a4e"
    },
    {
      "cell_type": "code",
      "metadata": {
        "colab": {
          "base_uri": "https://localhost:8080/"
        },
        "id": "b5BoG8N9h4g6",
        "outputId": "5eb9b41d-c574-4ee0-c8a6-36d6dda0c365"
      },
      "source": [
        "!cp /content/drive/MyDrive/DAI_Project/* /content/"
      ],
      "id": "b5BoG8N9h4g6",
      "execution_count": 4,
      "outputs": [
        {
          "output_type": "stream",
          "name": "stdout",
          "text": [
            "cp: cannot open '/content/drive/MyDrive/DAI_Project/bias_free_logs_alpha=-0.5.gsheet' for reading: Operation not supported\n",
            "cp: -r not specified; omitting directory '/content/drive/MyDrive/DAI_Project/saved_models'\n"
          ]
        }
      ]
    },
    {
      "cell_type": "code",
      "metadata": {
        "colab": {
          "base_uri": "https://localhost:8080/",
          "height": 206
        },
        "id": "4WqFMFH2ihDu",
        "outputId": "30d490d4-55a8-4f33-9c6d-259df3beb8f0"
      },
      "source": [
        "# df_movies = pd.read_pickle(\"df_movie.pkl\")\n",
        "# print(df_movies.shape)\n",
        "# df_movies.head()\n",
        "\n",
        "with open(\"df_movie.pkl\", \"rb\") as f:\n",
        "  df_movies = pickle.load(f)\n",
        "df_movies.head()"
      ],
      "id": "4WqFMFH2ihDu",
      "execution_count": 14,
      "outputs": [
        {
          "output_type": "execute_result",
          "data": {
            "text/html": [
              "<div>\n",
              "<style scoped>\n",
              "    .dataframe tbody tr th:only-of-type {\n",
              "        vertical-align: middle;\n",
              "    }\n",
              "\n",
              "    .dataframe tbody tr th {\n",
              "        vertical-align: top;\n",
              "    }\n",
              "\n",
              "    .dataframe thead th {\n",
              "        text-align: right;\n",
              "    }\n",
              "</style>\n",
              "<table border=\"1\" class=\"dataframe\">\n",
              "  <thead>\n",
              "    <tr style=\"text-align: right;\">\n",
              "      <th></th>\n",
              "      <th>rating</th>\n",
              "      <th>title</th>\n",
              "      <th>year</th>\n",
              "      <th>votes</th>\n",
              "      <th>top 250 rank</th>\n",
              "      <th>kind</th>\n",
              "      <th>top indian 250 rank</th>\n",
              "      <th>bottom 100 rank</th>\n",
              "    </tr>\n",
              "  </thead>\n",
              "  <tbody>\n",
              "    <tr>\n",
              "      <th>0111161</th>\n",
              "      <td>9.2</td>\n",
              "      <td>The Shawshank Redemption</td>\n",
              "      <td>1994</td>\n",
              "      <td>2497651</td>\n",
              "      <td>1</td>\n",
              "      <td>movie</td>\n",
              "      <td>NaN</td>\n",
              "      <td>NaN</td>\n",
              "    </tr>\n",
              "    <tr>\n",
              "      <th>0068646</th>\n",
              "      <td>9.1</td>\n",
              "      <td>The Godfather</td>\n",
              "      <td>1972</td>\n",
              "      <td>1722236</td>\n",
              "      <td>2</td>\n",
              "      <td>movie</td>\n",
              "      <td>NaN</td>\n",
              "      <td>NaN</td>\n",
              "    </tr>\n",
              "    <tr>\n",
              "      <th>0071562</th>\n",
              "      <td>9</td>\n",
              "      <td>The Godfather: Part II</td>\n",
              "      <td>1974</td>\n",
              "      <td>1195394</td>\n",
              "      <td>3</td>\n",
              "      <td>movie</td>\n",
              "      <td>NaN</td>\n",
              "      <td>NaN</td>\n",
              "    </tr>\n",
              "    <tr>\n",
              "      <th>0468569</th>\n",
              "      <td>9</td>\n",
              "      <td>The Dark Knight</td>\n",
              "      <td>2008</td>\n",
              "      <td>2448173</td>\n",
              "      <td>4</td>\n",
              "      <td>movie</td>\n",
              "      <td>NaN</td>\n",
              "      <td>NaN</td>\n",
              "    </tr>\n",
              "    <tr>\n",
              "      <th>0050083</th>\n",
              "      <td>8.9</td>\n",
              "      <td>12 Angry Men</td>\n",
              "      <td>1957</td>\n",
              "      <td>737820</td>\n",
              "      <td>5</td>\n",
              "      <td>movie</td>\n",
              "      <td>NaN</td>\n",
              "      <td>NaN</td>\n",
              "    </tr>\n",
              "  </tbody>\n",
              "</table>\n",
              "</div>"
            ],
            "text/plain": [
              "        rating                     title  ... top indian 250 rank bottom 100 rank\n",
              "0111161    9.2  The Shawshank Redemption  ...                 NaN             NaN\n",
              "0068646    9.1             The Godfather  ...                 NaN             NaN\n",
              "0071562      9    The Godfather: Part II  ...                 NaN             NaN\n",
              "0468569      9           The Dark Knight  ...                 NaN             NaN\n",
              "0050083    8.9              12 Angry Men  ...                 NaN             NaN\n",
              "\n",
              "[5 rows x 8 columns]"
            ]
          },
          "metadata": {},
          "execution_count": 14
        }
      ]
    },
    {
      "cell_type": "code",
      "metadata": {
        "colab": {
          "base_uri": "https://localhost:8080/",
          "height": 293
        },
        "id": "iz-EDrC-ippv",
        "outputId": "720bd206-61af-4b9b-d0e9-3f1a309a992b"
      },
      "source": [
        "# df_reviews = pd.read_pickle(\"df_reviews.pkl\")\n",
        "# print(df_reviews.shape)\n",
        "# df_reviews.head()\n",
        "\n",
        "with open(\"df_reviews.pkl\", \"rb\") as f:\n",
        "  df_reviews = pickle.load(f)\n",
        "df_reviews.head()"
      ],
      "id": "iz-EDrC-ippv",
      "execution_count": 15,
      "outputs": [
        {
          "output_type": "execute_result",
          "data": {
            "text/html": [
              "<div>\n",
              "<style scoped>\n",
              "    .dataframe tbody tr th:only-of-type {\n",
              "        vertical-align: middle;\n",
              "    }\n",
              "\n",
              "    .dataframe tbody tr th {\n",
              "        vertical-align: top;\n",
              "    }\n",
              "\n",
              "    .dataframe thead th {\n",
              "        text-align: right;\n",
              "    }\n",
              "</style>\n",
              "<table border=\"1\" class=\"dataframe\">\n",
              "  <thead>\n",
              "    <tr style=\"text-align: right;\">\n",
              "      <th></th>\n",
              "      <th>m_id</th>\n",
              "      <th>movie</th>\n",
              "      <th>review_title</th>\n",
              "      <th>review</th>\n",
              "      <th>review_rating</th>\n",
              "      <th>helpful_score</th>\n",
              "      <th>review_perm_link</th>\n",
              "    </tr>\n",
              "  </thead>\n",
              "  <tbody>\n",
              "    <tr>\n",
              "      <th>0</th>\n",
              "      <td>0111161</td>\n",
              "      <td>The Shawshank Redemption</td>\n",
              "      <td>Enthralling, fantastic, intriguing, truly rema...</td>\n",
              "      <td>Shawshank Redemption is without doubt one of t...</td>\n",
              "      <td>10/10</td>\n",
              "      <td>57 out of 87 found this helpful.</td>\n",
              "      <td>https://www.imdb.com//review/rw2053711/</td>\n",
              "    </tr>\n",
              "    <tr>\n",
              "      <th>1</th>\n",
              "      <td>0111161</td>\n",
              "      <td>The Shawshank Redemption</td>\n",
              "      <td>\"I Had To Go To Prison To Learn To Be A Crook\"</td>\n",
              "      <td>None of the usual otherworld creatures that po...</td>\n",
              "      <td>9/10</td>\n",
              "      <td>17 out of 27 found this helpful.</td>\n",
              "      <td>https://www.imdb.com//review/rw2387096/</td>\n",
              "    </tr>\n",
              "    <tr>\n",
              "      <th>2</th>\n",
              "      <td>0111161</td>\n",
              "      <td>The Shawshank Redemption</td>\n",
              "      <td>All-time prison film classic</td>\n",
              "      <td>Based on a novella by Stephen King, this is be...</td>\n",
              "      <td>10/10</td>\n",
              "      <td>8 out of 11 found this helpful.</td>\n",
              "      <td>https://www.imdb.com//review/rw3601108/</td>\n",
              "    </tr>\n",
              "    <tr>\n",
              "      <th>3</th>\n",
              "      <td>0111161</td>\n",
              "      <td>The Shawshank Redemption</td>\n",
              "      <td>Freeman gives it depth</td>\n",
              "      <td>Andy Dufresne (Tim Robbins) is a banker convic...</td>\n",
              "      <td>8/10</td>\n",
              "      <td>13 out of 23 found this helpful.</td>\n",
              "      <td>https://www.imdb.com//review/rw2918939/</td>\n",
              "    </tr>\n",
              "    <tr>\n",
              "      <th>4</th>\n",
              "      <td>0111161</td>\n",
              "      <td>The Shawshank Redemption</td>\n",
              "      <td>An incredible movie. One that lives with you.</td>\n",
              "      <td>It is no wonder that the film has such a high ...</td>\n",
              "      <td>10/10</td>\n",
              "      <td>12 out of 16 found this helpful.</td>\n",
              "      <td>https://www.imdb.com//review/rw6606154/</td>\n",
              "    </tr>\n",
              "  </tbody>\n",
              "</table>\n",
              "</div>"
            ],
            "text/plain": [
              "      m_id  ...                         review_perm_link\n",
              "0  0111161  ...  https://www.imdb.com//review/rw2053711/\n",
              "1  0111161  ...  https://www.imdb.com//review/rw2387096/\n",
              "2  0111161  ...  https://www.imdb.com//review/rw3601108/\n",
              "3  0111161  ...  https://www.imdb.com//review/rw2918939/\n",
              "4  0111161  ...  https://www.imdb.com//review/rw6606154/\n",
              "\n",
              "[5 rows x 7 columns]"
            ]
          },
          "metadata": {},
          "execution_count": 15
        }
      ]
    },
    {
      "cell_type": "code",
      "metadata": {
        "execution": {
          "iopub.execute_input": "2021-11-29T20:23:27.334301Z",
          "iopub.status.busy": "2021-11-29T20:23:27.334301Z",
          "iopub.status.idle": "2021-11-29T20:23:27.419103Z",
          "shell.execute_reply": "2021-11-29T20:23:27.417929Z",
          "shell.execute_reply.started": "2021-11-29T20:23:27.334301Z"
        },
        "tags": [],
        "colab": {
          "base_uri": "https://localhost:8080/",
          "height": 799
        },
        "id": "057fac20-70a3-4cd2-9311-91f9d5f8ebe4",
        "outputId": "99ac1250-1a01-4e40-8542-6ab3a04bb778"
      },
      "source": [
        "# df_movie_data = pd.read_pickle(\"df_movie_data.pkl\")\n",
        "# print(df_movie_data.shape)\n",
        "# df_movie_data.head()\n",
        "\n",
        "with open(\"df_movie_data.pkl\", \"rb\") as f:\n",
        "  df_movie_data = pickle.load(f)\n",
        "df_movie_data.head()"
      ],
      "id": "057fac20-70a3-4cd2-9311-91f9d5f8ebe4",
      "execution_count": 16,
      "outputs": [
        {
          "output_type": "execute_result",
          "data": {
            "text/html": [
              "<div>\n",
              "<style scoped>\n",
              "    .dataframe tbody tr th:only-of-type {\n",
              "        vertical-align: middle;\n",
              "    }\n",
              "\n",
              "    .dataframe tbody tr th {\n",
              "        vertical-align: top;\n",
              "    }\n",
              "\n",
              "    .dataframe thead th {\n",
              "        text-align: right;\n",
              "    }\n",
              "</style>\n",
              "<table border=\"1\" class=\"dataframe\">\n",
              "  <thead>\n",
              "    <tr style=\"text-align: right;\">\n",
              "      <th></th>\n",
              "      <th>rating</th>\n",
              "      <th>title</th>\n",
              "      <th>year</th>\n",
              "      <th>votes</th>\n",
              "      <th>top 250 rank</th>\n",
              "      <th>kind</th>\n",
              "      <th>localized title</th>\n",
              "      <th>genre</th>\n",
              "      <th>cast</th>\n",
              "      <th>runtimes</th>\n",
              "      <th>languages</th>\n",
              "      <th>directors</th>\n",
              "      <th>writers</th>\n",
              "      <th>cover url</th>\n",
              "      <th>box office</th>\n",
              "      <th>top indian 250 rank</th>\n",
              "      <th>bottom 100 rank</th>\n",
              "    </tr>\n",
              "  </thead>\n",
              "  <tbody>\n",
              "    <tr>\n",
              "      <th>0111161</th>\n",
              "      <td>9.2</td>\n",
              "      <td>The Shawshank Redemption</td>\n",
              "      <td>1994</td>\n",
              "      <td>2497651</td>\n",
              "      <td>1</td>\n",
              "      <td>movie</td>\n",
              "      <td>The Shawshank Redemption</td>\n",
              "      <td>[Drama]</td>\n",
              "      <td>[Tim Robbins, Morgan Freeman, Bob Gunton, Will...</td>\n",
              "      <td>[142]</td>\n",
              "      <td>[English]</td>\n",
              "      <td>[Frank Darabont]</td>\n",
              "      <td>[Stephen King, None, Frank Darabont]</td>\n",
              "      <td>https://m.media-amazon.com/images/M/MV5BMDFkYT...</td>\n",
              "      <td>{'Budget': '$25,000,000 (estimated)', 'Opening...</td>\n",
              "      <td>NaN</td>\n",
              "      <td>NaN</td>\n",
              "    </tr>\n",
              "    <tr>\n",
              "      <th>0068646</th>\n",
              "      <td>9.1</td>\n",
              "      <td>The Godfather</td>\n",
              "      <td>1972</td>\n",
              "      <td>1722236</td>\n",
              "      <td>2</td>\n",
              "      <td>movie</td>\n",
              "      <td>The Godfather</td>\n",
              "      <td>[Crime, Drama]</td>\n",
              "      <td>[Marlon Brando, Al Pacino, James Caan, Richard...</td>\n",
              "      <td>[175]</td>\n",
              "      <td>[English, Italian, Latin]</td>\n",
              "      <td>[Francis Ford Coppola]</td>\n",
              "      <td>[Mario Puzo, Francis Ford Coppola, None, Mario...</td>\n",
              "      <td>https://m.media-amazon.com/images/M/MV5BM2MyNj...</td>\n",
              "      <td>{'Budget': '$6,000,000 (estimated)', 'Opening ...</td>\n",
              "      <td>NaN</td>\n",
              "      <td>NaN</td>\n",
              "    </tr>\n",
              "    <tr>\n",
              "      <th>0071562</th>\n",
              "      <td>9</td>\n",
              "      <td>The Godfather: Part II</td>\n",
              "      <td>1974</td>\n",
              "      <td>1195394</td>\n",
              "      <td>3</td>\n",
              "      <td>movie</td>\n",
              "      <td>The Godfather: Part II</td>\n",
              "      <td>[Crime, Drama]</td>\n",
              "      <td>[Al Pacino, Robert Duvall, Diane Keaton, Rober...</td>\n",
              "      <td>[202]</td>\n",
              "      <td>[English, Italian, Spanish, Latin, Sicilian]</td>\n",
              "      <td>[Francis Ford Coppola]</td>\n",
              "      <td>[Francis Ford Coppola, Mario Puzo, None, Mario...</td>\n",
              "      <td>https://m.media-amazon.com/images/M/MV5BMWMwMG...</td>\n",
              "      <td>{'Budget': '$13,000,000 (estimated)', 'Opening...</td>\n",
              "      <td>NaN</td>\n",
              "      <td>NaN</td>\n",
              "    </tr>\n",
              "    <tr>\n",
              "      <th>0468569</th>\n",
              "      <td>9</td>\n",
              "      <td>The Dark Knight</td>\n",
              "      <td>2008</td>\n",
              "      <td>2448173</td>\n",
              "      <td>4</td>\n",
              "      <td>movie</td>\n",
              "      <td>The Dark Knight</td>\n",
              "      <td>[Action, Crime, Drama, Thriller]</td>\n",
              "      <td>[Christian Bale, Heath Ledger, Aaron Eckhart, ...</td>\n",
              "      <td>[152]</td>\n",
              "      <td>[English, Mandarin]</td>\n",
              "      <td>[Christopher Nolan]</td>\n",
              "      <td>[Jonathan Nolan, Christopher Nolan, None, Chri...</td>\n",
              "      <td>https://m.media-amazon.com/images/M/MV5BMTMxNT...</td>\n",
              "      <td>{'Budget': '$185,000,000 (estimated)', 'Openin...</td>\n",
              "      <td>NaN</td>\n",
              "      <td>NaN</td>\n",
              "    </tr>\n",
              "    <tr>\n",
              "      <th>0050083</th>\n",
              "      <td>8.9</td>\n",
              "      <td>12 Angry Men</td>\n",
              "      <td>1957</td>\n",
              "      <td>737820</td>\n",
              "      <td>5</td>\n",
              "      <td>movie</td>\n",
              "      <td>12 Angry Men</td>\n",
              "      <td>[Crime, Drama]</td>\n",
              "      <td>[Martin Balsam, John Fiedler, Lee J. Cobb, E.G...</td>\n",
              "      <td>[96]</td>\n",
              "      <td>[English]</td>\n",
              "      <td>[Sidney Lumet]</td>\n",
              "      <td>[Reginald Rose, None, Reginald Rose]</td>\n",
              "      <td>https://m.media-amazon.com/images/M/MV5BMWU4N2...</td>\n",
              "      <td>{'Budget': '$350,000 (estimated)'}</td>\n",
              "      <td>NaN</td>\n",
              "      <td>NaN</td>\n",
              "    </tr>\n",
              "  </tbody>\n",
              "</table>\n",
              "</div>"
            ],
            "text/plain": [
              "        rating                     title  ... top indian 250 rank bottom 100 rank\n",
              "0111161    9.2  The Shawshank Redemption  ...                 NaN             NaN\n",
              "0068646    9.1             The Godfather  ...                 NaN             NaN\n",
              "0071562      9    The Godfather: Part II  ...                 NaN             NaN\n",
              "0468569      9           The Dark Knight  ...                 NaN             NaN\n",
              "0050083    8.9              12 Angry Men  ...                 NaN             NaN\n",
              "\n",
              "[5 rows x 17 columns]"
            ]
          },
          "metadata": {},
          "execution_count": 16
        }
      ]
    },
    {
      "cell_type": "code",
      "metadata": {
        "execution": {
          "iopub.execute_input": "2021-11-29T20:24:25.056457Z",
          "iopub.status.busy": "2021-11-29T20:24:25.056457Z",
          "iopub.status.idle": "2021-11-29T20:24:25.111294Z",
          "shell.execute_reply": "2021-11-29T20:24:25.110152Z",
          "shell.execute_reply.started": "2021-11-29T20:24:25.056457Z"
        },
        "tags": [],
        "colab": {
          "base_uri": "https://localhost:8080/",
          "height": 799
        },
        "id": "72465483-9ac1-420f-97c7-59801cb65a53",
        "outputId": "6f05496b-f3c3-46b6-8fd3-81f3afb26490"
      },
      "source": [
        "df_movie_data[\"m_id\"] = df_movie_data.index.tolist()\n",
        "df_movie_data.head()"
      ],
      "id": "72465483-9ac1-420f-97c7-59801cb65a53",
      "execution_count": 17,
      "outputs": [
        {
          "output_type": "execute_result",
          "data": {
            "text/html": [
              "<div>\n",
              "<style scoped>\n",
              "    .dataframe tbody tr th:only-of-type {\n",
              "        vertical-align: middle;\n",
              "    }\n",
              "\n",
              "    .dataframe tbody tr th {\n",
              "        vertical-align: top;\n",
              "    }\n",
              "\n",
              "    .dataframe thead th {\n",
              "        text-align: right;\n",
              "    }\n",
              "</style>\n",
              "<table border=\"1\" class=\"dataframe\">\n",
              "  <thead>\n",
              "    <tr style=\"text-align: right;\">\n",
              "      <th></th>\n",
              "      <th>rating</th>\n",
              "      <th>title</th>\n",
              "      <th>year</th>\n",
              "      <th>votes</th>\n",
              "      <th>top 250 rank</th>\n",
              "      <th>kind</th>\n",
              "      <th>localized title</th>\n",
              "      <th>genre</th>\n",
              "      <th>cast</th>\n",
              "      <th>runtimes</th>\n",
              "      <th>languages</th>\n",
              "      <th>directors</th>\n",
              "      <th>writers</th>\n",
              "      <th>cover url</th>\n",
              "      <th>box office</th>\n",
              "      <th>top indian 250 rank</th>\n",
              "      <th>bottom 100 rank</th>\n",
              "      <th>m_id</th>\n",
              "    </tr>\n",
              "  </thead>\n",
              "  <tbody>\n",
              "    <tr>\n",
              "      <th>0111161</th>\n",
              "      <td>9.2</td>\n",
              "      <td>The Shawshank Redemption</td>\n",
              "      <td>1994</td>\n",
              "      <td>2497651</td>\n",
              "      <td>1</td>\n",
              "      <td>movie</td>\n",
              "      <td>The Shawshank Redemption</td>\n",
              "      <td>[Drama]</td>\n",
              "      <td>[Tim Robbins, Morgan Freeman, Bob Gunton, Will...</td>\n",
              "      <td>[142]</td>\n",
              "      <td>[English]</td>\n",
              "      <td>[Frank Darabont]</td>\n",
              "      <td>[Stephen King, None, Frank Darabont]</td>\n",
              "      <td>https://m.media-amazon.com/images/M/MV5BMDFkYT...</td>\n",
              "      <td>{'Budget': '$25,000,000 (estimated)', 'Opening...</td>\n",
              "      <td>NaN</td>\n",
              "      <td>NaN</td>\n",
              "      <td>0111161</td>\n",
              "    </tr>\n",
              "    <tr>\n",
              "      <th>0068646</th>\n",
              "      <td>9.1</td>\n",
              "      <td>The Godfather</td>\n",
              "      <td>1972</td>\n",
              "      <td>1722236</td>\n",
              "      <td>2</td>\n",
              "      <td>movie</td>\n",
              "      <td>The Godfather</td>\n",
              "      <td>[Crime, Drama]</td>\n",
              "      <td>[Marlon Brando, Al Pacino, James Caan, Richard...</td>\n",
              "      <td>[175]</td>\n",
              "      <td>[English, Italian, Latin]</td>\n",
              "      <td>[Francis Ford Coppola]</td>\n",
              "      <td>[Mario Puzo, Francis Ford Coppola, None, Mario...</td>\n",
              "      <td>https://m.media-amazon.com/images/M/MV5BM2MyNj...</td>\n",
              "      <td>{'Budget': '$6,000,000 (estimated)', 'Opening ...</td>\n",
              "      <td>NaN</td>\n",
              "      <td>NaN</td>\n",
              "      <td>0068646</td>\n",
              "    </tr>\n",
              "    <tr>\n",
              "      <th>0071562</th>\n",
              "      <td>9</td>\n",
              "      <td>The Godfather: Part II</td>\n",
              "      <td>1974</td>\n",
              "      <td>1195394</td>\n",
              "      <td>3</td>\n",
              "      <td>movie</td>\n",
              "      <td>The Godfather: Part II</td>\n",
              "      <td>[Crime, Drama]</td>\n",
              "      <td>[Al Pacino, Robert Duvall, Diane Keaton, Rober...</td>\n",
              "      <td>[202]</td>\n",
              "      <td>[English, Italian, Spanish, Latin, Sicilian]</td>\n",
              "      <td>[Francis Ford Coppola]</td>\n",
              "      <td>[Francis Ford Coppola, Mario Puzo, None, Mario...</td>\n",
              "      <td>https://m.media-amazon.com/images/M/MV5BMWMwMG...</td>\n",
              "      <td>{'Budget': '$13,000,000 (estimated)', 'Opening...</td>\n",
              "      <td>NaN</td>\n",
              "      <td>NaN</td>\n",
              "      <td>0071562</td>\n",
              "    </tr>\n",
              "    <tr>\n",
              "      <th>0468569</th>\n",
              "      <td>9</td>\n",
              "      <td>The Dark Knight</td>\n",
              "      <td>2008</td>\n",
              "      <td>2448173</td>\n",
              "      <td>4</td>\n",
              "      <td>movie</td>\n",
              "      <td>The Dark Knight</td>\n",
              "      <td>[Action, Crime, Drama, Thriller]</td>\n",
              "      <td>[Christian Bale, Heath Ledger, Aaron Eckhart, ...</td>\n",
              "      <td>[152]</td>\n",
              "      <td>[English, Mandarin]</td>\n",
              "      <td>[Christopher Nolan]</td>\n",
              "      <td>[Jonathan Nolan, Christopher Nolan, None, Chri...</td>\n",
              "      <td>https://m.media-amazon.com/images/M/MV5BMTMxNT...</td>\n",
              "      <td>{'Budget': '$185,000,000 (estimated)', 'Openin...</td>\n",
              "      <td>NaN</td>\n",
              "      <td>NaN</td>\n",
              "      <td>0468569</td>\n",
              "    </tr>\n",
              "    <tr>\n",
              "      <th>0050083</th>\n",
              "      <td>8.9</td>\n",
              "      <td>12 Angry Men</td>\n",
              "      <td>1957</td>\n",
              "      <td>737820</td>\n",
              "      <td>5</td>\n",
              "      <td>movie</td>\n",
              "      <td>12 Angry Men</td>\n",
              "      <td>[Crime, Drama]</td>\n",
              "      <td>[Martin Balsam, John Fiedler, Lee J. Cobb, E.G...</td>\n",
              "      <td>[96]</td>\n",
              "      <td>[English]</td>\n",
              "      <td>[Sidney Lumet]</td>\n",
              "      <td>[Reginald Rose, None, Reginald Rose]</td>\n",
              "      <td>https://m.media-amazon.com/images/M/MV5BMWU4N2...</td>\n",
              "      <td>{'Budget': '$350,000 (estimated)'}</td>\n",
              "      <td>NaN</td>\n",
              "      <td>NaN</td>\n",
              "      <td>0050083</td>\n",
              "    </tr>\n",
              "  </tbody>\n",
              "</table>\n",
              "</div>"
            ],
            "text/plain": [
              "        rating                     title  ... bottom 100 rank     m_id\n",
              "0111161    9.2  The Shawshank Redemption  ...             NaN  0111161\n",
              "0068646    9.1             The Godfather  ...             NaN  0068646\n",
              "0071562      9    The Godfather: Part II  ...             NaN  0071562\n",
              "0468569      9           The Dark Knight  ...             NaN  0468569\n",
              "0050083    8.9              12 Angry Men  ...             NaN  0050083\n",
              "\n",
              "[5 rows x 18 columns]"
            ]
          },
          "metadata": {},
          "execution_count": 17
        }
      ]
    },
    {
      "cell_type": "markdown",
      "metadata": {
        "id": "10802e3a-90a3-4c1f-bff5-cca7c9440a64"
      },
      "source": [
        "## rating process"
      ],
      "id": "10802e3a-90a3-4c1f-bff5-cca7c9440a64"
    },
    {
      "cell_type": "code",
      "metadata": {
        "execution": {
          "iopub.execute_input": "2021-11-29T19:25:12.119803Z",
          "iopub.status.busy": "2021-11-29T19:25:12.119803Z",
          "iopub.status.idle": "2021-11-29T19:25:12.136717Z",
          "shell.execute_reply": "2021-11-29T19:25:12.135433Z",
          "shell.execute_reply.started": "2021-11-29T19:25:12.119803Z"
        },
        "tags": [],
        "colab": {
          "base_uri": "https://localhost:8080/"
        },
        "id": "4704e12a-45df-4aec-a6d7-b9275023a658",
        "outputId": "9782b4fc-7c07-48a6-cc68-f7c9f7d54199"
      },
      "source": [
        "df_reviews.review_rating.value_counts()"
      ],
      "id": "4704e12a-45df-4aec-a6d7-b9275023a658",
      "execution_count": 14,
      "outputs": [
        {
          "output_type": "execute_result",
          "data": {
            "text/plain": [
              "10/10    3357\n",
              "8/10     2409\n",
              "9/10     2206\n",
              "7/10     1464\n",
              "6/10      895\n",
              "1/10      881\n",
              "5/10      475\n",
              "3/10      460\n",
              "4/10      408\n",
              "2/10      404\n",
              "Name: review_rating, dtype: int64"
            ]
          },
          "metadata": {},
          "execution_count": 14
        }
      ]
    },
    {
      "cell_type": "code",
      "metadata": {
        "execution": {
          "iopub.execute_input": "2021-11-29T20:52:10.267025Z",
          "iopub.status.busy": "2021-11-29T20:52:10.267025Z",
          "iopub.status.idle": "2021-11-29T20:52:10.316938Z",
          "shell.execute_reply": "2021-11-29T20:52:10.315813Z",
          "shell.execute_reply.started": "2021-11-29T20:52:10.267025Z"
        },
        "tags": [],
        "colab": {
          "base_uri": "https://localhost:8080/"
        },
        "id": "bae3815b-01e7-4cb0-abe8-8212f6a7bbe9",
        "outputId": "c205d7b7-6aaa-4df6-e425-de9be6b6d40d"
      },
      "source": [
        "def rating_to_class(rating):\n",
        "    # 8/10\n",
        "    rating = int(rating.split(\"/\")[0])\n",
        "    if rating <= 5:\n",
        "        return \"bad\"\n",
        "    elif rating <= 7:\n",
        "        return \"average\"\n",
        "    return \"good\"\n",
        "\n",
        "def rating_to_class_binary(rating):\n",
        "    # 8/10\n",
        "    rating = int(rating.split(\"/\")[0])\n",
        "    if rating <= 6:\n",
        "        return \"bad\"\n",
        "    return \"good\"\n",
        "\n",
        "df_reviews[\"review_class\"] = df_reviews.review_rating.apply(lambda x: rating_to_class(x))\n",
        "df_reviews[\"review_class_int\"] = df_reviews.review_class.map({\"bad\": 0, \"average\":1, \"good\":2})\n",
        "\n",
        "df_reviews[\"review_class_bin\"] = df_reviews.review_rating.apply(lambda x: rating_to_class_binary(x))\n",
        "df_reviews[\"review_class_bin_int\"] = df_reviews.review_class_bin.map({\"bad\": 0, \"good\":1})\n",
        "\n",
        "print(df_reviews.review_class.value_counts())\n",
        "print(df_reviews.review_class_bin.value_counts())"
      ],
      "id": "bae3815b-01e7-4cb0-abe8-8212f6a7bbe9",
      "execution_count": 18,
      "outputs": [
        {
          "output_type": "stream",
          "name": "stdout",
          "text": [
            "good       7972\n",
            "bad        2628\n",
            "average    2359\n",
            "Name: review_class, dtype: int64\n",
            "good    9436\n",
            "bad     3523\n",
            "Name: review_class_bin, dtype: int64\n"
          ]
        }
      ]
    },
    {
      "cell_type": "code",
      "metadata": {
        "colab": {
          "base_uri": "https://localhost:8080/",
          "height": 591
        },
        "id": "WJINEJvjDDEd",
        "outputId": "639d2c45-4ad6-49de-c849-06b9be387f35"
      },
      "source": [
        "df_reviews.head()"
      ],
      "id": "WJINEJvjDDEd",
      "execution_count": 22,
      "outputs": [
        {
          "output_type": "execute_result",
          "data": {
            "text/html": [
              "<div>\n",
              "<style scoped>\n",
              "    .dataframe tbody tr th:only-of-type {\n",
              "        vertical-align: middle;\n",
              "    }\n",
              "\n",
              "    .dataframe tbody tr th {\n",
              "        vertical-align: top;\n",
              "    }\n",
              "\n",
              "    .dataframe thead th {\n",
              "        text-align: right;\n",
              "    }\n",
              "</style>\n",
              "<table border=\"1\" class=\"dataframe\">\n",
              "  <thead>\n",
              "    <tr style=\"text-align: right;\">\n",
              "      <th></th>\n",
              "      <th>m_id</th>\n",
              "      <th>movie</th>\n",
              "      <th>review_title</th>\n",
              "      <th>review</th>\n",
              "      <th>review_rating</th>\n",
              "      <th>helpful_score</th>\n",
              "      <th>review_perm_link</th>\n",
              "      <th>review_class</th>\n",
              "      <th>review_class_int</th>\n",
              "      <th>review_class_bin</th>\n",
              "      <th>review_class_bin_int</th>\n",
              "    </tr>\n",
              "  </thead>\n",
              "  <tbody>\n",
              "    <tr>\n",
              "      <th>0</th>\n",
              "      <td>0111161</td>\n",
              "      <td>The Shawshank Redemption</td>\n",
              "      <td>Enthralling, fantastic, intriguing, truly rema...</td>\n",
              "      <td>Shawshank Redemption is without doubt one of t...</td>\n",
              "      <td>10/10</td>\n",
              "      <td>57 out of 87 found this helpful.</td>\n",
              "      <td>https://www.imdb.com//review/rw2053711/</td>\n",
              "      <td>good</td>\n",
              "      <td>2</td>\n",
              "      <td>good</td>\n",
              "      <td>1</td>\n",
              "    </tr>\n",
              "    <tr>\n",
              "      <th>1</th>\n",
              "      <td>0111161</td>\n",
              "      <td>The Shawshank Redemption</td>\n",
              "      <td>\"I Had To Go To Prison To Learn To Be A Crook\"</td>\n",
              "      <td>None of the usual otherworld creatures that po...</td>\n",
              "      <td>9/10</td>\n",
              "      <td>17 out of 27 found this helpful.</td>\n",
              "      <td>https://www.imdb.com//review/rw2387096/</td>\n",
              "      <td>good</td>\n",
              "      <td>2</td>\n",
              "      <td>good</td>\n",
              "      <td>1</td>\n",
              "    </tr>\n",
              "    <tr>\n",
              "      <th>2</th>\n",
              "      <td>0111161</td>\n",
              "      <td>The Shawshank Redemption</td>\n",
              "      <td>All-time prison film classic</td>\n",
              "      <td>Based on a novella by Stephen King, this is be...</td>\n",
              "      <td>10/10</td>\n",
              "      <td>8 out of 11 found this helpful.</td>\n",
              "      <td>https://www.imdb.com//review/rw3601108/</td>\n",
              "      <td>good</td>\n",
              "      <td>2</td>\n",
              "      <td>good</td>\n",
              "      <td>1</td>\n",
              "    </tr>\n",
              "    <tr>\n",
              "      <th>3</th>\n",
              "      <td>0111161</td>\n",
              "      <td>The Shawshank Redemption</td>\n",
              "      <td>Freeman gives it depth</td>\n",
              "      <td>Andy Dufresne (Tim Robbins) is a banker convic...</td>\n",
              "      <td>8/10</td>\n",
              "      <td>13 out of 23 found this helpful.</td>\n",
              "      <td>https://www.imdb.com//review/rw2918939/</td>\n",
              "      <td>good</td>\n",
              "      <td>2</td>\n",
              "      <td>good</td>\n",
              "      <td>1</td>\n",
              "    </tr>\n",
              "    <tr>\n",
              "      <th>4</th>\n",
              "      <td>0111161</td>\n",
              "      <td>The Shawshank Redemption</td>\n",
              "      <td>An incredible movie. One that lives with you.</td>\n",
              "      <td>It is no wonder that the film has such a high ...</td>\n",
              "      <td>10/10</td>\n",
              "      <td>12 out of 16 found this helpful.</td>\n",
              "      <td>https://www.imdb.com//review/rw6606154/</td>\n",
              "      <td>good</td>\n",
              "      <td>2</td>\n",
              "      <td>good</td>\n",
              "      <td>1</td>\n",
              "    </tr>\n",
              "  </tbody>\n",
              "</table>\n",
              "</div>"
            ],
            "text/plain": [
              "      m_id                     movie  ... review_class_bin review_class_bin_int\n",
              "0  0111161  The Shawshank Redemption  ...             good                    1\n",
              "1  0111161  The Shawshank Redemption  ...             good                    1\n",
              "2  0111161  The Shawshank Redemption  ...             good                    1\n",
              "3  0111161  The Shawshank Redemption  ...             good                    1\n",
              "4  0111161  The Shawshank Redemption  ...             good                    1\n",
              "\n",
              "[5 rows x 11 columns]"
            ]
          },
          "metadata": {},
          "execution_count": 22
        }
      ]
    },
    {
      "cell_type": "markdown",
      "metadata": {
        "id": "de0ed546-0315-4057-b5fe-a5b538b94c9c"
      },
      "source": [
        "## genre process"
      ],
      "id": "de0ed546-0315-4057-b5fe-a5b538b94c9c"
    },
    {
      "cell_type": "code",
      "metadata": {
        "execution": {
          "iopub.execute_input": "2021-11-29T20:44:09.830684Z",
          "iopub.status.busy": "2021-11-29T20:44:09.830684Z",
          "iopub.status.idle": "2021-11-29T20:44:09.879785Z",
          "shell.execute_reply": "2021-11-29T20:44:09.879385Z",
          "shell.execute_reply.started": "2021-11-29T20:44:09.830684Z"
        },
        "tags": [],
        "colab": {
          "base_uri": "https://localhost:8080/",
          "height": 511
        },
        "id": "974d29fc-22d9-4b4b-8f10-7b9eaf5c234f",
        "outputId": "471a319f-ba4d-4acd-9982-1f6604ac7da1"
      },
      "source": [
        "df_movie_data.sample(3)"
      ],
      "id": "974d29fc-22d9-4b4b-8f10-7b9eaf5c234f",
      "execution_count": null,
      "outputs": [
        {
          "output_type": "execute_result",
          "data": {
            "text/html": [
              "<div>\n",
              "<style scoped>\n",
              "    .dataframe tbody tr th:only-of-type {\n",
              "        vertical-align: middle;\n",
              "    }\n",
              "\n",
              "    .dataframe tbody tr th {\n",
              "        vertical-align: top;\n",
              "    }\n",
              "\n",
              "    .dataframe thead th {\n",
              "        text-align: right;\n",
              "    }\n",
              "</style>\n",
              "<table border=\"1\" class=\"dataframe\">\n",
              "  <thead>\n",
              "    <tr style=\"text-align: right;\">\n",
              "      <th></th>\n",
              "      <th>rating</th>\n",
              "      <th>title</th>\n",
              "      <th>year</th>\n",
              "      <th>votes</th>\n",
              "      <th>top 250 rank</th>\n",
              "      <th>kind</th>\n",
              "      <th>localized title</th>\n",
              "      <th>genre</th>\n",
              "      <th>cast</th>\n",
              "      <th>runtimes</th>\n",
              "      <th>languages</th>\n",
              "      <th>directors</th>\n",
              "      <th>writers</th>\n",
              "      <th>cover url</th>\n",
              "      <th>box office</th>\n",
              "      <th>top indian 250 rank</th>\n",
              "      <th>bottom 100 rank</th>\n",
              "      <th>m_id</th>\n",
              "    </tr>\n",
              "  </thead>\n",
              "  <tbody>\n",
              "    <tr>\n",
              "      <th>0093578</th>\n",
              "      <td>7.7</td>\n",
              "      <td>Mr. India</td>\n",
              "      <td>1987</td>\n",
              "      <td>14918</td>\n",
              "      <td>NaN</td>\n",
              "      <td>movie</td>\n",
              "      <td>Mr. India</td>\n",
              "      <td>[Action, Comedy, Drama, Family, Musical, Sci-Fi]</td>\n",
              "      <td>[Anil Kapoor, Sridevi, Amrish Puri, Satish Kau...</td>\n",
              "      <td>[179]</td>\n",
              "      <td>[Hindi]</td>\n",
              "      <td>[Shekhar Kapur]</td>\n",
              "      <td>[Javed Akhtar, None, Salim Khan]</td>\n",
              "      <td>https://m.media-amazon.com/images/M/MV5BZTdhMm...</td>\n",
              "      <td>None</td>\n",
              "      <td>213</td>\n",
              "      <td>NaN</td>\n",
              "      <td>0093578</td>\n",
              "    </tr>\n",
              "    <tr>\n",
              "      <th>1883367</th>\n",
              "      <td>3.1</td>\n",
              "      <td>The Human Centipede III (Final Sequence)</td>\n",
              "      <td>2015</td>\n",
              "      <td>16066</td>\n",
              "      <td>NaN</td>\n",
              "      <td>movie</td>\n",
              "      <td>The Human Centipede III (Final Sequence)</td>\n",
              "      <td>[Comedy, Horror]</td>\n",
              "      <td>[Dieter Laser, Laurence R. Harvey, Eric Robert...</td>\n",
              "      <td>[102]</td>\n",
              "      <td>[English]</td>\n",
              "      <td>[Tom Six]</td>\n",
              "      <td>[Tom Six]</td>\n",
              "      <td>https://m.media-amazon.com/images/M/MV5BMzU1OT...</td>\n",
              "      <td>None</td>\n",
              "      <td>NaN</td>\n",
              "      <td>33</td>\n",
              "      <td>1883367</td>\n",
              "    </tr>\n",
              "    <tr>\n",
              "      <th>1517561</th>\n",
              "      <td>7.9</td>\n",
              "      <td>Thulladha Manamum Thullum</td>\n",
              "      <td>1999</td>\n",
              "      <td>5469</td>\n",
              "      <td>NaN</td>\n",
              "      <td>movie</td>\n",
              "      <td>Thulladha Manamum Thullum</td>\n",
              "      <td>[Drama, Romance]</td>\n",
              "      <td>[Joseph Vijay, Simran, Dhamu, Vaiyapuri, Madha...</td>\n",
              "      <td>[170]</td>\n",
              "      <td>[Tamil]</td>\n",
              "      <td>[Ezhil]</td>\n",
              "      <td>[Ezhil]</td>\n",
              "      <td>https://m.media-amazon.com/images/M/MV5BODlhYT...</td>\n",
              "      <td>None</td>\n",
              "      <td>180</td>\n",
              "      <td>NaN</td>\n",
              "      <td>1517561</td>\n",
              "    </tr>\n",
              "  </tbody>\n",
              "</table>\n",
              "</div>"
            ],
            "text/plain": [
              "        rating  ...     m_id\n",
              "0093578    7.7  ...  0093578\n",
              "1883367    3.1  ...  1883367\n",
              "1517561    7.9  ...  1517561\n",
              "\n",
              "[3 rows x 18 columns]"
            ]
          },
          "metadata": {},
          "execution_count": 65
        }
      ]
    },
    {
      "cell_type": "code",
      "metadata": {
        "execution": {
          "iopub.execute_input": "2021-11-29T20:52:13.731859Z",
          "iopub.status.busy": "2021-11-29T20:52:13.731859Z",
          "iopub.status.idle": "2021-11-29T20:52:13.780945Z",
          "shell.execute_reply": "2021-11-29T20:52:13.780517Z",
          "shell.execute_reply.started": "2021-11-29T20:52:13.731859Z"
        },
        "tags": [],
        "colab": {
          "base_uri": "https://localhost:8080/",
          "height": 1000
        },
        "id": "87a6ab31-0314-4d36-bf6d-4029b6e9fd2d",
        "outputId": "4644764b-a2b6-4861-fc52-ef8a31d62fce"
      },
      "source": [
        "df_reviews = pd.merge(df_reviews, df_movie_data[[\"m_id\", \"rating\", \"genre\"]], how = \"inner\", on=\"m_id\")\n",
        "print(df_reviews.shape)\n",
        "df_reviews.sample(10)"
      ],
      "id": "87a6ab31-0314-4d36-bf6d-4029b6e9fd2d",
      "execution_count": 23,
      "outputs": [
        {
          "output_type": "stream",
          "name": "stdout",
          "text": [
            "(12912, 13)\n"
          ]
        },
        {
          "output_type": "execute_result",
          "data": {
            "text/html": [
              "<div>\n",
              "<style scoped>\n",
              "    .dataframe tbody tr th:only-of-type {\n",
              "        vertical-align: middle;\n",
              "    }\n",
              "\n",
              "    .dataframe tbody tr th {\n",
              "        vertical-align: top;\n",
              "    }\n",
              "\n",
              "    .dataframe thead th {\n",
              "        text-align: right;\n",
              "    }\n",
              "</style>\n",
              "<table border=\"1\" class=\"dataframe\">\n",
              "  <thead>\n",
              "    <tr style=\"text-align: right;\">\n",
              "      <th></th>\n",
              "      <th>m_id</th>\n",
              "      <th>movie</th>\n",
              "      <th>review_title</th>\n",
              "      <th>review</th>\n",
              "      <th>review_rating</th>\n",
              "      <th>helpful_score</th>\n",
              "      <th>review_perm_link</th>\n",
              "      <th>review_class</th>\n",
              "      <th>review_class_int</th>\n",
              "      <th>review_class_bin</th>\n",
              "      <th>review_class_bin_int</th>\n",
              "      <th>rating</th>\n",
              "      <th>genre</th>\n",
              "    </tr>\n",
              "  </thead>\n",
              "  <tbody>\n",
              "    <tr>\n",
              "      <th>1604</th>\n",
              "      <td>8267604</td>\n",
              "      <td>Capernaum</td>\n",
              "      <td>Zain steals our heart</td>\n",
              "      <td>Greetings again from the darkness. Rare is the...</td>\n",
              "      <td>8/10</td>\n",
              "      <td>5 out of 11 found this helpful.</td>\n",
              "      <td>https://www.imdb.com//review/rw4618969/</td>\n",
              "      <td>good</td>\n",
              "      <td>2</td>\n",
              "      <td>good</td>\n",
              "      <td>1</td>\n",
              "      <td>8.3</td>\n",
              "      <td>[Drama]</td>\n",
              "    </tr>\n",
              "    <tr>\n",
              "      <th>7697</th>\n",
              "      <td>0214915</td>\n",
              "      <td>Manichithrathazhu</td>\n",
              "      <td>one of the most interesting horror-thriller movie</td>\n",
              "      <td>Ganga, who heard the fairy tale and fairy tale...</td>\n",
              "      <td>10/10</td>\n",
              "      <td>1 out of 2 found this helpful.</td>\n",
              "      <td>https://www.imdb.com//review/rw4021318/</td>\n",
              "      <td>good</td>\n",
              "      <td>2</td>\n",
              "      <td>good</td>\n",
              "      <td>1</td>\n",
              "      <td>8.5</td>\n",
              "      <td>[Comedy, Horror, Music, Mystery, Thriller]</td>\n",
              "    </tr>\n",
              "    <tr>\n",
              "      <th>95</th>\n",
              "      <td>0050083</td>\n",
              "      <td>12 Angry Men</td>\n",
              "      <td>12 Angry Men</td>\n",
              "      <td>I should start by saying that twelve is my fav...</td>\n",
              "      <td>9/10</td>\n",
              "      <td>1 out of 5 found this helpful.</td>\n",
              "      <td>https://www.imdb.com//review/rw2438916/</td>\n",
              "      <td>good</td>\n",
              "      <td>2</td>\n",
              "      <td>good</td>\n",
              "      <td>1</td>\n",
              "      <td>8.9</td>\n",
              "      <td>[Crime, Drama]</td>\n",
              "    </tr>\n",
              "    <tr>\n",
              "      <th>1168</th>\n",
              "      <td>0032553</td>\n",
              "      <td>The Great Dictator</td>\n",
              "      <td>Too soon?</td>\n",
              "      <td>Bumbling Jewish soldier (Charlie Chaplin) was ...</td>\n",
              "      <td>7/10</td>\n",
              "      <td>1 out of 6 found this helpful.</td>\n",
              "      <td>https://www.imdb.com//review/rw2983051/</td>\n",
              "      <td>average</td>\n",
              "      <td>1</td>\n",
              "      <td>good</td>\n",
              "      <td>1</td>\n",
              "      <td>8.4</td>\n",
              "      <td>[Comedy, Drama, War]</td>\n",
              "    </tr>\n",
              "    <tr>\n",
              "      <th>4749</th>\n",
              "      <td>1028532</td>\n",
              "      <td>Hachi: A Dog's Tale</td>\n",
              "      <td>Hachi: A Dog's Tale</td>\n",
              "      <td>I remember seeing the trailer for this film in...</td>\n",
              "      <td>6/10</td>\n",
              "      <td>0 out of 85 found this helpful.</td>\n",
              "      <td>https://www.imdb.com//review/rw3710413/</td>\n",
              "      <td>average</td>\n",
              "      <td>1</td>\n",
              "      <td>bad</td>\n",
              "      <td>0</td>\n",
              "      <td>8</td>\n",
              "      <td>[Biography, Drama, Family]</td>\n",
              "    </tr>\n",
              "    <tr>\n",
              "      <th>10966</th>\n",
              "      <td>0296574</td>\n",
              "      <td>Company</td>\n",
              "      <td>One of the best Gangster films</td>\n",
              "      <td>RGV after making SHIVA, SATYA came back with a...</td>\n",
              "      <td>7/10</td>\n",
              "      <td>0 out of 2 found this helpful.</td>\n",
              "      <td>https://www.imdb.com//review/rw2500940/</td>\n",
              "      <td>average</td>\n",
              "      <td>1</td>\n",
              "      <td>good</td>\n",
              "      <td>1</td>\n",
              "      <td>7.9</td>\n",
              "      <td>[Action, Crime, Drama, Thriller]</td>\n",
              "    </tr>\n",
              "    <tr>\n",
              "      <th>6781</th>\n",
              "      <td>0295427</td>\n",
              "      <td>The Master of Disguise</td>\n",
              "      <td>Lamentably limp</td>\n",
              "      <td>I was aware of The Master of Disguise's dubiou...</td>\n",
              "      <td>1/10</td>\n",
              "      <td>2 out of 3 found this helpful.</td>\n",
              "      <td>https://www.imdb.com//review/rw2407267/</td>\n",
              "      <td>bad</td>\n",
              "      <td>0</td>\n",
              "      <td>bad</td>\n",
              "      <td>0</td>\n",
              "      <td>3.6</td>\n",
              "      <td>[Adventure, Comedy, Family, Fantasy]</td>\n",
              "    </tr>\n",
              "    <tr>\n",
              "      <th>7090</th>\n",
              "      <td>10481868</td>\n",
              "      <td>Black Christmas</td>\n",
              "      <td>Crude Stereotyping</td>\n",
              "      <td>Filmed at the University of Otago, N.Z. hopefu...</td>\n",
              "      <td>2/10</td>\n",
              "      <td>4 out of 7 found this helpful.</td>\n",
              "      <td>https://www.imdb.com//review/rw6050823/</td>\n",
              "      <td>bad</td>\n",
              "      <td>0</td>\n",
              "      <td>bad</td>\n",
              "      <td>0</td>\n",
              "      <td>3.7</td>\n",
              "      <td>[Horror, Mystery, Thriller]</td>\n",
              "    </tr>\n",
              "    <tr>\n",
              "      <th>6618</th>\n",
              "      <td>0462244</td>\n",
              "      <td>Daddy Day Camp</td>\n",
              "      <td>Yes it's horrible but not bad to the point of ...</td>\n",
              "      <td>This is one of those Hollywood projects that m...</td>\n",
              "      <td>1/10</td>\n",
              "      <td>1 out of 2 found this helpful.</td>\n",
              "      <td>https://www.imdb.com//review/rw5352676/</td>\n",
              "      <td>bad</td>\n",
              "      <td>0</td>\n",
              "      <td>bad</td>\n",
              "      <td>0</td>\n",
              "      <td>3.5</td>\n",
              "      <td>[Comedy, Family]</td>\n",
              "    </tr>\n",
              "    <tr>\n",
              "      <th>10023</th>\n",
              "      <td>0488414</td>\n",
              "      <td>Omkara</td>\n",
              "      <td>Another excellent Shakespeare adaptation by Bh...</td>\n",
              "      <td>Another excellent Shakespeare adaptation by Bh...</td>\n",
              "      <td>9/10</td>\n",
              "      <td>0 out of 0 found this helpful.</td>\n",
              "      <td>https://www.imdb.com//review/rw3014892/</td>\n",
              "      <td>good</td>\n",
              "      <td>2</td>\n",
              "      <td>good</td>\n",
              "      <td>1</td>\n",
              "      <td>8</td>\n",
              "      <td>[Action, Crime, Drama, Thriller]</td>\n",
              "    </tr>\n",
              "  </tbody>\n",
              "</table>\n",
              "</div>"
            ],
            "text/plain": [
              "           m_id  ...                                       genre\n",
              "1604    8267604  ...                                     [Drama]\n",
              "7697    0214915  ...  [Comedy, Horror, Music, Mystery, Thriller]\n",
              "95      0050083  ...                              [Crime, Drama]\n",
              "1168    0032553  ...                        [Comedy, Drama, War]\n",
              "4749    1028532  ...                  [Biography, Drama, Family]\n",
              "10966   0296574  ...            [Action, Crime, Drama, Thriller]\n",
              "6781    0295427  ...        [Adventure, Comedy, Family, Fantasy]\n",
              "7090   10481868  ...                 [Horror, Mystery, Thriller]\n",
              "6618    0462244  ...                            [Comedy, Family]\n",
              "10023   0488414  ...            [Action, Crime, Drama, Thriller]\n",
              "\n",
              "[10 rows x 13 columns]"
            ]
          },
          "metadata": {},
          "execution_count": 23
        }
      ]
    },
    {
      "cell_type": "code",
      "metadata": {
        "execution": {
          "iopub.execute_input": "2021-11-29T21:00:29.906540Z",
          "iopub.status.busy": "2021-11-29T21:00:29.905507Z",
          "iopub.status.idle": "2021-11-29T21:00:29.985506Z",
          "shell.execute_reply": "2021-11-29T21:00:29.984549Z",
          "shell.execute_reply.started": "2021-11-29T21:00:29.906540Z"
        },
        "tags": [],
        "colab": {
          "base_uri": "https://localhost:8080/",
          "height": 712
        },
        "id": "344846c4-3a47-4c2e-9bd0-c08fad623b19",
        "outputId": "9767edea-7b3b-4a61-cab8-419b2cc6b25e"
      },
      "source": [
        "SEED = 42\n",
        "\n",
        "df_review_data = df_reviews.sample(frac=1, random_state=SEED)\n",
        "df_review_data = pd.concat([df_review_data[df_review_data.review_class == \"good\"][:3000],\n",
        "                            df_review_data[df_review_data.review_class == \"average\"][:2000],\n",
        "                            df_review_data[df_review_data.review_class == \"bad\"][:2500]]\n",
        "                          )\n",
        "\n",
        "df_review_data = df_review_data.sample(frac=1, random_state=42).reset_index(drop=True)\n",
        "\n",
        "print(df_review_data.shape)\n",
        "print(df_review_data.review_class.value_counts())\n",
        "print(df_review_data.review_class_bin.value_counts())\n",
        "\n",
        "df_review_data.head()"
      ],
      "id": "344846c4-3a47-4c2e-9bd0-c08fad623b19",
      "execution_count": 24,
      "outputs": [
        {
          "output_type": "stream",
          "name": "stdout",
          "text": [
            "(7500, 13)\n",
            "good       3000\n",
            "bad        2500\n",
            "average    2000\n",
            "Name: review_class, dtype: int64\n",
            "good    4239\n",
            "bad     3261\n",
            "Name: review_class_bin, dtype: int64\n"
          ]
        },
        {
          "output_type": "execute_result",
          "data": {
            "text/html": [
              "<div>\n",
              "<style scoped>\n",
              "    .dataframe tbody tr th:only-of-type {\n",
              "        vertical-align: middle;\n",
              "    }\n",
              "\n",
              "    .dataframe tbody tr th {\n",
              "        vertical-align: top;\n",
              "    }\n",
              "\n",
              "    .dataframe thead th {\n",
              "        text-align: right;\n",
              "    }\n",
              "</style>\n",
              "<table border=\"1\" class=\"dataframe\">\n",
              "  <thead>\n",
              "    <tr style=\"text-align: right;\">\n",
              "      <th></th>\n",
              "      <th>m_id</th>\n",
              "      <th>movie</th>\n",
              "      <th>review_title</th>\n",
              "      <th>review</th>\n",
              "      <th>review_rating</th>\n",
              "      <th>helpful_score</th>\n",
              "      <th>review_perm_link</th>\n",
              "      <th>review_class</th>\n",
              "      <th>review_class_int</th>\n",
              "      <th>review_class_bin</th>\n",
              "      <th>review_class_bin_int</th>\n",
              "      <th>rating</th>\n",
              "      <th>genre</th>\n",
              "    </tr>\n",
              "  </thead>\n",
              "  <tbody>\n",
              "    <tr>\n",
              "      <th>0</th>\n",
              "      <td>0047478</td>\n",
              "      <td>Seven Samurai</td>\n",
              "      <td>There's Not One Thing Wrong with This Film</td>\n",
              "      <td>If you think a three-hour Japanese movie from ...</td>\n",
              "      <td>10/10</td>\n",
              "      <td>13 out of 27 found this helpful.</td>\n",
              "      <td>https://www.imdb.com//review/rw1448252/</td>\n",
              "      <td>good</td>\n",
              "      <td>2</td>\n",
              "      <td>good</td>\n",
              "      <td>1</td>\n",
              "      <td>8.6</td>\n",
              "      <td>[Action, Adventure, Drama]</td>\n",
              "    </tr>\n",
              "    <tr>\n",
              "      <th>1</th>\n",
              "      <td>0118688</td>\n",
              "      <td>Batman &amp; Robin</td>\n",
              "      <td>Bad man, really bad</td>\n",
              "      <td>Oh Dear. Oh Dear.Joel Schumacher had previousl...</td>\n",
              "      <td>1/10</td>\n",
              "      <td>3 out of 5 found this helpful.</td>\n",
              "      <td>https://www.imdb.com//review/rw2841618/</td>\n",
              "      <td>bad</td>\n",
              "      <td>0</td>\n",
              "      <td>bad</td>\n",
              "      <td>0</td>\n",
              "      <td>3.8</td>\n",
              "      <td>[Action, Sci-Fi]</td>\n",
              "    </tr>\n",
              "    <tr>\n",
              "      <th>2</th>\n",
              "      <td>2582802</td>\n",
              "      <td>Whiplash</td>\n",
              "      <td>Sticks And Stones ...</td>\n",
              "      <td>I'm going to aim for a little perspective here...</td>\n",
              "      <td>10/10</td>\n",
              "      <td>3 out of 7 found this helpful.</td>\n",
              "      <td>https://www.imdb.com//review/rw3167982/</td>\n",
              "      <td>good</td>\n",
              "      <td>2</td>\n",
              "      <td>good</td>\n",
              "      <td>1</td>\n",
              "      <td>8.5</td>\n",
              "      <td>[Drama, Music]</td>\n",
              "    </tr>\n",
              "    <tr>\n",
              "      <th>3</th>\n",
              "      <td>0118665</td>\n",
              "      <td>Baby Geniuses</td>\n",
              "      <td>About as awful as you'd think</td>\n",
              "      <td>This is one of the most legendary bad movies e...</td>\n",
              "      <td>1/10</td>\n",
              "      <td>5 out of 12 found this helpful.</td>\n",
              "      <td>https://www.imdb.com//review/rw4136680/</td>\n",
              "      <td>bad</td>\n",
              "      <td>0</td>\n",
              "      <td>bad</td>\n",
              "      <td>0</td>\n",
              "      <td>2.9</td>\n",
              "      <td>[Comedy, Crime, Family, Sci-Fi]</td>\n",
              "    </tr>\n",
              "    <tr>\n",
              "      <th>4</th>\n",
              "      <td>0367110</td>\n",
              "      <td>Swades</td>\n",
              "      <td>Way too long for the story it tells</td>\n",
              "      <td>Why is it that Indian filmmakers seem to belie...</td>\n",
              "      <td>4/10</td>\n",
              "      <td>11 out of 38 found this helpful.</td>\n",
              "      <td>https://www.imdb.com//review/rw1061977/</td>\n",
              "      <td>bad</td>\n",
              "      <td>0</td>\n",
              "      <td>bad</td>\n",
              "      <td>0</td>\n",
              "      <td>8.1</td>\n",
              "      <td>[Drama, Musical]</td>\n",
              "    </tr>\n",
              "  </tbody>\n",
              "</table>\n",
              "</div>"
            ],
            "text/plain": [
              "      m_id           movie  ... rating                            genre\n",
              "0  0047478   Seven Samurai  ...    8.6       [Action, Adventure, Drama]\n",
              "1  0118688  Batman & Robin  ...    3.8                 [Action, Sci-Fi]\n",
              "2  2582802        Whiplash  ...    8.5                   [Drama, Music]\n",
              "3  0118665   Baby Geniuses  ...    2.9  [Comedy, Crime, Family, Sci-Fi]\n",
              "4  0367110          Swades  ...    8.1                 [Drama, Musical]\n",
              "\n",
              "[5 rows x 13 columns]"
            ]
          },
          "metadata": {},
          "execution_count": 24
        }
      ]
    },
    {
      "cell_type": "code",
      "metadata": {
        "execution": {
          "iopub.execute_input": "2021-11-29T21:00:32.540576Z",
          "iopub.status.busy": "2021-11-29T21:00:32.539576Z",
          "iopub.status.idle": "2021-11-29T21:00:32.565576Z",
          "shell.execute_reply": "2021-11-29T21:00:32.564615Z",
          "shell.execute_reply.started": "2021-11-29T21:00:32.540576Z"
        },
        "tags": [],
        "colab": {
          "base_uri": "https://localhost:8080/",
          "height": 712
        },
        "id": "18d903f4-2b8b-4b2b-a54c-e82f8d9f810a",
        "outputId": "f510c4ff-faa6-476d-8ed6-054a98dbfc65"
      },
      "source": [
        "# take main genre\n",
        "df_review_data[\"genre_primary\"] = df_review_data[\"genre\"].apply(lambda x: x[0])\n",
        "df_review_data.sample(5)"
      ],
      "id": "18d903f4-2b8b-4b2b-a54c-e82f8d9f810a",
      "execution_count": 25,
      "outputs": [
        {
          "output_type": "execute_result",
          "data": {
            "text/html": [
              "<div>\n",
              "<style scoped>\n",
              "    .dataframe tbody tr th:only-of-type {\n",
              "        vertical-align: middle;\n",
              "    }\n",
              "\n",
              "    .dataframe tbody tr th {\n",
              "        vertical-align: top;\n",
              "    }\n",
              "\n",
              "    .dataframe thead th {\n",
              "        text-align: right;\n",
              "    }\n",
              "</style>\n",
              "<table border=\"1\" class=\"dataframe\">\n",
              "  <thead>\n",
              "    <tr style=\"text-align: right;\">\n",
              "      <th></th>\n",
              "      <th>m_id</th>\n",
              "      <th>movie</th>\n",
              "      <th>review_title</th>\n",
              "      <th>review</th>\n",
              "      <th>review_rating</th>\n",
              "      <th>helpful_score</th>\n",
              "      <th>review_perm_link</th>\n",
              "      <th>review_class</th>\n",
              "      <th>review_class_int</th>\n",
              "      <th>review_class_bin</th>\n",
              "      <th>review_class_bin_int</th>\n",
              "      <th>rating</th>\n",
              "      <th>genre</th>\n",
              "      <th>genre_primary</th>\n",
              "    </tr>\n",
              "  </thead>\n",
              "  <tbody>\n",
              "    <tr>\n",
              "      <th>2036</th>\n",
              "      <td>2350496</td>\n",
              "      <td>The Lunchbox</td>\n",
              "      <td>Wonderful!</td>\n",
              "      <td>Written &amp; Directed by Ritesh Batra, 'The Lunch...</td>\n",
              "      <td>9/10</td>\n",
              "      <td>0 out of 0 found this helpful.</td>\n",
              "      <td>https://www.imdb.com//review/rw2974170/</td>\n",
              "      <td>good</td>\n",
              "      <td>2</td>\n",
              "      <td>good</td>\n",
              "      <td>1</td>\n",
              "      <td>7.8</td>\n",
              "      <td>[Drama, Romance]</td>\n",
              "      <td>Drama</td>\n",
              "    </tr>\n",
              "    <tr>\n",
              "      <th>361</th>\n",
              "      <td>0167261</td>\n",
              "      <td>The Lord of the Rings: The Two Towers</td>\n",
              "      <td>My Visit To The Cinema</td>\n",
              "      <td>Don`t you just hate cinemas ? No matter where ...</td>\n",
              "      <td>9/10</td>\n",
              "      <td>31 out of 41 found this helpful.</td>\n",
              "      <td>https://www.imdb.com//review/rw0586146/</td>\n",
              "      <td>good</td>\n",
              "      <td>2</td>\n",
              "      <td>good</td>\n",
              "      <td>1</td>\n",
              "      <td>8.7</td>\n",
              "      <td>[Action, Adventure, Drama, Fantasy]</td>\n",
              "      <td>Action</td>\n",
              "    </tr>\n",
              "    <tr>\n",
              "      <th>4203</th>\n",
              "      <td>0468569</td>\n",
              "      <td>The Dark Knight</td>\n",
              "      <td>Dark Knight-Joker and Others Go Wild ***</td>\n",
              "      <td>The film is good but is very much over-rated. ...</td>\n",
              "      <td>7/10</td>\n",
              "      <td>3 out of 16 found this helpful.</td>\n",
              "      <td>https://www.imdb.com//review/rw1925442/</td>\n",
              "      <td>average</td>\n",
              "      <td>1</td>\n",
              "      <td>good</td>\n",
              "      <td>1</td>\n",
              "      <td>9</td>\n",
              "      <td>[Action, Crime, Drama, Thriller]</td>\n",
              "      <td>Action</td>\n",
              "    </tr>\n",
              "    <tr>\n",
              "      <th>2098</th>\n",
              "      <td>7668842</td>\n",
              "      <td>Enes Batur</td>\n",
              "      <td>disgrace</td>\n",
              "      <td>It is the worst movie ever in Turkish cinema h...</td>\n",
              "      <td>1/10</td>\n",
              "      <td>59 out of 70 found this helpful.</td>\n",
              "      <td>https://www.imdb.com//review/rw4043720/</td>\n",
              "      <td>bad</td>\n",
              "      <td>0</td>\n",
              "      <td>bad</td>\n",
              "      <td>0</td>\n",
              "      <td>2.9</td>\n",
              "      <td>[Comedy]</td>\n",
              "      <td>Comedy</td>\n",
              "    </tr>\n",
              "    <tr>\n",
              "      <th>1946</th>\n",
              "      <td>0361748</td>\n",
              "      <td>Inglourious Basterds</td>\n",
              "      <td>Inglorious Basterds</td>\n",
              "      <td>With brilliant films like Reservoir Dogs, Pulp...</td>\n",
              "      <td>6/10</td>\n",
              "      <td>2 out of 38 found this helpful.</td>\n",
              "      <td>https://www.imdb.com//review/rw2120052/</td>\n",
              "      <td>average</td>\n",
              "      <td>1</td>\n",
              "      <td>bad</td>\n",
              "      <td>0</td>\n",
              "      <td>8.3</td>\n",
              "      <td>[Adventure, Drama, War]</td>\n",
              "      <td>Adventure</td>\n",
              "    </tr>\n",
              "  </tbody>\n",
              "</table>\n",
              "</div>"
            ],
            "text/plain": [
              "         m_id  ... genre_primary\n",
              "2036  2350496  ...         Drama\n",
              "361   0167261  ...        Action\n",
              "4203  0468569  ...        Action\n",
              "2098  7668842  ...        Comedy\n",
              "1946  0361748  ...     Adventure\n",
              "\n",
              "[5 rows x 14 columns]"
            ]
          },
          "metadata": {},
          "execution_count": 25
        }
      ]
    },
    {
      "cell_type": "code",
      "metadata": {
        "execution": {
          "iopub.execute_input": "2021-11-29T20:52:27.151509Z",
          "iopub.status.busy": "2021-11-29T20:52:27.150510Z",
          "iopub.status.idle": "2021-11-29T20:52:27.177687Z",
          "shell.execute_reply": "2021-11-29T20:52:27.176393Z",
          "shell.execute_reply.started": "2021-11-29T20:52:27.151509Z"
        },
        "tags": [],
        "colab": {
          "base_uri": "https://localhost:8080/"
        },
        "id": "99bfee6b-a0bd-4d3c-bcdd-a23ce601e179",
        "outputId": "e691b19a-2b97-454d-ae5d-b912a067fa7a"
      },
      "source": [
        "df_review_data.genre_primary.value_counts()"
      ],
      "id": "99bfee6b-a0bd-4d3c-bcdd-a23ce601e179",
      "execution_count": 26,
      "outputs": [
        {
          "output_type": "execute_result",
          "data": {
            "text/plain": [
              "Action       2221\n",
              "Comedy       1622\n",
              "Drama        1484\n",
              "Crime         739\n",
              "Adventure     452\n",
              "Biography     363\n",
              "Animation     295\n",
              "Horror        187\n",
              "Mystery        96\n",
              "Western        26\n",
              "Thriller        9\n",
              "Film-Noir       6\n",
              "Name: genre_primary, dtype: int64"
            ]
          },
          "metadata": {},
          "execution_count": 26
        }
      ]
    },
    {
      "cell_type": "code",
      "metadata": {
        "execution": {
          "iopub.execute_input": "2021-11-29T21:00:35.265900Z",
          "iopub.status.busy": "2021-11-29T21:00:35.264902Z",
          "iopub.status.idle": "2021-11-29T21:00:35.285899Z",
          "shell.execute_reply": "2021-11-29T21:00:35.284898Z",
          "shell.execute_reply.started": "2021-11-29T21:00:35.265900Z"
        },
        "tags": [],
        "id": "efbb55e4-c523-4f0e-9c32-b496094d8c37"
      },
      "source": [
        "genre_dict = {'Action':'action', 'Comedy':'comedy', 'Drama':'drama', \n",
        "             \"Crime\":'thriller/crime', 'Adventure':'adventure', 'Biography':'biography',\n",
        "             'Animation':'animation', 'Horror':'horror', 'Mystery':'thriller/crime', 'Western':'western', 'Thriller':'thriller/crime',\n",
        "             'Film-Noir':'thriller/crime'\n",
        "            }\n",
        "\n",
        "df_review_data[\"genre_primary_mapped\"] = df_review_data.genre_primary.map(genre_dict)"
      ],
      "id": "efbb55e4-c523-4f0e-9c32-b496094d8c37",
      "execution_count": 27,
      "outputs": []
    },
    {
      "cell_type": "code",
      "metadata": {
        "execution": {
          "iopub.execute_input": "2021-11-29T20:53:23.686747Z",
          "iopub.status.busy": "2021-11-29T20:53:23.685777Z",
          "iopub.status.idle": "2021-11-29T20:53:23.719746Z",
          "shell.execute_reply": "2021-11-29T20:53:23.718745Z",
          "shell.execute_reply.started": "2021-11-29T20:53:23.686747Z"
        },
        "tags": [],
        "colab": {
          "base_uri": "https://localhost:8080/",
          "height": 1000
        },
        "id": "1281970f-f013-462b-ac67-92d67f6dce51",
        "outputId": "027b89e8-038f-4e0a-c999-6abf12edd7ef"
      },
      "source": [
        "df_review_data.sample(10)"
      ],
      "id": "1281970f-f013-462b-ac67-92d67f6dce51",
      "execution_count": 28,
      "outputs": [
        {
          "output_type": "execute_result",
          "data": {
            "text/html": [
              "<div>\n",
              "<style scoped>\n",
              "    .dataframe tbody tr th:only-of-type {\n",
              "        vertical-align: middle;\n",
              "    }\n",
              "\n",
              "    .dataframe tbody tr th {\n",
              "        vertical-align: top;\n",
              "    }\n",
              "\n",
              "    .dataframe thead th {\n",
              "        text-align: right;\n",
              "    }\n",
              "</style>\n",
              "<table border=\"1\" class=\"dataframe\">\n",
              "  <thead>\n",
              "    <tr style=\"text-align: right;\">\n",
              "      <th></th>\n",
              "      <th>m_id</th>\n",
              "      <th>movie</th>\n",
              "      <th>review_title</th>\n",
              "      <th>review</th>\n",
              "      <th>review_rating</th>\n",
              "      <th>helpful_score</th>\n",
              "      <th>review_perm_link</th>\n",
              "      <th>review_class</th>\n",
              "      <th>review_class_int</th>\n",
              "      <th>review_class_bin</th>\n",
              "      <th>review_class_bin_int</th>\n",
              "      <th>rating</th>\n",
              "      <th>genre</th>\n",
              "      <th>genre_primary</th>\n",
              "      <th>genre_primary_mapped</th>\n",
              "    </tr>\n",
              "  </thead>\n",
              "  <tbody>\n",
              "    <tr>\n",
              "      <th>3354</th>\n",
              "      <td>0804492</td>\n",
              "      <td>The Hottie &amp; the Nottie</td>\n",
              "      <td>Paris Hilton tries and fails to headline a mov...</td>\n",
              "      <td>Nate Cooper (Joel David Moore) is an unemploye...</td>\n",
              "      <td>2/10</td>\n",
              "      <td>0 out of 1 found this helpful.</td>\n",
              "      <td>https://www.imdb.com//review/rw6866972/</td>\n",
              "      <td>bad</td>\n",
              "      <td>0</td>\n",
              "      <td>bad</td>\n",
              "      <td>0</td>\n",
              "      <td>2.2</td>\n",
              "      <td>[Comedy, Romance]</td>\n",
              "      <td>Comedy</td>\n",
              "      <td>comedy</td>\n",
              "    </tr>\n",
              "    <tr>\n",
              "      <th>6477</th>\n",
              "      <td>0107290</td>\n",
              "      <td>Jurassic Park</td>\n",
              "      <td>A child's fantasy, but the world's nightmare.</td>\n",
              "      <td>When man messes with the secrets of nature, th...</td>\n",
              "      <td>10/10</td>\n",
              "      <td>4 out of 5 found this helpful.</td>\n",
              "      <td>https://www.imdb.com//review/rw3460612/</td>\n",
              "      <td>good</td>\n",
              "      <td>2</td>\n",
              "      <td>good</td>\n",
              "      <td>1</td>\n",
              "      <td>8.1</td>\n",
              "      <td>[Action, Adventure, Sci-Fi, Thriller]</td>\n",
              "      <td>Action</td>\n",
              "      <td>action</td>\n",
              "    </tr>\n",
              "    <tr>\n",
              "      <th>3563</th>\n",
              "      <td>0372873</td>\n",
              "      <td>Dragon Wars: D-War</td>\n",
              "      <td>not too shabby,in my opinion(but what do i know?)</td>\n",
              "      <td>maybe i need to have my head examined,but i th...</td>\n",
              "      <td>7/10</td>\n",
              "      <td>1 out of 2 found this helpful.</td>\n",
              "      <td>https://www.imdb.com//review/rw1801281/</td>\n",
              "      <td>average</td>\n",
              "      <td>1</td>\n",
              "      <td>good</td>\n",
              "      <td>1</td>\n",
              "      <td>3.8</td>\n",
              "      <td>[Action, Drama, Fantasy, Horror, Thriller]</td>\n",
              "      <td>Action</td>\n",
              "      <td>action</td>\n",
              "    </tr>\n",
              "    <tr>\n",
              "      <th>4553</th>\n",
              "      <td>0110978</td>\n",
              "      <td>Texas Chainsaw Massacre: The Next Generation</td>\n",
              "      <td>Texas Chainsaw Massacre:The New Generation</td>\n",
              "      <td>Sick-in-the-head sequel to the Texas Chainsaw ...</td>\n",
              "      <td>2/10</td>\n",
              "      <td>4 out of 12 found this helpful.</td>\n",
              "      <td>https://www.imdb.com//review/rw1686377/</td>\n",
              "      <td>bad</td>\n",
              "      <td>0</td>\n",
              "      <td>bad</td>\n",
              "      <td>0</td>\n",
              "      <td>3.6</td>\n",
              "      <td>[Comedy, Horror, Thriller]</td>\n",
              "      <td>Comedy</td>\n",
              "      <td>comedy</td>\n",
              "    </tr>\n",
              "    <tr>\n",
              "      <th>3170</th>\n",
              "      <td>0253474</td>\n",
              "      <td>The Pianist</td>\n",
              "      <td>non-heroism</td>\n",
              "      <td>It's 1939 Warsaw. Wladyslaw Szpilman (Adrien B...</td>\n",
              "      <td>7/10</td>\n",
              "      <td>0 out of 10 found this helpful.</td>\n",
              "      <td>https://www.imdb.com//review/rw3547407/</td>\n",
              "      <td>average</td>\n",
              "      <td>1</td>\n",
              "      <td>good</td>\n",
              "      <td>1</td>\n",
              "      <td>8.5</td>\n",
              "      <td>[Biography, Drama, Music, War]</td>\n",
              "      <td>Biography</td>\n",
              "      <td>biography</td>\n",
              "    </tr>\n",
              "    <tr>\n",
              "      <th>4104</th>\n",
              "      <td>0462244</td>\n",
              "      <td>Daddy Day Camp</td>\n",
              "      <td>God-awful Family Film with Little to Offer</td>\n",
              "      <td>After sitting through the entirety of Daddy Da...</td>\n",
              "      <td>2/10</td>\n",
              "      <td>80 out of 117 found this helpful.</td>\n",
              "      <td>https://www.imdb.com//review/rw1708684/</td>\n",
              "      <td>bad</td>\n",
              "      <td>0</td>\n",
              "      <td>bad</td>\n",
              "      <td>0</td>\n",
              "      <td>3.5</td>\n",
              "      <td>[Comedy, Family]</td>\n",
              "      <td>Comedy</td>\n",
              "      <td>comedy</td>\n",
              "    </tr>\n",
              "    <tr>\n",
              "      <th>1352</th>\n",
              "      <td>0266697</td>\n",
              "      <td>Kill Bill: Vol. 1</td>\n",
              "      <td>Someone must be in between</td>\n",
              "      <td>Did everyone either love this or despise it? I...</td>\n",
              "      <td>5/10</td>\n",
              "      <td>4 out of 10 found this helpful.</td>\n",
              "      <td>https://www.imdb.com//review/rw1304626/</td>\n",
              "      <td>bad</td>\n",
              "      <td>0</td>\n",
              "      <td>bad</td>\n",
              "      <td>0</td>\n",
              "      <td>8.1</td>\n",
              "      <td>[Action, Crime, Drama, Thriller]</td>\n",
              "      <td>Action</td>\n",
              "      <td>action</td>\n",
              "    </tr>\n",
              "    <tr>\n",
              "      <th>722</th>\n",
              "      <td>0110647</td>\n",
              "      <td>The NeverEnding Story III</td>\n",
              "      <td>The Fun is played out Well, but it still doesn...</td>\n",
              "      <td>Once upoun a time there was a legendary tale l...</td>\n",
              "      <td>4/10</td>\n",
              "      <td>1 out of 2 found this helpful.</td>\n",
              "      <td>https://www.imdb.com//review/rw2363653/</td>\n",
              "      <td>bad</td>\n",
              "      <td>0</td>\n",
              "      <td>bad</td>\n",
              "      <td>0</td>\n",
              "      <td>3.7</td>\n",
              "      <td>[Adventure, Comedy, Family, Fantasy]</td>\n",
              "      <td>Adventure</td>\n",
              "      <td>adventure</td>\n",
              "    </tr>\n",
              "    <tr>\n",
              "      <th>4057</th>\n",
              "      <td>1979320</td>\n",
              "      <td>Rush</td>\n",
              "      <td>Sexy, super-charged, sporting rivalry...</td>\n",
              "      <td>You needn't be an F1 fan, or even a sport fan ...</td>\n",
              "      <td>7/10</td>\n",
              "      <td>0 out of 0 found this helpful.</td>\n",
              "      <td>https://www.imdb.com//review/rw5903039/</td>\n",
              "      <td>average</td>\n",
              "      <td>1</td>\n",
              "      <td>good</td>\n",
              "      <td>1</td>\n",
              "      <td>8</td>\n",
              "      <td>[Action, Biography, Drama, Sport]</td>\n",
              "      <td>Action</td>\n",
              "      <td>action</td>\n",
              "    </tr>\n",
              "    <tr>\n",
              "      <th>3945</th>\n",
              "      <td>0097165</td>\n",
              "      <td>Dead Poets Society</td>\n",
              "      <td>Somewhere between \"Good Morning, Vietnam\" and ...</td>\n",
              "      <td>I notice that Robin Williams often plays a fre...</td>\n",
              "      <td>7/10</td>\n",
              "      <td>1 out of 6 found this helpful.</td>\n",
              "      <td>https://www.imdb.com//review/rw1265505/</td>\n",
              "      <td>average</td>\n",
              "      <td>1</td>\n",
              "      <td>good</td>\n",
              "      <td>1</td>\n",
              "      <td>8.1</td>\n",
              "      <td>[Comedy, Drama]</td>\n",
              "      <td>Comedy</td>\n",
              "      <td>comedy</td>\n",
              "    </tr>\n",
              "  </tbody>\n",
              "</table>\n",
              "</div>"
            ],
            "text/plain": [
              "         m_id  ... genre_primary_mapped\n",
              "3354  0804492  ...               comedy\n",
              "6477  0107290  ...               action\n",
              "3563  0372873  ...               action\n",
              "4553  0110978  ...               comedy\n",
              "3170  0253474  ...            biography\n",
              "4104  0462244  ...               comedy\n",
              "1352  0266697  ...               action\n",
              "722   0110647  ...            adventure\n",
              "4057  1979320  ...               action\n",
              "3945  0097165  ...               comedy\n",
              "\n",
              "[10 rows x 15 columns]"
            ]
          },
          "metadata": {},
          "execution_count": 28
        }
      ]
    },
    {
      "cell_type": "code",
      "metadata": {
        "colab": {
          "base_uri": "https://localhost:8080/",
          "height": 206
        },
        "id": "wU05STi3I9D9",
        "outputId": "1c916605-882f-45bd-a1dd-7d15f51905cd"
      },
      "source": [
        "cols = ['m_id', 'movie', 'review_title', 'review', 'review_rating',\n",
        "       'helpful_score', 'review_perm_link', 'review_class', 'review_class_int',\n",
        "       'review_class_bin', 'review_class_bin_int', 'rating', 'genre',\n",
        "       'genre_primary', 'genre_primary_mapped']\n",
        "\n",
        "cols = ['movie', 'rating', 'genre_primary_mapped', 'review_title', 'review', 'review_rating', 'review_class_bin']\n",
        "df_review_data[cols].sample(5)"
      ],
      "id": "wU05STi3I9D9",
      "execution_count": 29,
      "outputs": [
        {
          "output_type": "execute_result",
          "data": {
            "text/html": [
              "<div>\n",
              "<style scoped>\n",
              "    .dataframe tbody tr th:only-of-type {\n",
              "        vertical-align: middle;\n",
              "    }\n",
              "\n",
              "    .dataframe tbody tr th {\n",
              "        vertical-align: top;\n",
              "    }\n",
              "\n",
              "    .dataframe thead th {\n",
              "        text-align: right;\n",
              "    }\n",
              "</style>\n",
              "<table border=\"1\" class=\"dataframe\">\n",
              "  <thead>\n",
              "    <tr style=\"text-align: right;\">\n",
              "      <th></th>\n",
              "      <th>movie</th>\n",
              "      <th>rating</th>\n",
              "      <th>genre_primary_mapped</th>\n",
              "      <th>review_title</th>\n",
              "      <th>review</th>\n",
              "      <th>review_rating</th>\n",
              "      <th>review_class_bin</th>\n",
              "    </tr>\n",
              "  </thead>\n",
              "  <tbody>\n",
              "    <tr>\n",
              "      <th>2984</th>\n",
              "      <td>The Apartment</td>\n",
              "      <td>8.2</td>\n",
              "      <td>comedy</td>\n",
              "      <td>Not at all a comedy, but still a fine picture</td>\n",
              "      <td>Over the years, I have heard that THE APARTMEN...</td>\n",
              "      <td>9/10</td>\n",
              "      <td>good</td>\n",
              "    </tr>\n",
              "    <tr>\n",
              "      <th>3755</th>\n",
              "      <td>Singin' in the Rain</td>\n",
              "      <td>8.3</td>\n",
              "      <td>comedy</td>\n",
              "      <td>About as Good as They Come.</td>\n",
              "      <td>A lot of people seem to gush over this picture...</td>\n",
              "      <td>10/10</td>\n",
              "      <td>good</td>\n",
              "    </tr>\n",
              "    <tr>\n",
              "      <th>5871</th>\n",
              "      <td>Before Sunrise</td>\n",
              "      <td>8.1</td>\n",
              "      <td>drama</td>\n",
              "      <td>\"You need resign yourself to the awkwardness o...</td>\n",
              "      <td>Right before Jesse (Ethan Hawke) said it, I th...</td>\n",
              "      <td>7/10</td>\n",
              "      <td>good</td>\n",
              "    </tr>\n",
              "    <tr>\n",
              "      <th>158</th>\n",
              "      <td>Gangaajal</td>\n",
              "      <td>7.8</td>\n",
              "      <td>action</td>\n",
              "      <td>Nice</td>\n",
              "      <td>This movie is nice and amazing dialogue but no...</td>\n",
              "      <td>6/10</td>\n",
              "      <td>bad</td>\n",
              "    </tr>\n",
              "    <tr>\n",
              "      <th>5832</th>\n",
              "      <td>Vinnaithaandi Varuvaayaa</td>\n",
              "      <td>7.9</td>\n",
              "      <td>drama</td>\n",
              "      <td>Strongly Recommended</td>\n",
              "      <td>This is my first review on IMDb.so you people ...</td>\n",
              "      <td>9/10</td>\n",
              "      <td>good</td>\n",
              "    </tr>\n",
              "  </tbody>\n",
              "</table>\n",
              "</div>"
            ],
            "text/plain": [
              "                         movie rating  ... review_rating review_class_bin\n",
              "2984             The Apartment    8.2  ...          9/10             good\n",
              "3755       Singin' in the Rain    8.3  ...         10/10             good\n",
              "5871            Before Sunrise    8.1  ...          7/10             good\n",
              "158                  Gangaajal    7.8  ...          6/10              bad\n",
              "5832  Vinnaithaandi Varuvaayaa    7.9  ...          9/10             good\n",
              "\n",
              "[5 rows x 7 columns]"
            ]
          },
          "metadata": {},
          "execution_count": 29
        }
      ]
    },
    {
      "cell_type": "code",
      "metadata": {
        "colab": {
          "base_uri": "https://localhost:8080/",
          "height": 293
        },
        "id": "pWj11aL7K1HX",
        "outputId": "3da33c96-6f4f-43ca-8eca-48d3688f50e0"
      },
      "source": [
        "df_review_data[cols].sample(5)"
      ],
      "id": "pWj11aL7K1HX",
      "execution_count": 30,
      "outputs": [
        {
          "output_type": "execute_result",
          "data": {
            "text/html": [
              "<div>\n",
              "<style scoped>\n",
              "    .dataframe tbody tr th:only-of-type {\n",
              "        vertical-align: middle;\n",
              "    }\n",
              "\n",
              "    .dataframe tbody tr th {\n",
              "        vertical-align: top;\n",
              "    }\n",
              "\n",
              "    .dataframe thead th {\n",
              "        text-align: right;\n",
              "    }\n",
              "</style>\n",
              "<table border=\"1\" class=\"dataframe\">\n",
              "  <thead>\n",
              "    <tr style=\"text-align: right;\">\n",
              "      <th></th>\n",
              "      <th>movie</th>\n",
              "      <th>rating</th>\n",
              "      <th>genre_primary_mapped</th>\n",
              "      <th>review_title</th>\n",
              "      <th>review</th>\n",
              "      <th>review_rating</th>\n",
              "      <th>review_class_bin</th>\n",
              "    </tr>\n",
              "  </thead>\n",
              "  <tbody>\n",
              "    <tr>\n",
              "      <th>985</th>\n",
              "      <td>Star Wars: Episode V - The Empire Strikes Back</td>\n",
              "      <td>8.7</td>\n",
              "      <td>action</td>\n",
              "      <td>The Way Star Wars Was Meant To Be</td>\n",
              "      <td>Any comments here refer to the theatrical rele...</td>\n",
              "      <td>9/10</td>\n",
              "      <td>good</td>\n",
              "    </tr>\n",
              "    <tr>\n",
              "      <th>6438</th>\n",
              "      <td>Oye Lucky! Lucky Oye!</td>\n",
              "      <td>7.7</td>\n",
              "      <td>action</td>\n",
              "      <td>Glad to see something New and So Interesting!</td>\n",
              "      <td>I must say, I thought this was just gonna be a...</td>\n",
              "      <td>8/10</td>\n",
              "      <td>good</td>\n",
              "    </tr>\n",
              "    <tr>\n",
              "      <th>571</th>\n",
              "      <td>Superman IV: The Quest for Peace</td>\n",
              "      <td>3.8</td>\n",
              "      <td>action</td>\n",
              "      <td>The movie takes itself far too serious.</td>\n",
              "      <td>The whole story and concept are just as ridicu...</td>\n",
              "      <td>4/10</td>\n",
              "      <td>bad</td>\n",
              "    </tr>\n",
              "    <tr>\n",
              "      <th>4636</th>\n",
              "      <td>The Brawler</td>\n",
              "      <td>7.9</td>\n",
              "      <td>action</td>\n",
              "      <td>Not quite a sports film</td>\n",
              "      <td>Mr Vineet Kumar Singh comes up with a story of...</td>\n",
              "      <td>7/10</td>\n",
              "      <td>good</td>\n",
              "    </tr>\n",
              "    <tr>\n",
              "      <th>3831</th>\n",
              "      <td>Amélie</td>\n",
              "      <td>8.2</td>\n",
              "      <td>comedy</td>\n",
              "      <td>charming and whimsical</td>\n",
              "      <td>Amélie Poulain (Audrey Tautou) is a Parisian w...</td>\n",
              "      <td>9/10</td>\n",
              "      <td>good</td>\n",
              "    </tr>\n",
              "  </tbody>\n",
              "</table>\n",
              "</div>"
            ],
            "text/plain": [
              "                                               movie  ... review_class_bin\n",
              "985   Star Wars: Episode V - The Empire Strikes Back  ...             good\n",
              "6438                           Oye Lucky! Lucky Oye!  ...             good\n",
              "571                 Superman IV: The Quest for Peace  ...              bad\n",
              "4636                                     The Brawler  ...             good\n",
              "3831                                          Amélie  ...             good\n",
              "\n",
              "[5 rows x 7 columns]"
            ]
          },
          "metadata": {},
          "execution_count": 30
        }
      ]
    },
    {
      "cell_type": "code",
      "metadata": {
        "colab": {
          "base_uri": "https://localhost:8080/",
          "height": 890
        },
        "id": "WHILvppUJrOJ",
        "outputId": "1fe58502-3f19-4f1b-f1e4-4d89e69c14e7"
      },
      "source": [
        "HTML(df_review_data[cols].sample(3).to_html())"
      ],
      "id": "WHILvppUJrOJ",
      "execution_count": 31,
      "outputs": [
        {
          "output_type": "execute_result",
          "data": {
            "text/html": [
              "<table border=\"1\" class=\"dataframe\">\n",
              "  <thead>\n",
              "    <tr style=\"text-align: right;\">\n",
              "      <th></th>\n",
              "      <th>movie</th>\n",
              "      <th>rating</th>\n",
              "      <th>genre_primary_mapped</th>\n",
              "      <th>review_title</th>\n",
              "      <th>review</th>\n",
              "      <th>review_rating</th>\n",
              "      <th>review_class_bin</th>\n",
              "    </tr>\n",
              "  </thead>\n",
              "  <tbody>\n",
              "    <tr>\n",
              "      <th>6830</th>\n",
              "      <td>Slender Man</td>\n",
              "      <td>3.4</td>\n",
              "      <td>horror</td>\n",
              "      <td>Don't bother.</td>\n",
              "      <td>Is it that I'm getting older, and simply don't have the same enjoyment for horror films? Or is it the case that I still love horror films, but the genre is well and truly down the pan right now? I think the latter is true.This isn't what I would call a badly made movie, for the most part the acting is acceptable, it's nicely edited. The trouble is it's just so incredibly dully, the scares are quite literally non existent, they had some decent ideas, but didn't go for it, everything is tame.Once again, as is so often the case, the characters aren't likeable in any way, shape or form, so the quicker the Slender Man gets them the better.As for the Slender Man, did they pinch The Silence from Doctor Who? Looks like to me.Ninety minutes I could have spent watching cute dog videos on YouTube. 3/10.</td>\n",
              "      <td>3/10</td>\n",
              "      <td>bad</td>\n",
              "    </tr>\n",
              "    <tr>\n",
              "      <th>2758</th>\n",
              "      <td>Student of the Year 2</td>\n",
              "      <td>3.3</td>\n",
              "      <td>action</td>\n",
              "      <td>Nepotism factory</td>\n",
              "      <td>This is a pure display of lavish nepotism on screen, more of a high society flick who wants to see some new fashion statements and high class college trends.. Except college culture like Study.. Classes... projects.... submissions.... everything you see is extracurricular.. well..Karan johar cannot pull me to pay him for making rich star kids more rich.. Whereas there are a lot of struggling actors in line who are much more talented than these slim zero size brats.. Never ever falling into this puddle...</td>\n",
              "      <td>1/10</td>\n",
              "      <td>bad</td>\n",
              "    </tr>\n",
              "    <tr>\n",
              "      <th>1725</th>\n",
              "      <td>Pledge This!</td>\n",
              "      <td>2.3</td>\n",
              "      <td>comedy</td>\n",
              "      <td>A Fun Guilty Pleasure</td>\n",
              "      <td>Pledge This! is a new film from National Lampoon, and this installment follows along the lines of the other films--a simple plot, good actors, a paper-thin love story, plenty of sight gags, and some sort of villain. This film, however, takes the equation one step further with its quirky characters. The film stars Paris Hilton (House of Wax, The Hillz), Simon Rex (Scary Movie 3, Shriek if You Know What I Did Last Friday the 13th), Sarah Carter (Final Destination 2), Paula Garces (Harold &amp; Kumar Go to White Castle, Clockstoppers), Geoffrey Arend (The Ringer, Bubble Boy) and many other young, up-and-coming actors and actresses.Victoria English (Paris Hilton) is the wealthy, snobbish president of Gamma Gamma sorority at South Beach University in Miami, Florida. When Victoria learns that FHM Magazine is nominating them for \"Best Sorority of the Year\", Victoria plots to have more \"diversified\" co-eds pledge her sorority to integrate her all-blonde and wealthy sorority. One of Victoria's pledges, Kristen Haas (Sarah Carter), suggests they pledge her ex-friend Gloria (Paula Garces) and six of her misfit dorm mates; DJ spinner Monique; an Indian exchange student nicknamed PooPoo; divorcée Kathy, who is seeking to relive her youth by going back to college; fat Southern belle Maxine; weird goth girl Babs; and lesbian chick Tonya. The seven pledges are force to go through the most outrageous initiations to be accepted. But when they learn that it was all an act just to get the front cover of FHM magazine, Gloria teams up with Victoria's boyfriend, Derek (Simon Rex), to settle the score.Surprisingly, the acting in Pledge This! is quite solid, but the script is pretty lacking. It just does overused clichés one after another until we hit the extremely obvious ending. However, the clichés are actually most of what makes this movie work. If this tried to be some original romantic comedy, I couldn't see it working on any level whatsoever. I wasn't expecting much from Paris Hilton, as I had seen her in House of Wax and her acting was so wooden and boring that, basically, I wanted to throw up. However, Paris Hilton somehow manages to surprise and this is supposed to be direct-to-video fare! I've never really thought that Paris Hilton was very attractive, but in Pledge This!, the lighting, outfits, and hair style that Paris is given really make her stand out. Simon Rex was great as usual--he has rapidly become one of my favorite actors through the very few films that I have seen him in. His acting style is always hysterically funny, and the movie was worth watching just to see what sort of wacky performance he would appear in next. Paula Garces is perfect as Gloria, and the love story between she and Derek was believable, although, again, quite clichéd. All of the other characters were very creative and fun.In terms of sight gags and nudity, they're in plentiful supply here. One of my favorite scenes had a dog giving Simon Rex a blow job! Classic! There was a lot of female nudity, and while I'm not one to complain, some scenes just felt thrown in there for the sake of nudity alone. I really liked the story; something new filled with old stuff.Overall, Pledge This! is a fun movie for what it was--a direct-to-video National Lampoon film that does very little to break from the mold. See this for nudity and laughs, but don't expect a masterpiece.</td>\n",
              "      <td>6/10</td>\n",
              "      <td>bad</td>\n",
              "    </tr>\n",
              "  </tbody>\n",
              "</table>"
            ],
            "text/plain": [
              "<IPython.core.display.HTML object>"
            ]
          },
          "metadata": {},
          "execution_count": 31
        }
      ]
    },
    {
      "cell_type": "code",
      "metadata": {
        "execution": {
          "iopub.execute_input": "2021-11-29T20:53:36.663783Z",
          "iopub.status.busy": "2021-11-29T20:53:36.663783Z",
          "iopub.status.idle": "2021-11-29T20:53:36.672783Z",
          "shell.execute_reply": "2021-11-29T20:53:36.671781Z",
          "shell.execute_reply.started": "2021-11-29T20:53:36.663783Z"
        },
        "tags": [],
        "colab": {
          "base_uri": "https://localhost:8080/"
        },
        "id": "fe6c0b82-164c-46e0-9327-57d9165a0746",
        "outputId": "0f35c29f-91a7-4891-cbe6-e1269a009e7f"
      },
      "source": [
        "df_review_data.genre_primary_mapped.value_counts()"
      ],
      "id": "fe6c0b82-164c-46e0-9327-57d9165a0746",
      "execution_count": 32,
      "outputs": [
        {
          "output_type": "execute_result",
          "data": {
            "text/plain": [
              "action            2221\n",
              "comedy            1622\n",
              "drama             1484\n",
              "thriller/crime     850\n",
              "adventure          452\n",
              "biography          363\n",
              "animation          295\n",
              "horror             187\n",
              "western             26\n",
              "Name: genre_primary_mapped, dtype: int64"
            ]
          },
          "metadata": {},
          "execution_count": 32
        }
      ]
    },
    {
      "cell_type": "code",
      "metadata": {
        "execution": {
          "iopub.execute_input": "2021-11-29T21:00:38.893922Z",
          "iopub.status.busy": "2021-11-29T21:00:38.892923Z",
          "iopub.status.idle": "2021-11-29T21:00:38.913947Z",
          "shell.execute_reply": "2021-11-29T21:00:38.912967Z",
          "shell.execute_reply.started": "2021-11-29T21:00:38.893922Z"
        },
        "tags": [],
        "id": "53825eb7-f67e-4dd7-9a14-b8fc6d9d31b5"
      },
      "source": [
        "genre2id = {'action': 0,\n",
        "             'comedy': 1,\n",
        "             'drama': 2,\n",
        "             'thriller/crime': 3,\n",
        "             'adventure':4,\n",
        "             'biography':5,\n",
        "             'animation':6,\n",
        "             'horror':7,\n",
        "             'western':8\n",
        "            }"
      ],
      "id": "53825eb7-f67e-4dd7-9a14-b8fc6d9d31b5",
      "execution_count": 33,
      "outputs": []
    },
    {
      "cell_type": "code",
      "metadata": {
        "execution": {
          "iopub.execute_input": "2021-11-29T21:00:40.887086Z",
          "iopub.status.busy": "2021-11-29T21:00:40.887086Z",
          "iopub.status.idle": "2021-11-29T21:00:40.910128Z",
          "shell.execute_reply": "2021-11-29T21:00:40.909128Z",
          "shell.execute_reply.started": "2021-11-29T21:00:40.887086Z"
        },
        "tags": [],
        "colab": {
          "base_uri": "https://localhost:8080/",
          "height": 573
        },
        "id": "bbbf844a-a078-408f-b626-89935ca7c451",
        "outputId": "3cea7be4-34ee-4d5f-c006-199a87de9f92"
      },
      "source": [
        "df_review_data[\"genre_label\"] = df_review_data.genre_primary_mapped.map(genre2id)\n",
        "df_review_data.head()"
      ],
      "id": "bbbf844a-a078-408f-b626-89935ca7c451",
      "execution_count": 34,
      "outputs": [
        {
          "output_type": "execute_result",
          "data": {
            "text/html": [
              "<div>\n",
              "<style scoped>\n",
              "    .dataframe tbody tr th:only-of-type {\n",
              "        vertical-align: middle;\n",
              "    }\n",
              "\n",
              "    .dataframe tbody tr th {\n",
              "        vertical-align: top;\n",
              "    }\n",
              "\n",
              "    .dataframe thead th {\n",
              "        text-align: right;\n",
              "    }\n",
              "</style>\n",
              "<table border=\"1\" class=\"dataframe\">\n",
              "  <thead>\n",
              "    <tr style=\"text-align: right;\">\n",
              "      <th></th>\n",
              "      <th>m_id</th>\n",
              "      <th>movie</th>\n",
              "      <th>review_title</th>\n",
              "      <th>review</th>\n",
              "      <th>review_rating</th>\n",
              "      <th>helpful_score</th>\n",
              "      <th>review_perm_link</th>\n",
              "      <th>review_class</th>\n",
              "      <th>review_class_int</th>\n",
              "      <th>review_class_bin</th>\n",
              "      <th>review_class_bin_int</th>\n",
              "      <th>rating</th>\n",
              "      <th>genre</th>\n",
              "      <th>genre_primary</th>\n",
              "      <th>genre_primary_mapped</th>\n",
              "      <th>genre_label</th>\n",
              "    </tr>\n",
              "  </thead>\n",
              "  <tbody>\n",
              "    <tr>\n",
              "      <th>0</th>\n",
              "      <td>0047478</td>\n",
              "      <td>Seven Samurai</td>\n",
              "      <td>There's Not One Thing Wrong with This Film</td>\n",
              "      <td>If you think a three-hour Japanese movie from ...</td>\n",
              "      <td>10/10</td>\n",
              "      <td>13 out of 27 found this helpful.</td>\n",
              "      <td>https://www.imdb.com//review/rw1448252/</td>\n",
              "      <td>good</td>\n",
              "      <td>2</td>\n",
              "      <td>good</td>\n",
              "      <td>1</td>\n",
              "      <td>8.6</td>\n",
              "      <td>[Action, Adventure, Drama]</td>\n",
              "      <td>Action</td>\n",
              "      <td>action</td>\n",
              "      <td>0</td>\n",
              "    </tr>\n",
              "    <tr>\n",
              "      <th>1</th>\n",
              "      <td>0118688</td>\n",
              "      <td>Batman &amp; Robin</td>\n",
              "      <td>Bad man, really bad</td>\n",
              "      <td>Oh Dear. Oh Dear.Joel Schumacher had previousl...</td>\n",
              "      <td>1/10</td>\n",
              "      <td>3 out of 5 found this helpful.</td>\n",
              "      <td>https://www.imdb.com//review/rw2841618/</td>\n",
              "      <td>bad</td>\n",
              "      <td>0</td>\n",
              "      <td>bad</td>\n",
              "      <td>0</td>\n",
              "      <td>3.8</td>\n",
              "      <td>[Action, Sci-Fi]</td>\n",
              "      <td>Action</td>\n",
              "      <td>action</td>\n",
              "      <td>0</td>\n",
              "    </tr>\n",
              "    <tr>\n",
              "      <th>2</th>\n",
              "      <td>2582802</td>\n",
              "      <td>Whiplash</td>\n",
              "      <td>Sticks And Stones ...</td>\n",
              "      <td>I'm going to aim for a little perspective here...</td>\n",
              "      <td>10/10</td>\n",
              "      <td>3 out of 7 found this helpful.</td>\n",
              "      <td>https://www.imdb.com//review/rw3167982/</td>\n",
              "      <td>good</td>\n",
              "      <td>2</td>\n",
              "      <td>good</td>\n",
              "      <td>1</td>\n",
              "      <td>8.5</td>\n",
              "      <td>[Drama, Music]</td>\n",
              "      <td>Drama</td>\n",
              "      <td>drama</td>\n",
              "      <td>2</td>\n",
              "    </tr>\n",
              "    <tr>\n",
              "      <th>3</th>\n",
              "      <td>0118665</td>\n",
              "      <td>Baby Geniuses</td>\n",
              "      <td>About as awful as you'd think</td>\n",
              "      <td>This is one of the most legendary bad movies e...</td>\n",
              "      <td>1/10</td>\n",
              "      <td>5 out of 12 found this helpful.</td>\n",
              "      <td>https://www.imdb.com//review/rw4136680/</td>\n",
              "      <td>bad</td>\n",
              "      <td>0</td>\n",
              "      <td>bad</td>\n",
              "      <td>0</td>\n",
              "      <td>2.9</td>\n",
              "      <td>[Comedy, Crime, Family, Sci-Fi]</td>\n",
              "      <td>Comedy</td>\n",
              "      <td>comedy</td>\n",
              "      <td>1</td>\n",
              "    </tr>\n",
              "    <tr>\n",
              "      <th>4</th>\n",
              "      <td>0367110</td>\n",
              "      <td>Swades</td>\n",
              "      <td>Way too long for the story it tells</td>\n",
              "      <td>Why is it that Indian filmmakers seem to belie...</td>\n",
              "      <td>4/10</td>\n",
              "      <td>11 out of 38 found this helpful.</td>\n",
              "      <td>https://www.imdb.com//review/rw1061977/</td>\n",
              "      <td>bad</td>\n",
              "      <td>0</td>\n",
              "      <td>bad</td>\n",
              "      <td>0</td>\n",
              "      <td>8.1</td>\n",
              "      <td>[Drama, Musical]</td>\n",
              "      <td>Drama</td>\n",
              "      <td>drama</td>\n",
              "      <td>2</td>\n",
              "    </tr>\n",
              "  </tbody>\n",
              "</table>\n",
              "</div>"
            ],
            "text/plain": [
              "      m_id           movie  ... genre_primary_mapped genre_label\n",
              "0  0047478   Seven Samurai  ...               action           0\n",
              "1  0118688  Batman & Robin  ...               action           0\n",
              "2  2582802        Whiplash  ...                drama           2\n",
              "3  0118665   Baby Geniuses  ...               comedy           1\n",
              "4  0367110          Swades  ...                drama           2\n",
              "\n",
              "[5 rows x 16 columns]"
            ]
          },
          "metadata": {},
          "execution_count": 34
        }
      ]
    },
    {
      "cell_type": "code",
      "metadata": {
        "execution": {
          "iopub.execute_input": "2021-11-29T21:00:45.007376Z",
          "iopub.status.busy": "2021-11-29T21:00:45.006380Z",
          "iopub.status.idle": "2021-11-29T21:00:45.041376Z",
          "shell.execute_reply": "2021-11-29T21:00:45.040416Z",
          "shell.execute_reply.started": "2021-11-29T21:00:45.007376Z"
        },
        "tags": [],
        "colab": {
          "base_uri": "https://localhost:8080/",
          "height": 394
        },
        "id": "ff7d34ef-ee03-4f5f-a5bd-df610b9e8ef0",
        "outputId": "67c4de4a-4e13-45b7-b1eb-cf19198848ac"
      },
      "source": [
        "df_review_data.groupby(\"genre_primary_mapped\").agg({'review_class_bin_int': ['count', 'mean', 'median']})"
      ],
      "id": "ff7d34ef-ee03-4f5f-a5bd-df610b9e8ef0",
      "execution_count": 35,
      "outputs": [
        {
          "output_type": "execute_result",
          "data": {
            "text/html": [
              "<div>\n",
              "<style scoped>\n",
              "    .dataframe tbody tr th:only-of-type {\n",
              "        vertical-align: middle;\n",
              "    }\n",
              "\n",
              "    .dataframe tbody tr th {\n",
              "        vertical-align: top;\n",
              "    }\n",
              "\n",
              "    .dataframe thead tr th {\n",
              "        text-align: left;\n",
              "    }\n",
              "\n",
              "    .dataframe thead tr:last-of-type th {\n",
              "        text-align: right;\n",
              "    }\n",
              "</style>\n",
              "<table border=\"1\" class=\"dataframe\">\n",
              "  <thead>\n",
              "    <tr>\n",
              "      <th></th>\n",
              "      <th colspan=\"3\" halign=\"left\">review_class_bin_int</th>\n",
              "    </tr>\n",
              "    <tr>\n",
              "      <th></th>\n",
              "      <th>count</th>\n",
              "      <th>mean</th>\n",
              "      <th>median</th>\n",
              "    </tr>\n",
              "    <tr>\n",
              "      <th>genre_primary_mapped</th>\n",
              "      <th></th>\n",
              "      <th></th>\n",
              "      <th></th>\n",
              "    </tr>\n",
              "  </thead>\n",
              "  <tbody>\n",
              "    <tr>\n",
              "      <th>action</th>\n",
              "      <td>2221</td>\n",
              "      <td>0.531292</td>\n",
              "      <td>1</td>\n",
              "    </tr>\n",
              "    <tr>\n",
              "      <th>adventure</th>\n",
              "      <td>452</td>\n",
              "      <td>0.475664</td>\n",
              "      <td>0</td>\n",
              "    </tr>\n",
              "    <tr>\n",
              "      <th>animation</th>\n",
              "      <td>295</td>\n",
              "      <td>0.610169</td>\n",
              "      <td>1</td>\n",
              "    </tr>\n",
              "    <tr>\n",
              "      <th>biography</th>\n",
              "      <td>363</td>\n",
              "      <td>0.732782</td>\n",
              "      <td>1</td>\n",
              "    </tr>\n",
              "    <tr>\n",
              "      <th>comedy</th>\n",
              "      <td>1622</td>\n",
              "      <td>0.417386</td>\n",
              "      <td>0</td>\n",
              "    </tr>\n",
              "    <tr>\n",
              "      <th>drama</th>\n",
              "      <td>1484</td>\n",
              "      <td>0.710916</td>\n",
              "      <td>1</td>\n",
              "    </tr>\n",
              "    <tr>\n",
              "      <th>horror</th>\n",
              "      <td>187</td>\n",
              "      <td>0.219251</td>\n",
              "      <td>0</td>\n",
              "    </tr>\n",
              "    <tr>\n",
              "      <th>thriller/crime</th>\n",
              "      <td>850</td>\n",
              "      <td>0.712941</td>\n",
              "      <td>1</td>\n",
              "    </tr>\n",
              "    <tr>\n",
              "      <th>western</th>\n",
              "      <td>26</td>\n",
              "      <td>0.730769</td>\n",
              "      <td>1</td>\n",
              "    </tr>\n",
              "  </tbody>\n",
              "</table>\n",
              "</div>"
            ],
            "text/plain": [
              "                     review_class_bin_int                 \n",
              "                                    count      mean median\n",
              "genre_primary_mapped                                      \n",
              "action                               2221  0.531292      1\n",
              "adventure                             452  0.475664      0\n",
              "animation                             295  0.610169      1\n",
              "biography                             363  0.732782      1\n",
              "comedy                               1622  0.417386      0\n",
              "drama                                1484  0.710916      1\n",
              "horror                                187  0.219251      0\n",
              "thriller/crime                        850  0.712941      1\n",
              "western                                26  0.730769      1"
            ]
          },
          "metadata": {},
          "execution_count": 35
        }
      ]
    },
    {
      "cell_type": "markdown",
      "metadata": {
        "id": "2ffaa23c-f385-40d9-ac35-8a34d47b815f"
      },
      "source": [
        "## analysis"
      ],
      "id": "2ffaa23c-f385-40d9-ac35-8a34d47b815f"
    },
    {
      "cell_type": "markdown",
      "metadata": {
        "id": "5686706a-6c37-484c-9d8a-35e6b7dc8d8f"
      },
      "source": [
        "### analyze vocab size"
      ],
      "id": "5686706a-6c37-484c-9d8a-35e6b7dc8d8f"
    },
    {
      "cell_type": "code",
      "metadata": {
        "execution": {
          "iopub.execute_input": "2021-11-29T20:53:40.916561Z",
          "iopub.status.busy": "2021-11-29T20:53:40.916561Z",
          "iopub.status.idle": "2021-11-29T20:53:41.542559Z",
          "shell.execute_reply": "2021-11-29T20:53:41.541603Z",
          "shell.execute_reply.started": "2021-11-29T20:53:40.916561Z"
        },
        "tags": [],
        "colab": {
          "base_uri": "https://localhost:8080/"
        },
        "id": "ad8ff4d3-36da-4b2a-80dd-b74c70479c00",
        "outputId": "703a5313-aacc-42b0-8b22-f5e876ae82e9"
      },
      "source": [
        "%%time\n",
        "\n",
        "vocab = []\n",
        "\n",
        "for title,review in zip(df_review_data.review_title.tolist(), df_review_data.review.tolist()):\n",
        "    tokens = [word.lower() for word in title.split() + review.split()]\n",
        "    vocab.extend(tokens)\n",
        "\n",
        "# all words in vocab\n",
        "print(\"all tokens:\", len(vocab))\n",
        "print(\"total unique tokens:\", len(set(vocab)))"
      ],
      "id": "ad8ff4d3-36da-4b2a-80dd-b74c70479c00",
      "execution_count": null,
      "outputs": [
        {
          "output_type": "stream",
          "name": "stdout",
          "text": [
            "all tokens: 2074273\n",
            "total unique tokens: 131489\n",
            "CPU times: user 640 ms, sys: 83.9 ms, total: 724 ms\n",
            "Wall time: 725 ms\n"
          ]
        }
      ]
    },
    {
      "cell_type": "code",
      "metadata": {
        "execution": {
          "iopub.execute_input": "2021-11-29T20:53:42.806342Z",
          "iopub.status.busy": "2021-11-29T20:53:42.805333Z",
          "iopub.status.idle": "2021-11-29T20:53:43.323371Z",
          "shell.execute_reply": "2021-11-29T20:53:43.323371Z",
          "shell.execute_reply.started": "2021-11-29T20:53:42.806342Z"
        },
        "tags": [],
        "colab": {
          "base_uri": "https://localhost:8080/"
        },
        "id": "b5a47e0b-5713-40e6-9ab4-c9d424120ba7",
        "outputId": "1d7e281f-86e9-4b29-b783-41f784644e6c"
      },
      "source": [
        "# number of tokens with fequency >= 5\n",
        "vocab_counter = Counter(vocab)\n",
        "\n",
        "for freq in [2, 3, 5, 10]:\n",
        "    temp = [elem for elem in vocab_counter.most_common() if elem[1]>=freq]\n",
        "    print(f\"tokens occuring >={freq} times:\", len(temp))"
      ],
      "id": "b5a47e0b-5713-40e6-9ab4-c9d424120ba7",
      "execution_count": null,
      "outputs": [
        {
          "output_type": "stream",
          "name": "stdout",
          "text": [
            "tokens occuring >=2 times: 51923\n",
            "tokens occuring >=3 times: 36043\n",
            "tokens occuring >=5 times: 23665\n",
            "tokens occuring >=10 times: 13432\n"
          ]
        }
      ]
    },
    {
      "cell_type": "code",
      "metadata": {
        "execution": {
          "iopub.execute_input": "2021-11-28T14:32:53.216100Z",
          "iopub.status.busy": "2021-11-28T14:32:53.216100Z",
          "iopub.status.idle": "2021-11-28T14:32:53.331985Z",
          "shell.execute_reply": "2021-11-28T14:32:53.331002Z",
          "shell.execute_reply.started": "2021-11-28T14:32:53.216100Z"
        },
        "tags": [],
        "colab": {
          "base_uri": "https://localhost:8080/"
        },
        "id": "9f8b09a1-0914-4426-a265-8b771609dd94",
        "outputId": "6f9e3c73-8210-47f4-a189-249704629b1f"
      },
      "source": [
        "# by looking at top and bottom 100 tokens we can do more pre-processing \n",
        "# take only tokens which has length greater than 1 and less than 15 characters\n",
        "print(vocab_counter.most_common()[:100])\n",
        "print('\\n')\n",
        "print(vocab_counter.most_common()[-100:])"
      ],
      "id": "9f8b09a1-0914-4426-a265-8b771609dd94",
      "execution_count": null,
      "outputs": [
        {
          "output_type": "stream",
          "name": "stdout",
          "text": [
            "[('the', 116529), ('and', 60793), ('a', 56953), ('of', 50781), ('to', 46628), ('is', 41366), ('in', 33345), ('it', 22414), ('that', 22232), ('this', 18842), ('i', 18447), ('as', 17965), ('with', 16801), ('for', 16207), ('but', 14665), ('his', 14095), ('was', 13701), ('film', 11835), ('he', 11686), ('on', 10846), ('movie', 10534), ('are', 10465), ('not', 10372), ('by', 9158), ('be', 8620), ('have', 8608), ('one', 8515), ('an', 8165), ('you', 8059), ('from', 8037), ('at', 7370), ('has', 7272), ('who', 7020), ('all', 6862), ('like', 6301), ('they', 6244), (\"it's\", 6104), ('so', 6052), ('about', 5462), ('just', 5447), ('or', 5245), ('some', 4993), ('her', 4968), ('there', 4762), ('very', 4692), ('which', 4640), ('when', 4634), ('their', 4435), ('more', 4412), ('good', 4402), ('if', 4395), ('out', 4355), ('even', 4195), ('what', 4162), ('story', 4068), ('also', 4046), ('its', 3702), ('up', 3665), ('no', 3552), ('can', 3552), ('best', 3542), ('really', 3475), ('she', 3442), ('would', 3328), ('much', 3285), ('only', 3259), ('than', 3216), ('will', 3174), ('into', 3127), ('we', 3109), ('how', 3067), ('been', 3057), ('most', 3028), ('had', 2975), ('my', 2908), ('first', 2905), ('after', 2888), ('him', 2874), ('were', 2844), ('see', 2843), ('other', 2777), ('get', 2769), ('great', 2711), ('because', 2694), ('time', 2688), ('-', 2681), ('make', 2671), ('many', 2618), ('being', 2610), ('too', 2556), ('well', 2490), ('made', 2436), ('do', 2393), ('where', 2367), ('me', 2302), ('could', 2285), ('any', 2268), ('films', 2267), ('two', 2248), ('watch', 2228)]\n",
            "\n",
            "\n",
            "[('(klein)', 1), ('mentor/future', 1), (\"'rollerball'.\", 1), ('evaporates', 1), ('pointlessly,', 1), ('ask.there', 1), (\"'attempt'\", 1), ('foul?', 1), ('attempts?', 1), ('involved!?', 1), ('anyway.this', 1), ('players/actors.', 1), ('what-so-ever.', 1), ('mean.towards', 1), (\"'we\", 1), ('v.i.p.', 1), ('ties,', 1), ('conceived:', 1), ('vision(!)', 1), ('need?', 1), ('probably.with', 1), ('footage;', 1), ('sad.rollerball', 1), ('tannen.if', 1), ('time.anyway,', 1), ('contrast/comparison', 1), ('mayor?', 1), ('spark.', 1), ('generation)', 1), ('contrived.injecting', 1), ('\"serial', 1), ('jaded/alcoholic/retiring', 1), ('\"flat\".i', 1), ('me.***************spoilers', 1), ('follow*******************', 1), ('out)?', 1), ('re-instated', 1), ('inspector?', 1), ('***************spoilers', 1), ('end***********************like', 1), ('respect.cheers,', 1), ('mediocrity:', 1), ('songwriting', 1), ('description)', 1), ('sacred.', 1), ('conquest.thankfully,', 1), ('repertoire)', 1), ('indoors?', 1), ('recourse,', 1), (\"humour?it's\", 1), ('contains.', 1), ('movie.anyway,', 1), ('lot).fun', 1), ('carey),', 1), ('commented.', 1), (\"vision',\", 1), ('brunet', 1), ('silicone.', 1), ('game:', 1), (\"'guess\", 1), (\"'uhs...\", 1), (\"uhs..'\", 1), ('usual).', 1), ('\"glitter,', 1), ('brilho', 1), ('estrela\"', 1), ('(\"glitter,', 1), ('star\")', 1), ('vegetarians.', 1), ('oof.', 1), ('consummately', 1), (\"lender's\", 1), ('commensurately', 1), ('\"amitabh\".however,', 1), (\"birju's\", 1), ('bania', 1), ('fleeced', 1), ('odiously', 1), ('toiled', 1), ('debt.it', 1), ('lala', 1), ('rapacious', 1), ('lender),', 1), ('lender,', 1), ('benefit/advantage', 1), ('order.besides,', 1), ('faredoon', 1), ('silhouetted', 1), ('serpents,monsters', 1), ('dragon-', 1), ('use.in', 1), (\"1500's,\", 1), ('monsters-which', 1), ('march.the', 1), ('sterling.', 1), ('1503', 1), ('bit).however............however.............everything', 1), ('movie.forgive', 1), ('screen-so', 1), ('unwatchable.yes', 1)]\n"
          ]
        }
      ]
    },
    {
      "cell_type": "markdown",
      "metadata": {
        "id": "01cc02bc-4787-4a1f-abb1-67885c852fb1"
      },
      "source": [
        "### preprocessing"
      ],
      "id": "01cc02bc-4787-4a1f-abb1-67885c852fb1"
    },
    {
      "cell_type": "code",
      "metadata": {
        "execution": {
          "iopub.execute_input": "2021-11-29T19:28:06.265435Z",
          "iopub.status.busy": "2021-11-29T19:28:06.265435Z",
          "iopub.status.idle": "2021-11-29T19:28:06.280396Z",
          "shell.execute_reply": "2021-11-29T19:28:06.279432Z",
          "shell.execute_reply.started": "2021-11-29T19:28:06.265435Z"
        },
        "tags": [],
        "colab": {
          "base_uri": "https://localhost:8080/"
        },
        "id": "114edebb-0e6d-4630-96ac-649810be14d6",
        "outputId": "779e46b6-d913-4f10-88c2-1c2d6226bfce"
      },
      "source": [
        "stop_words = set(['i', 'me', 'my', 'myself', 'we', 'our', 'ours', 'ourselves', 'you', 'your', 'yours', 'yourself', 'yourselves', 'he', 'him', 'his', 'himself', 'she', 'her', 'hers', 'herself', 'it', \"it's\", 'its', 'itself', 'they', 'them', 'their', 'theirs', 'themselves', 'what', 'which', 'who', 'whom', 'this', 'that', 'these', 'those', 'am', 'is', 'are', 'was', 'were', 'be', 'a', 'an', 'the', 'and', 'd', 'll', 'm', 'o', 're', 've', 'y'])\n",
        "\n",
        "len(stop_words)"
      ],
      "id": "114edebb-0e6d-4630-96ac-649810be14d6",
      "execution_count": null,
      "outputs": [
        {
          "output_type": "execute_result",
          "data": {
            "text/plain": [
              "55"
            ]
          },
          "metadata": {},
          "execution_count": 72
        }
      ]
    },
    {
      "cell_type": "code",
      "metadata": {
        "execution": {
          "iopub.execute_input": "2021-11-29T20:45:45.221395Z",
          "iopub.status.busy": "2021-11-29T20:45:45.220371Z",
          "iopub.status.idle": "2021-11-29T20:45:45.234384Z",
          "shell.execute_reply": "2021-11-29T20:45:45.233386Z",
          "shell.execute_reply.started": "2021-11-29T20:45:45.221395Z"
        },
        "tags": [],
        "id": "d517213a-ab1c-4010-8b6b-001beee2600b"
      },
      "source": [
        "# clean data\n",
        "def preprocess_text(text):\n",
        "    # remove - and _ and : by space\n",
        "    text = re.sub(\"[\\-_:]\", \" \", text)\n",
        "\n",
        "    # remove extra spaces\n",
        "    text = re.sub(\"\\s+\", \" \", text)\n",
        "\n",
        "    # remove chars other than a-z, A-Z and 0-9\n",
        "    text = re.sub(\"[^a-z0-9& ]\", \"\", text.lower())\n",
        "    \n",
        "    text = \" \".join([w for w in text.split() if w not in stop_words])\n",
        "    return text"
      ],
      "id": "d517213a-ab1c-4010-8b6b-001beee2600b",
      "execution_count": null,
      "outputs": []
    },
    {
      "cell_type": "code",
      "metadata": {
        "execution": {
          "iopub.execute_input": "2021-11-29T20:45:46.839306Z",
          "iopub.status.busy": "2021-11-29T20:45:46.839306Z",
          "iopub.status.idle": "2021-11-29T20:45:46.861400Z",
          "shell.execute_reply": "2021-11-29T20:45:46.860061Z",
          "shell.execute_reply.started": "2021-11-29T20:45:46.839306Z"
        },
        "tags": [],
        "colab": {
          "base_uri": "https://localhost:8080/"
        },
        "id": "b4760369-c11a-49d6-a70b-d38eca925aca",
        "outputId": "c4a9f11c-8996-4a77-9997-e3c2dda29f21"
      },
      "source": [
        "text = df_review_data.iloc[0].review_title + \"\\n\" + df_review_data.iloc[0].review\n",
        "print(text, end=\"\\n\\n\")\n",
        "\n",
        "print(preprocess_text(text))"
      ],
      "id": "b4760369-c11a-49d6-a70b-d38eca925aca",
      "execution_count": null,
      "outputs": [
        {
          "output_type": "stream",
          "name": "stdout",
          "text": [
            "There's Not One Thing Wrong with This Film\n",
            "If you think a three-hour Japanese movie from the mid-50s about an ancient time in history sounds like one big snoozer, you'd be right. It SOUNDS like a snoozer. But just sit down to watch this film, and you'll realize how wrong you are. \"Seven Samurai\" is one of the most exciting, suspenseful films I've ever seen, and the running time passed so quickly that I wasn't even ready for the film to be over. I've watched T.V. sitcoms that felt longer.Akira Kurosawa displays utter mastery of every aspect of cinema. There's not a flaw in this film: it's flawlessly acted, paced, edited, composed, scored. It's an action film for thinking people, one that more than holds its own against any movie released today.Astoundingly good.Grade: A+\n",
            "\n",
            "theres not one thing wrong with film if think three hour japanese movie from mid 50s about ancient time in history sounds like one big snoozer youd right sounds like snoozer but just sit down to watch film youll realize how wrong seven samurai one of most exciting suspenseful films ive ever seen running time passed so quickly wasnt even ready for film to over ive watched tv sitcoms felt longerakira kurosawa displays utter mastery of every aspect of cinema theres not flaw in film flawlessly acted paced edited composed scored action film for thinking people one more than holds own against any movie released todayastoundingly goodgrade\n"
          ]
        }
      ]
    },
    {
      "cell_type": "code",
      "metadata": {
        "execution": {
          "iopub.execute_input": "2021-11-29T19:28:10.741980Z",
          "iopub.status.busy": "2021-11-29T19:28:10.741980Z",
          "iopub.status.idle": "2021-11-29T19:28:10.767078Z",
          "shell.execute_reply": "2021-11-29T19:28:10.765749Z",
          "shell.execute_reply.started": "2021-11-29T19:28:10.741980Z"
        },
        "tags": [],
        "colab": {
          "base_uri": "https://localhost:8080/"
        },
        "id": "03b1c8ac-821d-46b6-8d45-06a3c8480508",
        "outputId": "de76dc3f-8e24-4a50-be9b-362a85ebf179"
      },
      "source": [
        "text = df_review_data.iloc[10].review_title + \"\\n\" + df_review_data.iloc[10].review\n",
        "print(text, end=\"\\n\\n\")\n",
        "\n",
        "print(preprocess_text(text))"
      ],
      "id": "03b1c8ac-821d-46b6-8d45-06a3c8480508",
      "execution_count": null,
      "outputs": [
        {
          "output_type": "stream",
          "name": "stdout",
          "text": [
            "A fine realistic film with sincere performances, falling short of the huge expectations raised by the media.\n",
            "Revealing the basic review, where at one end MASAAN does turn out to be a fine, worth watching film as a powerful debut of director Neeraj Ghaywan, capturing the basic essence of Banaras representing life and death together, at the other it doesn't offer anything outstandingly new in terms of the basic story content and isn't able to shake you well as expected from a film majorly focusing on DEATH.Putting it bluntly, the standing ovation from the foreign audience as well as from a particular section of Indian festival viewers, was probably just because of the extensive 'burning ghats' shots and sequences shown in the film for the first time ever in such details. Exactly similar to many of those early Ismail Merchant movies that used to exploit the Indian cities, its local people, traditional rituals, caste-system, suppression of women and poverty on screen winning over the influential western audience for the obvious reasons.As a matter of fact, my above conclusion got confirmed, when I found many of the co-viewers walking out of the theater talking with each other in terms of, \"It's good no doubt, but.. that's it.. jitna suna tha utni nahin thi\". Straight away pointing towards the humongous expectations raised by the several news reports, tweets, FB posts and videos posted at social network about those 'standing ovations'. Perhaps in absence of them all, MASAAN could have impressed a lot more, making a surprising impact bridging the gap between the mainstream and festival cinema as desired.Anyway moving on to the film, it presents two different story lines running parallel to each other that finally meet at a mutual point in the end, representing the 'Sangam' - a progression we have earlier witnessed several times before in various films. Thankfully, the interesting insertions in this familiar setup remain 'many' ranging from 'young mind's excitement over sex', 'mms curse', 'police corruption' and 'underemployment of educated girls' (in the story related with Sanjay Mishra and Richa Chaddha) to 'soft inter- caste romance', 'role of Facebook in an affair', 'mention of many renowned Indian poets' and 'extensive coverage of burning ghats' (in the second plot revolving around Vicky Kaushal and Shweta Tripathi).Focusing on 'hope' guiding every single character in its script, the major strength of MASAAN (a local spoken word denoting 'Shamshaan') becomes its rare picturisation of Banaras like never before, with bodies being burnt by the 'masaanis' following their daily hard routine, breaking skulls as the traditional ritual setting the spirits free and the 'pandas' making an earning by supposedly reaching and feeding the already dead as per the ages old religious customs. So here we have an entirely different city of Banaras/Varanasi/Kashi that is not the usual tourist destination or 'the holy town' normally seen in our movies till date.But since the film offers all these emotionally moving and worth experiencing sequences post intermission only, therefore it just remains a sweet, realistic take on relationships in the entire first half that actually restricts its overall impact on the viewers as mentioned before. In other words, beginning with an otherwise shocking 'hotel scene' involving a young sexually excited couple, MASAAN takes some time to pull you in and then makes a decent impression in the end with a better second half like a sweet that tastes the best as it ends.Apart from that, the most significant contribution of MASAAN for the younger generation happens to be the inclusion of respected names of Dushyant Kumar, Nida Fazli, Akbar Allahabadi, Bashir Badr, Brij Narayan Chakbast and more that many might not have even heard before like the hero of the film trying to impress his chosen girl with a song from film QAYAMAT SE QAYAMAT TAK. And with such inclusions MASAAN does fulfill the responsibility of good cinema introducing the current generation with all our masters of the past as required. In its worth listening soundtrack, Varun Grover writes meaningful lyrics and Indian Ocean comes up with a beautiful composition of \"Tu Kisi Rail Si Guzarti Hai\" sung by Swanand Kirkire (adapted from a ghazal by Dushyant Kumar) along with 'Mann Kasturi' and 'Bhor'. Giving the much deserving credit to another substantial merit of MASAAN, it's the cinematography of the film capturing Varanasi and DEATH together with a completely different vision by Avinash Arun (the director of award winning Marathi film KILLA). And Avinash's silent camera indeed makes a lot of difference to the end result of the product, unarguably.In the acting department, we once again have Sanjay Mishra excelling in his effortless act of a helpless poor father scoring the maximum and its really a treat to watch his every scene in the film, especially the ones with the small kid. Richa Chaddha tries hard to put up a good show and delivers to a large extent but its Vicky Kaushal and Shweta Tripathi who remain completely natural and adorable in their respective parts with Shweta winning every heart in the theater in just a few scenes through her innocent looks and intelligent talks. As usual the talented Pankaj Tripathi makes his presence felt in a small cameo coming in the film's second hour. And not to forget the little 'diver' kid, who frankly comes up with the most moving sequence of the film while trying to win the big race for his old man.In all, MASAAN surely deserves to be seen as a must because of its unusual execution revolving around the burning ghats and all realistic characters emoting well on screen pointing towards our known social curses still continuing as it is from hundreds of years. Yet as a film specifically focusing on DEATH, I personally found it much less hard hitting, missing that instant emotional connect and 'cinematic power of transforming the viewer', to be honest.\n",
            "\n",
            "fine realistic film with sincere performances falling short of huge expectations raised by media revealing basic review where at one end masaan does turn out to fine worth watching film as powerful debut of director neeraj ghaywan capturing basic essence of banaras representing life death together at other doesnt offer anything outstandingly new in terms of basic story content isnt able to shake well as expected from film majorly focusing on deathputting bluntly standing ovation from foreign audience as well as from particular section of indian festival viewers probably just because of extensive burning ghats shots sequences shown in film for first time ever in such details exactly similar to many of early ismail merchant movies used to exploit indian cities local people traditional rituals caste system suppression of women poverty on screen winning over influential western audience for obvious reasonsas matter of fact above conclusion got confirmed when found many of co viewers walking out of theater talking with each other in terms of good no doubt but thats jitna suna tha utni nahin thi straight away pointing towards humongous expectations raised by several news reports tweets fb posts videos posted at social network about standing ovations perhaps in absence of all masaan could have impressed lot more making surprising impact bridging gap between mainstream festival cinema as desiredanyway moving on to film presents two different story lines running parallel to each other finally meet at mutual point in end representing sangam progression have earlier witnessed several times before in various films thankfully interesting insertions in familiar setup remain many ranging from young minds excitement over sex mms curse police corruption underemployment of educated girls in story related with sanjay mishra richa chaddha to soft inter caste romance role of facebook in affair mention of many renowned indian poets extensive coverage of burning ghats in second plot revolving around vicky kaushal shweta tripathifocusing on hope guiding every single character in script major strength of masaan local spoken word denoting shamshaan becomes rare picturisation of banaras like never before with bodies being burnt by masaanis following daily hard routine breaking skulls as traditional ritual setting spirits free pandas making earning by supposedly reaching feeding already dead as per ages old religious customs so here have entirely different city of banarasvaranasikashi not usual tourist destination or holy town normally seen in movies till datebut since film offers all emotionally moving worth experiencing sequences post intermission only therefore just remains sweet realistic take on relationships in entire first half actually restricts overall impact on viewers as mentioned before in other words beginning with otherwise shocking hotel scene involving young sexually excited couple masaan takes some time to pull in then makes decent impression in end with better second half like sweet tastes best as endsapart from most significant contribution of masaan for younger generation happens to inclusion of respected names of dushyant kumar nida fazli akbar allahabadi bashir badr brij narayan chakbast more many might not have even heard before like hero of film trying to impress chosen girl with song from film qayamat se qayamat tak with such inclusions masaan does fulfill responsibility of good cinema introducing current generation with all masters of past as required in worth listening soundtrack varun grover writes meaningful lyrics indian ocean comes up with beautiful composition of tu kisi rail si guzarti hai sung by swanand kirkire adapted from ghazal by dushyant kumar along with mann kasturi bhor giving much deserving credit to another substantial merit of masaan cinematography of film capturing varanasi death together with completely different vision by avinash arun director of award winning marathi film killa avinashs silent camera indeed makes lot of difference to end result of product unarguablyin acting department once again have sanjay mishra excelling in effortless act of helpless poor father scoring maximum really treat to watch every scene in film especially ones with small kid richa chaddha tries hard to put up good show delivers to large extent but vicky kaushal shweta tripathi remain completely natural adorable in respective parts with shweta winning every heart in theater in just few scenes through innocent looks intelligent talks as usual talented pankaj tripathi makes presence felt in small cameo coming in films second hour not to forget little diver kid frankly comes up with most moving sequence of film while trying to win big race for old manin all masaan surely deserves to seen as must because of unusual execution revolving around burning ghats all realistic characters emoting well on screen pointing towards known social curses still continuing as from hundreds of years yet as film specifically focusing on death personally found much less hard hitting missing instant emotional connect cinematic power of transforming viewer to honest\n"
          ]
        }
      ]
    },
    {
      "cell_type": "code",
      "metadata": {
        "execution": {
          "iopub.execute_input": "2021-11-29T21:01:05.925185Z",
          "iopub.status.busy": "2021-11-29T21:01:05.925185Z",
          "iopub.status.idle": "2021-11-29T21:01:07.330445Z",
          "shell.execute_reply": "2021-11-29T21:01:07.329426Z",
          "shell.execute_reply.started": "2021-11-29T21:01:05.925185Z"
        },
        "tags": [],
        "colab": {
          "base_uri": "https://localhost:8080/",
          "height": 573
        },
        "id": "a213a9ff-6add-4dcf-8314-cebd049612e8",
        "outputId": "d52053db-9208-4539-8eed-5492c3aac697"
      },
      "source": [
        "df_review_data[\"review_processed\"] = df_review_data.apply(lambda x: preprocess_text(x.review_title + \"\\n\" + x.review), axis=1)\n",
        "df_review_data.head()"
      ],
      "id": "a213a9ff-6add-4dcf-8314-cebd049612e8",
      "execution_count": null,
      "outputs": [
        {
          "output_type": "execute_result",
          "data": {
            "text/html": [
              "<div>\n",
              "<style scoped>\n",
              "    .dataframe tbody tr th:only-of-type {\n",
              "        vertical-align: middle;\n",
              "    }\n",
              "\n",
              "    .dataframe tbody tr th {\n",
              "        vertical-align: top;\n",
              "    }\n",
              "\n",
              "    .dataframe thead th {\n",
              "        text-align: right;\n",
              "    }\n",
              "</style>\n",
              "<table border=\"1\" class=\"dataframe\">\n",
              "  <thead>\n",
              "    <tr style=\"text-align: right;\">\n",
              "      <th></th>\n",
              "      <th>m_id</th>\n",
              "      <th>movie</th>\n",
              "      <th>review_title</th>\n",
              "      <th>review</th>\n",
              "      <th>review_rating</th>\n",
              "      <th>helpful_score</th>\n",
              "      <th>review_perm_link</th>\n",
              "      <th>review_class</th>\n",
              "      <th>review_class_int</th>\n",
              "      <th>review_class_bin</th>\n",
              "      <th>review_class_bin_int</th>\n",
              "      <th>rating</th>\n",
              "      <th>genre</th>\n",
              "      <th>genre_primary</th>\n",
              "      <th>genre_primary_mapped</th>\n",
              "      <th>review_processed</th>\n",
              "    </tr>\n",
              "  </thead>\n",
              "  <tbody>\n",
              "    <tr>\n",
              "      <th>0</th>\n",
              "      <td>0047478</td>\n",
              "      <td>Seven Samurai</td>\n",
              "      <td>There's Not One Thing Wrong with This Film</td>\n",
              "      <td>If you think a three-hour Japanese movie from ...</td>\n",
              "      <td>10/10</td>\n",
              "      <td>13 out of 27 found this helpful.</td>\n",
              "      <td>https://www.imdb.com//review/rw1448252/</td>\n",
              "      <td>good</td>\n",
              "      <td>2</td>\n",
              "      <td>good</td>\n",
              "      <td>1</td>\n",
              "      <td>8.6</td>\n",
              "      <td>[Action, Adventure, Drama]</td>\n",
              "      <td>Action</td>\n",
              "      <td>action</td>\n",
              "      <td>theres not one thing wrong with film if think ...</td>\n",
              "    </tr>\n",
              "    <tr>\n",
              "      <th>1</th>\n",
              "      <td>0118688</td>\n",
              "      <td>Batman &amp; Robin</td>\n",
              "      <td>Bad man, really bad</td>\n",
              "      <td>Oh Dear. Oh Dear.Joel Schumacher had previousl...</td>\n",
              "      <td>1/10</td>\n",
              "      <td>3 out of 5 found this helpful.</td>\n",
              "      <td>https://www.imdb.com//review/rw2841618/</td>\n",
              "      <td>bad</td>\n",
              "      <td>0</td>\n",
              "      <td>bad</td>\n",
              "      <td>0</td>\n",
              "      <td>3.8</td>\n",
              "      <td>[Action, Sci-Fi]</td>\n",
              "      <td>Action</td>\n",
              "      <td>action</td>\n",
              "      <td>bad man really bad oh dear oh dearjoel schumac...</td>\n",
              "    </tr>\n",
              "    <tr>\n",
              "      <th>2</th>\n",
              "      <td>2582802</td>\n",
              "      <td>Whiplash</td>\n",
              "      <td>Sticks And Stones ...</td>\n",
              "      <td>I'm going to aim for a little perspective here...</td>\n",
              "      <td>10/10</td>\n",
              "      <td>3 out of 7 found this helpful.</td>\n",
              "      <td>https://www.imdb.com//review/rw3167982/</td>\n",
              "      <td>good</td>\n",
              "      <td>2</td>\n",
              "      <td>good</td>\n",
              "      <td>1</td>\n",
              "      <td>8.5</td>\n",
              "      <td>[Drama, Music]</td>\n",
              "      <td>Drama</td>\n",
              "      <td>drama</td>\n",
              "      <td>sticks stones im going to aim for little persp...</td>\n",
              "    </tr>\n",
              "    <tr>\n",
              "      <th>3</th>\n",
              "      <td>0118665</td>\n",
              "      <td>Baby Geniuses</td>\n",
              "      <td>About as awful as you'd think</td>\n",
              "      <td>This is one of the most legendary bad movies e...</td>\n",
              "      <td>1/10</td>\n",
              "      <td>5 out of 12 found this helpful.</td>\n",
              "      <td>https://www.imdb.com//review/rw4136680/</td>\n",
              "      <td>bad</td>\n",
              "      <td>0</td>\n",
              "      <td>bad</td>\n",
              "      <td>0</td>\n",
              "      <td>2.9</td>\n",
              "      <td>[Comedy, Crime, Family, Sci-Fi]</td>\n",
              "      <td>Comedy</td>\n",
              "      <td>comedy</td>\n",
              "      <td>about as awful as youd think one of most legen...</td>\n",
              "    </tr>\n",
              "    <tr>\n",
              "      <th>4</th>\n",
              "      <td>0367110</td>\n",
              "      <td>Swades</td>\n",
              "      <td>Way too long for the story it tells</td>\n",
              "      <td>Why is it that Indian filmmakers seem to belie...</td>\n",
              "      <td>4/10</td>\n",
              "      <td>11 out of 38 found this helpful.</td>\n",
              "      <td>https://www.imdb.com//review/rw1061977/</td>\n",
              "      <td>bad</td>\n",
              "      <td>0</td>\n",
              "      <td>bad</td>\n",
              "      <td>0</td>\n",
              "      <td>8.1</td>\n",
              "      <td>[Drama, Musical]</td>\n",
              "      <td>Drama</td>\n",
              "      <td>drama</td>\n",
              "      <td>way too long for story tells why indian filmma...</td>\n",
              "    </tr>\n",
              "  </tbody>\n",
              "</table>\n",
              "</div>"
            ],
            "text/plain": [
              "      m_id  ...                                   review_processed\n",
              "0  0047478  ...  theres not one thing wrong with film if think ...\n",
              "1  0118688  ...  bad man really bad oh dear oh dearjoel schumac...\n",
              "2  2582802  ...  sticks stones im going to aim for little persp...\n",
              "3  0118665  ...  about as awful as youd think one of most legen...\n",
              "4  0367110  ...  way too long for story tells why indian filmma...\n",
              "\n",
              "[5 rows x 16 columns]"
            ]
          },
          "metadata": {},
          "execution_count": 74
        }
      ]
    },
    {
      "cell_type": "markdown",
      "metadata": {
        "id": "eceefe1c-b0ea-4e90-ad4c-6aa744af9df0"
      },
      "source": [
        "### analyze sentence length"
      ],
      "id": "eceefe1c-b0ea-4e90-ad4c-6aa744af9df0"
    },
    {
      "cell_type": "code",
      "metadata": {
        "execution": {
          "iopub.execute_input": "2021-11-29T21:01:10.180989Z",
          "iopub.status.busy": "2021-11-29T21:01:10.179990Z",
          "iopub.status.idle": "2021-11-29T21:01:10.312990Z",
          "shell.execute_reply": "2021-11-29T21:01:10.312027Z",
          "shell.execute_reply.started": "2021-11-29T21:01:10.179990Z"
        },
        "tags": [],
        "colab": {
          "base_uri": "https://localhost:8080/",
          "height": 573
        },
        "id": "4fc3f469-8e32-4a65-aa5f-6b59e7866551",
        "outputId": "bf43e05a-e3d0-4a5f-a2ac-d07386b2fbb9"
      },
      "source": [
        "df_review_data['num_tokens'] = df_review_data['review_processed'].apply(lambda x: len(x.split()))\n",
        "df_review_data.head()"
      ],
      "id": "4fc3f469-8e32-4a65-aa5f-6b59e7866551",
      "execution_count": null,
      "outputs": [
        {
          "output_type": "execute_result",
          "data": {
            "text/html": [
              "<div>\n",
              "<style scoped>\n",
              "    .dataframe tbody tr th:only-of-type {\n",
              "        vertical-align: middle;\n",
              "    }\n",
              "\n",
              "    .dataframe tbody tr th {\n",
              "        vertical-align: top;\n",
              "    }\n",
              "\n",
              "    .dataframe thead th {\n",
              "        text-align: right;\n",
              "    }\n",
              "</style>\n",
              "<table border=\"1\" class=\"dataframe\">\n",
              "  <thead>\n",
              "    <tr style=\"text-align: right;\">\n",
              "      <th></th>\n",
              "      <th>m_id</th>\n",
              "      <th>movie</th>\n",
              "      <th>review_title</th>\n",
              "      <th>review</th>\n",
              "      <th>review_rating</th>\n",
              "      <th>helpful_score</th>\n",
              "      <th>review_perm_link</th>\n",
              "      <th>review_class</th>\n",
              "      <th>review_class_int</th>\n",
              "      <th>review_class_bin</th>\n",
              "      <th>review_class_bin_int</th>\n",
              "      <th>rating</th>\n",
              "      <th>genre</th>\n",
              "      <th>genre_primary</th>\n",
              "      <th>genre_primary_mapped</th>\n",
              "      <th>review_processed</th>\n",
              "      <th>num_tokens</th>\n",
              "    </tr>\n",
              "  </thead>\n",
              "  <tbody>\n",
              "    <tr>\n",
              "      <th>0</th>\n",
              "      <td>0047478</td>\n",
              "      <td>Seven Samurai</td>\n",
              "      <td>There's Not One Thing Wrong with This Film</td>\n",
              "      <td>If you think a three-hour Japanese movie from ...</td>\n",
              "      <td>10/10</td>\n",
              "      <td>13 out of 27 found this helpful.</td>\n",
              "      <td>https://www.imdb.com//review/rw1448252/</td>\n",
              "      <td>good</td>\n",
              "      <td>2</td>\n",
              "      <td>good</td>\n",
              "      <td>1</td>\n",
              "      <td>8.6</td>\n",
              "      <td>[Action, Adventure, Drama]</td>\n",
              "      <td>Action</td>\n",
              "      <td>action</td>\n",
              "      <td>theres not one thing wrong with film if think ...</td>\n",
              "      <td>107</td>\n",
              "    </tr>\n",
              "    <tr>\n",
              "      <th>1</th>\n",
              "      <td>0118688</td>\n",
              "      <td>Batman &amp; Robin</td>\n",
              "      <td>Bad man, really bad</td>\n",
              "      <td>Oh Dear. Oh Dear.Joel Schumacher had previousl...</td>\n",
              "      <td>1/10</td>\n",
              "      <td>3 out of 5 found this helpful.</td>\n",
              "      <td>https://www.imdb.com//review/rw2841618/</td>\n",
              "      <td>bad</td>\n",
              "      <td>0</td>\n",
              "      <td>bad</td>\n",
              "      <td>0</td>\n",
              "      <td>3.8</td>\n",
              "      <td>[Action, Sci-Fi]</td>\n",
              "      <td>Action</td>\n",
              "      <td>action</td>\n",
              "      <td>bad man really bad oh dear oh dearjoel schumac...</td>\n",
              "      <td>181</td>\n",
              "    </tr>\n",
              "    <tr>\n",
              "      <th>2</th>\n",
              "      <td>2582802</td>\n",
              "      <td>Whiplash</td>\n",
              "      <td>Sticks And Stones ...</td>\n",
              "      <td>I'm going to aim for a little perspective here...</td>\n",
              "      <td>10/10</td>\n",
              "      <td>3 out of 7 found this helpful.</td>\n",
              "      <td>https://www.imdb.com//review/rw3167982/</td>\n",
              "      <td>good</td>\n",
              "      <td>2</td>\n",
              "      <td>good</td>\n",
              "      <td>1</td>\n",
              "      <td>8.5</td>\n",
              "      <td>[Drama, Music]</td>\n",
              "      <td>Drama</td>\n",
              "      <td>drama</td>\n",
              "      <td>sticks stones im going to aim for little persp...</td>\n",
              "      <td>373</td>\n",
              "    </tr>\n",
              "    <tr>\n",
              "      <th>3</th>\n",
              "      <td>0118665</td>\n",
              "      <td>Baby Geniuses</td>\n",
              "      <td>About as awful as you'd think</td>\n",
              "      <td>This is one of the most legendary bad movies e...</td>\n",
              "      <td>1/10</td>\n",
              "      <td>5 out of 12 found this helpful.</td>\n",
              "      <td>https://www.imdb.com//review/rw4136680/</td>\n",
              "      <td>bad</td>\n",
              "      <td>0</td>\n",
              "      <td>bad</td>\n",
              "      <td>0</td>\n",
              "      <td>2.9</td>\n",
              "      <td>[Comedy, Crime, Family, Sci-Fi]</td>\n",
              "      <td>Comedy</td>\n",
              "      <td>comedy</td>\n",
              "      <td>about as awful as youd think one of most legen...</td>\n",
              "      <td>228</td>\n",
              "    </tr>\n",
              "    <tr>\n",
              "      <th>4</th>\n",
              "      <td>0367110</td>\n",
              "      <td>Swades</td>\n",
              "      <td>Way too long for the story it tells</td>\n",
              "      <td>Why is it that Indian filmmakers seem to belie...</td>\n",
              "      <td>4/10</td>\n",
              "      <td>11 out of 38 found this helpful.</td>\n",
              "      <td>https://www.imdb.com//review/rw1061977/</td>\n",
              "      <td>bad</td>\n",
              "      <td>0</td>\n",
              "      <td>bad</td>\n",
              "      <td>0</td>\n",
              "      <td>8.1</td>\n",
              "      <td>[Drama, Musical]</td>\n",
              "      <td>Drama</td>\n",
              "      <td>drama</td>\n",
              "      <td>way too long for story tells why indian filmma...</td>\n",
              "      <td>445</td>\n",
              "    </tr>\n",
              "  </tbody>\n",
              "</table>\n",
              "</div>"
            ],
            "text/plain": [
              "      m_id  ... num_tokens\n",
              "0  0047478  ...        107\n",
              "1  0118688  ...        181\n",
              "2  2582802  ...        373\n",
              "3  0118665  ...        228\n",
              "4  0367110  ...        445\n",
              "\n",
              "[5 rows x 17 columns]"
            ]
          },
          "metadata": {},
          "execution_count": 75
        }
      ]
    },
    {
      "cell_type": "code",
      "metadata": {
        "colab": {
          "base_uri": "https://localhost:8080/",
          "height": 248
        },
        "id": "iZPL3kwoRqCM",
        "outputId": "486cf145-e724-49df-c61e-3b8782612372"
      },
      "source": [
        "df_review_data[cols + ['review_processed', 'num_tokens']].sample(3)"
      ],
      "id": "iZPL3kwoRqCM",
      "execution_count": null,
      "outputs": [
        {
          "output_type": "execute_result",
          "data": {
            "text/html": [
              "<div>\n",
              "<style scoped>\n",
              "    .dataframe tbody tr th:only-of-type {\n",
              "        vertical-align: middle;\n",
              "    }\n",
              "\n",
              "    .dataframe tbody tr th {\n",
              "        vertical-align: top;\n",
              "    }\n",
              "\n",
              "    .dataframe thead th {\n",
              "        text-align: right;\n",
              "    }\n",
              "</style>\n",
              "<table border=\"1\" class=\"dataframe\">\n",
              "  <thead>\n",
              "    <tr style=\"text-align: right;\">\n",
              "      <th></th>\n",
              "      <th>movie</th>\n",
              "      <th>rating</th>\n",
              "      <th>genre_primary_mapped</th>\n",
              "      <th>review_title</th>\n",
              "      <th>review</th>\n",
              "      <th>review_rating</th>\n",
              "      <th>review_class_bin</th>\n",
              "      <th>review_processed</th>\n",
              "      <th>num_tokens</th>\n",
              "    </tr>\n",
              "  </thead>\n",
              "  <tbody>\n",
              "    <tr>\n",
              "      <th>5293</th>\n",
              "      <td>Three Billboards Outside Ebbing, Missouri</td>\n",
              "      <td>8.1</td>\n",
              "      <td>comedy</td>\n",
              "      <td>Searching for ... aka the truth is out there</td>\n",
              "      <td>We know in real life that it's not easy to sol...</td>\n",
              "      <td>10/10</td>\n",
              "      <td>good</td>\n",
              "      <td>searching for aka truth out there know in real...</td>\n",
              "      <td>105</td>\n",
              "    </tr>\n",
              "    <tr>\n",
              "      <th>5327</th>\n",
              "      <td>Radhe</td>\n",
              "      <td>2.4</td>\n",
              "      <td>action</td>\n",
              "      <td>No Less Than a Torment!</td>\n",
              "      <td>An official remake of Korean Thriller 'The Out...</td>\n",
              "      <td>2/10</td>\n",
              "      <td>bad</td>\n",
              "      <td>no less than torment official remake of korean...</td>\n",
              "      <td>380</td>\n",
              "    </tr>\n",
              "    <tr>\n",
              "      <th>5577</th>\n",
              "      <td>Anbe Sivam</td>\n",
              "      <td>8.5</td>\n",
              "      <td>adventure</td>\n",
              "      <td>100% Magic!</td>\n",
              "      <td>If you want to know the intensity of tamil cin...</td>\n",
              "      <td>10/10</td>\n",
              "      <td>good</td>\n",
              "      <td>100 magic if want to know intensity of tamil c...</td>\n",
              "      <td>45</td>\n",
              "    </tr>\n",
              "  </tbody>\n",
              "</table>\n",
              "</div>"
            ],
            "text/plain": [
              "                                          movie  ... num_tokens\n",
              "5293  Three Billboards Outside Ebbing, Missouri  ...        105\n",
              "5327                                      Radhe  ...        380\n",
              "5577                                 Anbe Sivam  ...         45\n",
              "\n",
              "[3 rows x 9 columns]"
            ]
          },
          "metadata": {},
          "execution_count": 78
        }
      ]
    },
    {
      "cell_type": "code",
      "metadata": {
        "execution": {
          "iopub.execute_input": "2021-11-29T20:54:30.187043Z",
          "iopub.status.busy": "2021-11-29T20:54:30.187043Z",
          "iopub.status.idle": "2021-11-29T20:54:30.211042Z",
          "shell.execute_reply": "2021-11-29T20:54:30.210083Z",
          "shell.execute_reply.started": "2021-11-29T20:54:30.187043Z"
        },
        "tags": [],
        "id": "638c5a86-0670-421a-b107-a8bccecc96cd",
        "outputId": "6c20ec61-0e5c-4870-84e9-9557c55921fe"
      },
      "source": [
        "# stats for num length \n",
        "df_review_data['num_tokens'] .describe()"
      ],
      "id": "638c5a86-0670-421a-b107-a8bccecc96cd",
      "execution_count": null,
      "outputs": [
        {
          "data": {
            "text/plain": [
              "count    7500.000000\n",
              "mean      208.434933\n",
              "std       170.082725\n",
              "min         6.000000\n",
              "25%        96.000000\n",
              "50%       164.000000\n",
              "75%       272.000000\n",
              "max      1326.000000\n",
              "Name: num_tokens, dtype: float64"
            ]
          },
          "execution_count": 179,
          "metadata": {},
          "output_type": "execute_result"
        }
      ]
    },
    {
      "cell_type": "code",
      "metadata": {
        "execution": {
          "iopub.execute_input": "2021-11-29T19:29:35.944918Z",
          "iopub.status.busy": "2021-11-29T19:29:35.944918Z",
          "iopub.status.idle": "2021-11-29T19:29:36.143126Z",
          "shell.execute_reply": "2021-11-29T19:29:36.143126Z",
          "shell.execute_reply.started": "2021-11-29T19:29:35.944918Z"
        },
        "tags": [],
        "id": "c1160617-bdf1-4062-9c44-686f1aea558c",
        "outputId": "00d48176-86c0-4fd7-ff0c-e0fae51d959c"
      },
      "source": [
        "df_review_data.num_tokens.hist(bins = range(0, 1000, 50), figsize = (10, 6))"
      ],
      "id": "c1160617-bdf1-4062-9c44-686f1aea558c",
      "execution_count": null,
      "outputs": [
        {
          "data": {
            "text/plain": [
              "<matplotlib.axes._subplots.AxesSubplot at 0x1ff8c2760d0>"
            ]
          },
          "execution_count": 32,
          "metadata": {},
          "output_type": "execute_result"
        },
        {
          "data": {
            "image/png": "[encoded data removed]",
            "text/plain": [
              "<Figure size 720x432 with 1 Axes>"
            ]
          },
          "metadata": {
            "needs_background": "light"
          },
          "output_type": "display_data"
        }
      ]
    },
    {
      "cell_type": "code",
      "metadata": {
        "execution": {
          "iopub.execute_input": "2021-11-29T20:54:32.108194Z",
          "iopub.status.busy": "2021-11-29T20:54:32.108194Z",
          "iopub.status.idle": "2021-11-29T20:54:32.137248Z",
          "shell.execute_reply": "2021-11-29T20:54:32.136232Z",
          "shell.execute_reply.started": "2021-11-29T20:54:32.108194Z"
        },
        "tags": [],
        "colab": {
          "base_uri": "https://localhost:8080/"
        },
        "id": "368db465-06ce-4f6d-bce0-daab92efe793",
        "outputId": "cf873420-7b78-4e64-e58b-16d305551df6"
      },
      "source": [
        "# number of tokens with fequency >= 5\n",
        "sent_lengths = df_review_data.num_tokens.tolist()\n",
        "\n",
        "for l in [2, 5, 10, 20, 30, 50, 100, 150, 200, 300, 400, 500, 1000]:\n",
        "    temp = [s_len for s_len in sent_lengths if s_len > l]\n",
        "    print(f\"num of sent with tokens >={l}: \", len(temp))"
      ],
      "id": "368db465-06ce-4f6d-bce0-daab92efe793",
      "execution_count": null,
      "outputs": [
        {
          "output_type": "stream",
          "name": "stdout",
          "text": [
            "num of sent with tokens >=2:  7500\n",
            "num of sent with tokens >=5:  7500\n",
            "num of sent with tokens >=10:  7433\n",
            "num of sent with tokens >=20:  7124\n",
            "num of sent with tokens >=30:  6858\n",
            "num of sent with tokens >=50:  6481\n",
            "num of sent with tokens >=100:  5479\n",
            "num of sent with tokens >=150:  4074\n",
            "num of sent with tokens >=200:  2998\n",
            "num of sent with tokens >=300:  1560\n",
            "num of sent with tokens >=400:  874\n",
            "num of sent with tokens >=500:  524\n",
            "num of sent with tokens >=1000:  17\n"
          ]
        }
      ]
    },
    {
      "cell_type": "code",
      "metadata": {
        "execution": {
          "iopub.execute_input": "2021-11-29T20:46:01.613327Z",
          "iopub.status.busy": "2021-11-29T20:46:01.612332Z",
          "iopub.status.idle": "2021-11-29T20:46:01.643625Z",
          "shell.execute_reply": "2021-11-29T20:46:01.643200Z",
          "shell.execute_reply.started": "2021-11-29T20:46:01.613327Z"
        },
        "tags": [],
        "colab": {
          "base_uri": "https://localhost:8080/",
          "height": 206
        },
        "id": "6b01139b-9d64-4641-bf07-eb4a0dacbc52",
        "outputId": "0169ae8b-a104-496c-b143-aac57f2473b7"
      },
      "source": [
        "# average length per class\n",
        "df_review_data.groupby(\"review_class\").agg({'num_tokens': ['min', 'max', 'median', 'mean', 'std']})"
      ],
      "id": "6b01139b-9d64-4641-bf07-eb4a0dacbc52",
      "execution_count": null,
      "outputs": [
        {
          "output_type": "execute_result",
          "data": {
            "text/html": [
              "<div>\n",
              "<style scoped>\n",
              "    .dataframe tbody tr th:only-of-type {\n",
              "        vertical-align: middle;\n",
              "    }\n",
              "\n",
              "    .dataframe tbody tr th {\n",
              "        vertical-align: top;\n",
              "    }\n",
              "\n",
              "    .dataframe thead tr th {\n",
              "        text-align: left;\n",
              "    }\n",
              "\n",
              "    .dataframe thead tr:last-of-type th {\n",
              "        text-align: right;\n",
              "    }\n",
              "</style>\n",
              "<table border=\"1\" class=\"dataframe\">\n",
              "  <thead>\n",
              "    <tr>\n",
              "      <th></th>\n",
              "      <th colspan=\"5\" halign=\"left\">num_tokens</th>\n",
              "    </tr>\n",
              "    <tr>\n",
              "      <th></th>\n",
              "      <th>min</th>\n",
              "      <th>max</th>\n",
              "      <th>median</th>\n",
              "      <th>mean</th>\n",
              "      <th>std</th>\n",
              "    </tr>\n",
              "    <tr>\n",
              "      <th>review_class</th>\n",
              "      <th></th>\n",
              "      <th></th>\n",
              "      <th></th>\n",
              "      <th></th>\n",
              "      <th></th>\n",
              "    </tr>\n",
              "  </thead>\n",
              "  <tbody>\n",
              "    <tr>\n",
              "      <th>average</th>\n",
              "      <td>8</td>\n",
              "      <td>1326</td>\n",
              "      <td>174.0</td>\n",
              "      <td>220.605500</td>\n",
              "      <td>180.525548</td>\n",
              "    </tr>\n",
              "    <tr>\n",
              "      <th>bad</th>\n",
              "      <td>6</td>\n",
              "      <td>1173</td>\n",
              "      <td>158.5</td>\n",
              "      <td>201.744400</td>\n",
              "      <td>162.846444</td>\n",
              "    </tr>\n",
              "    <tr>\n",
              "      <th>good</th>\n",
              "      <td>7</td>\n",
              "      <td>1212</td>\n",
              "      <td>162.0</td>\n",
              "      <td>205.896667</td>\n",
              "      <td>168.439615</td>\n",
              "    </tr>\n",
              "  </tbody>\n",
              "</table>\n",
              "</div>"
            ],
            "text/plain": [
              "             num_tokens                                     \n",
              "                    min   max median        mean         std\n",
              "review_class                                                \n",
              "average               8  1326  174.0  220.605500  180.525548\n",
              "bad                   6  1173  158.5  201.744400  162.846444\n",
              "good                  7  1212  162.0  205.896667  168.439615"
            ]
          },
          "metadata": {},
          "execution_count": 28
        }
      ]
    },
    {
      "cell_type": "code",
      "metadata": {
        "execution": {
          "iopub.execute_input": "2021-11-29T20:46:03.354616Z",
          "iopub.status.busy": "2021-11-29T20:46:03.354616Z",
          "iopub.status.idle": "2021-11-29T20:46:03.386604Z",
          "shell.execute_reply": "2021-11-29T20:46:03.385618Z",
          "shell.execute_reply.started": "2021-11-29T20:46:03.354616Z"
        },
        "tags": [],
        "id": "71ec511a-03d2-47a2-b3a5-dafd249495ce",
        "outputId": "9fb57ad4-8028-4199-e447-6eeb59a2b8d7"
      },
      "source": [
        "# average length per class\n",
        "df_review_data.groupby(\"review_class_bin\").agg({'num_tokens': ['min', 'max', 'median', 'mean', 'std']})"
      ],
      "id": "71ec511a-03d2-47a2-b3a5-dafd249495ce",
      "execution_count": null,
      "outputs": [
        {
          "data": {
            "text/html": [
              "<div>\n",
              "<style scoped>\n",
              "    .dataframe tbody tr th:only-of-type {\n",
              "        vertical-align: middle;\n",
              "    }\n",
              "\n",
              "    .dataframe tbody tr th {\n",
              "        vertical-align: top;\n",
              "    }\n",
              "\n",
              "    .dataframe thead tr th {\n",
              "        text-align: left;\n",
              "    }\n",
              "\n",
              "    .dataframe thead tr:last-of-type th {\n",
              "        text-align: right;\n",
              "    }\n",
              "</style>\n",
              "<table border=\"1\" class=\"dataframe\">\n",
              "  <thead>\n",
              "    <tr>\n",
              "      <th></th>\n",
              "      <th colspan=\"5\" halign=\"left\">num_tokens</th>\n",
              "    </tr>\n",
              "    <tr>\n",
              "      <th></th>\n",
              "      <th>min</th>\n",
              "      <th>max</th>\n",
              "      <th>median</th>\n",
              "      <th>mean</th>\n",
              "      <th>std</th>\n",
              "    </tr>\n",
              "    <tr>\n",
              "      <th>review_class_bin</th>\n",
              "      <th></th>\n",
              "      <th></th>\n",
              "      <th></th>\n",
              "      <th></th>\n",
              "      <th></th>\n",
              "    </tr>\n",
              "  </thead>\n",
              "  <tbody>\n",
              "    <tr>\n",
              "      <th>bad</th>\n",
              "      <td>6</td>\n",
              "      <td>1326</td>\n",
              "      <td>164</td>\n",
              "      <td>211.352651</td>\n",
              "      <td>176.822206</td>\n",
              "    </tr>\n",
              "    <tr>\n",
              "      <th>good</th>\n",
              "      <td>7</td>\n",
              "      <td>1212</td>\n",
              "      <td>164</td>\n",
              "      <td>205.206864</td>\n",
              "      <td>163.604748</td>\n",
              "    </tr>\n",
              "  </tbody>\n",
              "</table>\n",
              "</div>"
            ],
            "text/plain": [
              "                 num_tokens                                     \n",
              "                        min   max median        mean         std\n",
              "review_class_bin                                                \n",
              "bad                       6  1326    164  211.352651  176.822206\n",
              "good                      7  1212    164  205.206864  163.604748"
            ]
          },
          "execution_count": 143,
          "metadata": {},
          "output_type": "execute_result"
        }
      ]
    },
    {
      "cell_type": "code",
      "metadata": {
        "execution": {
          "iopub.execute_input": "2021-11-29T21:01:17.478079Z",
          "iopub.status.busy": "2021-11-29T21:01:17.478079Z",
          "iopub.status.idle": "2021-11-29T21:01:17.501072Z",
          "shell.execute_reply": "2021-11-29T21:01:17.500078Z",
          "shell.execute_reply.started": "2021-11-29T21:01:17.478079Z"
        },
        "tags": [],
        "colab": {
          "base_uri": "https://localhost:8080/",
          "height": 394
        },
        "id": "63b21a08-256e-441f-bbbc-9ae15771bf09",
        "outputId": "682b838d-890c-416f-84fc-ff2f741c3226"
      },
      "source": [
        "# average length per genre\n",
        "df_review_data.groupby(\"genre_primary_mapped\").agg({'num_tokens': ['min', 'max', 'median', 'mean', 'std']})"
      ],
      "id": "63b21a08-256e-441f-bbbc-9ae15771bf09",
      "execution_count": null,
      "outputs": [
        {
          "output_type": "execute_result",
          "data": {
            "text/html": [
              "<div>\n",
              "<style scoped>\n",
              "    .dataframe tbody tr th:only-of-type {\n",
              "        vertical-align: middle;\n",
              "    }\n",
              "\n",
              "    .dataframe tbody tr th {\n",
              "        vertical-align: top;\n",
              "    }\n",
              "\n",
              "    .dataframe thead tr th {\n",
              "        text-align: left;\n",
              "    }\n",
              "\n",
              "    .dataframe thead tr:last-of-type th {\n",
              "        text-align: right;\n",
              "    }\n",
              "</style>\n",
              "<table border=\"1\" class=\"dataframe\">\n",
              "  <thead>\n",
              "    <tr>\n",
              "      <th></th>\n",
              "      <th colspan=\"5\" halign=\"left\">num_tokens</th>\n",
              "    </tr>\n",
              "    <tr>\n",
              "      <th></th>\n",
              "      <th>min</th>\n",
              "      <th>max</th>\n",
              "      <th>median</th>\n",
              "      <th>mean</th>\n",
              "      <th>std</th>\n",
              "    </tr>\n",
              "    <tr>\n",
              "      <th>genre_primary_mapped</th>\n",
              "      <th></th>\n",
              "      <th></th>\n",
              "      <th></th>\n",
              "      <th></th>\n",
              "      <th></th>\n",
              "    </tr>\n",
              "  </thead>\n",
              "  <tbody>\n",
              "    <tr>\n",
              "      <th>action</th>\n",
              "      <td>6</td>\n",
              "      <td>1194</td>\n",
              "      <td>152</td>\n",
              "      <td>192.916254</td>\n",
              "      <td>164.718652</td>\n",
              "    </tr>\n",
              "    <tr>\n",
              "      <th>adventure</th>\n",
              "      <td>8</td>\n",
              "      <td>1283</td>\n",
              "      <td>188</td>\n",
              "      <td>233.311947</td>\n",
              "      <td>167.537433</td>\n",
              "    </tr>\n",
              "    <tr>\n",
              "      <th>animation</th>\n",
              "      <td>9</td>\n",
              "      <td>1013</td>\n",
              "      <td>150</td>\n",
              "      <td>204.610169</td>\n",
              "      <td>166.549294</td>\n",
              "    </tr>\n",
              "    <tr>\n",
              "      <th>biography</th>\n",
              "      <td>10</td>\n",
              "      <td>875</td>\n",
              "      <td>197</td>\n",
              "      <td>236.033058</td>\n",
              "      <td>164.679310</td>\n",
              "    </tr>\n",
              "    <tr>\n",
              "      <th>comedy</th>\n",
              "      <td>8</td>\n",
              "      <td>1212</td>\n",
              "      <td>157</td>\n",
              "      <td>204.860666</td>\n",
              "      <td>169.868020</td>\n",
              "    </tr>\n",
              "    <tr>\n",
              "      <th>drama</th>\n",
              "      <td>8</td>\n",
              "      <td>1326</td>\n",
              "      <td>172</td>\n",
              "      <td>222.545148</td>\n",
              "      <td>183.421608</td>\n",
              "    </tr>\n",
              "    <tr>\n",
              "      <th>horror</th>\n",
              "      <td>13</td>\n",
              "      <td>767</td>\n",
              "      <td>205</td>\n",
              "      <td>237.026738</td>\n",
              "      <td>163.637596</td>\n",
              "    </tr>\n",
              "    <tr>\n",
              "      <th>thriller/crime</th>\n",
              "      <td>8</td>\n",
              "      <td>1179</td>\n",
              "      <td>159</td>\n",
              "      <td>200.181176</td>\n",
              "      <td>159.965029</td>\n",
              "    </tr>\n",
              "    <tr>\n",
              "      <th>western</th>\n",
              "      <td>8</td>\n",
              "      <td>1046</td>\n",
              "      <td>190</td>\n",
              "      <td>241.500000</td>\n",
              "      <td>204.293759</td>\n",
              "    </tr>\n",
              "  </tbody>\n",
              "</table>\n",
              "</div>"
            ],
            "text/plain": [
              "                     num_tokens                                     \n",
              "                            min   max median        mean         std\n",
              "genre_primary_mapped                                                \n",
              "action                        6  1194    152  192.916254  164.718652\n",
              "adventure                     8  1283    188  233.311947  167.537433\n",
              "animation                     9  1013    150  204.610169  166.549294\n",
              "biography                    10   875    197  236.033058  164.679310\n",
              "comedy                        8  1212    157  204.860666  169.868020\n",
              "drama                         8  1326    172  222.545148  183.421608\n",
              "horror                       13   767    205  237.026738  163.637596\n",
              "thriller/crime                8  1179    159  200.181176  159.965029\n",
              "western                       8  1046    190  241.500000  204.293759"
            ]
          },
          "metadata": {},
          "execution_count": 27
        }
      ]
    },
    {
      "cell_type": "markdown",
      "metadata": {
        "id": "beb11ed9-adcc-4458-8172-334b8cafe794"
      },
      "source": [
        "## train/test split"
      ],
      "id": "beb11ed9-adcc-4458-8172-334b8cafe794"
    },
    {
      "cell_type": "code",
      "metadata": {
        "execution": {
          "iopub.execute_input": "2021-11-29T21:01:19.623993Z",
          "iopub.status.busy": "2021-11-29T21:01:19.623993Z",
          "iopub.status.idle": "2021-11-29T21:01:19.654991Z",
          "shell.execute_reply": "2021-11-29T21:01:19.653991Z",
          "shell.execute_reply.started": "2021-11-29T21:01:19.623993Z"
        },
        "tags": [],
        "colab": {
          "base_uri": "https://localhost:8080/"
        },
        "id": "37ab6352-1f0f-4e93-9155-fbfe50496106",
        "outputId": "2bd593ec-dad3-4fe7-b944-6836c8f26d04"
      },
      "source": [
        "# split data into train/test\n",
        "df_train, df_test = train_test_split(df_review_data, test_size=0.20, random_state=SEED)\n",
        "df_train.shape, df_test.shape"
      ],
      "id": "37ab6352-1f0f-4e93-9155-fbfe50496106",
      "execution_count": null,
      "outputs": [
        {
          "output_type": "execute_result",
          "data": {
            "text/plain": [
              "((6000, 18), (1500, 18))"
            ]
          },
          "metadata": {},
          "execution_count": 28
        }
      ]
    },
    {
      "cell_type": "code",
      "metadata": {
        "execution": {
          "iopub.execute_input": "2021-11-29T21:01:21.036146Z",
          "iopub.status.busy": "2021-11-29T21:01:21.035146Z",
          "iopub.status.idle": "2021-11-29T21:01:21.049146Z",
          "shell.execute_reply": "2021-11-29T21:01:21.048145Z",
          "shell.execute_reply.started": "2021-11-29T21:01:21.036146Z"
        },
        "tags": [],
        "colab": {
          "base_uri": "https://localhost:8080/"
        },
        "id": "57c7ba09-f7f8-4a31-a430-4a1575191bf5",
        "outputId": "d06b20bc-b9a3-4e8a-c51d-67e22741bb21"
      },
      "source": [
        "x_train = df_train.review_processed.values\n",
        "y_train = df_train.review_class_int.values\n",
        "\n",
        "x_test = df_test.review_processed.values\n",
        "y_test = df_test.review_class_int.values\n",
        "\n",
        "len(x_train), len(y_train), len(x_test), len(y_test)"
      ],
      "id": "57c7ba09-f7f8-4a31-a430-4a1575191bf5",
      "execution_count": null,
      "outputs": [
        {
          "output_type": "execute_result",
          "data": {
            "text/plain": [
              "(6000, 6000, 1500, 1500)"
            ]
          },
          "metadata": {},
          "execution_count": 29
        }
      ]
    },
    {
      "cell_type": "code",
      "metadata": {
        "execution": {
          "iopub.execute_input": "2021-11-29T21:01:58.973772Z",
          "iopub.status.busy": "2021-11-29T21:01:58.973772Z",
          "iopub.status.idle": "2021-11-29T21:01:58.986783Z",
          "shell.execute_reply": "2021-11-29T21:01:58.985803Z",
          "shell.execute_reply.started": "2021-11-29T21:01:58.973772Z"
        },
        "tags": [],
        "colab": {
          "base_uri": "https://localhost:8080/"
        },
        "id": "ad0e8143-4413-4afb-8cd6-729e94246584",
        "outputId": "5c4bd0d5-c693-446c-a8a1-03a7f516ab8a"
      },
      "source": [
        "print(Counter(y_train))\n",
        "print(Counter(y_test))"
      ],
      "id": "ad0e8143-4413-4afb-8cd6-729e94246584",
      "execution_count": null,
      "outputs": [
        {
          "output_type": "stream",
          "name": "stdout",
          "text": [
            "Counter({2: 2382, 0: 2016, 1: 1602})\n",
            "Counter({2: 618, 0: 484, 1: 398})\n"
          ]
        }
      ]
    },
    {
      "cell_type": "markdown",
      "metadata": {
        "id": "0e1f613c-494b-4e4d-b784-4287b8c0faee"
      },
      "source": [
        "## tokenize data"
      ],
      "id": "0e1f613c-494b-4e4d-b784-4287b8c0faee"
    },
    {
      "cell_type": "code",
      "metadata": {
        "execution": {
          "iopub.execute_input": "2021-11-29T21:02:02.617502Z",
          "iopub.status.busy": "2021-11-29T21:02:02.617502Z",
          "iopub.status.idle": "2021-11-29T21:02:04.635160Z",
          "shell.execute_reply": "2021-11-29T21:02:04.634169Z",
          "shell.execute_reply.started": "2021-11-29T21:02:02.617502Z"
        },
        "tags": [],
        "colab": {
          "base_uri": "https://localhost:8080/"
        },
        "id": "50b1d268-c3df-481a-b247-0f4394076c46",
        "outputId": "bee9a354-6fe1-4937-ce0d-91f9c2f269db"
      },
      "source": [
        "# after analyzing above vocab stats, we set our vocab size to be 35k\n",
        "VOCAB_SIZE = 35000\n",
        "\n",
        "tokenizer = Tokenizer(num_words=VOCAB_SIZE, oov_token=\"<unk>\", filters='')\n",
        "\n",
        "# we fit tokenizer on x_train data\n",
        "tokenizer.fit_on_texts(x_train)\n",
        "\n",
        "x_train_idx = tokenizer.texts_to_sequences(x_train)\n",
        "x_train_tok = tokenizer.sequences_to_texts(x_train_idx)\n",
        "\n",
        "x_test_idx = tokenizer.texts_to_sequences(x_test)\n",
        "x_test_tok = tokenizer.sequences_to_texts(x_test_idx)\n",
        "\n",
        "print(len(x_train_idx), len(x_train_tok))\n",
        "print(len(x_test_idx), len(x_test_tok))"
      ],
      "id": "50b1d268-c3df-481a-b247-0f4394076c46",
      "execution_count": null,
      "outputs": [
        {
          "output_type": "stream",
          "name": "stdout",
          "text": [
            "6000 6000\n",
            "1500 1500\n"
          ]
        }
      ]
    },
    {
      "cell_type": "code",
      "metadata": {
        "execution": {
          "iopub.execute_input": "2021-11-29T21:02:04.636161Z",
          "iopub.status.busy": "2021-11-29T21:02:04.636161Z",
          "iopub.status.idle": "2021-11-29T21:02:04.651161Z",
          "shell.execute_reply": "2021-11-29T21:02:04.650160Z",
          "shell.execute_reply.started": "2021-11-29T21:02:04.636161Z"
        },
        "tags": [],
        "id": "e7fc17b5-9455-44af-b46a-a3e3c8cdceda"
      },
      "source": [
        "# displays a random sent and ids\n",
        "def display_sample(x_tok, x_idx, y, k=None):\n",
        "    if not k:\n",
        "        k = random.randint(0, len(x_tok)-1)\n",
        "    print(\"k:\", k, \"label:\", y[k])\n",
        "    print(\"length of toks and idx:\", len(x_tok[k].split()), len(x_idx[k]),  end=\"\\n\\n\")\n",
        "    print(\"sent tok:\", x_tok[k].split(), end=\"\\n\\n\")\n",
        "    print(\"sent idx:\", x_idx[k])"
      ],
      "id": "e7fc17b5-9455-44af-b46a-a3e3c8cdceda",
      "execution_count": null,
      "outputs": []
    },
    {
      "cell_type": "code",
      "metadata": {
        "execution": {
          "iopub.execute_input": "2021-11-29T20:55:12.977907Z",
          "iopub.status.busy": "2021-11-29T20:55:12.976912Z",
          "iopub.status.idle": "2021-11-29T20:55:12.997908Z",
          "shell.execute_reply": "2021-11-29T20:55:12.996953Z",
          "shell.execute_reply.started": "2021-11-29T20:55:12.977907Z"
        },
        "tags": [],
        "colab": {
          "base_uri": "https://localhost:8080/"
        },
        "id": "f8f353c5-264d-4170-919b-4e3695ead8ed",
        "outputId": "ddeb6fe3-e746-4815-d66b-f85df22712a0"
      },
      "source": [
        "display_sample(x_train_tok, x_train_idx, y_train)"
      ],
      "id": "f8f353c5-264d-4170-919b-4e3695ead8ed",
      "execution_count": null,
      "outputs": [
        {
          "output_type": "stream",
          "name": "stdout",
          "text": [
            "k: 723 label: 0\n",
            "length of toks and idx: 275 275\n",
            "\n",
            "sent tok: ['super', 'boredom', 'deluxe', 'edition', 'so', 'much', 'have', 'heard', 'about', 'film', 'turned', 'out', 'to', 'biggest', 'dissapointment', 'of', 'last', 'year', 'having', 'vijay', 'sethupathi', 'fahadh', 'faasil', 'in', 'same', 'frame', 'big', 'thingwhich', 'never', 'happened', 'in', 'film', 'though', 'then', 'ramya', 'krishnan', 'samantha', 'have', 'ability', 'to', 'surprise', 'us', 'moreover', 'deals', 'with', 'subject', 'most', 'indians', 'ashamed', 'to', 'talk', 'some', 'taboos', 'some', 'stigmas', 'there', 'dozens', 'of', 'reasons', 'always', 'on', 'wishlistsuper', 'deluxe', 'consists', 'five', 'different', 'stories', 'each', 'of', 'in', 'some', 'way', 'related', 'to', 'religion', 'superstitions', 'sex', 'stories', '1a', 'man', 'dies', 'while', 'having', 'sex', 'with', 'vaembusamantha', 'husband', 'mugilfahadh', 'refuses', 'to', 'accept', 'after', 'knowing', 'but', 'before', 'have', 'bigger', 'task', 'to', 'dispose', 'dead', 'body', '2', 'man', 'once', 'survived', 'tsunami', 'now', 'religious', 'teachera', 'christian', '3', 'man', 'abondoned', 'family', 'comes', 'back', 'as', 'women', 'struggles', 'to', 'find', 'acceptance', 'in', 'society', 'family', '4&5four', 'friends', 'buy', 'porn', 'cd', 'one', 'of', 'finds', 'out', 'mother', 'porn', 'star', 'others', 'go', 'on', 'to', 'have', 'big', 'adventuresyou', 'start', 'losing', 'interest', 'just', 'from', '1st', 'scene', 'poorly', 'made', 'sex', 'scene', 'stretched', 'little', 'too', 'long', 'next', 'scene', 'worse', 'religious', 'teacher', 'giving', 'lecture', 'to', 'students', 'seriously', 'boring', 'part', 'scenes', 'including', 'children', 'talk', 'just', 'too', 'much', 'about', 'sex', 'unnecessarily', 'too', 'much', 'think', 'stories', 'of', 'children', 'difficult', 'to', 'pass', 'through', 'mistake', 'to', 'put', 'here', 'vijay', 'sethupathis', 'parts', 'okay', 'but', 'not', 'particularly', 'interesting', 'when', 'thought', 'can', 'not', 'go', 'worse', 'alien', 'comes', 'out', 'of', 'nowhere', 'just', 'head', 'just', 'about', 'to', 'explode', 'but', 'wanted', 'to', 'know', 'how', 'more', 'absurd', 'can', 'go', 'from', 'there', 'ending', 'surprisingly', 'has', 'meaning', 'but', 'didnt', 'make', 'much', 'impact', 'cant', 'get', 'away', 'with', 'after', '3', 'hours', 'of', 'headachesome', 'reviewers', 'here', 'calling', 'indias', 'pulp', 'fiction', 'makes', 'doubt', 'human', 'intelligence', '255', 'minutes', 'of', 'nothingness', 'even', 'first', '15', 'minutes', 'enough', 'to', 'pull', 'audience', 'out', 'of', 'theater']\n",
            "\n",
            "sent idx: [677, 4799, 7299, 4639, 20, 42, 15, 673, 23, 8, 648, 29, 3, 745, 34167, 2, 191, 236, 229, 735, 4554, 2708, 4622, 4, 127, 1500, 152, 34168, 96, 625, 4, 8, 105, 73, 8034, 7651, 4566, 15, 1391, 3, 760, 141, 3904, 1779, 6, 698, 55, 1785, 4200, 3, 718, 28, 19070, 28, 34169, 26, 4979, 2, 902, 215, 11, 34170, 7299, 4174, 711, 194, 556, 226, 2, 4, 28, 63, 3048, 3, 1529, 24270, 776, 556, 34171, 87, 1922, 84, 229, 776, 6, 34172, 743, 34173, 1963, 3, 1888, 59, 1301, 9, 125, 15, 1562, 2982, 3, 24271, 437, 675, 257, 87, 220, 4301, 20002, 113, 1272, 34174, 1075, 256, 87, 34175, 135, 198, 108, 5, 560, 1926, 3, 151, 6582, 4, 600, 135, 34176, 348, 1852, 2231, 17410, 13, 2, 406, 29, 267, 2231, 260, 345, 106, 11, 3, 15, 152, 34177, 331, 1783, 658, 24, 16, 2870, 95, 1336, 60, 776, 95, 2979, 107, 49, 131, 355, 95, 466, 1272, 1297, 551, 8833, 3, 1287, 640, 488, 124, 82, 452, 401, 718, 24, 49, 42, 23, 776, 5455, 49, 42, 91, 556, 2, 401, 683, 3, 1731, 123, 1824, 3, 283, 78, 735, 17411, 517, 724, 9, 12, 542, 213, 32, 233, 43, 12, 106, 466, 866, 198, 29, 2, 1493, 24, 477, 24, 23, 3, 6769, 9, 474, 3, 100, 53, 31, 2731, 43, 106, 16, 26, 281, 1233, 19, 1108, 9, 142, 62, 42, 812, 196, 61, 216, 6, 59, 256, 405, 2, 34178, 2246, 78, 2029, 2487, 2784, 1103, 102, 781, 332, 1745, 20003, 234, 2, 24272, 36, 52, 1090, 234, 169, 3, 1696, 202, 29, 2, 894]\n"
          ]
        }
      ]
    },
    {
      "cell_type": "code",
      "metadata": {
        "execution": {
          "iopub.execute_input": "2021-11-29T20:55:16.248992Z",
          "iopub.status.busy": "2021-11-29T20:55:16.248992Z",
          "iopub.status.idle": "2021-11-29T20:55:16.267989Z",
          "shell.execute_reply": "2021-11-29T20:55:16.267989Z",
          "shell.execute_reply.started": "2021-11-29T20:55:16.248992Z"
        },
        "tags": [],
        "colab": {
          "base_uri": "https://localhost:8080/"
        },
        "id": "391a3ba1-acdb-40b2-a67f-d2e2b3c6c647",
        "outputId": "e6babebb-3849-44c1-e22c-bad21b4596fb"
      },
      "source": [
        "display_sample(x_train_tok, x_train_idx, y_train)"
      ],
      "id": "391a3ba1-acdb-40b2-a67f-d2e2b3c6c647",
      "execution_count": null,
      "outputs": [
        {
          "output_type": "stream",
          "name": "stdout",
          "text": [
            "k: 1681 label: 2\n",
            "length of toks and idx: 23 23\n",
            "\n",
            "sent tok: ['enjoyable', 'worth', '<unk>', 'in', 'few', 'things', 'bad', 'make', 'up', 'feels', 'stretched', 'some', 'of', 'actorsit', 'feels', 'very', 'commercial', 'would', 'have', 'liked', 'more', 'if', 'subtle']\n",
            "\n",
            "sent idx: [761, 269, 1, 4, 130, 133, 67, 62, 34, 442, 2979, 28, 2, 26059, 442, 30, 877, 45, 15, 369, 31, 33, 1002]\n"
          ]
        }
      ]
    },
    {
      "cell_type": "markdown",
      "metadata": {
        "id": "4916791e-9a73-47db-b884-c264241fb581"
      },
      "source": [
        "### pad data"
      ],
      "id": "4916791e-9a73-47db-b884-c264241fb581"
    },
    {
      "cell_type": "code",
      "metadata": {
        "execution": {
          "iopub.execute_input": "2021-11-29T21:02:08.955456Z",
          "iopub.status.busy": "2021-11-29T21:02:08.955456Z",
          "iopub.status.idle": "2021-11-29T21:02:08.991465Z",
          "shell.execute_reply": "2021-11-29T21:02:08.990494Z",
          "shell.execute_reply.started": "2021-11-29T21:02:08.955456Z"
        },
        "tags": [],
        "colab": {
          "base_uri": "https://localhost:8080/"
        },
        "id": "d01c1af7-4c47-48b4-b4c7-4538dac37360",
        "outputId": "d459c1e1-c73a-4dec-caaf-6d7ef1d90f22"
      },
      "source": [
        "# we need to add <pad> token with index 0 to tokenizer.word_index \n",
        "tokenizer.word_index.update({'<pad>':0})\n",
        "tokenizer.index_word.update({0:'<pad>'})\n",
        "\n",
        "# since tokenizer.word_index has all words > we get only what's under VOCAB_SIZE\n",
        "word2idx = {w:idx for w,idx in tokenizer.word_index.items() if idx < VOCAB_SIZE}\n",
        "idx2word = {idx:w for w,idx in word2idx.items()}\n",
        "\n",
        "# adjust VOCAB_SIZE\n",
        "VOCAB_SIZE = len(word2idx)\n",
        "\n",
        "print(\"len word2idx: \", len(word2idx))\n",
        "print(\"len idx2word: \", len(idx2word))\n",
        "print(\"vocab size: \", VOCAB_SIZE)\n",
        "print(\"\")"
      ],
      "id": "d01c1af7-4c47-48b4-b4c7-4538dac37360",
      "execution_count": null,
      "outputs": [
        {
          "output_type": "stream",
          "name": "stdout",
          "text": [
            "len word2idx:  35000\n",
            "len idx2word:  35000\n",
            "vocab size:  35000\n",
            "\n"
          ]
        }
      ]
    },
    {
      "cell_type": "code",
      "metadata": {
        "execution": {
          "iopub.execute_input": "2021-11-29T20:55:20.791166Z",
          "iopub.status.busy": "2021-11-29T20:55:20.790155Z",
          "iopub.status.idle": "2021-11-29T20:55:20.817187Z",
          "shell.execute_reply": "2021-11-29T20:55:20.816194Z",
          "shell.execute_reply.started": "2021-11-29T20:55:20.791166Z"
        },
        "tags": [],
        "colab": {
          "base_uri": "https://localhost:8080/"
        },
        "id": "00883248-d7a0-4315-b09d-e5922201fbcd",
        "outputId": "f8a5eb28-b0e5-4277-a9f3-4d663c58c560"
      },
      "source": [
        "# check idx2word and word2idx mapping\n",
        "list(zip(list(word2idx.items())[:10], list(idx2word.items())[:10]))"
      ],
      "id": "00883248-d7a0-4315-b09d-e5922201fbcd",
      "execution_count": null,
      "outputs": [
        {
          "output_type": "execute_result",
          "data": {
            "text/plain": [
              "[(('<unk>', 1), (1, '<unk>')),\n",
              " (('of', 2), (2, 'of')),\n",
              " (('to', 3), (3, 'to')),\n",
              " (('in', 4), (4, 'in')),\n",
              " (('as', 5), (5, 'as')),\n",
              " (('with', 6), (6, 'with')),\n",
              " (('for', 7), (7, 'for')),\n",
              " (('film', 8), (8, 'film')),\n",
              " (('but', 9), (9, 'but')),\n",
              " (('movie', 10), (10, 'movie'))]"
            ]
          },
          "metadata": {},
          "execution_count": 46
        }
      ]
    },
    {
      "cell_type": "code",
      "metadata": {
        "execution": {
          "iopub.execute_input": "2021-11-29T21:02:10.850614Z",
          "iopub.status.busy": "2021-11-29T21:02:10.850614Z",
          "iopub.status.idle": "2021-11-29T21:02:10.958679Z",
          "shell.execute_reply": "2021-11-29T21:02:10.957691Z",
          "shell.execute_reply.started": "2021-11-29T21:02:10.850614Z"
        },
        "tags": [],
        "colab": {
          "base_uri": "https://localhost:8080/"
        },
        "id": "84414382-c3e0-4054-8133-9b2118802be0",
        "outputId": "2f2dc774-02a5-403b-f119-2b3112a112b6"
      },
      "source": [
        "# we set MAX_SEQ_LEN analyzing the sequence length: mean: 144 and median: 90\n",
        "MAX_SEQ_LEN = 300\n",
        "\n",
        "# pad sequences so that we get a N x MAX_SEQ_LEN matrix\n",
        "x_train_idx_padded = pad_sequences(x_train_idx, maxlen=MAX_SEQ_LEN, padding='post', truncating='post', value=0)\n",
        "x_test_idx_padded = pad_sequences(x_test_idx, maxlen=MAX_SEQ_LEN, padding='post', truncating='post', value=0)\n",
        "\n",
        "print(x_train_idx_padded.shape, x_test_idx_padded.shape)"
      ],
      "id": "84414382-c3e0-4054-8133-9b2118802be0",
      "execution_count": null,
      "outputs": [
        {
          "output_type": "stream",
          "name": "stdout",
          "text": [
            "(6000, 300) (1500, 300)\n"
          ]
        }
      ]
    },
    {
      "cell_type": "code",
      "metadata": {
        "execution": {
          "iopub.execute_input": "2021-11-29T21:02:13.161643Z",
          "iopub.status.busy": "2021-11-29T21:02:13.161643Z",
          "iopub.status.idle": "2021-11-29T21:02:13.178635Z",
          "shell.execute_reply": "2021-11-29T21:02:13.177653Z",
          "shell.execute_reply.started": "2021-11-29T21:02:13.161643Z"
        },
        "scrolled": true,
        "tags": [],
        "colab": {
          "base_uri": "https://localhost:8080/"
        },
        "id": "969abbc8-ac4e-4eaa-ad27-4e89a82fc4c8",
        "outputId": "ba548bef-8ffa-4bf8-d370-69210e62aba7"
      },
      "source": [
        "i = 10\n",
        "print(x_train_idx_padded[i])\n",
        "print(tokenizer.sequences_to_texts([x_train_idx_padded[i]]))"
      ],
      "id": "969abbc8-ac4e-4eaa-ad27-4e89a82fc4c8",
      "execution_count": null,
      "outputs": [
        {
          "output_type": "stream",
          "name": "stdout",
          "text": [
            "[  913     2    44  1781   192    12 18954   913     2    44  1781   192\n",
            "    12 18954     9   102    72   155   601  1656   125    59    18   127\n",
            "    38  1048     2  1581     2  1181   996    35    30   847     6 12050\n",
            " 18955   164    65     2  2041  7744   452   375     2    92 16466     6\n",
            "   107  7363    17     2  2530    77   171   824     9  2215  1476    49\n",
            "    42    26    35   119     2   635   771     2   264  5080    79    51\n",
            "  1952     6   271   379    43  3974    31 14618    26    35  3975   967\n",
            "    43    67   390  3974   165  1657     6   318     9   386   106     0\n",
            "     0     0     0     0     0     0     0     0     0     0     0     0\n",
            "     0     0     0     0     0     0     0     0     0     0     0     0\n",
            "     0     0     0     0     0     0     0     0     0     0     0     0\n",
            "     0     0     0     0     0     0     0     0     0     0     0     0\n",
            "     0     0     0     0     0     0     0     0     0     0     0     0\n",
            "     0     0     0     0     0     0     0     0     0     0     0     0\n",
            "     0     0     0     0     0     0     0     0     0     0     0     0\n",
            "     0     0     0     0     0     0     0     0     0     0     0     0\n",
            "     0     0     0     0     0     0     0     0     0     0     0     0\n",
            "     0     0     0     0     0     0     0     0     0     0     0     0\n",
            "     0     0     0     0     0     0     0     0     0     0     0     0\n",
            "     0     0     0     0     0     0     0     0     0     0     0     0\n",
            "     0     0     0     0     0     0     0     0     0     0     0     0\n",
            "     0     0     0     0     0     0     0     0     0     0     0     0\n",
            "     0     0     0     0     0     0     0     0     0     0     0     0\n",
            "     0     0     0     0     0     0     0     0     0     0     0     0\n",
            "     0     0     0     0     0     0     0     0     0     0     0     0]\n",
            "['design of films turning point not unobtrusive design of films turning point not unobtrusive but makes people feel huge difference before after at same time portrayal of image of male master also very successful with coherence degeneration however many of plots superfluous including series of love mates with little girlfriends all of rubbish character may needed but episode wasted too much there also lot of similar shots of police wives dont see connection with main line can handle more succinctly there also logical flaws can bad woman handle right door with heart but let go <pad> <pad> <pad> <pad> <pad> <pad> <pad> <pad> <pad> <pad> <pad> <pad> <pad> <pad> <pad> <pad> <pad> <pad> <pad> <pad> <pad> <pad> <pad> <pad> <pad> <pad> <pad> <pad> <pad> <pad> <pad> <pad> <pad> <pad> <pad> <pad> <pad> <pad> <pad> <pad> <pad> <pad> <pad> <pad> <pad> <pad> <pad> <pad> <pad> <pad> <pad> <pad> <pad> <pad> <pad> <pad> <pad> <pad> <pad> <pad> <pad> <pad> <pad> <pad> <pad> <pad> <pad> <pad> <pad> <pad> <pad> <pad> <pad> <pad> <pad> <pad> <pad> <pad> <pad> <pad> <pad> <pad> <pad> <pad> <pad> <pad> <pad> <pad> <pad> <pad> <pad> <pad> <pad> <pad> <pad> <pad> <pad> <pad> <pad> <pad> <pad> <pad> <pad> <pad> <pad> <pad> <pad> <pad> <pad> <pad> <pad> <pad> <pad> <pad> <pad> <pad> <pad> <pad> <pad> <pad> <pad> <pad> <pad> <pad> <pad> <pad> <pad> <pad> <pad> <pad> <pad> <pad> <pad> <pad> <pad> <pad> <pad> <pad> <pad> <pad> <pad> <pad> <pad> <pad> <pad> <pad> <pad> <pad> <pad> <pad> <pad> <pad> <pad> <pad> <pad> <pad> <pad> <pad> <pad> <pad> <pad> <pad> <pad> <pad> <pad> <pad> <pad> <pad> <pad> <pad> <pad> <pad> <pad> <pad> <pad> <pad> <pad> <pad> <pad> <pad> <pad> <pad> <pad> <pad> <pad> <pad> <pad> <pad> <pad> <pad> <pad> <pad> <pad> <pad> <pad> <pad> <pad> <pad> <pad> <pad> <pad> <pad> <pad> <pad> <pad>']\n"
          ]
        }
      ]
    },
    {
      "cell_type": "markdown",
      "metadata": {
        "id": "039b32dc-5622-40a9-866d-6e9b2f8d774d"
      },
      "source": [
        "## word embedding"
      ],
      "id": "039b32dc-5622-40a9-866d-6e9b2f8d774d"
    },
    {
      "cell_type": "code",
      "metadata": {
        "execution": {
          "iopub.execute_input": "2021-11-29T19:32:23.605480Z",
          "iopub.status.busy": "2021-11-29T19:32:23.604525Z",
          "iopub.status.idle": "2021-11-29T19:32:23.626254Z",
          "shell.execute_reply": "2021-11-29T19:32:23.626254Z",
          "shell.execute_reply.started": "2021-11-29T19:32:23.605480Z"
        },
        "tags": [],
        "id": "6ecd3f12-070c-485d-8bf1-29a2f1ba6d26"
      },
      "source": [
        "def load_embeddings(embed_path, type=\"glove\"):\n",
        "    print(f'loading word vectors from: {embed_path}')\n",
        "    embed = {}\n",
        "    \n",
        "    with open(embed_path, \"r\", encoding=\"utf-8\") as f:\n",
        "        # skip first line\n",
        "        if type == \"ft\":\n",
        "            n, d = map(int, f.readline().split())\n",
        "\n",
        "        # space-separated text file in the format: word [vector of floats]\n",
        "        for line in f:\n",
        "            line = line.strip().split(' ')\n",
        "            embed[line[0]] = np.asarray(line[1:], dtype='float32')\n",
        "\n",
        "    print(f\"\\tembed word count: {len(embed)}\")\n",
        "    print(f\"\\tembed dim: {len(embed[line[0]])}\")\n",
        "    return embed\n",
        "\n",
        "\n",
        "def built_embed_matrix(embed, word2idx, VOCAB_SIZE, EMBED_DIM, type=\"\"):\n",
        "    print('\\nprepare embedding matrix...')\n",
        "\n",
        "    embedding_matrix = np.zeros((VOCAB_SIZE, EMBED_DIM))\n",
        "    embed_cnt = 0\n",
        "    unk_words = []\n",
        "\n",
        "    if type == \"w2v\":\n",
        "        for word, idx in word2idx.items():\n",
        "            try:\n",
        "                embedding_vector = embed.get_vector(word)\n",
        "                embedding_matrix[idx] = embedding_vector\n",
        "                embed_cnt += 1\n",
        "            except KeyError as e:\n",
        "                unk_words.append((word, idx))\n",
        "\n",
        "    else:\n",
        "        for word, idx in word2idx.items():\n",
        "            embedding_vector = embed.get(word)\n",
        "            if embedding_vector is not None:\n",
        "                embedding_matrix[idx] = embedding_vector\n",
        "                embed_cnt += 1\n",
        "            else:\n",
        "                unk_words.append((word, idx))\n",
        "          \n",
        "                \n",
        "    print(f\"\\tembedding matrix shape: {embedding_matrix.shape}\")\n",
        "    print(f\"\\tword embedding found: {embed_cnt}\")\n",
        "    print(f\"\\tword embedding not found: {len(unk_words)}\")\n",
        "\n",
        "    return embedding_matrix, unk_words\n"
      ],
      "id": "6ecd3f12-070c-485d-8bf1-29a2f1ba6d26",
      "execution_count": null,
      "outputs": []
    },
    {
      "cell_type": "code",
      "metadata": {
        "colab": {
          "base_uri": "https://localhost:8080/"
        },
        "id": "oDq9tixPjxHT",
        "outputId": "d9142a50-7d47-43e9-9dcd-0c031a21c666"
      },
      "source": [
        "!wget https://nlp.stanford.edu/data/glove.6B.zip"
      ],
      "id": "oDq9tixPjxHT",
      "execution_count": null,
      "outputs": [
        {
          "output_type": "stream",
          "name": "stdout",
          "text": [
            "--2021-11-29 23:02:52--  https://nlp.stanford.edu/data/glove.6B.zip\n",
            "Resolving nlp.stanford.edu (nlp.stanford.edu)... 171.64.67.140\n",
            "Connecting to nlp.stanford.edu (nlp.stanford.edu)|171.64.67.140|:443... connected.\n",
            "HTTP request sent, awaiting response... 301 Moved Permanently\n",
            "Location: http://downloads.cs.stanford.edu/nlp/data/glove.6B.zip [following]\n",
            "--2021-11-29 23:02:52--  http://downloads.cs.stanford.edu/nlp/data/glove.6B.zip\n",
            "Resolving downloads.cs.stanford.edu (downloads.cs.stanford.edu)... 171.64.64.22\n",
            "Connecting to downloads.cs.stanford.edu (downloads.cs.stanford.edu)|171.64.64.22|:80... connected.\n",
            "HTTP request sent, awaiting response... 200 OK\n",
            "Length: 862182613 (822M) [application/zip]\n",
            "Saving to: ‘glove.6B.zip’\n",
            "\n",
            "glove.6B.zip        100%[===================>] 822.24M  5.02MB/s    in 2m 40s  \n",
            "\n",
            "2021-11-29 23:05:33 (5.12 MB/s) - ‘glove.6B.zip’ saved [862182613/862182613]\n",
            "\n"
          ]
        }
      ]
    },
    {
      "cell_type": "code",
      "metadata": {
        "colab": {
          "base_uri": "https://localhost:8080/"
        },
        "id": "tYkohrr5j7jB",
        "outputId": "9d0cc6d2-183c-427d-afa6-2a5c8f58da87"
      },
      "source": [
        "!unzip glove.6B.zip"
      ],
      "id": "tYkohrr5j7jB",
      "execution_count": null,
      "outputs": [
        {
          "output_type": "stream",
          "name": "stdout",
          "text": [
            "Archive:  glove.6B.zip\n",
            "  inflating: glove.6B.50d.txt        \n",
            "  inflating: glove.6B.100d.txt       \n",
            "  inflating: glove.6B.200d.txt       \n",
            "  inflating: glove.6B.300d.txt       \n"
          ]
        }
      ]
    },
    {
      "cell_type": "code",
      "metadata": {
        "execution": {
          "iopub.execute_input": "2021-11-29T19:32:24.832073Z",
          "iopub.status.busy": "2021-11-29T19:32:24.831073Z",
          "iopub.status.idle": "2021-11-29T19:32:25.013424Z",
          "shell.execute_reply": "2021-11-29T19:32:25.013424Z",
          "shell.execute_reply.started": "2021-11-29T19:32:24.832073Z"
        },
        "scrolled": true,
        "tags": [],
        "colab": {
          "base_uri": "https://localhost:8080/"
        },
        "id": "7042d025-aaff-4f85-81f5-3684bc191c71",
        "outputId": "8d5002b9-ecfc-4cf7-aba7-2aaf2b244b89"
      },
      "source": [
        "# embedding_path = \"C:/Codes/Embeddings/\"\n",
        "embedding_path = \"/content/\"\n",
        "\n",
        "with open(embedding_path + \"glove.6B.50d.txt\", \"r\", encoding=\"utf-8\") as f:\n",
        "    for i,line in enumerate(f):\n",
        "        line = line.strip().split(' ')\n",
        "        print(line[0], np.asarray(line[1:], dtype='float32'))\n",
        "        print(\"\")\n",
        "        \n",
        "        if i == 5:\n",
        "            break"
      ],
      "id": "7042d025-aaff-4f85-81f5-3684bc191c71",
      "execution_count": null,
      "outputs": [
        {
          "output_type": "stream",
          "name": "stdout",
          "text": [
            "the [ 4.1800e-01  2.4968e-01 -4.1242e-01  1.2170e-01  3.4527e-01 -4.4457e-02\n",
            " -4.9688e-01 -1.7862e-01 -6.6023e-04 -6.5660e-01  2.7843e-01 -1.4767e-01\n",
            " -5.5677e-01  1.4658e-01 -9.5095e-03  1.1658e-02  1.0204e-01 -1.2792e-01\n",
            " -8.4430e-01 -1.2181e-01 -1.6801e-02 -3.3279e-01 -1.5520e-01 -2.3131e-01\n",
            " -1.9181e-01 -1.8823e+00 -7.6746e-01  9.9051e-02 -4.2125e-01 -1.9526e-01\n",
            "  4.0071e+00 -1.8594e-01 -5.2287e-01 -3.1681e-01  5.9213e-04  7.4449e-03\n",
            "  1.7778e-01 -1.5897e-01  1.2041e-02 -5.4223e-02 -2.9871e-01 -1.5749e-01\n",
            " -3.4758e-01 -4.5637e-02 -4.4251e-01  1.8785e-01  2.7849e-03 -1.8411e-01\n",
            " -1.1514e-01 -7.8581e-01]\n",
            "\n",
            ", [ 0.013441  0.23682  -0.16899   0.40951   0.63812   0.47709  -0.42852\n",
            " -0.55641  -0.364    -0.23938   0.13001  -0.063734 -0.39575  -0.48162\n",
            "  0.23291   0.090201 -0.13324   0.078639 -0.41634  -0.15428   0.10068\n",
            "  0.48891   0.31226  -0.1252   -0.037512 -1.5179    0.12612  -0.02442\n",
            " -0.042961 -0.28351   3.5416   -0.11956  -0.014533 -0.1499    0.21864\n",
            " -0.33412  -0.13872   0.31806   0.70358   0.44858  -0.080262  0.63003\n",
            "  0.32111  -0.46765   0.22786   0.36034  -0.37818  -0.56657   0.044691\n",
            "  0.30392 ]\n",
            "\n",
            ". [ 1.5164e-01  3.0177e-01 -1.6763e-01  1.7684e-01  3.1719e-01  3.3973e-01\n",
            " -4.3478e-01 -3.1086e-01 -4.4999e-01 -2.9486e-01  1.6608e-01  1.1963e-01\n",
            " -4.1328e-01 -4.2353e-01  5.9868e-01  2.8825e-01 -1.1547e-01 -4.1848e-02\n",
            " -6.7989e-01 -2.5063e-01  1.8472e-01  8.6876e-02  4.6582e-01  1.5035e-02\n",
            "  4.3474e-02 -1.4671e+00 -3.0384e-01 -2.3441e-02  3.0589e-01 -2.1785e-01\n",
            "  3.7460e+00  4.2284e-03 -1.8436e-01 -4.6209e-01  9.8329e-02 -1.1907e-01\n",
            "  2.3919e-01  1.1610e-01  4.1705e-01  5.6763e-02 -6.3681e-05  6.8987e-02\n",
            "  8.7939e-02 -1.0285e-01 -1.3931e-01  2.2314e-01 -8.0803e-02 -3.5652e-01\n",
            "  1.6413e-02  1.0216e-01]\n",
            "\n",
            "of [ 0.70853    0.57088   -0.4716     0.18048    0.54449    0.72603\n",
            "  0.18157   -0.52393    0.10381   -0.17566    0.078852  -0.36216\n",
            " -0.11829   -0.83336    0.11917   -0.16605    0.061555  -0.012719\n",
            " -0.56623    0.013616   0.22851   -0.14396   -0.067549  -0.38157\n",
            " -0.23698   -1.7037    -0.86692   -0.26704   -0.2589     0.1767\n",
            "  3.8676    -0.1613    -0.13273   -0.68881    0.18444    0.0052464\n",
            " -0.33874   -0.078956   0.24185    0.36576   -0.34727    0.28483\n",
            "  0.075693  -0.062178  -0.38988    0.22902   -0.21617   -0.22562\n",
            " -0.093918  -0.80375  ]\n",
            "\n",
            "to [ 0.68047  -0.039263  0.30186  -0.17792   0.42962   0.032246 -0.41376\n",
            "  0.13228  -0.29847  -0.085253  0.17118   0.22419  -0.10046  -0.43653\n",
            "  0.33418   0.67846   0.057204 -0.34448  -0.42785  -0.43275   0.55963\n",
            "  0.10032   0.18677  -0.26854   0.037334 -2.0932    0.22171  -0.39868\n",
            "  0.20912  -0.55725   3.8826    0.47466  -0.95658  -0.37788   0.20869\n",
            " -0.32752   0.12751   0.088359  0.16351  -0.21634  -0.094375  0.018324\n",
            "  0.21048  -0.03088  -0.19722   0.082279 -0.09434  -0.073297 -0.064699\n",
            " -0.26044 ]\n",
            "\n",
            "and [ 0.26818   0.14346  -0.27877   0.016257  0.11384   0.69923  -0.51332\n",
            " -0.47368  -0.33075  -0.13834   0.2702    0.30938  -0.45012  -0.4127\n",
            " -0.09932   0.038085  0.029749  0.10076  -0.25058  -0.51818   0.34558\n",
            "  0.44922   0.48791  -0.080866 -0.10121  -1.3777   -0.10866  -0.23201\n",
            "  0.012839 -0.46508   3.8463    0.31362   0.13643  -0.52244   0.3302\n",
            "  0.33707  -0.35601   0.32431   0.12041   0.3512   -0.069043  0.36885\n",
            "  0.25168  -0.24517   0.25381   0.1367   -0.31178  -0.6321   -0.25028\n",
            " -0.38097 ]\n",
            "\n"
          ]
        }
      ]
    },
    {
      "cell_type": "code",
      "metadata": {
        "execution": {
          "iopub.execute_input": "2021-11-29T19:32:29.217686Z",
          "iopub.status.busy": "2021-11-29T19:32:29.217686Z",
          "iopub.status.idle": "2021-11-29T19:32:34.843987Z",
          "shell.execute_reply": "2021-11-29T19:32:34.843987Z",
          "shell.execute_reply.started": "2021-11-29T19:32:29.217686Z"
        },
        "tags": [],
        "colab": {
          "base_uri": "https://localhost:8080/"
        },
        "id": "a2c0827c-3330-41ab-84ef-7e98bf6d523c",
        "outputId": "b6c250ad-ccc9-4f43-a819-d1c752c12bf9"
      },
      "source": [
        "EMBED_DIM = 50\n",
        "\n",
        "glove_embed = load_embeddings(embedding_path + \"glove.6B.50d.txt\")\n",
        "glove_embed_matrix, glove_unknown_words = built_embed_matrix(glove_embed, word2idx, VOCAB_SIZE, EMBED_DIM)"
      ],
      "id": "a2c0827c-3330-41ab-84ef-7e98bf6d523c",
      "execution_count": null,
      "outputs": [
        {
          "output_type": "stream",
          "name": "stdout",
          "text": [
            "loading word vectors from: /content/glove.6B.50d.txt\n",
            "\tembed word count: 400000\n",
            "\tembed dim: 50\n",
            "\n",
            "prepare embedding matrix...\n",
            "\tembedding matrix shape: (35000, 50)\n",
            "\tword embedding found: 28608\n",
            "\tword embedding not found: 6392\n"
          ]
        }
      ]
    },
    {
      "cell_type": "code",
      "metadata": {
        "execution": {
          "iopub.execute_input": "2021-11-29T19:32:35.198912Z",
          "iopub.status.busy": "2021-11-29T19:32:35.198912Z",
          "iopub.status.idle": "2021-11-29T19:32:35.208910Z",
          "shell.execute_reply": "2021-11-29T19:32:35.207909Z",
          "shell.execute_reply.started": "2021-11-29T19:32:35.198912Z"
        },
        "tags": [],
        "colab": {
          "base_uri": "https://localhost:8080/"
        },
        "id": "1d430c3e-54a3-4137-8ad0-5ed205394a97",
        "outputId": "f58acd77-b2ee-44ee-90ca-ab7972a20654"
      },
      "source": [
        "glove_embed_matrix[1]"
      ],
      "id": "1d430c3e-54a3-4137-8ad0-5ed205394a97",
      "execution_count": null,
      "outputs": [
        {
          "output_type": "execute_result",
          "data": {
            "text/plain": [
              "array([0., 0., 0., 0., 0., 0., 0., 0., 0., 0., 0., 0., 0., 0., 0., 0., 0.,\n",
              "       0., 0., 0., 0., 0., 0., 0., 0., 0., 0., 0., 0., 0., 0., 0., 0., 0.,\n",
              "       0., 0., 0., 0., 0., 0., 0., 0., 0., 0., 0., 0., 0., 0., 0., 0.])"
            ]
          },
          "metadata": {},
          "execution_count": 38
        }
      ]
    },
    {
      "cell_type": "markdown",
      "metadata": {
        "id": "ce6548cf-ba45-4798-8f03-5e0e3174ae55"
      },
      "source": [
        "## model"
      ],
      "id": "ce6548cf-ba45-4798-8f03-5e0e3174ae55"
    },
    {
      "cell_type": "code",
      "metadata": {
        "execution": {
          "iopub.execute_input": "2021-11-29T19:32:37.522481Z",
          "iopub.status.busy": "2021-11-29T19:32:37.522481Z",
          "iopub.status.idle": "2021-11-29T19:32:37.542775Z",
          "shell.execute_reply": "2021-11-29T19:32:37.541257Z",
          "shell.execute_reply.started": "2021-11-29T19:32:37.522481Z"
        },
        "tags": [],
        "id": "45dc3a14-d298-4fba-be7c-6e6feeec2406"
      },
      "source": [
        "def build_lstm_model(embedding_matrix, EMBED_DIM, NUM_LABELS, verbose=False):\n",
        "\n",
        "    input_ = Input(shape=(MAX_SEQ_LEN,), name=\"input\")\n",
        "\n",
        "    embed_layer = Embedding(input_dim=VOCAB_SIZE, output_dim=EMBED_DIM, input_length = MAX_SEQ_LEN,\n",
        "                      weights=[embedding_matrix], trainable=False, mask_zero=True)(input_)\n",
        "\n",
        "    lstm_layer = Bidirectional(LSTM(units=64, dropout=.1, recurrent_dropout=0.1,\n",
        "                               kernel_regularizer = regularizers.l2(0.01)), name=\"lstm\")(embed_layer)\n",
        "    \n",
        "    dense_layer = Dense(64, activation='relu')(lstm_layer)\n",
        "    out = Dense(NUM_LABELS, activation='softmax', name='review_output')(dense_layer)\n",
        "     \n",
        "    model = Model(input_, out)\n",
        "    \n",
        "    if verbose:\n",
        "        print(model.summary())\n",
        "\n",
        "    return model\n"
      ],
      "id": "45dc3a14-d298-4fba-be7c-6e6feeec2406",
      "execution_count": null,
      "outputs": []
    },
    {
      "cell_type": "code",
      "metadata": {
        "execution": {
          "iopub.execute_input": "2021-11-29T19:33:26.037123Z",
          "iopub.status.busy": "2021-11-29T19:33:26.037123Z",
          "iopub.status.idle": "2021-11-29T19:33:26.047119Z",
          "shell.execute_reply": "2021-11-29T19:33:26.046165Z",
          "shell.execute_reply.started": "2021-11-29T19:33:26.037123Z"
        },
        "tags": [],
        "id": "ec1cd79a-cd09-4251-8786-2f015712ee18"
      },
      "source": [
        "model_folder = 'saved_models/'\n",
        "checkpoint_callback = ModelCheckpoint(model_folder + 'lstm_{epoch:02d}_{val_accuracy:.4f}.h5', save_best_only=True, monitor='val_accuracy', verbose=1)\n",
        "earlystop_callback = EarlyStopping(monitor='val_accuracy', patience=5, restore_best_weights=True, verbose=1)"
      ],
      "id": "ec1cd79a-cd09-4251-8786-2f015712ee18",
      "execution_count": null,
      "outputs": []
    },
    {
      "cell_type": "code",
      "metadata": {
        "execution": {
          "iopub.execute_input": "2021-11-28T16:07:59.627493Z",
          "iopub.status.busy": "2021-11-28T16:07:59.626494Z",
          "iopub.status.idle": "2021-11-28T16:08:00.029560Z",
          "shell.execute_reply": "2021-11-28T16:08:00.028589Z",
          "shell.execute_reply.started": "2021-11-28T16:07:59.626494Z"
        },
        "tags": [],
        "id": "f277804b-ee38-4738-8cf6-6c0620850058",
        "outputId": "ba4fc5c5-743f-4c05-ecbc-50dbe286cc77"
      },
      "source": [
        "model = build_lstm_model(glove_embed_matrix, EMBED_DIM, NUM_LABELS=3, verbose=True)"
      ],
      "id": "f277804b-ee38-4738-8cf6-6c0620850058",
      "execution_count": null,
      "outputs": [
        {
          "name": "stdout",
          "output_type": "stream",
          "text": [
            "Model: \"model\"\n",
            "_________________________________________________________________\n",
            " Layer (type)                Output Shape              Param #   \n",
            "=================================================================\n",
            " input (InputLayer)          [(None, 300)]             0         \n",
            "                                                                 \n",
            " embedding_1 (Embedding)     (None, 300, 50)           1750000   \n",
            "                                                                 \n",
            " lstm (Bidirectional)        (None, 128)               58880     \n",
            "                                                                 \n",
            " dense_1 (Dense)             (None, 64)                8256      \n",
            "                                                                 \n",
            " review_output (Dense)       (None, 3)                 195       \n",
            "                                                                 \n",
            "=================================================================\n",
            "Total params: 1,817,331\n",
            "Trainable params: 67,331\n",
            "Non-trainable params: 1,750,000\n",
            "_________________________________________________________________\n",
            "None\n"
          ]
        }
      ]
    },
    {
      "cell_type": "code",
      "metadata": {
        "execution": {
          "iopub.execute_input": "2021-11-28T16:10:31.234397Z",
          "iopub.status.busy": "2021-11-28T16:10:31.234397Z",
          "iopub.status.idle": "2021-11-28T16:23:13.350888Z",
          "shell.execute_reply": "2021-11-28T16:23:13.349927Z",
          "shell.execute_reply.started": "2021-11-28T16:10:31.234397Z"
        },
        "scrolled": true,
        "tags": [],
        "id": "30b04970-ffbd-4024-afed-3c1c60b78d6f",
        "outputId": "b92c4cc7-8f50-4e1b-a495-e6bc79482974"
      },
      "source": [
        "epochs = 10\n",
        "batch_size = 256\n",
        "\n",
        "# optimizer = SGD(learning_rate=0.01, momentum=0.9)\n",
        "optimizer = Adam()\n",
        "loss = sparse_categorical_crossentropy\n",
        "\n",
        "model.compile(optimizer = optimizer,\n",
        "                  loss = loss, \n",
        "                  metrics= [\"accuracy\"]) \n",
        "\n",
        "history = model.fit(x_train_idx_padded, y_train,\n",
        "                     batch_size = batch_size,\n",
        "                     epochs = epochs,\n",
        "                     # class_weight = class_weights,\n",
        "                     callbacks = [checkpoint_callback, earlystop_callback],\n",
        "                     validation_data = (x_test_idx_padded, y_test)\n",
        "                    )"
      ],
      "id": "30b04970-ffbd-4024-afed-3c1c60b78d6f",
      "execution_count": null,
      "outputs": [
        {
          "name": "stdout",
          "output_type": "stream",
          "text": [
            "Epoch 1/10\n",
            "24/24 [==============================] - ETA: 0s - loss: 2.3966 - accuracy: 0.4617\n",
            "Epoch 00001: val_accuracy improved from -inf to 0.49133, saving model to saved_models\\lstm_01_0.4913.h5\n",
            "24/24 [==============================] - 137s 5s/step - loss: 2.3966 - accuracy: 0.4617 - val_loss: 2.0390 - val_accuracy: 0.4913\n",
            "Epoch 2/10\n",
            "24/24 [==============================] - ETA: 0s - loss: 1.7780 - accuracy: 0.5328\n",
            "Epoch 00002: val_accuracy improved from 0.49133 to 0.56067, saving model to saved_models\\lstm_02_0.5607.h5\n",
            "24/24 [==============================] - 134s 6s/step - loss: 1.7780 - accuracy: 0.5328 - val_loss: 1.5363 - val_accuracy: 0.5607\n",
            "Epoch 3/10\n",
            "24/24 [==============================] - ETA: 0s - loss: 1.4087 - accuracy: 0.5658\n",
            "Epoch 00003: val_accuracy improved from 0.56067 to 0.58467, saving model to saved_models\\lstm_03_0.5847.h5\n",
            "24/24 [==============================] - 138s 6s/step - loss: 1.4087 - accuracy: 0.5658 - val_loss: 1.2768 - val_accuracy: 0.5847\n",
            "Epoch 4/10\n",
            "24/24 [==============================] - ETA: 0s - loss: 1.1962 - accuracy: 0.5845\n",
            "Epoch 00004: val_accuracy improved from 0.58467 to 0.59800, saving model to saved_models\\lstm_04_0.5980.h5\n",
            "24/24 [==============================] - 142s 6s/step - loss: 1.1962 - accuracy: 0.5845 - val_loss: 1.1196 - val_accuracy: 0.5980\n",
            "Epoch 5/10\n",
            "24/24 [==============================] - ETA: 0s - loss: 1.0909 - accuracy: 0.5908\n",
            "Epoch 00005: val_accuracy did not improve from 0.59800\n",
            "24/24 [==============================] - 158s 6s/step - loss: 1.0909 - accuracy: 0.5908 - val_loss: 1.0768 - val_accuracy: 0.5727\n",
            "Epoch 6/10\n",
            " 8/24 [=========>....................] - ETA: 1:33 - loss: 1.0259 - accuracy: 0.6104"
          ]
        },
        {
          "ename": "KeyboardInterrupt",
          "evalue": "",
          "output_type": "error",
          "traceback": [
            "\u001b[1;31m---------------------------------------------------------------------------\u001b[0m",
            "\u001b[1;31mKeyboardInterrupt\u001b[0m                         Traceback (most recent call last)",
            "\u001b[1;32mC:\\Users\\AARTIP~1\\AppData\\Local\\Temp/ipykernel_20836/1142082901.py\u001b[0m in \u001b[0;36m<module>\u001b[1;34m\u001b[0m\n\u001b[0;32m      2\u001b[0m \u001b[0mbatch_size\u001b[0m \u001b[1;33m=\u001b[0m \u001b[1;36m256\u001b[0m\u001b[1;33m\u001b[0m\u001b[1;33m\u001b[0m\u001b[0m\n\u001b[0;32m      3\u001b[0m \u001b[1;33m\u001b[0m\u001b[0m\n\u001b[1;32m----> 4\u001b[1;33m history = model.fit(x_train_idx_padded, y_train,\n\u001b[0m\u001b[0;32m      5\u001b[0m                      \u001b[0mbatch_size\u001b[0m \u001b[1;33m=\u001b[0m \u001b[0mbatch_size\u001b[0m\u001b[1;33m,\u001b[0m\u001b[1;33m\u001b[0m\u001b[1;33m\u001b[0m\u001b[0m\n\u001b[0;32m      6\u001b[0m                      \u001b[0mepochs\u001b[0m \u001b[1;33m=\u001b[0m \u001b[0mepochs\u001b[0m\u001b[1;33m,\u001b[0m\u001b[1;33m\u001b[0m\u001b[1;33m\u001b[0m\u001b[0m\n",
            "\u001b[1;32m~\\miniconda3\\lib\\site-packages\\keras\\utils\\traceback_utils.py\u001b[0m in \u001b[0;36merror_handler\u001b[1;34m(*args, **kwargs)\u001b[0m\n\u001b[0;32m     62\u001b[0m     \u001b[0mfiltered_tb\u001b[0m \u001b[1;33m=\u001b[0m \u001b[1;32mNone\u001b[0m\u001b[1;33m\u001b[0m\u001b[1;33m\u001b[0m\u001b[0m\n\u001b[0;32m     63\u001b[0m     \u001b[1;32mtry\u001b[0m\u001b[1;33m:\u001b[0m\u001b[1;33m\u001b[0m\u001b[1;33m\u001b[0m\u001b[0m\n\u001b[1;32m---> 64\u001b[1;33m       \u001b[1;32mreturn\u001b[0m \u001b[0mfn\u001b[0m\u001b[1;33m(\u001b[0m\u001b[1;33m*\u001b[0m\u001b[0margs\u001b[0m\u001b[1;33m,\u001b[0m \u001b[1;33m**\u001b[0m\u001b[0mkwargs\u001b[0m\u001b[1;33m)\u001b[0m\u001b[1;33m\u001b[0m\u001b[1;33m\u001b[0m\u001b[0m\n\u001b[0m\u001b[0;32m     65\u001b[0m     \u001b[1;32mexcept\u001b[0m \u001b[0mException\u001b[0m \u001b[1;32mas\u001b[0m \u001b[0me\u001b[0m\u001b[1;33m:\u001b[0m  \u001b[1;31m# pylint: disable=broad-except\u001b[0m\u001b[1;33m\u001b[0m\u001b[1;33m\u001b[0m\u001b[0m\n\u001b[0;32m     66\u001b[0m       \u001b[0mfiltered_tb\u001b[0m \u001b[1;33m=\u001b[0m \u001b[0m_process_traceback_frames\u001b[0m\u001b[1;33m(\u001b[0m\u001b[0me\u001b[0m\u001b[1;33m.\u001b[0m\u001b[0m__traceback__\u001b[0m\u001b[1;33m)\u001b[0m\u001b[1;33m\u001b[0m\u001b[1;33m\u001b[0m\u001b[0m\n",
            "\u001b[1;32m~\\miniconda3\\lib\\site-packages\\keras\\engine\\training.py\u001b[0m in \u001b[0;36mfit\u001b[1;34m(self, x, y, batch_size, epochs, verbose, callbacks, validation_split, validation_data, shuffle, class_weight, sample_weight, initial_epoch, steps_per_epoch, validation_steps, validation_batch_size, validation_freq, max_queue_size, workers, use_multiprocessing)\u001b[0m\n\u001b[0;32m   1214\u001b[0m                 _r=1):\n\u001b[0;32m   1215\u001b[0m               \u001b[0mcallbacks\u001b[0m\u001b[1;33m.\u001b[0m\u001b[0mon_train_batch_begin\u001b[0m\u001b[1;33m(\u001b[0m\u001b[0mstep\u001b[0m\u001b[1;33m)\u001b[0m\u001b[1;33m\u001b[0m\u001b[1;33m\u001b[0m\u001b[0m\n\u001b[1;32m-> 1216\u001b[1;33m               \u001b[0mtmp_logs\u001b[0m \u001b[1;33m=\u001b[0m \u001b[0mself\u001b[0m\u001b[1;33m.\u001b[0m\u001b[0mtrain_function\u001b[0m\u001b[1;33m(\u001b[0m\u001b[0miterator\u001b[0m\u001b[1;33m)\u001b[0m\u001b[1;33m\u001b[0m\u001b[1;33m\u001b[0m\u001b[0m\n\u001b[0m\u001b[0;32m   1217\u001b[0m               \u001b[1;32mif\u001b[0m \u001b[0mdata_handler\u001b[0m\u001b[1;33m.\u001b[0m\u001b[0mshould_sync\u001b[0m\u001b[1;33m:\u001b[0m\u001b[1;33m\u001b[0m\u001b[1;33m\u001b[0m\u001b[0m\n\u001b[0;32m   1218\u001b[0m                 \u001b[0mcontext\u001b[0m\u001b[1;33m.\u001b[0m\u001b[0masync_wait\u001b[0m\u001b[1;33m(\u001b[0m\u001b[1;33m)\u001b[0m\u001b[1;33m\u001b[0m\u001b[1;33m\u001b[0m\u001b[0m\n",
            "\u001b[1;32m~\\miniconda3\\lib\\site-packages\\tensorflow\\python\\util\\traceback_utils.py\u001b[0m in \u001b[0;36merror_handler\u001b[1;34m(*args, **kwargs)\u001b[0m\n\u001b[0;32m    148\u001b[0m     \u001b[0mfiltered_tb\u001b[0m \u001b[1;33m=\u001b[0m \u001b[1;32mNone\u001b[0m\u001b[1;33m\u001b[0m\u001b[1;33m\u001b[0m\u001b[0m\n\u001b[0;32m    149\u001b[0m     \u001b[1;32mtry\u001b[0m\u001b[1;33m:\u001b[0m\u001b[1;33m\u001b[0m\u001b[1;33m\u001b[0m\u001b[0m\n\u001b[1;32m--> 150\u001b[1;33m       \u001b[1;32mreturn\u001b[0m \u001b[0mfn\u001b[0m\u001b[1;33m(\u001b[0m\u001b[1;33m*\u001b[0m\u001b[0margs\u001b[0m\u001b[1;33m,\u001b[0m \u001b[1;33m**\u001b[0m\u001b[0mkwargs\u001b[0m\u001b[1;33m)\u001b[0m\u001b[1;33m\u001b[0m\u001b[1;33m\u001b[0m\u001b[0m\n\u001b[0m\u001b[0;32m    151\u001b[0m     \u001b[1;32mexcept\u001b[0m \u001b[0mException\u001b[0m \u001b[1;32mas\u001b[0m \u001b[0me\u001b[0m\u001b[1;33m:\u001b[0m\u001b[1;33m\u001b[0m\u001b[1;33m\u001b[0m\u001b[0m\n\u001b[0;32m    152\u001b[0m       \u001b[0mfiltered_tb\u001b[0m \u001b[1;33m=\u001b[0m \u001b[0m_process_traceback_frames\u001b[0m\u001b[1;33m(\u001b[0m\u001b[0me\u001b[0m\u001b[1;33m.\u001b[0m\u001b[0m__traceback__\u001b[0m\u001b[1;33m)\u001b[0m\u001b[1;33m\u001b[0m\u001b[1;33m\u001b[0m\u001b[0m\n",
            "\u001b[1;32m~\\miniconda3\\lib\\site-packages\\tensorflow\\python\\eager\\def_function.py\u001b[0m in \u001b[0;36m__call__\u001b[1;34m(self, *args, **kwds)\u001b[0m\n\u001b[0;32m    908\u001b[0m \u001b[1;33m\u001b[0m\u001b[0m\n\u001b[0;32m    909\u001b[0m       \u001b[1;32mwith\u001b[0m \u001b[0mOptionalXlaContext\u001b[0m\u001b[1;33m(\u001b[0m\u001b[0mself\u001b[0m\u001b[1;33m.\u001b[0m\u001b[0m_jit_compile\u001b[0m\u001b[1;33m)\u001b[0m\u001b[1;33m:\u001b[0m\u001b[1;33m\u001b[0m\u001b[1;33m\u001b[0m\u001b[0m\n\u001b[1;32m--> 910\u001b[1;33m         \u001b[0mresult\u001b[0m \u001b[1;33m=\u001b[0m \u001b[0mself\u001b[0m\u001b[1;33m.\u001b[0m\u001b[0m_call\u001b[0m\u001b[1;33m(\u001b[0m\u001b[1;33m*\u001b[0m\u001b[0margs\u001b[0m\u001b[1;33m,\u001b[0m \u001b[1;33m**\u001b[0m\u001b[0mkwds\u001b[0m\u001b[1;33m)\u001b[0m\u001b[1;33m\u001b[0m\u001b[1;33m\u001b[0m\u001b[0m\n\u001b[0m\u001b[0;32m    911\u001b[0m \u001b[1;33m\u001b[0m\u001b[0m\n\u001b[0;32m    912\u001b[0m       \u001b[0mnew_tracing_count\u001b[0m \u001b[1;33m=\u001b[0m \u001b[0mself\u001b[0m\u001b[1;33m.\u001b[0m\u001b[0mexperimental_get_tracing_count\u001b[0m\u001b[1;33m(\u001b[0m\u001b[1;33m)\u001b[0m\u001b[1;33m\u001b[0m\u001b[1;33m\u001b[0m\u001b[0m\n",
            "\u001b[1;32m~\\miniconda3\\lib\\site-packages\\tensorflow\\python\\eager\\def_function.py\u001b[0m in \u001b[0;36m_call\u001b[1;34m(self, *args, **kwds)\u001b[0m\n\u001b[0;32m    940\u001b[0m       \u001b[1;31m# In this case we have created variables on the first call, so we run the\u001b[0m\u001b[1;33m\u001b[0m\u001b[1;33m\u001b[0m\u001b[1;33m\u001b[0m\u001b[0m\n\u001b[0;32m    941\u001b[0m       \u001b[1;31m# defunned version which is guaranteed to never create variables.\u001b[0m\u001b[1;33m\u001b[0m\u001b[1;33m\u001b[0m\u001b[1;33m\u001b[0m\u001b[0m\n\u001b[1;32m--> 942\u001b[1;33m       \u001b[1;32mreturn\u001b[0m \u001b[0mself\u001b[0m\u001b[1;33m.\u001b[0m\u001b[0m_stateless_fn\u001b[0m\u001b[1;33m(\u001b[0m\u001b[1;33m*\u001b[0m\u001b[0margs\u001b[0m\u001b[1;33m,\u001b[0m \u001b[1;33m**\u001b[0m\u001b[0mkwds\u001b[0m\u001b[1;33m)\u001b[0m  \u001b[1;31m# pylint: disable=not-callable\u001b[0m\u001b[1;33m\u001b[0m\u001b[1;33m\u001b[0m\u001b[0m\n\u001b[0m\u001b[0;32m    943\u001b[0m     \u001b[1;32melif\u001b[0m \u001b[0mself\u001b[0m\u001b[1;33m.\u001b[0m\u001b[0m_stateful_fn\u001b[0m \u001b[1;32mis\u001b[0m \u001b[1;32mnot\u001b[0m \u001b[1;32mNone\u001b[0m\u001b[1;33m:\u001b[0m\u001b[1;33m\u001b[0m\u001b[1;33m\u001b[0m\u001b[0m\n\u001b[0;32m    944\u001b[0m       \u001b[1;31m# Release the lock early so that multiple threads can perform the call\u001b[0m\u001b[1;33m\u001b[0m\u001b[1;33m\u001b[0m\u001b[1;33m\u001b[0m\u001b[0m\n",
            "\u001b[1;32m~\\miniconda3\\lib\\site-packages\\tensorflow\\python\\eager\\function.py\u001b[0m in \u001b[0;36m__call__\u001b[1;34m(self, *args, **kwargs)\u001b[0m\n\u001b[0;32m   3128\u001b[0m       (graph_function,\n\u001b[0;32m   3129\u001b[0m        filtered_flat_args) = self._maybe_define_function(args, kwargs)\n\u001b[1;32m-> 3130\u001b[1;33m     return graph_function._call_flat(\n\u001b[0m\u001b[0;32m   3131\u001b[0m         filtered_flat_args, captured_inputs=graph_function.captured_inputs)  # pylint: disable=protected-access\n\u001b[0;32m   3132\u001b[0m \u001b[1;33m\u001b[0m\u001b[0m\n",
            "\u001b[1;32m~\\miniconda3\\lib\\site-packages\\tensorflow\\python\\eager\\function.py\u001b[0m in \u001b[0;36m_call_flat\u001b[1;34m(self, args, captured_inputs, cancellation_manager)\u001b[0m\n\u001b[0;32m   1957\u001b[0m         and executing_eagerly):\n\u001b[0;32m   1958\u001b[0m       \u001b[1;31m# No tape is watching; skip to running the function.\u001b[0m\u001b[1;33m\u001b[0m\u001b[1;33m\u001b[0m\u001b[1;33m\u001b[0m\u001b[0m\n\u001b[1;32m-> 1959\u001b[1;33m       return self._build_call_outputs(self._inference_function.call(\n\u001b[0m\u001b[0;32m   1960\u001b[0m           ctx, args, cancellation_manager=cancellation_manager))\n\u001b[0;32m   1961\u001b[0m     forward_backward = self._select_forward_and_backward_functions(\n",
            "\u001b[1;32m~\\miniconda3\\lib\\site-packages\\tensorflow\\python\\eager\\function.py\u001b[0m in \u001b[0;36mcall\u001b[1;34m(self, ctx, args, cancellation_manager)\u001b[0m\n\u001b[0;32m    596\u001b[0m       \u001b[1;32mwith\u001b[0m \u001b[0m_InterpolateFunctionError\u001b[0m\u001b[1;33m(\u001b[0m\u001b[0mself\u001b[0m\u001b[1;33m)\u001b[0m\u001b[1;33m:\u001b[0m\u001b[1;33m\u001b[0m\u001b[1;33m\u001b[0m\u001b[0m\n\u001b[0;32m    597\u001b[0m         \u001b[1;32mif\u001b[0m \u001b[0mcancellation_manager\u001b[0m \u001b[1;32mis\u001b[0m \u001b[1;32mNone\u001b[0m\u001b[1;33m:\u001b[0m\u001b[1;33m\u001b[0m\u001b[1;33m\u001b[0m\u001b[0m\n\u001b[1;32m--> 598\u001b[1;33m           outputs = execute.execute(\n\u001b[0m\u001b[0;32m    599\u001b[0m               \u001b[0mstr\u001b[0m\u001b[1;33m(\u001b[0m\u001b[0mself\u001b[0m\u001b[1;33m.\u001b[0m\u001b[0msignature\u001b[0m\u001b[1;33m.\u001b[0m\u001b[0mname\u001b[0m\u001b[1;33m)\u001b[0m\u001b[1;33m,\u001b[0m\u001b[1;33m\u001b[0m\u001b[1;33m\u001b[0m\u001b[0m\n\u001b[0;32m    600\u001b[0m               \u001b[0mnum_outputs\u001b[0m\u001b[1;33m=\u001b[0m\u001b[0mself\u001b[0m\u001b[1;33m.\u001b[0m\u001b[0m_num_outputs\u001b[0m\u001b[1;33m,\u001b[0m\u001b[1;33m\u001b[0m\u001b[1;33m\u001b[0m\u001b[0m\n",
            "\u001b[1;32m~\\miniconda3\\lib\\site-packages\\tensorflow\\python\\eager\\execute.py\u001b[0m in \u001b[0;36mquick_execute\u001b[1;34m(op_name, num_outputs, inputs, attrs, ctx, name)\u001b[0m\n\u001b[0;32m     56\u001b[0m   \u001b[1;32mtry\u001b[0m\u001b[1;33m:\u001b[0m\u001b[1;33m\u001b[0m\u001b[1;33m\u001b[0m\u001b[0m\n\u001b[0;32m     57\u001b[0m     \u001b[0mctx\u001b[0m\u001b[1;33m.\u001b[0m\u001b[0mensure_initialized\u001b[0m\u001b[1;33m(\u001b[0m\u001b[1;33m)\u001b[0m\u001b[1;33m\u001b[0m\u001b[1;33m\u001b[0m\u001b[0m\n\u001b[1;32m---> 58\u001b[1;33m     tensors = pywrap_tfe.TFE_Py_Execute(ctx._handle, device_name, op_name,\n\u001b[0m\u001b[0;32m     59\u001b[0m                                         inputs, attrs, num_outputs)\n\u001b[0;32m     60\u001b[0m   \u001b[1;32mexcept\u001b[0m \u001b[0mcore\u001b[0m\u001b[1;33m.\u001b[0m\u001b[0m_NotOkStatusException\u001b[0m \u001b[1;32mas\u001b[0m \u001b[0me\u001b[0m\u001b[1;33m:\u001b[0m\u001b[1;33m\u001b[0m\u001b[1;33m\u001b[0m\u001b[0m\n",
            "\u001b[1;31mKeyboardInterrupt\u001b[0m: "
          ]
        }
      ]
    },
    {
      "cell_type": "markdown",
      "metadata": {
        "id": "84af28a7-8d41-46c0-b502-008e326c238d"
      },
      "source": [
        "### prediction"
      ],
      "id": "84af28a7-8d41-46c0-b502-008e326c238d"
    },
    {
      "cell_type": "code",
      "metadata": {
        "execution": {
          "iopub.execute_input": "2021-11-29T19:33:53.032698Z",
          "iopub.status.busy": "2021-11-29T19:33:53.032698Z",
          "iopub.status.idle": "2021-11-29T19:33:53.767260Z",
          "shell.execute_reply": "2021-11-29T19:33:53.767260Z",
          "shell.execute_reply.started": "2021-11-29T19:33:53.032698Z"
        },
        "tags": [],
        "id": "30ae45b4-eb17-4e8e-9387-42c649a1480b"
      },
      "source": [
        "model = load_model(model_folder + \"lstm_04_0.5980.h5\")"
      ],
      "id": "30ae45b4-eb17-4e8e-9387-42c649a1480b",
      "execution_count": null,
      "outputs": []
    },
    {
      "cell_type": "code",
      "metadata": {
        "execution": {
          "iopub.execute_input": "2021-11-29T19:33:58.179996Z",
          "iopub.status.busy": "2021-11-29T19:33:58.179025Z",
          "iopub.status.idle": "2021-11-29T19:34:00.819164Z",
          "shell.execute_reply": "2021-11-29T19:34:00.819164Z",
          "shell.execute_reply.started": "2021-11-29T19:33:58.179996Z"
        },
        "tags": [],
        "id": "24da9730-275e-4208-8ac8-a7d30265544c",
        "outputId": "b0d65182-a413-4977-8337-5a4e7439424f"
      },
      "source": [
        "y_pred = model.predict(x_test_idx_padded)\n",
        "print(y_pred.shape)\n",
        "\n",
        "y_pred = np.argmax(y_pred, axis=1)\n",
        "print(y_pred.shape)"
      ],
      "id": "24da9730-275e-4208-8ac8-a7d30265544c",
      "execution_count": null,
      "outputs": [
        {
          "name": "stdout",
          "output_type": "stream",
          "text": [
            "(1500, 3)\n",
            "(1500,)\n"
          ]
        }
      ]
    },
    {
      "cell_type": "code",
      "metadata": {
        "execution": {
          "iopub.execute_input": "2021-11-29T19:34:05.198318Z",
          "iopub.status.busy": "2021-11-29T19:34:05.198318Z",
          "iopub.status.idle": "2021-11-29T19:34:05.376291Z",
          "shell.execute_reply": "2021-11-29T19:34:05.376291Z",
          "shell.execute_reply.started": "2021-11-29T19:34:05.198318Z"
        },
        "tags": [],
        "id": "977b62e2-cc5f-415a-aaa5-37c983faa124",
        "outputId": "5df565c8-cd97-4c52-fdb8-c7c7070c126a"
      },
      "source": [
        "# confusion matrix\n",
        "class_names = [\"bad\", \"average\", \"good\"]\n",
        "cmat = confusion_matrix(y_test, y_pred)\n",
        "plt.figure(figsize=(12,10))\n",
        "sns.heatmap(cmat, xticklabels=class_names, yticklabels=class_names, fmt='d', annot=True, cmap='YlGnBu')\n",
        "plt.xlabel('Predicted')\n",
        "plt.ylabel('Actual')\n",
        "plt.show()"
      ],
      "id": "977b62e2-cc5f-415a-aaa5-37c983faa124",
      "execution_count": null,
      "outputs": [
        {
          "data": {
            "image/png": "[encoded data removed]",
            "text/plain": [
              "<Figure size 864x720 with 2 Axes>"
            ]
          },
          "metadata": {
            "needs_background": "light"
          },
          "output_type": "display_data"
        }
      ]
    },
    {
      "cell_type": "markdown",
      "metadata": {
        "id": "f503ab2f-3ce0-41dd-a588-667223d7d2a3"
      },
      "source": [
        "## model binary"
      ],
      "id": "f503ab2f-3ce0-41dd-a588-667223d7d2a3"
    },
    {
      "cell_type": "code",
      "metadata": {
        "execution": {
          "iopub.execute_input": "2021-11-29T19:39:40.009832Z",
          "iopub.status.busy": "2021-11-29T19:39:40.009832Z",
          "iopub.status.idle": "2021-11-29T19:39:40.041515Z",
          "shell.execute_reply": "2021-11-29T19:39:40.041129Z",
          "shell.execute_reply.started": "2021-11-29T19:39:40.009832Z"
        },
        "tags": [],
        "id": "537dc0f5-55a0-4461-a710-aa708c8bdc58",
        "outputId": "096118c8-98e7-434a-bddf-72ef574f783d"
      },
      "source": [
        "y_train_bin = df_train.review_class_bin_int.values\n",
        "y_test_bin = df_test.review_class_bin_int.values\n",
        "\n",
        "print(Counter(y_train_bin))\n",
        "print(Counter(y_test_bin))\n",
        "print(len(y_train_bin), len(y_test_bin))"
      ],
      "id": "537dc0f5-55a0-4461-a710-aa708c8bdc58",
      "execution_count": null,
      "outputs": [
        {
          "name": "stdout",
          "output_type": "stream",
          "text": [
            "Counter({1: 3391, 0: 2609})\n",
            "Counter({1: 853, 0: 647})\n",
            "6000 1500\n"
          ]
        }
      ]
    },
    {
      "cell_type": "code",
      "metadata": {
        "execution": {
          "iopub.execute_input": "2021-11-29T19:37:51.329644Z",
          "iopub.status.busy": "2021-11-29T19:37:51.329644Z",
          "iopub.status.idle": "2021-11-29T19:37:51.345680Z",
          "shell.execute_reply": "2021-11-29T19:37:51.345331Z",
          "shell.execute_reply.started": "2021-11-29T19:37:51.329644Z"
        },
        "tags": [],
        "id": "41b260a4-662e-4c19-951c-936ee5050ffc"
      },
      "source": [
        "model_folder = 'saved_models/'\n",
        "checkpoint_callback = ModelCheckpoint(model_folder + 'lstm_binary_{epoch:02d}_{val_accuracy:.4f}.h5', save_best_only=True, monitor='val_accuracy', verbose=1)\n",
        "earlystop_callback = EarlyStopping(monitor='val_accuracy', patience=5, restore_best_weights=True, verbose=1)"
      ],
      "id": "41b260a4-662e-4c19-951c-936ee5050ffc",
      "execution_count": null,
      "outputs": []
    },
    {
      "cell_type": "code",
      "metadata": {
        "execution": {
          "iopub.execute_input": "2021-11-29T19:37:53.259913Z",
          "iopub.status.busy": "2021-11-29T19:37:53.259913Z",
          "iopub.status.idle": "2021-11-29T19:37:53.603212Z",
          "shell.execute_reply": "2021-11-29T19:37:53.603212Z",
          "shell.execute_reply.started": "2021-11-29T19:37:53.259913Z"
        },
        "tags": [],
        "id": "0373e6dc-2415-41b6-a857-94df3487e32b",
        "outputId": "5f924acc-aae6-47da-b1e7-ced22a15067a"
      },
      "source": [
        "model_bin = build_lstm_model(glove_embed_matrix, EMBED_DIM, NUM_LABELS=2, verbose=True)"
      ],
      "id": "0373e6dc-2415-41b6-a857-94df3487e32b",
      "execution_count": null,
      "outputs": [
        {
          "name": "stdout",
          "output_type": "stream",
          "text": [
            "Model: \"model\"\n",
            "_________________________________________________________________\n",
            " Layer (type)                Output Shape              Param #   \n",
            "=================================================================\n",
            " input (InputLayer)          [(None, 300)]             0         \n",
            "                                                                 \n",
            " embedding (Embedding)       (None, 300, 50)           1750000   \n",
            "                                                                 \n",
            " lstm (Bidirectional)        (None, 128)               58880     \n",
            "                                                                 \n",
            " dense (Dense)               (None, 64)                8256      \n",
            "                                                                 \n",
            " review_output (Dense)       (None, 2)                 130       \n",
            "                                                                 \n",
            "=================================================================\n",
            "Total params: 1,817,266\n",
            "Trainable params: 67,266\n",
            "Non-trainable params: 1,750,000\n",
            "_________________________________________________________________\n",
            "None\n"
          ]
        }
      ]
    },
    {
      "cell_type": "code",
      "metadata": {
        "execution": {
          "iopub.execute_input": "2021-11-29T19:40:25.255258Z",
          "iopub.status.busy": "2021-11-29T19:40:25.255258Z",
          "iopub.status.idle": "2021-11-29T19:47:25.463716Z",
          "shell.execute_reply": "2021-11-29T19:47:25.463716Z",
          "shell.execute_reply.started": "2021-11-29T19:40:25.255258Z"
        },
        "scrolled": true,
        "tags": [],
        "id": "d3686f94-74b1-409c-903e-d64295a05f5b",
        "outputId": "9b145233-0b7f-414d-be6b-9fa0e7226e3d"
      },
      "source": [
        "epochs = 3\n",
        "batch_size = 256\n",
        "\n",
        "# optimizer = SGD(learning_rate=0.01, momentum=0.9)\n",
        "optimizer = Adam()\n",
        "loss = sparse_categorical_crossentropy\n",
        "\n",
        "model_bin.compile(optimizer = optimizer,\n",
        "                  loss = loss, \n",
        "                  metrics= [\"accuracy\"]) \n",
        "\n",
        "history = model_bin.fit(x_train_idx_padded, y_train_bin,\n",
        "                     batch_size = batch_size,\n",
        "                     epochs = epochs,\n",
        "                     # class_weight = class_weights,\n",
        "                     callbacks = [checkpoint_callback, earlystop_callback],\n",
        "                     validation_data = (x_test_idx_padded, y_test_bin)\n",
        "                    )"
      ],
      "id": "d3686f94-74b1-409c-903e-d64295a05f5b",
      "execution_count": null,
      "outputs": [
        {
          "name": "stdout",
          "output_type": "stream",
          "text": [
            "Epoch 1/3\n",
            "24/24 [==============================] - ETA: 0s - loss: 1.9811 - accuracy: 0.6347\n",
            "Epoch 00001: val_accuracy improved from -inf to 0.69200, saving model to saved_models\\lstm_binary_01_0.6920.h5\n",
            "24/24 [==============================] - 146s 6s/step - loss: 1.9811 - accuracy: 0.6347 - val_loss: 1.5922 - val_accuracy: 0.6920\n",
            "Epoch 2/3\n",
            "24/24 [==============================] - ETA: 0s - loss: 1.3637 - accuracy: 0.7140\n",
            "Epoch 00002: val_accuracy improved from 0.69200 to 0.73800, saving model to saved_models\\lstm_binary_02_0.7380.h5\n",
            "24/24 [==============================] - 135s 6s/step - loss: 1.3637 - accuracy: 0.7140 - val_loss: 1.1367 - val_accuracy: 0.7380\n",
            "Epoch 3/3\n",
            "24/24 [==============================] - ETA: 0s - loss: 1.0227 - accuracy: 0.7308\n",
            "Epoch 00003: val_accuracy did not improve from 0.73800\n",
            "24/24 [==============================] - 138s 6s/step - loss: 1.0227 - accuracy: 0.7308 - val_loss: 0.9599 - val_accuracy: 0.6933\n"
          ]
        }
      ]
    },
    {
      "cell_type": "markdown",
      "metadata": {
        "id": "7ff17f68-374c-41fd-a54e-d37dffa57d66"
      },
      "source": [
        "### prediction binary"
      ],
      "id": "7ff17f68-374c-41fd-a54e-d37dffa57d66"
    },
    {
      "cell_type": "code",
      "metadata": {
        "execution": {
          "iopub.execute_input": "2021-11-29T20:20:54.229970Z",
          "iopub.status.busy": "2021-11-29T20:20:54.228966Z",
          "iopub.status.idle": "2021-11-29T20:20:56.129771Z",
          "shell.execute_reply": "2021-11-29T20:20:56.129771Z",
          "shell.execute_reply.started": "2021-11-29T20:20:54.229970Z"
        },
        "tags": [],
        "id": "186f16f4-fbbd-4ed3-9e6f-3dcd5994c1be",
        "outputId": "2a9d07b6-b748-4438-c725-8e68db298cfc"
      },
      "source": [
        "y_pred = model_bin.predict(x_test_idx_padded)\n",
        "print(y_pred.shape)\n",
        "\n",
        "y_pred = np.argmax(y_pred, axis=1)\n",
        "print(y_pred.shape)"
      ],
      "id": "186f16f4-fbbd-4ed3-9e6f-3dcd5994c1be",
      "execution_count": null,
      "outputs": [
        {
          "name": "stdout",
          "output_type": "stream",
          "text": [
            "(1500, 2)\n",
            "(1500,)\n"
          ]
        }
      ]
    },
    {
      "cell_type": "code",
      "metadata": {
        "execution": {
          "iopub.execute_input": "2021-11-29T19:51:06.565672Z",
          "iopub.status.busy": "2021-11-29T19:51:06.564639Z",
          "iopub.status.idle": "2021-11-29T19:51:06.873696Z",
          "shell.execute_reply": "2021-11-29T19:51:06.873696Z",
          "shell.execute_reply.started": "2021-11-29T19:51:06.565672Z"
        },
        "tags": [],
        "id": "3d690815-7f37-4e05-a498-1d0153c47c25",
        "outputId": "a669867f-f0dd-409d-bb9f-20b74cb6bb5a"
      },
      "source": [
        "# confusion matrix\n",
        "class_names = [\"bad\", \"good\"]\n",
        "cmat = confusion_matrix(y_test_bin, y_pred)\n",
        "plt.figure(figsize=(12,10))\n",
        "sns.heatmap(cmat, xticklabels=class_names, yticklabels=class_names, fmt='d', annot=True, cmap='YlGnBu')\n",
        "plt.xlabel('Predicted')\n",
        "plt.ylabel('Actual')\n",
        "plt.show()"
      ],
      "id": "3d690815-7f37-4e05-a498-1d0153c47c25",
      "execution_count": null,
      "outputs": [
        {
          "data": {
            "image/png": "[encoded data removed]",
            "text/plain": [
              "<Figure size 864x720 with 2 Axes>"
            ]
          },
          "metadata": {
            "needs_background": "light"
          },
          "output_type": "display_data"
        }
      ]
    },
    {
      "cell_type": "code",
      "metadata": {
        "execution": {
          "iopub.execute_input": "2021-11-29T20:21:19.294912Z",
          "iopub.status.busy": "2021-11-29T20:21:19.294912Z",
          "iopub.status.idle": "2021-11-29T20:21:19.310808Z",
          "shell.execute_reply": "2021-11-29T20:21:19.310539Z",
          "shell.execute_reply.started": "2021-11-29T20:21:19.294912Z"
        },
        "tags": [],
        "id": "6b9113c3-f0c7-4e2c-aa16-e7872fd0fffd",
        "outputId": "11a2d6c3-ae05-41a4-9959-711a32cfdd09"
      },
      "source": [
        "print(classification_report(y_test_bin, y_pred))"
      ],
      "id": "6b9113c3-f0c7-4e2c-aa16-e7872fd0fffd",
      "execution_count": null,
      "outputs": [
        {
          "name": "stdout",
          "output_type": "stream",
          "text": [
            "              precision    recall  f1-score   support\n",
            "\n",
            "           0       0.89      0.33      0.48       647\n",
            "           1       0.66      0.97      0.78       853\n",
            "\n",
            "    accuracy                           0.69      1500\n",
            "   macro avg       0.77      0.65      0.63      1500\n",
            "weighted avg       0.76      0.69      0.65      1500\n",
            "\n"
          ]
        }
      ]
    },
    {
      "cell_type": "code",
      "metadata": {
        "execution": {
          "iopub.execute_input": "2021-11-29T20:01:49.288986Z",
          "iopub.status.busy": "2021-11-29T20:01:49.287982Z",
          "iopub.status.idle": "2021-11-29T20:01:49.316983Z",
          "shell.execute_reply": "2021-11-29T20:01:49.315979Z",
          "shell.execute_reply.started": "2021-11-29T20:01:49.288986Z"
        },
        "tags": [],
        "id": "7226857f-78ff-4f56-9016-4e1a44502b40"
      },
      "source": [
        "fpr, tpr, thresholds = roc_curve(y_test_bin, y_pred)\n",
        "auc_scores = auc(fpr, tpr)"
      ],
      "id": "7226857f-78ff-4f56-9016-4e1a44502b40",
      "execution_count": null,
      "outputs": []
    },
    {
      "cell_type": "code",
      "metadata": {
        "execution": {
          "iopub.execute_input": "2021-11-29T20:02:40.194932Z",
          "iopub.status.busy": "2021-11-29T20:02:40.194932Z",
          "iopub.status.idle": "2021-11-29T20:02:40.480406Z",
          "shell.execute_reply": "2021-11-29T20:02:40.480406Z",
          "shell.execute_reply.started": "2021-11-29T20:02:40.194932Z"
        },
        "tags": [],
        "id": "78e57c32-1d70-4a71-b3e1-d7e733547c09",
        "outputId": "cebe4a6c-a555-4ceb-f4bf-fb45a313e653"
      },
      "source": [
        "plt.figure(figsize = (8, 6))\n",
        "plt.plot([0, 1], [0, 1], 'k--')\n",
        "plt.plot(fpr, tpr, label='Keras (area = {:.3f})'.format(auc_scores))\n",
        "plt.xlabel('False positive rate')\n",
        "plt.ylabel('True positive rate')\n",
        "plt.title('ROC curve')\n",
        "plt.legend(loc='best')\n",
        "plt.show()"
      ],
      "id": "78e57c32-1d70-4a71-b3e1-d7e733547c09",
      "execution_count": null,
      "outputs": [
        {
          "data": {
            "image/png": "[encoded data removed]",
            "text/plain": [
              "<Figure size 576x432 with 1 Axes>"
            ]
          },
          "metadata": {
            "needs_background": "light"
          },
          "output_type": "display_data"
        }
      ]
    },
    {
      "cell_type": "code",
      "metadata": {
        "execution": {
          "iopub.execute_input": "2021-11-29T20:04:12.936927Z",
          "iopub.status.busy": "2021-11-29T20:04:12.935928Z",
          "iopub.status.idle": "2021-11-29T20:04:13.139761Z",
          "shell.execute_reply": "2021-11-29T20:04:13.138789Z",
          "shell.execute_reply.started": "2021-11-29T20:04:12.936927Z"
        },
        "tags": [],
        "id": "785943a2-efc2-460f-86e3-e6956ad78211",
        "outputId": "e8cee623-7aec-4359-eafe-ae347c0d1cf8"
      },
      "source": [
        "# Zoom in view of the upper left corner.\n",
        "plt.figure(figsize = (8, 6))\n",
        "plt.xlim(0.6, 1)\n",
        "plt.ylim(0.8, 1)\n",
        "\n",
        "plt.plot([0, 1], [0, 1], 'k--')\n",
        "plt.plot(fpr, tpr, label='Keras (area = {:.3f})'.format(auc_scores))\n",
        "plt.xlabel('False positive rate')\n",
        "plt.ylabel('True positive rate')\n",
        "plt.title('ROC curve (zoomed in at top left)')\n",
        "plt.legend(loc='best')\n",
        "plt.show()"
      ],
      "id": "785943a2-efc2-460f-86e3-e6956ad78211",
      "execution_count": null,
      "outputs": [
        {
          "data": {
            "image/png": "[encoded data removed]",
            "text/plain": [
              "<Figure size 576x432 with 1 Axes>"
            ]
          },
          "metadata": {
            "needs_background": "light"
          },
          "output_type": "display_data"
        }
      ]
    },
    {
      "cell_type": "code",
      "metadata": {
        "execution": {
          "iopub.execute_input": "2021-11-29T20:07:57.529153Z",
          "iopub.status.busy": "2021-11-29T20:07:57.529153Z",
          "iopub.status.idle": "2021-11-29T20:07:57.544368Z",
          "shell.execute_reply": "2021-11-29T20:07:57.543365Z",
          "shell.execute_reply.started": "2021-11-29T20:07:57.529153Z"
        },
        "tags": [],
        "id": "ea86a60a-5d70-4636-89af-aaef8826b64f"
      },
      "source": [
        "precision, recall, thresholds = precision_recall_curve(y_test_bin, y_pred)"
      ],
      "id": "ea86a60a-5d70-4636-89af-aaef8826b64f",
      "execution_count": null,
      "outputs": []
    },
    {
      "cell_type": "code",
      "metadata": {
        "execution": {
          "iopub.execute_input": "2021-11-29T20:14:37.187852Z",
          "iopub.status.busy": "2021-11-29T20:14:37.187852Z",
          "iopub.status.idle": "2021-11-29T20:14:37.417045Z",
          "shell.execute_reply": "2021-11-29T20:14:37.416041Z",
          "shell.execute_reply.started": "2021-11-29T20:14:37.187852Z"
        },
        "tags": [],
        "id": "fcdd6b83-8189-4804-a50b-ff2b0fc07780",
        "outputId": "2b98ca78-7bdc-44fc-f526-9af61d357cc7"
      },
      "source": [
        "plt.figure(figsize = (8, 6))\n",
        "plt.plot([0, 1], [0, 1], 'k--')\n",
        "plt.plot(precision, recall)\n",
        "plt.xlabel('Precision')\n",
        "plt.ylabel('Recall')\n",
        "plt.title('PR curve')\n",
        "plt.legend(loc='best')\n",
        "plt.show()"
      ],
      "id": "fcdd6b83-8189-4804-a50b-ff2b0fc07780",
      "execution_count": null,
      "outputs": [
        {
          "name": "stderr",
          "output_type": "stream",
          "text": [
            "No handles with labels found to put in legend.\n"
          ]
        },
        {
          "data": {
            "image/png": "[encoded data removed]",
            "text/plain": [
              "<Figure size 576x432 with 1 Axes>"
            ]
          },
          "metadata": {
            "needs_background": "light"
          },
          "output_type": "display_data"
        }
      ]
    },
    {
      "cell_type": "code",
      "metadata": {
        "execution": {
          "iopub.execute_input": "2021-11-29T20:18:58.862689Z",
          "iopub.status.busy": "2021-11-29T20:18:58.862689Z",
          "iopub.status.idle": "2021-11-29T20:19:00.814935Z",
          "shell.execute_reply": "2021-11-29T20:19:00.814935Z",
          "shell.execute_reply.started": "2021-11-29T20:18:58.862689Z"
        },
        "tags": [],
        "id": "ea87a97a-49d3-4524-8d89-564de02faa2a",
        "outputId": "ff54f22f-fe90-4775-923e-40db13841dcb"
      },
      "source": [
        "y_pred = model_bin.predict(x_test_idx_padded)\n",
        "print(y_pred.shape)"
      ],
      "id": "ea87a97a-49d3-4524-8d89-564de02faa2a",
      "execution_count": null,
      "outputs": [
        {
          "name": "stdout",
          "output_type": "stream",
          "text": [
            "(1500, 2)\n"
          ]
        }
      ]
    },
    {
      "cell_type": "code",
      "metadata": {
        "execution": {
          "iopub.execute_input": "2021-11-29T20:19:00.919467Z",
          "iopub.status.busy": "2021-11-29T20:19:00.919467Z",
          "iopub.status.idle": "2021-11-29T20:19:00.935550Z",
          "shell.execute_reply": "2021-11-29T20:19:00.935132Z",
          "shell.execute_reply.started": "2021-11-29T20:19:00.919467Z"
        },
        "tags": [],
        "id": "600a29d5-0ba0-498c-a7ed-ac46cac8cb49",
        "outputId": "45ae01e2-835e-4cd4-9c76-e4c25ef2d4b2"
      },
      "source": [
        "y_pred[0]"
      ],
      "id": "600a29d5-0ba0-498c-a7ed-ac46cac8cb49",
      "execution_count": null,
      "outputs": [
        {
          "data": {
            "text/plain": [
              "array([0.16757266, 0.8324273 ], dtype=float32)"
            ]
          },
          "execution_count": 86,
          "metadata": {},
          "output_type": "execute_result"
        }
      ]
    },
    {
      "cell_type": "code",
      "metadata": {
        "execution": {
          "iopub.execute_input": "2021-11-29T20:19:30.546076Z",
          "iopub.status.busy": "2021-11-29T20:19:30.546076Z",
          "iopub.status.idle": "2021-11-29T20:19:30.577924Z",
          "shell.execute_reply": "2021-11-29T20:19:30.576968Z",
          "shell.execute_reply.started": "2021-11-29T20:19:30.546076Z"
        },
        "tags": [],
        "id": "e54540ad-1a82-43b7-9555-dd66829bb026",
        "outputId": "76246163-a88c-4150-d813-72a69b3e8b95"
      },
      "source": [
        "y_pred_final = np.argmax(y_pred, axis=1)\n",
        "print(classification_report(y_test_bin, y_pred_final))"
      ],
      "id": "e54540ad-1a82-43b7-9555-dd66829bb026",
      "execution_count": null,
      "outputs": [
        {
          "name": "stdout",
          "output_type": "stream",
          "text": [
            "              precision    recall  f1-score   support\n",
            "\n",
            "           0       0.89      0.33      0.48       647\n",
            "           1       0.66      0.97      0.78       853\n",
            "\n",
            "    accuracy                           0.69      1500\n",
            "   macro avg       0.77      0.65      0.63      1500\n",
            "weighted avg       0.76      0.69      0.65      1500\n",
            "\n"
          ]
        }
      ]
    },
    {
      "cell_type": "code",
      "metadata": {
        "execution": {
          "iopub.execute_input": "2021-11-29T20:20:18.848836Z",
          "iopub.status.busy": "2021-11-29T20:20:18.847834Z",
          "iopub.status.idle": "2021-11-29T20:20:18.925044Z",
          "shell.execute_reply": "2021-11-29T20:20:18.924045Z",
          "shell.execute_reply.started": "2021-11-29T20:20:18.847834Z"
        },
        "tags": [],
        "id": "654cbd67-d9db-48f4-bf90-d46d43721a39",
        "outputId": "000fa49b-513f-47e3-d911-f7b782f9ab94"
      },
      "source": [
        "thresholds = [0.4, 0.5, .6, 0.7, 0.8, 0.9]\n",
        "\n",
        "for thres in thresholds:\n",
        "    print(\"\\n\", \"-\"*50)\n",
        "    print(f\"{thres = }\")\n",
        "    y_pred_final = [1 if max(pred)>=thres else 0 for pred in y_pred]\n",
        "    print(classification_report(y_test_bin, y_pred_final))\n",
        "    "
      ],
      "id": "654cbd67-d9db-48f4-bf90-d46d43721a39",
      "execution_count": null,
      "outputs": [
        {
          "name": "stdout",
          "output_type": "stream",
          "text": [
            "\n",
            " --------------------------------------------------\n",
            "thres = 0.4\n",
            "              precision    recall  f1-score   support\n",
            "\n",
            "           0       0.00      0.00      0.00       647\n",
            "           1       0.57      1.00      0.73       853\n",
            "\n",
            "    accuracy                           0.57      1500\n",
            "   macro avg       0.28      0.50      0.36      1500\n",
            "weighted avg       0.32      0.57      0.41      1500\n",
            "\n",
            "\n",
            " --------------------------------------------------\n",
            "thres = 0.5\n",
            "              precision    recall  f1-score   support\n",
            "\n",
            "           0       0.00      0.00      0.00       647\n",
            "           1       0.57      1.00      0.73       853\n",
            "\n",
            "    accuracy                           0.57      1500\n",
            "   macro avg       0.28      0.50      0.36      1500\n",
            "weighted avg       0.32      0.57      0.41      1500\n",
            "\n",
            "\n",
            " --------------------------------------------------\n",
            "thres = 0.6\n",
            "              precision    recall  f1-score   support\n",
            "\n",
            "           0       0.69      0.25      0.37       647\n",
            "           1       0.62      0.92      0.74       853\n",
            "\n",
            "    accuracy                           0.63      1500\n",
            "   macro avg       0.66      0.58      0.55      1500\n",
            "weighted avg       0.65      0.63      0.58      1500\n",
            "\n",
            "\n",
            " --------------------------------------------------\n",
            "thres = 0.7\n",
            "              precision    recall  f1-score   support\n",
            "\n",
            "           0       0.70      0.53      0.60       647\n",
            "           1       0.70      0.83      0.76       853\n",
            "\n",
            "    accuracy                           0.70      1500\n",
            "   macro avg       0.70      0.68      0.68      1500\n",
            "weighted avg       0.70      0.70      0.69      1500\n",
            "\n",
            "\n",
            " --------------------------------------------------\n",
            "thres = 0.8\n",
            "              precision    recall  f1-score   support\n",
            "\n",
            "           0       0.60      0.80      0.69       647\n",
            "           1       0.80      0.60      0.68       853\n",
            "\n",
            "    accuracy                           0.68      1500\n",
            "   macro avg       0.70      0.70      0.68      1500\n",
            "weighted avg       0.71      0.68      0.68      1500\n",
            "\n",
            "\n",
            " --------------------------------------------------\n",
            "thres = 0.9\n",
            "              precision    recall  f1-score   support\n",
            "\n",
            "           0       0.50      0.98      0.66       647\n",
            "           1       0.94      0.27      0.42       853\n",
            "\n",
            "    accuracy                           0.57      1500\n",
            "   macro avg       0.72      0.62      0.54      1500\n",
            "weighted avg       0.75      0.57      0.53      1500\n",
            "\n"
          ]
        },
        {
          "name": "stderr",
          "output_type": "stream",
          "text": [
            "C:\\Users\\Aartipol9\\miniconda3\\lib\\site-packages\\sklearn\\metrics\\_classification.py:1308: UndefinedMetricWarning: Precision and F-score are ill-defined and being set to 0.0 in labels with no predicted samples. Use `zero_division` parameter to control this behavior.\n",
            "  _warn_prf(average, modifier, msg_start, len(result))\n",
            "C:\\Users\\Aartipol9\\miniconda3\\lib\\site-packages\\sklearn\\metrics\\_classification.py:1308: UndefinedMetricWarning: Precision and F-score are ill-defined and being set to 0.0 in labels with no predicted samples. Use `zero_division` parameter to control this behavior.\n",
            "  _warn_prf(average, modifier, msg_start, len(result))\n",
            "C:\\Users\\Aartipol9\\miniconda3\\lib\\site-packages\\sklearn\\metrics\\_classification.py:1308: UndefinedMetricWarning: Precision and F-score are ill-defined and being set to 0.0 in labels with no predicted samples. Use `zero_division` parameter to control this behavior.\n",
            "  _warn_prf(average, modifier, msg_start, len(result))\n",
            "C:\\Users\\Aartipol9\\miniconda3\\lib\\site-packages\\sklearn\\metrics\\_classification.py:1308: UndefinedMetricWarning: Precision and F-score are ill-defined and being set to 0.0 in labels with no predicted samples. Use `zero_division` parameter to control this behavior.\n",
            "  _warn_prf(average, modifier, msg_start, len(result))\n",
            "C:\\Users\\Aartipol9\\miniconda3\\lib\\site-packages\\sklearn\\metrics\\_classification.py:1308: UndefinedMetricWarning: Precision and F-score are ill-defined and being set to 0.0 in labels with no predicted samples. Use `zero_division` parameter to control this behavior.\n",
            "  _warn_prf(average, modifier, msg_start, len(result))\n",
            "C:\\Users\\Aartipol9\\miniconda3\\lib\\site-packages\\sklearn\\metrics\\_classification.py:1308: UndefinedMetricWarning: Precision and F-score are ill-defined and being set to 0.0 in labels with no predicted samples. Use `zero_division` parameter to control this behavior.\n",
            "  _warn_prf(average, modifier, msg_start, len(result))\n"
          ]
        }
      ]
    },
    {
      "cell_type": "markdown",
      "metadata": {
        "id": "22126fde-6b33-4a84-a9c4-68d3a88bb564"
      },
      "source": [
        "## model bias free"
      ],
      "id": "22126fde-6b33-4a84-a9c4-68d3a88bb564"
    },
    {
      "cell_type": "code",
      "metadata": {
        "execution": {
          "iopub.execute_input": "2021-11-29T20:39:32.672082Z",
          "iopub.status.busy": "2021-11-29T20:39:32.672082Z",
          "iopub.status.idle": "2021-11-29T20:39:32.705091Z",
          "shell.execute_reply": "2021-11-29T20:39:32.703085Z",
          "shell.execute_reply.started": "2021-11-29T20:39:32.672082Z"
        },
        "tags": [],
        "id": "8bf51961-ab2f-4df9-bfd1-521de41a5378"
      },
      "source": [
        "def build_lstm_model_bias_free(embedding_matrix, EMBED_DIM, NUM_LABELS_REVIEW, NUM_LABELS_GENRE, verbose=False):\n",
        "\n",
        "    input_ = Input(shape=(MAX_SEQ_LEN,), name=\"input\")\n",
        "    \n",
        "    embed_rating = Embedding(input_dim=VOCAB_SIZE, output_dim=EMBED_DIM, input_length = MAX_SEQ_LEN,\n",
        "                           weights=[embedding_matrix], trainable=False, mask_zero=True, name='embed_rating')(input_)\n",
        "    \n",
        "    embed_genre = Embedding(input_dim=VOCAB_SIZE, output_dim=EMBED_DIM, input_length = MAX_SEQ_LEN,\n",
        "                           weights=[embedding_matrix], trainable=False, mask_zero=True, name='embed_genre')(input_)\n",
        "    \n",
        "    lstm_rating = Bidirectional(LSTM(units=64, dropout=.1, recurrent_dropout=0.1,\n",
        "                               kernel_regularizer = regularizers.l2(0.01)), name=\"lstm_rating\")(embed_rating)\n",
        "    \n",
        "    lstm_genre = Bidirectional(LSTM(units=64, dropout=.1, recurrent_dropout=0.1,\n",
        "                               kernel_regularizer = regularizers.l2(0.01)), name=\"lstm_genre\")(embed_genre)\n",
        "    \n",
        "    concat_layer = concatenate([lstm_rating, lstm_genre])\n",
        "    \n",
        "    dense_layer = Dense(128, activation='relu')(concat_layer)\n",
        "    dense_layer = Dense(64, activation='relu')(dense_layer)\n",
        "    \n",
        "    out_rating = Dense(NUM_LABELS_REVIEW, activation='softmax', name='output_rating')(dense_layer)\n",
        "    out_genre = Dense(NUM_LABELS_GENRE, activation='softmax', name='output_genre')(dense_layer)\n",
        "     \n",
        "    model = Model(input_, [out_rating, out_genre])\n",
        "    \n",
        "    if verbose:\n",
        "        print(model.summary())\n",
        "        \n",
        "    return model\n"
      ],
      "id": "8bf51961-ab2f-4df9-bfd1-521de41a5378",
      "execution_count": null,
      "outputs": []
    },
    {
      "cell_type": "code",
      "metadata": {
        "execution": {
          "iopub.execute_input": "2021-11-29T21:04:28.837160Z",
          "iopub.status.busy": "2021-11-29T21:04:28.836126Z",
          "iopub.status.idle": "2021-11-29T21:04:29.705733Z",
          "shell.execute_reply": "2021-11-29T21:04:29.702428Z",
          "shell.execute_reply.started": "2021-11-29T21:04:28.837160Z"
        },
        "tags": [],
        "colab": {
          "base_uri": "https://localhost:8080/"
        },
        "id": "e2ad9f28-16ed-4a1d-ad42-b2a6ee5a0a09",
        "outputId": "2e901c4b-7984-4823-c36f-7849add39dda"
      },
      "source": [
        "model_bias_free = build_lstm_model_bias_free(glove_embed_matrix, EMBED_DIM, NUM_LABELS_REVIEW=2, NUM_LABELS_GENRE=9, verbose=True)"
      ],
      "id": "e2ad9f28-16ed-4a1d-ad42-b2a6ee5a0a09",
      "execution_count": null,
      "outputs": [
        {
          "output_type": "stream",
          "name": "stdout",
          "text": [
            "WARNING:tensorflow:Layer lstm will not use cuDNN kernels since it doesn't meet the criteria. It will use a generic GPU kernel as fallback when running on GPU.\n",
            "WARNING:tensorflow:Layer lstm will not use cuDNN kernels since it doesn't meet the criteria. It will use a generic GPU kernel as fallback when running on GPU.\n",
            "WARNING:tensorflow:Layer lstm will not use cuDNN kernels since it doesn't meet the criteria. It will use a generic GPU kernel as fallback when running on GPU.\n",
            "WARNING:tensorflow:Layer lstm_1 will not use cuDNN kernels since it doesn't meet the criteria. It will use a generic GPU kernel as fallback when running on GPU.\n",
            "WARNING:tensorflow:Layer lstm_1 will not use cuDNN kernels since it doesn't meet the criteria. It will use a generic GPU kernel as fallback when running on GPU.\n",
            "WARNING:tensorflow:Layer lstm_1 will not use cuDNN kernels since it doesn't meet the criteria. It will use a generic GPU kernel as fallback when running on GPU.\n",
            "Model: \"model\"\n",
            "__________________________________________________________________________________________________\n",
            " Layer (type)                   Output Shape         Param #     Connected to                     \n",
            "==================================================================================================\n",
            " input (InputLayer)             [(None, 300)]        0           []                               \n",
            "                                                                                                  \n",
            " embed_rating (Embedding)       (None, 300, 50)      1750000     ['input[0][0]']                  \n",
            "                                                                                                  \n",
            " embed_genre (Embedding)        (None, 300, 50)      1750000     ['input[0][0]']                  \n",
            "                                                                                                  \n",
            " lstm_rating (Bidirectional)    (None, 128)          58880       ['embed_rating[0][0]']           \n",
            "                                                                                                  \n",
            " lstm_genre (Bidirectional)     (None, 128)          58880       ['embed_genre[0][0]']            \n",
            "                                                                                                  \n",
            " concatenate (Concatenate)      (None, 256)          0           ['lstm_rating[0][0]',            \n",
            "                                                                  'lstm_genre[0][0]']             \n",
            "                                                                                                  \n",
            " dense (Dense)                  (None, 128)          32896       ['concatenate[0][0]']            \n",
            "                                                                                                  \n",
            " dense_1 (Dense)                (None, 64)           8256        ['dense[0][0]']                  \n",
            "                                                                                                  \n",
            " output_rating (Dense)          (None, 2)            130         ['dense_1[0][0]']                \n",
            "                                                                                                  \n",
            " output_genre (Dense)           (None, 9)            585         ['dense_1[0][0]']                \n",
            "                                                                                                  \n",
            "==================================================================================================\n",
            "Total params: 3,659,627\n",
            "Trainable params: 159,627\n",
            "Non-trainable params: 3,500,000\n",
            "__________________________________________________________________________________________________\n",
            "None\n"
          ]
        }
      ]
    },
    {
      "cell_type": "code",
      "metadata": {
        "execution": {
          "iopub.execute_input": "2021-11-29T21:03:14.741988Z",
          "iopub.status.busy": "2021-11-29T21:03:14.741988Z",
          "iopub.status.idle": "2021-11-29T21:03:14.762003Z",
          "shell.execute_reply": "2021-11-29T21:03:14.761027Z",
          "shell.execute_reply.started": "2021-11-29T21:03:14.741988Z"
        },
        "tags": [],
        "colab": {
          "base_uri": "https://localhost:8080/"
        },
        "id": "a05c9705-c5e0-4a08-8d77-127b300114d0",
        "outputId": "621ada20-7113-4f37-a292-19b367eedcb6"
      },
      "source": [
        "y_train_bin = df_train.review_class_bin_int.values\n",
        "y_test_bin = df_test.review_class_bin_int.values\n",
        "\n",
        "y_train_genre = df_train.genre_label.values\n",
        "y_test_genre = df_test.genre_label.values\n",
        "\n",
        "\n",
        "print(Counter(y_train_bin))\n",
        "print(Counter(y_test_bin))\n",
        "print(len(y_train_bin), len(y_test_bin))\n",
        "print(\"\")\n",
        "\n",
        "print(Counter(y_train_genre))\n",
        "print(Counter(y_test_genre))\n",
        "print(len(y_train_genre), len(y_test_genre))\n"
      ],
      "id": "a05c9705-c5e0-4a08-8d77-127b300114d0",
      "execution_count": null,
      "outputs": [
        {
          "output_type": "stream",
          "name": "stdout",
          "text": [
            "Counter({1: 3377, 0: 2623})\n",
            "Counter({1: 862, 0: 638})\n",
            "6000 1500\n",
            "\n",
            "Counter({0: 1789, 1: 1297, 2: 1182, 3: 685, 4: 369, 5: 269, 6: 234, 7: 153, 8: 22})\n",
            "Counter({0: 432, 1: 325, 2: 302, 3: 165, 5: 94, 4: 83, 6: 61, 7: 34, 8: 4})\n",
            "6000 1500\n"
          ]
        }
      ]
    },
    {
      "cell_type": "markdown",
      "metadata": {
        "id": "ttiuh2t9o9Ai"
      },
      "source": [
        "### alpha = -0.5"
      ],
      "id": "ttiuh2t9o9Ai"
    },
    {
      "cell_type": "code",
      "metadata": {
        "execution": {
          "iopub.execute_input": "2021-11-29T21:04:31.711460Z",
          "iopub.status.busy": "2021-11-29T21:04:31.711460Z",
          "iopub.status.idle": "2021-11-29T21:04:31.724430Z",
          "shell.execute_reply": "2021-11-29T21:04:31.723465Z",
          "shell.execute_reply.started": "2021-11-29T21:04:31.711460Z"
        },
        "tags": [],
        "id": "b61bef53-a55e-4684-a077-2a4709203ee0"
      },
      "source": [
        "#Since our inputs and outputs are named (we passed them a \"name\" argument)\n",
        "\n",
        "# optimizer = SGD(learning_rate=0.01, momentum=0.9)\n",
        "optimizer = Adam()\n",
        "loss = sparse_categorical_crossentropy\n",
        "alpha = -0.5\n",
        "\n",
        "model_bias_free .compile(optimizer=optimizer,\n",
        "                         loss={'output_rating': loss, 'output_genre': loss},\n",
        "                         loss_weights={'output_rating': 1., 'output_genre': alpha},\n",
        "                         metrics = ['accuracy'])"
      ],
      "id": "b61bef53-a55e-4684-a077-2a4709203ee0",
      "execution_count": null,
      "outputs": []
    },
    {
      "cell_type": "code",
      "metadata": {
        "id": "uWmPtuCkl-4P"
      },
      "source": [
        "model_folder = 'saved_models/'\n",
        "checkpoint_callback = ModelCheckpoint(model_folder + 'lstm_bias_{epoch:02d}_{val_output_rating_accuracy:.4f}.h5', save_best_only=True, \n",
        "                                      monitor='val_output_rating_accuracy', verbose=1)\n",
        "earlystop_callback = EarlyStopping(monitor='val_output_rating_accuracy', patience=5, restore_best_weights=True, verbose=1)"
      ],
      "id": "uWmPtuCkl-4P",
      "execution_count": null,
      "outputs": []
    },
    {
      "cell_type": "code",
      "metadata": {
        "execution": {
          "iopub.execute_input": "2021-11-29T21:04:39.952838Z",
          "iopub.status.busy": "2021-11-29T21:04:39.951872Z"
        },
        "tags": [],
        "colab": {
          "base_uri": "https://localhost:8080/"
        },
        "id": "30f2aa00-7966-4924-bfa9-ab85924c37f0",
        "outputId": "8cdb6718-4746-49a9-8474-8186244e777a"
      },
      "source": [
        "epochs = 5\n",
        "batch_size = 512\n",
        "\n",
        "history_bias_free = model_bias_free.fit(x_train_idx_padded, \n",
        "                                        y={\"output_rating\": y_train_bin, \"output_genre\": y_train_genre},\n",
        "                                        batch_size = batch_size,\n",
        "                                        epochs = epochs,\n",
        "                                        callbacks = [checkpoint_callback, earlystop_callback],\n",
        "                                        validation_data=(x_test_idx_padded,\n",
        "                                                         {\"output_rating\": y_test_bin, \"output_genre\": y_test_genre}),\n",
        "                                       )"
      ],
      "id": "30f2aa00-7966-4924-bfa9-ab85924c37f0",
      "execution_count": null,
      "outputs": [
        {
          "output_type": "stream",
          "name": "stdout",
          "text": [
            "Epoch 1/5\n",
            "12/12 [==============================] - ETA: 0s - loss: -8.0969 - output_rating_loss: 0.6990 - output_genre_loss: 22.5246 - output_rating_accuracy: 0.5673 - output_genre_accuracy: 0.0615\n",
            "Epoch 00001: val_output_rating_accuracy improved from -inf to 0.58000, saving model to saved_models/lstm_bias_01_0.5800.h5\n",
            "12/12 [==============================] - 125s 9s/step - loss: -8.0969 - output_rating_loss: 0.6990 - output_genre_loss: 22.5246 - output_rating_accuracy: 0.5673 - output_genre_accuracy: 0.0615 - val_loss: -22.3002 - val_output_rating_loss: 0.6627 - val_output_genre_loss: 50.4618 - val_output_rating_accuracy: 0.5800 - val_output_genre_accuracy: 0.0553\n",
            "Epoch 2/5\n",
            "12/12 [==============================] - ETA: 0s - loss: -43.7051 - output_rating_loss: 0.6729 - output_genre_loss: 93.0140 - output_rating_accuracy: 0.5802 - output_genre_accuracy: 0.0615\n",
            "Epoch 00002: val_output_rating_accuracy did not improve from 0.58000\n",
            "12/12 [==============================] - 108s 9s/step - loss: -43.7051 - output_rating_loss: 0.6729 - output_genre_loss: 93.0140 - output_rating_accuracy: 0.5802 - output_genre_accuracy: 0.0615 - val_loss: -79.0790 - val_output_rating_loss: 0.6874 - val_output_genre_loss: 163.4679 - val_output_rating_accuracy: 0.5500 - val_output_genre_accuracy: 0.0553\n",
            "Epoch 3/5\n",
            "12/12 [==============================] - ETA: 0s - loss: -124.8899 - output_rating_loss: 0.7071 - output_genre_loss: 254.9043 - output_rating_accuracy: 0.5353 - output_genre_accuracy: 0.0615\n",
            "Epoch 00003: val_output_rating_accuracy did not improve from 0.58000\n",
            "12/12 [==============================] - 107s 9s/step - loss: -124.8899 - output_rating_loss: 0.7071 - output_genre_loss: 254.9043 - output_rating_accuracy: 0.5353 - output_genre_accuracy: 0.0615 - val_loss: -195.4134 - val_output_rating_loss: 0.7326 - val_output_genre_loss: 395.7473 - val_output_rating_accuracy: 0.4253 - val_output_genre_accuracy: 0.0553\n",
            "Epoch 4/5\n",
            "12/12 [==============================] - ETA: 0s - loss: -275.7245 - output_rating_loss: 0.7233 - output_genre_loss: 556.1738 - output_rating_accuracy: 0.4978 - output_genre_accuracy: 0.0615\n",
            "Epoch 00004: val_output_rating_accuracy did not improve from 0.58000\n",
            "12/12 [==============================] - 105s 9s/step - loss: -275.7245 - output_rating_loss: 0.7233 - output_genre_loss: 556.1738 - output_rating_accuracy: 0.4978 - output_genre_accuracy: 0.0615 - val_loss: -395.1035 - val_output_rating_loss: 0.7103 - val_output_genre_loss: 794.7007 - val_output_rating_accuracy: 0.4253 - val_output_genre_accuracy: 0.0553\n",
            "Epoch 5/5\n",
            "12/12 [==============================] - ETA: 0s - loss: -523.5527 - output_rating_loss: 0.7434 - output_genre_loss: 1051.5183 - output_rating_accuracy: 0.5082 - output_genre_accuracy: 0.0615\n",
            "Epoch 00005: val_output_rating_accuracy did not improve from 0.58000\n",
            "12/12 [==============================] - 104s 9s/step - loss: -523.5527 - output_rating_loss: 0.7434 - output_genre_loss: 1051.5183 - output_rating_accuracy: 0.5082 - output_genre_accuracy: 0.0615 - val_loss: -709.7708 - val_output_rating_loss: 1.0545 - val_output_genre_loss: 1424.4025 - val_output_rating_accuracy: 0.4253 - val_output_genre_accuracy: 0.0553\n"
          ]
        }
      ]
    },
    {
      "cell_type": "markdown",
      "metadata": {
        "id": "9dZ7a8HLFjPM"
      },
      "source": [
        "#### plots"
      ],
      "id": "9dZ7a8HLFjPM"
    },
    {
      "cell_type": "code",
      "metadata": {
        "colab": {
          "base_uri": "https://localhost:8080/",
          "height": 226
        },
        "id": "yUjXjMSnB1qk",
        "outputId": "81b29750-4826-4a8b-8b37-c65bef20e197"
      },
      "source": [
        "pd.DataFrame(history_bias_free.history)"
      ],
      "id": "yUjXjMSnB1qk",
      "execution_count": null,
      "outputs": [
        {
          "output_type": "execute_result",
          "data": {
            "text/html": [
              "<div>\n",
              "<style scoped>\n",
              "    .dataframe tbody tr th:only-of-type {\n",
              "        vertical-align: middle;\n",
              "    }\n",
              "\n",
              "    .dataframe tbody tr th {\n",
              "        vertical-align: top;\n",
              "    }\n",
              "\n",
              "    .dataframe thead th {\n",
              "        text-align: right;\n",
              "    }\n",
              "</style>\n",
              "<table border=\"1\" class=\"dataframe\">\n",
              "  <thead>\n",
              "    <tr style=\"text-align: right;\">\n",
              "      <th></th>\n",
              "      <th>loss</th>\n",
              "      <th>output_rating_loss</th>\n",
              "      <th>output_genre_loss</th>\n",
              "      <th>output_rating_accuracy</th>\n",
              "      <th>output_genre_accuracy</th>\n",
              "      <th>val_loss</th>\n",
              "      <th>val_output_rating_loss</th>\n",
              "      <th>val_output_genre_loss</th>\n",
              "      <th>val_output_rating_accuracy</th>\n",
              "      <th>val_output_genre_accuracy</th>\n",
              "    </tr>\n",
              "  </thead>\n",
              "  <tbody>\n",
              "    <tr>\n",
              "      <th>0</th>\n",
              "      <td>3.407258</td>\n",
              "      <td>0.674142</td>\n",
              "      <td>2.346550</td>\n",
              "      <td>0.585833</td>\n",
              "      <td>0.095000</td>\n",
              "      <td>2.913821</td>\n",
              "      <td>0.628570</td>\n",
              "      <td>2.809865</td>\n",
              "      <td>0.629333</td>\n",
              "      <td>0.042667</td>\n",
              "    </tr>\n",
              "    <tr>\n",
              "      <th>1</th>\n",
              "      <td>2.413059</td>\n",
              "      <td>0.611402</td>\n",
              "      <td>4.834399</td>\n",
              "      <td>0.667333</td>\n",
              "      <td>0.040500</td>\n",
              "      <td>1.544805</td>\n",
              "      <td>0.598194</td>\n",
              "      <td>10.233562</td>\n",
              "      <td>0.670000</td>\n",
              "      <td>0.062000</td>\n",
              "    </tr>\n",
              "    <tr>\n",
              "      <th>2</th>\n",
              "      <td>-0.001975</td>\n",
              "      <td>0.606136</td>\n",
              "      <td>23.728245</td>\n",
              "      <td>0.672833</td>\n",
              "      <td>0.044833</td>\n",
              "      <td>-2.909179</td>\n",
              "      <td>0.618467</td>\n",
              "      <td>50.652538</td>\n",
              "      <td>0.680000</td>\n",
              "      <td>0.062667</td>\n",
              "    </tr>\n",
              "    <tr>\n",
              "      <th>3</th>\n",
              "      <td>-7.897210</td>\n",
              "      <td>0.660616</td>\n",
              "      <td>99.476524</td>\n",
              "      <td>0.618833</td>\n",
              "      <td>0.044833</td>\n",
              "      <td>-15.654451</td>\n",
              "      <td>0.702771</td>\n",
              "      <td>175.835495</td>\n",
              "      <td>0.435333</td>\n",
              "      <td>0.062667</td>\n",
              "    </tr>\n",
              "    <tr>\n",
              "      <th>4</th>\n",
              "      <td>-25.709917</td>\n",
              "      <td>0.778464</td>\n",
              "      <td>276.077698</td>\n",
              "      <td>0.525833</td>\n",
              "      <td>0.044833</td>\n",
              "      <td>-39.182343</td>\n",
              "      <td>0.687709</td>\n",
              "      <td>408.692383</td>\n",
              "      <td>0.576000</td>\n",
              "      <td>0.062667</td>\n",
              "    </tr>\n",
              "  </tbody>\n",
              "</table>\n",
              "</div>"
            ],
            "text/plain": [
              "        loss  ...  val_output_genre_accuracy\n",
              "0   3.407258  ...                   0.042667\n",
              "1   2.413059  ...                   0.062000\n",
              "2  -0.001975  ...                   0.062667\n",
              "3  -7.897210  ...                   0.062667\n",
              "4 -25.709917  ...                   0.062667\n",
              "\n",
              "[5 rows x 10 columns]"
            ]
          },
          "metadata": {},
          "execution_count": 86
        }
      ]
    },
    {
      "cell_type": "code",
      "metadata": {
        "colab": {
          "base_uri": "https://localhost:8080/",
          "height": 226
        },
        "id": "C1zeGib_D3dH",
        "outputId": "deb9171a-b25c-4b70-fbad-ca5be006fd8c"
      },
      "source": [
        "df_log_05 = pd.read_csv(\"bias_free_logs_alpha=-0.5.csv\")\n",
        "df_log_05"
      ],
      "id": "C1zeGib_D3dH",
      "execution_count": 39,
      "outputs": [
        {
          "output_type": "execute_result",
          "data": {
            "text/html": [
              "<div>\n",
              "<style scoped>\n",
              "    .dataframe tbody tr th:only-of-type {\n",
              "        vertical-align: middle;\n",
              "    }\n",
              "\n",
              "    .dataframe tbody tr th {\n",
              "        vertical-align: top;\n",
              "    }\n",
              "\n",
              "    .dataframe thead th {\n",
              "        text-align: right;\n",
              "    }\n",
              "</style>\n",
              "<table border=\"1\" class=\"dataframe\">\n",
              "  <thead>\n",
              "    <tr style=\"text-align: right;\">\n",
              "      <th></th>\n",
              "      <th>loss</th>\n",
              "      <th>output_rating_loss</th>\n",
              "      <th>output_genre_loss</th>\n",
              "      <th>output_rating_accuracy</th>\n",
              "      <th>output_genre_accuracy</th>\n",
              "      <th>val_loss</th>\n",
              "      <th>val_output_rating_loss</th>\n",
              "      <th>val_output_genre_loss</th>\n",
              "      <th>val_output_rating_accuracy</th>\n",
              "      <th>val_output_genre_accuracy</th>\n",
              "    </tr>\n",
              "  </thead>\n",
              "  <tbody>\n",
              "    <tr>\n",
              "      <th>0</th>\n",
              "      <td>3.407258</td>\n",
              "      <td>0.674142</td>\n",
              "      <td>2.346550</td>\n",
              "      <td>0.585833</td>\n",
              "      <td>0.095000</td>\n",
              "      <td>2.913821</td>\n",
              "      <td>0.628570</td>\n",
              "      <td>2.809865</td>\n",
              "      <td>0.629333</td>\n",
              "      <td>0.042667</td>\n",
              "    </tr>\n",
              "    <tr>\n",
              "      <th>1</th>\n",
              "      <td>2.413059</td>\n",
              "      <td>0.611402</td>\n",
              "      <td>4.834399</td>\n",
              "      <td>0.667333</td>\n",
              "      <td>0.040500</td>\n",
              "      <td>1.544805</td>\n",
              "      <td>0.598194</td>\n",
              "      <td>10.233562</td>\n",
              "      <td>0.670000</td>\n",
              "      <td>0.062000</td>\n",
              "    </tr>\n",
              "    <tr>\n",
              "      <th>2</th>\n",
              "      <td>-0.001975</td>\n",
              "      <td>0.606136</td>\n",
              "      <td>23.728245</td>\n",
              "      <td>0.672833</td>\n",
              "      <td>0.044833</td>\n",
              "      <td>-2.909179</td>\n",
              "      <td>0.618467</td>\n",
              "      <td>50.652538</td>\n",
              "      <td>0.680000</td>\n",
              "      <td>0.062667</td>\n",
              "    </tr>\n",
              "    <tr>\n",
              "      <th>3</th>\n",
              "      <td>-7.897210</td>\n",
              "      <td>0.660616</td>\n",
              "      <td>99.476524</td>\n",
              "      <td>0.618833</td>\n",
              "      <td>0.044833</td>\n",
              "      <td>-15.654451</td>\n",
              "      <td>0.702771</td>\n",
              "      <td>175.835495</td>\n",
              "      <td>0.435333</td>\n",
              "      <td>0.062667</td>\n",
              "    </tr>\n",
              "    <tr>\n",
              "      <th>4</th>\n",
              "      <td>-25.709917</td>\n",
              "      <td>0.778464</td>\n",
              "      <td>276.077698</td>\n",
              "      <td>0.525833</td>\n",
              "      <td>0.044833</td>\n",
              "      <td>-39.182343</td>\n",
              "      <td>0.687709</td>\n",
              "      <td>408.692383</td>\n",
              "      <td>0.576000</td>\n",
              "      <td>0.062667</td>\n",
              "    </tr>\n",
              "  </tbody>\n",
              "</table>\n",
              "</div>"
            ],
            "text/plain": [
              "        loss  ...  val_output_genre_accuracy\n",
              "0   3.407258  ...                   0.042667\n",
              "1   2.413059  ...                   0.062000\n",
              "2  -0.001975  ...                   0.062667\n",
              "3  -7.897210  ...                   0.062667\n",
              "4 -25.709917  ...                   0.062667\n",
              "\n",
              "[5 rows x 10 columns]"
            ]
          },
          "metadata": {},
          "execution_count": 39
        }
      ]
    },
    {
      "cell_type": "code",
      "metadata": {
        "colab": {
          "base_uri": "https://localhost:8080/",
          "height": 500
        },
        "id": "bkMUiboEEsr8",
        "outputId": "9af1cca4-5f8d-4446-8b6e-f7908e4b3de7"
      },
      "source": [
        "df_log_05[[\"val_loss\", \"val_output_rating_loss\", \"val_output_genre_loss\"]].plot(figsize=(10, 8))"
      ],
      "id": "bkMUiboEEsr8",
      "execution_count": 43,
      "outputs": [
        {
          "output_type": "execute_result",
          "data": {
            "text/plain": [
              "<matplotlib.axes._subplots.AxesSubplot at 0x7f9fbd013f90>"
            ]
          },
          "metadata": {},
          "execution_count": 43
        },
        {
          "output_type": "display_data",
          "data": {
            "image/png": "[encoded data removed]",
            "text/plain": [
              "<Figure size 720x576 with 1 Axes>"
            ]
          },
          "metadata": {
            "needs_background": "light"
          }
        }
      ]
    },
    {
      "cell_type": "code",
      "metadata": {
        "colab": {
          "base_uri": "https://localhost:8080/",
          "height": 500
        },
        "id": "0z6fez3RE__8",
        "outputId": "00d4ddc9-7b8f-4cb9-a46f-23a2783770f7"
      },
      "source": [
        "df_log_05[[\"val_output_rating_accuracy\", \"val_output_genre_accuracy\"]].plot(figsize=(10, 8))"
      ],
      "id": "0z6fez3RE__8",
      "execution_count": 44,
      "outputs": [
        {
          "output_type": "execute_result",
          "data": {
            "text/plain": [
              "<matplotlib.axes._subplots.AxesSubplot at 0x7f9fbcf9f690>"
            ]
          },
          "metadata": {},
          "execution_count": 44
        },
        {
          "output_type": "display_data",
          "data": {
            "image/png": "[encoded data removed]",
            "text/plain": [
              "<Figure size 720x576 with 1 Axes>"
            ]
          },
          "metadata": {
            "needs_background": "light"
          }
        }
      ]
    },
    {
      "cell_type": "markdown",
      "metadata": {
        "id": "Ov2pq5Hcp447"
      },
      "source": [
        "#### prediction"
      ],
      "id": "Ov2pq5Hcp447"
    },
    {
      "cell_type": "code",
      "metadata": {
        "execution": {
          "iopub.execute_input": "2021-11-29T20:20:54.229970Z",
          "iopub.status.busy": "2021-11-29T20:20:54.228966Z",
          "iopub.status.idle": "2021-11-29T20:20:56.129771Z",
          "shell.execute_reply": "2021-11-29T20:20:56.129771Z",
          "shell.execute_reply.started": "2021-11-29T20:20:54.229970Z"
        },
        "tags": [],
        "colab": {
          "base_uri": "https://localhost:8080/"
        },
        "id": "uUzRn_S8p3qn",
        "outputId": "b91f375a-4ed2-4ffd-c9ae-db446e972cfa"
      },
      "source": [
        "y_pred = model_bias_free.predict(x_test_idx_padded)\n",
        "print(y_pred[0].shape, y_pred[1].shape)"
      ],
      "id": "uUzRn_S8p3qn",
      "execution_count": null,
      "outputs": [
        {
          "output_type": "stream",
          "name": "stdout",
          "text": [
            "(1500, 2) (1500, 9)\n"
          ]
        }
      ]
    },
    {
      "cell_type": "code",
      "metadata": {
        "colab": {
          "base_uri": "https://localhost:8080/"
        },
        "id": "J5dizyVKqbtT",
        "outputId": "2c459bc5-9857-4254-eb05-fe551ab9b71f"
      },
      "source": [
        "y_pred_rating = np.argmax(y_pred[0], axis=1)\n",
        "y_pred_genre = np.argmax(y_pred[1], axis=1)\n",
        "print(y_pred_rating.shape, y_pred_genre.shape)"
      ],
      "id": "J5dizyVKqbtT",
      "execution_count": null,
      "outputs": [
        {
          "output_type": "stream",
          "name": "stdout",
          "text": [
            "(1500,) (1500,)\n"
          ]
        }
      ]
    },
    {
      "cell_type": "code",
      "metadata": {
        "execution": {
          "iopub.execute_input": "2021-11-29T19:51:06.565672Z",
          "iopub.status.busy": "2021-11-29T19:51:06.564639Z",
          "iopub.status.idle": "2021-11-29T19:51:06.873696Z",
          "shell.execute_reply": "2021-11-29T19:51:06.873696Z",
          "shell.execute_reply.started": "2021-11-29T19:51:06.565672Z"
        },
        "tags": [],
        "id": "gF_5Yri9p3qo"
      },
      "source": [
        "# confusion matrix\n",
        "class_names = [\"bad\", \"good\"]\n",
        "cmat = confusion_matrix(y_test_bin, y_pred_rating)\n",
        "plt.figure(figsize=(12,10))\n",
        "sns.heatmap(cmat, xticklabels=class_names, yticklabels=class_names, fmt='d', annot=True, cmap='YlGnBu')\n",
        "plt.xlabel('Predicted')\n",
        "plt.ylabel('Actual')\n",
        "plt.show()"
      ],
      "id": "gF_5Yri9p3qo",
      "execution_count": null,
      "outputs": []
    },
    {
      "cell_type": "code",
      "metadata": {
        "execution": {
          "iopub.execute_input": "2021-11-29T20:21:19.294912Z",
          "iopub.status.busy": "2021-11-29T20:21:19.294912Z",
          "iopub.status.idle": "2021-11-29T20:21:19.310808Z",
          "shell.execute_reply": "2021-11-29T20:21:19.310539Z",
          "shell.execute_reply.started": "2021-11-29T20:21:19.294912Z"
        },
        "tags": [],
        "colab": {
          "base_uri": "https://localhost:8080/"
        },
        "id": "hSnhJGVvp3qp",
        "outputId": "913874d6-1ab4-4fd6-fbd5-d027539b995c"
      },
      "source": [
        "print(classification_report(y_test_bin, y_pred_rating))"
      ],
      "id": "hSnhJGVvp3qp",
      "execution_count": null,
      "outputs": [
        {
          "output_type": "stream",
          "name": "stdout",
          "text": [
            "              precision    recall  f1-score   support\n",
            "\n",
            "           0       0.43      1.00      0.60       638\n",
            "           1       0.00      0.00      0.00       862\n",
            "\n",
            "    accuracy                           0.43      1500\n",
            "   macro avg       0.21      0.50      0.30      1500\n",
            "weighted avg       0.18      0.43      0.25      1500\n",
            "\n"
          ]
        },
        {
          "output_type": "stream",
          "name": "stderr",
          "text": [
            "/usr/local/lib/python3.7/dist-packages/sklearn/metrics/_classification.py:1308: UndefinedMetricWarning: Precision and F-score are ill-defined and being set to 0.0 in labels with no predicted samples. Use `zero_division` parameter to control this behavior.\n",
            "  _warn_prf(average, modifier, msg_start, len(result))\n",
            "/usr/local/lib/python3.7/dist-packages/sklearn/metrics/_classification.py:1308: UndefinedMetricWarning: Precision and F-score are ill-defined and being set to 0.0 in labels with no predicted samples. Use `zero_division` parameter to control this behavior.\n",
            "  _warn_prf(average, modifier, msg_start, len(result))\n",
            "/usr/local/lib/python3.7/dist-packages/sklearn/metrics/_classification.py:1308: UndefinedMetricWarning: Precision and F-score are ill-defined and being set to 0.0 in labels with no predicted samples. Use `zero_division` parameter to control this behavior.\n",
            "  _warn_prf(average, modifier, msg_start, len(result))\n"
          ]
        }
      ]
    },
    {
      "cell_type": "code",
      "metadata": {
        "colab": {
          "base_uri": "https://localhost:8080/"
        },
        "id": "y0RPpFJwrOEU",
        "outputId": "5230c154-df77-4604-c713-f63c03e6e653"
      },
      "source": [
        "y_pred[0]"
      ],
      "id": "y0RPpFJwrOEU",
      "execution_count": null,
      "outputs": [
        {
          "output_type": "execute_result",
          "data": {
            "text/plain": [
              "array([[0.8146192 , 0.18538083],\n",
              "       [0.81384254, 0.18615748],\n",
              "       [0.81439555, 0.18560444],\n",
              "       ...,\n",
              "       [0.81434596, 0.18565404],\n",
              "       [0.81436676, 0.18563329],\n",
              "       [0.81423175, 0.18576828]], dtype=float32)"
            ]
          },
          "metadata": {},
          "execution_count": 77
        }
      ]
    },
    {
      "cell_type": "code",
      "metadata": {
        "colab": {
          "base_uri": "https://localhost:8080/"
        },
        "id": "DKKKnfTFq3ob",
        "outputId": "c949cc79-93d5-42d5-d811-24b8b517b000"
      },
      "source": [
        "thresholds = [0.1, 0.2, 0.3, 0.4, 0.5, 0.6]\n",
        "\n",
        "for thres in thresholds:\n",
        "    print(\"\\n\", \"-\"*50)\n",
        "    print(f\"thres: {thres}\")\n",
        "    y_pred_rating = [1 if pred[1]>=thres else 0 for pred in y_pred[0]]\n",
        "    print(classification_report(y_test_bin, y_pred_rating))\n",
        "    "
      ],
      "id": "DKKKnfTFq3ob",
      "execution_count": null,
      "outputs": [
        {
          "output_type": "stream",
          "name": "stdout",
          "text": [
            "\n",
            " --------------------------------------------------\n",
            "thres: 0.1\n",
            "              precision    recall  f1-score   support\n",
            "\n",
            "           0       0.00      0.00      0.00       638\n",
            "           1       0.57      1.00      0.73       862\n",
            "\n",
            "    accuracy                           0.57      1500\n",
            "   macro avg       0.29      0.50      0.36      1500\n",
            "weighted avg       0.33      0.57      0.42      1500\n",
            "\n",
            "\n",
            " --------------------------------------------------\n",
            "thres: 0.2\n",
            "              precision    recall  f1-score   support\n",
            "\n",
            "           0       0.43      1.00      0.60       638\n",
            "           1       1.00      0.00      0.00       862\n",
            "\n",
            "    accuracy                           0.43      1500\n",
            "   macro avg       0.71      0.50      0.30      1500\n",
            "weighted avg       0.76      0.43      0.26      1500\n",
            "\n",
            "\n",
            " --------------------------------------------------\n",
            "thres: 0.3\n",
            "              precision    recall  f1-score   support\n",
            "\n",
            "           0       0.43      1.00      0.60       638\n",
            "           1       0.00      0.00      0.00       862\n",
            "\n",
            "    accuracy                           0.43      1500\n",
            "   macro avg       0.21      0.50      0.30      1500\n",
            "weighted avg       0.18      0.43      0.25      1500\n",
            "\n",
            "\n",
            " --------------------------------------------------\n",
            "thres: 0.4\n",
            "              precision    recall  f1-score   support\n",
            "\n",
            "           0       0.43      1.00      0.60       638\n",
            "           1       0.00      0.00      0.00       862\n",
            "\n",
            "    accuracy                           0.43      1500\n",
            "   macro avg       0.21      0.50      0.30      1500\n",
            "weighted avg       0.18      0.43      0.25      1500\n",
            "\n",
            "\n",
            " --------------------------------------------------\n",
            "thres: 0.5\n",
            "              precision    recall  f1-score   support\n",
            "\n",
            "           0       0.43      1.00      0.60       638\n",
            "           1       0.00      0.00      0.00       862\n",
            "\n",
            "    accuracy                           0.43      1500\n",
            "   macro avg       0.21      0.50      0.30      1500\n",
            "weighted avg       0.18      0.43      0.25      1500\n",
            "\n",
            "\n",
            " --------------------------------------------------\n",
            "thres: 0.6\n",
            "              precision    recall  f1-score   support\n",
            "\n",
            "           0       0.43      1.00      0.60       638\n",
            "           1       0.00      0.00      0.00       862\n",
            "\n",
            "    accuracy                           0.43      1500\n",
            "   macro avg       0.21      0.50      0.30      1500\n",
            "weighted avg       0.18      0.43      0.25      1500\n",
            "\n"
          ]
        },
        {
          "output_type": "stream",
          "name": "stderr",
          "text": [
            "/usr/local/lib/python3.7/dist-packages/sklearn/metrics/_classification.py:1308: UndefinedMetricWarning: Precision and F-score are ill-defined and being set to 0.0 in labels with no predicted samples. Use `zero_division` parameter to control this behavior.\n",
            "  _warn_prf(average, modifier, msg_start, len(result))\n",
            "/usr/local/lib/python3.7/dist-packages/sklearn/metrics/_classification.py:1308: UndefinedMetricWarning: Precision and F-score are ill-defined and being set to 0.0 in labels with no predicted samples. Use `zero_division` parameter to control this behavior.\n",
            "  _warn_prf(average, modifier, msg_start, len(result))\n",
            "/usr/local/lib/python3.7/dist-packages/sklearn/metrics/_classification.py:1308: UndefinedMetricWarning: Precision and F-score are ill-defined and being set to 0.0 in labels with no predicted samples. Use `zero_division` parameter to control this behavior.\n",
            "  _warn_prf(average, modifier, msg_start, len(result))\n",
            "/usr/local/lib/python3.7/dist-packages/sklearn/metrics/_classification.py:1308: UndefinedMetricWarning: Precision and F-score are ill-defined and being set to 0.0 in labels with no predicted samples. Use `zero_division` parameter to control this behavior.\n",
            "  _warn_prf(average, modifier, msg_start, len(result))\n",
            "/usr/local/lib/python3.7/dist-packages/sklearn/metrics/_classification.py:1308: UndefinedMetricWarning: Precision and F-score are ill-defined and being set to 0.0 in labels with no predicted samples. Use `zero_division` parameter to control this behavior.\n",
            "  _warn_prf(average, modifier, msg_start, len(result))\n",
            "/usr/local/lib/python3.7/dist-packages/sklearn/metrics/_classification.py:1308: UndefinedMetricWarning: Precision and F-score are ill-defined and being set to 0.0 in labels with no predicted samples. Use `zero_division` parameter to control this behavior.\n",
            "  _warn_prf(average, modifier, msg_start, len(result))\n",
            "/usr/local/lib/python3.7/dist-packages/sklearn/metrics/_classification.py:1308: UndefinedMetricWarning: Precision and F-score are ill-defined and being set to 0.0 in labels with no predicted samples. Use `zero_division` parameter to control this behavior.\n",
            "  _warn_prf(average, modifier, msg_start, len(result))\n",
            "/usr/local/lib/python3.7/dist-packages/sklearn/metrics/_classification.py:1308: UndefinedMetricWarning: Precision and F-score are ill-defined and being set to 0.0 in labels with no predicted samples. Use `zero_division` parameter to control this behavior.\n",
            "  _warn_prf(average, modifier, msg_start, len(result))\n",
            "/usr/local/lib/python3.7/dist-packages/sklearn/metrics/_classification.py:1308: UndefinedMetricWarning: Precision and F-score are ill-defined and being set to 0.0 in labels with no predicted samples. Use `zero_division` parameter to control this behavior.\n",
            "  _warn_prf(average, modifier, msg_start, len(result))\n",
            "/usr/local/lib/python3.7/dist-packages/sklearn/metrics/_classification.py:1308: UndefinedMetricWarning: Precision and F-score are ill-defined and being set to 0.0 in labels with no predicted samples. Use `zero_division` parameter to control this behavior.\n",
            "  _warn_prf(average, modifier, msg_start, len(result))\n",
            "/usr/local/lib/python3.7/dist-packages/sklearn/metrics/_classification.py:1308: UndefinedMetricWarning: Precision and F-score are ill-defined and being set to 0.0 in labels with no predicted samples. Use `zero_division` parameter to control this behavior.\n",
            "  _warn_prf(average, modifier, msg_start, len(result))\n",
            "/usr/local/lib/python3.7/dist-packages/sklearn/metrics/_classification.py:1308: UndefinedMetricWarning: Precision and F-score are ill-defined and being set to 0.0 in labels with no predicted samples. Use `zero_division` parameter to control this behavior.\n",
            "  _warn_prf(average, modifier, msg_start, len(result))\n",
            "/usr/local/lib/python3.7/dist-packages/sklearn/metrics/_classification.py:1308: UndefinedMetricWarning: Precision and F-score are ill-defined and being set to 0.0 in labels with no predicted samples. Use `zero_division` parameter to control this behavior.\n",
            "  _warn_prf(average, modifier, msg_start, len(result))\n",
            "/usr/local/lib/python3.7/dist-packages/sklearn/metrics/_classification.py:1308: UndefinedMetricWarning: Precision and F-score are ill-defined and being set to 0.0 in labels with no predicted samples. Use `zero_division` parameter to control this behavior.\n",
            "  _warn_prf(average, modifier, msg_start, len(result))\n",
            "/usr/local/lib/python3.7/dist-packages/sklearn/metrics/_classification.py:1308: UndefinedMetricWarning: Precision and F-score are ill-defined and being set to 0.0 in labels with no predicted samples. Use `zero_division` parameter to control this behavior.\n",
            "  _warn_prf(average, modifier, msg_start, len(result))\n"
          ]
        }
      ]
    },
    {
      "cell_type": "markdown",
      "metadata": {
        "id": "wg4UGF5lpDtI"
      },
      "source": [
        "### alpha = -0.10"
      ],
      "id": "wg4UGF5lpDtI"
    },
    {
      "cell_type": "code",
      "metadata": {
        "colab": {
          "base_uri": "https://localhost:8080/"
        },
        "id": "EW-Zm4C7sJex",
        "outputId": "bc60a246-dc8d-4131-8140-d2ba9b154816"
      },
      "source": [
        "model_bias_free = build_lstm_model_bias_free(glove_embed_matrix, EMBED_DIM, NUM_LABELS_REVIEW=2, NUM_LABELS_GENRE=9, verbose=True)"
      ],
      "id": "EW-Zm4C7sJex",
      "execution_count": null,
      "outputs": [
        {
          "output_type": "stream",
          "name": "stdout",
          "text": [
            "WARNING:tensorflow:Layer lstm_4 will not use cuDNN kernels since it doesn't meet the criteria. It will use a generic GPU kernel as fallback when running on GPU.\n",
            "WARNING:tensorflow:Layer lstm_4 will not use cuDNN kernels since it doesn't meet the criteria. It will use a generic GPU kernel as fallback when running on GPU.\n",
            "WARNING:tensorflow:Layer lstm_4 will not use cuDNN kernels since it doesn't meet the criteria. It will use a generic GPU kernel as fallback when running on GPU.\n",
            "WARNING:tensorflow:Layer lstm_5 will not use cuDNN kernels since it doesn't meet the criteria. It will use a generic GPU kernel as fallback when running on GPU.\n",
            "WARNING:tensorflow:Layer lstm_5 will not use cuDNN kernels since it doesn't meet the criteria. It will use a generic GPU kernel as fallback when running on GPU.\n",
            "WARNING:tensorflow:Layer lstm_5 will not use cuDNN kernels since it doesn't meet the criteria. It will use a generic GPU kernel as fallback when running on GPU.\n",
            "Model: \"model_2\"\n",
            "__________________________________________________________________________________________________\n",
            " Layer (type)                   Output Shape         Param #     Connected to                     \n",
            "==================================================================================================\n",
            " input (InputLayer)             [(None, 300)]        0           []                               \n",
            "                                                                                                  \n",
            " embed_rating (Embedding)       (None, 300, 50)      1750000     ['input[0][0]']                  \n",
            "                                                                                                  \n",
            " embed_genre (Embedding)        (None, 300, 50)      1750000     ['input[0][0]']                  \n",
            "                                                                                                  \n",
            " lstm_rating (Bidirectional)    (None, 128)          58880       ['embed_rating[0][0]']           \n",
            "                                                                                                  \n",
            " lstm_genre (Bidirectional)     (None, 128)          58880       ['embed_genre[0][0]']            \n",
            "                                                                                                  \n",
            " concatenate_2 (Concatenate)    (None, 256)          0           ['lstm_rating[0][0]',            \n",
            "                                                                  'lstm_genre[0][0]']             \n",
            "                                                                                                  \n",
            " dense_4 (Dense)                (None, 128)          32896       ['concatenate_2[0][0]']          \n",
            "                                                                                                  \n",
            " dense_5 (Dense)                (None, 64)           8256        ['dense_4[0][0]']                \n",
            "                                                                                                  \n",
            " output_rating (Dense)          (None, 2)            130         ['dense_5[0][0]']                \n",
            "                                                                                                  \n",
            " output_genre (Dense)           (None, 9)            585         ['dense_5[0][0]']                \n",
            "                                                                                                  \n",
            "==================================================================================================\n",
            "Total params: 3,659,627\n",
            "Trainable params: 159,627\n",
            "Non-trainable params: 3,500,000\n",
            "__________________________________________________________________________________________________\n",
            "None\n"
          ]
        }
      ]
    },
    {
      "cell_type": "code",
      "metadata": {
        "execution": {
          "iopub.execute_input": "2021-11-29T21:04:31.711460Z",
          "iopub.status.busy": "2021-11-29T21:04:31.711460Z",
          "iopub.status.idle": "2021-11-29T21:04:31.724430Z",
          "shell.execute_reply": "2021-11-29T21:04:31.723465Z",
          "shell.execute_reply.started": "2021-11-29T21:04:31.711460Z"
        },
        "tags": [],
        "id": "paYbO6S4pDtI"
      },
      "source": [
        "#Since our inputs and outputs are named (we passed them a \"name\" argument)\n",
        "\n",
        "# optimizer = SGD(learning_rate=0.01, momentum=0.9)\n",
        "optimizer = Adam()\n",
        "loss = sparse_categorical_crossentropy\n",
        "alpha = -0.10\n",
        "\n",
        "model_bias_free .compile(optimizer=optimizer,\n",
        "                         loss={'output_rating': loss, 'output_genre': loss},\n",
        "                         loss_weights={'output_rating': 1., 'output_genre': alpha},\n",
        "                         metrics = ['accuracy'])"
      ],
      "id": "paYbO6S4pDtI",
      "execution_count": null,
      "outputs": []
    },
    {
      "cell_type": "code",
      "metadata": {
        "execution": {
          "iopub.execute_input": "2021-11-29T21:04:39.952838Z",
          "iopub.status.busy": "2021-11-29T21:04:39.951872Z"
        },
        "tags": [],
        "colab": {
          "base_uri": "https://localhost:8080/"
        },
        "id": "36mwKih5pDtJ",
        "outputId": "263a7a57-da27-4906-f755-466f09b3a2c1"
      },
      "source": [
        "epochs = 5\n",
        "batch_size = 512\n",
        "\n",
        "history_bias_free = model_bias_free.fit(x_train_idx_padded, \n",
        "                                        y={\"output_rating\": y_train_bin, \"output_genre\": y_train_genre},\n",
        "                                        batch_size = batch_size,\n",
        "                                        epochs = epochs,\n",
        "                                        callbacks = [checkpoint_callback, earlystop_callback],\n",
        "                                        validation_data=(x_test_idx_padded,\n",
        "                                                         {\"output_rating\": y_test_bin, \"output_genre\": y_test_genre}),\n",
        "                                       )"
      ],
      "id": "36mwKih5pDtJ",
      "execution_count": null,
      "outputs": [
        {
          "output_type": "stream",
          "name": "stdout",
          "text": [
            "Epoch 1/5\n",
            "12/12 [==============================] - ETA: 0s - loss: 3.4073 - output_rating_loss: 0.6741 - output_genre_loss: 2.3465 - output_rating_accuracy: 0.5858 - output_genre_accuracy: 0.0950\n",
            "Epoch 00001: val_output_rating_accuracy improved from -inf to 0.62933, saving model to saved_models/lstm_bias_01_0.6293.h5\n",
            "12/12 [==============================] - 124s 9s/step - loss: 3.4073 - output_rating_loss: 0.6741 - output_genre_loss: 2.3465 - output_rating_accuracy: 0.5858 - output_genre_accuracy: 0.0950 - val_loss: 2.9138 - val_output_rating_loss: 0.6286 - val_output_genre_loss: 2.8099 - val_output_rating_accuracy: 0.6293 - val_output_genre_accuracy: 0.0427\n",
            "Epoch 2/5\n",
            "12/12 [==============================] - ETA: 0s - loss: 2.4131 - output_rating_loss: 0.6114 - output_genre_loss: 4.8344 - output_rating_accuracy: 0.6673 - output_genre_accuracy: 0.0405\n",
            "Epoch 00002: val_output_rating_accuracy improved from 0.62933 to 0.67000, saving model to saved_models/lstm_bias_02_0.6700.h5\n",
            "12/12 [==============================] - 110s 9s/step - loss: 2.4131 - output_rating_loss: 0.6114 - output_genre_loss: 4.8344 - output_rating_accuracy: 0.6673 - output_genre_accuracy: 0.0405 - val_loss: 1.5448 - val_output_rating_loss: 0.5982 - val_output_genre_loss: 10.2336 - val_output_rating_accuracy: 0.6700 - val_output_genre_accuracy: 0.0620\n",
            "Epoch 3/5\n",
            "12/12 [==============================] - ETA: 0s - loss: -0.0020 - output_rating_loss: 0.6061 - output_genre_loss: 23.7282 - output_rating_accuracy: 0.6728 - output_genre_accuracy: 0.0448\n",
            "Epoch 00003: val_output_rating_accuracy improved from 0.67000 to 0.68000, saving model to saved_models/lstm_bias_03_0.6800.h5\n",
            "12/12 [==============================] - 108s 9s/step - loss: -0.0020 - output_rating_loss: 0.6061 - output_genre_loss: 23.7282 - output_rating_accuracy: 0.6728 - output_genre_accuracy: 0.0448 - val_loss: -2.9092 - val_output_rating_loss: 0.6185 - val_output_genre_loss: 50.6525 - val_output_rating_accuracy: 0.6800 - val_output_genre_accuracy: 0.0627\n",
            "Epoch 4/5\n",
            "12/12 [==============================] - ETA: 0s - loss: -7.8972 - output_rating_loss: 0.6606 - output_genre_loss: 99.4765 - output_rating_accuracy: 0.6188 - output_genre_accuracy: 0.0448\n",
            "Epoch 00004: val_output_rating_accuracy did not improve from 0.68000\n",
            "12/12 [==============================] - 106s 9s/step - loss: -7.8972 - output_rating_loss: 0.6606 - output_genre_loss: 99.4765 - output_rating_accuracy: 0.6188 - output_genre_accuracy: 0.0448 - val_loss: -15.6545 - val_output_rating_loss: 0.7028 - val_output_genre_loss: 175.8355 - val_output_rating_accuracy: 0.4353 - val_output_genre_accuracy: 0.0627\n",
            "Epoch 5/5\n",
            "12/12 [==============================] - ETA: 0s - loss: -25.7099 - output_rating_loss: 0.7785 - output_genre_loss: 276.0777 - output_rating_accuracy: 0.5258 - output_genre_accuracy: 0.0448\n",
            "Epoch 00005: val_output_rating_accuracy did not improve from 0.68000\n",
            "12/12 [==============================] - 108s 9s/step - loss: -25.7099 - output_rating_loss: 0.7785 - output_genre_loss: 276.0777 - output_rating_accuracy: 0.5258 - output_genre_accuracy: 0.0448 - val_loss: -39.1823 - val_output_rating_loss: 0.6877 - val_output_genre_loss: 408.6924 - val_output_rating_accuracy: 0.5760 - val_output_genre_accuracy: 0.0627\n"
          ]
        }
      ]
    },
    {
      "cell_type": "code",
      "metadata": {
        "colab": {
          "base_uri": "https://localhost:8080/",
          "height": 226
        },
        "id": "tRc7t51vB3jU",
        "outputId": "81b29750-4826-4a8b-8b37-c65bef20e197"
      },
      "source": [
        "pd.DataFrame(history_bias_free.history)"
      ],
      "id": "tRc7t51vB3jU",
      "execution_count": null,
      "outputs": [
        {
          "output_type": "execute_result",
          "data": {
            "text/html": [
              "<div>\n",
              "<style scoped>\n",
              "    .dataframe tbody tr th:only-of-type {\n",
              "        vertical-align: middle;\n",
              "    }\n",
              "\n",
              "    .dataframe tbody tr th {\n",
              "        vertical-align: top;\n",
              "    }\n",
              "\n",
              "    .dataframe thead th {\n",
              "        text-align: right;\n",
              "    }\n",
              "</style>\n",
              "<table border=\"1\" class=\"dataframe\">\n",
              "  <thead>\n",
              "    <tr style=\"text-align: right;\">\n",
              "      <th></th>\n",
              "      <th>loss</th>\n",
              "      <th>output_rating_loss</th>\n",
              "      <th>output_genre_loss</th>\n",
              "      <th>output_rating_accuracy</th>\n",
              "      <th>output_genre_accuracy</th>\n",
              "      <th>val_loss</th>\n",
              "      <th>val_output_rating_loss</th>\n",
              "      <th>val_output_genre_loss</th>\n",
              "      <th>val_output_rating_accuracy</th>\n",
              "      <th>val_output_genre_accuracy</th>\n",
              "    </tr>\n",
              "  </thead>\n",
              "  <tbody>\n",
              "    <tr>\n",
              "      <th>0</th>\n",
              "      <td>3.407258</td>\n",
              "      <td>0.674142</td>\n",
              "      <td>2.346550</td>\n",
              "      <td>0.585833</td>\n",
              "      <td>0.095000</td>\n",
              "      <td>2.913821</td>\n",
              "      <td>0.628570</td>\n",
              "      <td>2.809865</td>\n",
              "      <td>0.629333</td>\n",
              "      <td>0.042667</td>\n",
              "    </tr>\n",
              "    <tr>\n",
              "      <th>1</th>\n",
              "      <td>2.413059</td>\n",
              "      <td>0.611402</td>\n",
              "      <td>4.834399</td>\n",
              "      <td>0.667333</td>\n",
              "      <td>0.040500</td>\n",
              "      <td>1.544805</td>\n",
              "      <td>0.598194</td>\n",
              "      <td>10.233562</td>\n",
              "      <td>0.670000</td>\n",
              "      <td>0.062000</td>\n",
              "    </tr>\n",
              "    <tr>\n",
              "      <th>2</th>\n",
              "      <td>-0.001975</td>\n",
              "      <td>0.606136</td>\n",
              "      <td>23.728245</td>\n",
              "      <td>0.672833</td>\n",
              "      <td>0.044833</td>\n",
              "      <td>-2.909179</td>\n",
              "      <td>0.618467</td>\n",
              "      <td>50.652538</td>\n",
              "      <td>0.680000</td>\n",
              "      <td>0.062667</td>\n",
              "    </tr>\n",
              "    <tr>\n",
              "      <th>3</th>\n",
              "      <td>-7.897210</td>\n",
              "      <td>0.660616</td>\n",
              "      <td>99.476524</td>\n",
              "      <td>0.618833</td>\n",
              "      <td>0.044833</td>\n",
              "      <td>-15.654451</td>\n",
              "      <td>0.702771</td>\n",
              "      <td>175.835495</td>\n",
              "      <td>0.435333</td>\n",
              "      <td>0.062667</td>\n",
              "    </tr>\n",
              "    <tr>\n",
              "      <th>4</th>\n",
              "      <td>-25.709917</td>\n",
              "      <td>0.778464</td>\n",
              "      <td>276.077698</td>\n",
              "      <td>0.525833</td>\n",
              "      <td>0.044833</td>\n",
              "      <td>-39.182343</td>\n",
              "      <td>0.687709</td>\n",
              "      <td>408.692383</td>\n",
              "      <td>0.576000</td>\n",
              "      <td>0.062667</td>\n",
              "    </tr>\n",
              "  </tbody>\n",
              "</table>\n",
              "</div>"
            ],
            "text/plain": [
              "        loss  ...  val_output_genre_accuracy\n",
              "0   3.407258  ...                   0.042667\n",
              "1   2.413059  ...                   0.062000\n",
              "2  -0.001975  ...                   0.062667\n",
              "3  -7.897210  ...                   0.062667\n",
              "4 -25.709917  ...                   0.062667\n",
              "\n",
              "[5 rows x 10 columns]"
            ]
          },
          "metadata": {},
          "execution_count": 86
        }
      ]
    },
    {
      "cell_type": "markdown",
      "metadata": {
        "id": "jaBq8nDDKhHI"
      },
      "source": [
        "#### plots"
      ],
      "id": "jaBq8nDDKhHI"
    },
    {
      "cell_type": "code",
      "metadata": {
        "colab": {
          "base_uri": "https://localhost:8080/",
          "height": 226
        },
        "id": "IAUyGqxTIwbM",
        "outputId": "63c86eba-7f1c-4bde-e1fa-1a2b533ef4f2"
      },
      "source": [
        "df_log_01 = pd.read_csv(\"bias_free_logs_alpha=-0.1.csv\")\n",
        "df_log_01"
      ],
      "id": "IAUyGqxTIwbM",
      "execution_count": 45,
      "outputs": [
        {
          "output_type": "execute_result",
          "data": {
            "text/html": [
              "<div>\n",
              "<style scoped>\n",
              "    .dataframe tbody tr th:only-of-type {\n",
              "        vertical-align: middle;\n",
              "    }\n",
              "\n",
              "    .dataframe tbody tr th {\n",
              "        vertical-align: top;\n",
              "    }\n",
              "\n",
              "    .dataframe thead th {\n",
              "        text-align: right;\n",
              "    }\n",
              "</style>\n",
              "<table border=\"1\" class=\"dataframe\">\n",
              "  <thead>\n",
              "    <tr style=\"text-align: right;\">\n",
              "      <th></th>\n",
              "      <th>loss</th>\n",
              "      <th>output_rating_loss</th>\n",
              "      <th>output_genre_loss</th>\n",
              "      <th>output_rating_accuracy</th>\n",
              "      <th>output_genre_accuracy</th>\n",
              "      <th>val_loss</th>\n",
              "      <th>val_output_rating_loss</th>\n",
              "      <th>val_output_genre_loss</th>\n",
              "      <th>val_output_rating_accuracy</th>\n",
              "      <th>val_output_genre_accuracy</th>\n",
              "    </tr>\n",
              "  </thead>\n",
              "  <tbody>\n",
              "    <tr>\n",
              "      <th>0</th>\n",
              "      <td>3.407258</td>\n",
              "      <td>0.674142</td>\n",
              "      <td>2.346550</td>\n",
              "      <td>0.585833</td>\n",
              "      <td>0.095000</td>\n",
              "      <td>2.913821</td>\n",
              "      <td>0.628570</td>\n",
              "      <td>2.809865</td>\n",
              "      <td>0.629333</td>\n",
              "      <td>0.042667</td>\n",
              "    </tr>\n",
              "    <tr>\n",
              "      <th>1</th>\n",
              "      <td>2.413059</td>\n",
              "      <td>0.611402</td>\n",
              "      <td>4.834399</td>\n",
              "      <td>0.667333</td>\n",
              "      <td>0.040500</td>\n",
              "      <td>1.544805</td>\n",
              "      <td>0.598194</td>\n",
              "      <td>10.233562</td>\n",
              "      <td>0.670000</td>\n",
              "      <td>0.062000</td>\n",
              "    </tr>\n",
              "    <tr>\n",
              "      <th>2</th>\n",
              "      <td>-0.001975</td>\n",
              "      <td>0.606136</td>\n",
              "      <td>23.728245</td>\n",
              "      <td>0.672833</td>\n",
              "      <td>0.044833</td>\n",
              "      <td>-2.909179</td>\n",
              "      <td>0.618467</td>\n",
              "      <td>50.652538</td>\n",
              "      <td>0.680000</td>\n",
              "      <td>0.062667</td>\n",
              "    </tr>\n",
              "    <tr>\n",
              "      <th>3</th>\n",
              "      <td>-7.897210</td>\n",
              "      <td>0.660616</td>\n",
              "      <td>99.476524</td>\n",
              "      <td>0.618833</td>\n",
              "      <td>0.044833</td>\n",
              "      <td>-15.654451</td>\n",
              "      <td>0.702771</td>\n",
              "      <td>175.835495</td>\n",
              "      <td>0.435333</td>\n",
              "      <td>0.062667</td>\n",
              "    </tr>\n",
              "    <tr>\n",
              "      <th>4</th>\n",
              "      <td>-25.709917</td>\n",
              "      <td>0.778464</td>\n",
              "      <td>276.077698</td>\n",
              "      <td>0.525833</td>\n",
              "      <td>0.044833</td>\n",
              "      <td>-39.182343</td>\n",
              "      <td>0.687709</td>\n",
              "      <td>408.692383</td>\n",
              "      <td>0.576000</td>\n",
              "      <td>0.062667</td>\n",
              "    </tr>\n",
              "  </tbody>\n",
              "</table>\n",
              "</div>"
            ],
            "text/plain": [
              "        loss  ...  val_output_genre_accuracy\n",
              "0   3.407258  ...                   0.042667\n",
              "1   2.413059  ...                   0.062000\n",
              "2  -0.001975  ...                   0.062667\n",
              "3  -7.897210  ...                   0.062667\n",
              "4 -25.709917  ...                   0.062667\n",
              "\n",
              "[5 rows x 10 columns]"
            ]
          },
          "metadata": {},
          "execution_count": 45
        }
      ]
    },
    {
      "cell_type": "code",
      "metadata": {
        "colab": {
          "base_uri": "https://localhost:8080/",
          "height": 500
        },
        "id": "ni0XSsHZIwbN",
        "outputId": "ecf061dc-86f5-41e1-a054-1d9473c20887"
      },
      "source": [
        "df_log_01[[\"val_loss\", \"val_output_rating_loss\", \"val_output_genre_loss\"]].plot(figsize=(10, 8))"
      ],
      "id": "ni0XSsHZIwbN",
      "execution_count": 46,
      "outputs": [
        {
          "output_type": "execute_result",
          "data": {
            "text/plain": [
              "<matplotlib.axes._subplots.AxesSubplot at 0x7f9fbcf21790>"
            ]
          },
          "metadata": {},
          "execution_count": 46
        },
        {
          "output_type": "display_data",
          "data": {
            "image/png": "[encoded data removed]",
            "text/plain": [
              "<Figure size 720x576 with 1 Axes>"
            ]
          },
          "metadata": {
            "needs_background": "light"
          }
        }
      ]
    },
    {
      "cell_type": "code",
      "metadata": {
        "colab": {
          "base_uri": "https://localhost:8080/",
          "height": 500
        },
        "id": "DXFx79HxIwbN",
        "outputId": "00d4ddc9-7b8f-4cb9-a46f-23a2783770f7"
      },
      "source": [
        "df_log_01[[\"val_output_rating_accuracy\", \"val_output_genre_accuracy\"]].plot(figsize=(10, 8))"
      ],
      "id": "DXFx79HxIwbN",
      "execution_count": null,
      "outputs": [
        {
          "output_type": "execute_result",
          "data": {
            "text/plain": [
              "<matplotlib.axes._subplots.AxesSubplot at 0x7f9fbcf9f690>"
            ]
          },
          "metadata": {},
          "execution_count": 44
        },
        {
          "output_type": "display_data",
          "data": {
            "image/png": "[encoded data removed]",
            "text/plain": [
              "<Figure size 720x576 with 1 Axes>"
            ]
          },
          "metadata": {
            "needs_background": "light"
          }
        }
      ]
    },
    {
      "cell_type": "markdown",
      "metadata": {
        "id": "2ybC8BOBtj5i"
      },
      "source": [
        "#### prediction"
      ],
      "id": "2ybC8BOBtj5i"
    },
    {
      "cell_type": "code",
      "metadata": {
        "execution": {
          "iopub.execute_input": "2021-11-29T20:20:54.229970Z",
          "iopub.status.busy": "2021-11-29T20:20:54.228966Z",
          "iopub.status.idle": "2021-11-29T20:20:56.129771Z",
          "shell.execute_reply": "2021-11-29T20:20:56.129771Z",
          "shell.execute_reply.started": "2021-11-29T20:20:54.229970Z"
        },
        "tags": [],
        "colab": {
          "base_uri": "https://localhost:8080/"
        },
        "id": "2y3H3XXztj5i",
        "outputId": "f4ea5c91-4d4e-4e58-9e5d-3bc61112233d"
      },
      "source": [
        "y_pred = model_bias_free.predict(x_test_idx_padded)\n",
        "print(y_pred[0].shape, y_pred[1].shape)"
      ],
      "id": "2y3H3XXztj5i",
      "execution_count": null,
      "outputs": [
        {
          "output_type": "stream",
          "name": "stdout",
          "text": [
            "(1500, 2) (1500, 9)\n"
          ]
        }
      ]
    },
    {
      "cell_type": "code",
      "metadata": {
        "colab": {
          "base_uri": "https://localhost:8080/"
        },
        "id": "kHJiCU2Ntj5j",
        "outputId": "296e57e1-5808-4521-9de4-417bfaf3239c"
      },
      "source": [
        "y_pred_rating = np.argmax(y_pred[0], axis=1)\n",
        "y_pred_genre = np.argmax(y_pred[1], axis=1)\n",
        "print(y_pred_rating.shape, y_pred_genre.shape)"
      ],
      "id": "kHJiCU2Ntj5j",
      "execution_count": null,
      "outputs": [
        {
          "output_type": "stream",
          "name": "stdout",
          "text": [
            "(1500,) (1500,)\n"
          ]
        }
      ]
    },
    {
      "cell_type": "code",
      "metadata": {
        "colab": {
          "base_uri": "https://localhost:8080/"
        },
        "id": "lU9Nea_7u7G3",
        "outputId": "c42c410b-5a56-4f63-d086-1eec232ccb27"
      },
      "source": [
        "y_pred[0][:10]"
      ],
      "id": "lU9Nea_7u7G3",
      "execution_count": null,
      "outputs": [
        {
          "output_type": "execute_result",
          "data": {
            "text/plain": [
              "array([[0.3798478 , 0.62015224],\n",
              "       [0.34471396, 0.6552861 ],\n",
              "       [0.35604817, 0.64395183],\n",
              "       [0.3601066 , 0.63989335],\n",
              "       [0.36524707, 0.6347529 ],\n",
              "       [0.34094876, 0.6590512 ],\n",
              "       [0.35501677, 0.64498323],\n",
              "       [0.3527407 , 0.6472593 ],\n",
              "       [0.33146033, 0.6685397 ],\n",
              "       [0.3549945 , 0.6450055 ]], dtype=float32)"
            ]
          },
          "metadata": {},
          "execution_count": 96
        }
      ]
    },
    {
      "cell_type": "code",
      "metadata": {
        "colab": {
          "base_uri": "https://localhost:8080/"
        },
        "id": "QrR22Mqnuwiw",
        "outputId": "0e7b1d61-9284-4d6a-b5bc-dbdb6648d7b9"
      },
      "source": [
        "thresholds = list(np.arange(.60, .70, .01))\n",
        "print(thresholds)\n",
        "\n",
        "for thres in thresholds:\n",
        "    print(\"\\n\", \"-\"*50)\n",
        "    print(f\"thres: {thres}\")\n",
        "    y_pred_rating = [1 if pred[1]>=thres else 0 for pred in y_pred[0]]\n",
        "    print(classification_report(y_test_bin, y_pred_rating))\n",
        "    "
      ],
      "id": "QrR22Mqnuwiw",
      "execution_count": null,
      "outputs": [
        {
          "output_type": "stream",
          "name": "stdout",
          "text": [
            "[0.6, 0.61, 0.62, 0.63, 0.64, 0.65, 0.66, 0.67, 0.68, 0.6900000000000001]\n",
            "\n",
            " --------------------------------------------------\n",
            "thres: 0.6\n",
            "              precision    recall  f1-score   support\n",
            "\n",
            "           0       0.75      0.01      0.03       638\n",
            "           1       0.58      1.00      0.73       862\n",
            "\n",
            "    accuracy                           0.58      1500\n",
            "   macro avg       0.66      0.51      0.38      1500\n",
            "weighted avg       0.65      0.58      0.43      1500\n",
            "\n",
            "\n",
            " --------------------------------------------------\n",
            "thres: 0.61\n",
            "              precision    recall  f1-score   support\n",
            "\n",
            "           0       0.73      0.02      0.03       638\n",
            "           1       0.58      1.00      0.73       862\n",
            "\n",
            "    accuracy                           0.58      1500\n",
            "   macro avg       0.66      0.51      0.38      1500\n",
            "weighted avg       0.64      0.58      0.43      1500\n",
            "\n",
            "\n",
            " --------------------------------------------------\n",
            "thres: 0.62\n",
            "              precision    recall  f1-score   support\n",
            "\n",
            "           0       0.60      0.02      0.04       638\n",
            "           1       0.58      0.99      0.73       862\n",
            "\n",
            "    accuracy                           0.58      1500\n",
            "   macro avg       0.59      0.50      0.38      1500\n",
            "weighted avg       0.59      0.58      0.43      1500\n",
            "\n",
            "\n",
            " --------------------------------------------------\n",
            "thres: 0.63\n",
            "              precision    recall  f1-score   support\n",
            "\n",
            "           0       0.62      0.05      0.09       638\n",
            "           1       0.58      0.98      0.73       862\n",
            "\n",
            "    accuracy                           0.58      1500\n",
            "   macro avg       0.60      0.51      0.41      1500\n",
            "weighted avg       0.60      0.58      0.46      1500\n",
            "\n",
            "\n",
            " --------------------------------------------------\n",
            "thres: 0.64\n",
            "              precision    recall  f1-score   support\n",
            "\n",
            "           0       0.64      0.18      0.29       638\n",
            "           1       0.60      0.92      0.73       862\n",
            "\n",
            "    accuracy                           0.61      1500\n",
            "   macro avg       0.62      0.55      0.51      1500\n",
            "weighted avg       0.62      0.61      0.54      1500\n",
            "\n",
            "\n",
            " --------------------------------------------------\n",
            "thres: 0.65\n",
            "              precision    recall  f1-score   support\n",
            "\n",
            "           0       0.58      0.49      0.53       638\n",
            "           1       0.66      0.73      0.70       862\n",
            "\n",
            "    accuracy                           0.63      1500\n",
            "   macro avg       0.62      0.61      0.61      1500\n",
            "weighted avg       0.63      0.63      0.63      1500\n",
            "\n",
            "\n",
            " --------------------------------------------------\n",
            "thres: 0.66\n",
            "              precision    recall  f1-score   support\n",
            "\n",
            "           0       0.48      0.85      0.62       638\n",
            "           1       0.75      0.33      0.46       862\n",
            "\n",
            "    accuracy                           0.55      1500\n",
            "   macro avg       0.62      0.59      0.54      1500\n",
            "weighted avg       0.64      0.55      0.53      1500\n",
            "\n",
            "\n",
            " --------------------------------------------------\n",
            "thres: 0.67\n",
            "              precision    recall  f1-score   support\n",
            "\n",
            "           0       0.43      0.97      0.60       638\n",
            "           1       0.72      0.05      0.09       862\n",
            "\n",
            "    accuracy                           0.44      1500\n",
            "   macro avg       0.58      0.51      0.34      1500\n",
            "weighted avg       0.60      0.44      0.31      1500\n",
            "\n",
            "\n",
            " --------------------------------------------------\n",
            "thres: 0.68\n",
            "              precision    recall  f1-score   support\n",
            "\n",
            "           0       0.43      1.00      0.60       638\n",
            "           1       1.00      0.00      0.01       862\n",
            "\n",
            "    accuracy                           0.43      1500\n",
            "   macro avg       0.71      0.50      0.30      1500\n",
            "weighted avg       0.76      0.43      0.26      1500\n",
            "\n",
            "\n",
            " --------------------------------------------------\n",
            "thres: 0.6900000000000001\n",
            "              precision    recall  f1-score   support\n",
            "\n",
            "           0       0.43      1.00      0.60       638\n",
            "           1       0.00      0.00      0.00       862\n",
            "\n",
            "    accuracy                           0.43      1500\n",
            "   macro avg       0.21      0.50      0.30      1500\n",
            "weighted avg       0.18      0.43      0.25      1500\n",
            "\n"
          ]
        },
        {
          "output_type": "stream",
          "name": "stderr",
          "text": [
            "/usr/local/lib/python3.7/dist-packages/sklearn/metrics/_classification.py:1308: UndefinedMetricWarning: Precision and F-score are ill-defined and being set to 0.0 in labels with no predicted samples. Use `zero_division` parameter to control this behavior.\n",
            "  _warn_prf(average, modifier, msg_start, len(result))\n",
            "/usr/local/lib/python3.7/dist-packages/sklearn/metrics/_classification.py:1308: UndefinedMetricWarning: Precision and F-score are ill-defined and being set to 0.0 in labels with no predicted samples. Use `zero_division` parameter to control this behavior.\n",
            "  _warn_prf(average, modifier, msg_start, len(result))\n",
            "/usr/local/lib/python3.7/dist-packages/sklearn/metrics/_classification.py:1308: UndefinedMetricWarning: Precision and F-score are ill-defined and being set to 0.0 in labels with no predicted samples. Use `zero_division` parameter to control this behavior.\n",
            "  _warn_prf(average, modifier, msg_start, len(result))\n"
          ]
        }
      ]
    },
    {
      "cell_type": "code",
      "metadata": {
        "colab": {
          "base_uri": "https://localhost:8080/",
          "height": 606
        },
        "id": "fD83AaoAtnNo",
        "outputId": "0ac36144-8b7d-4449-bbf6-bff1b92aa476"
      },
      "source": [
        "# confusion matrix\n",
        "class_names = list(genre2id.keys())\n",
        "cmat = confusion_matrix(y_test_genre, y_pred_genre)\n",
        "plt.figure(figsize=(12,10))\n",
        "sns.heatmap(cmat, xticklabels=class_names, yticklabels=class_names, fmt='d', annot=True, cmap='YlGnBu')\n",
        "plt.xlabel('Predicted')\n",
        "plt.ylabel('Actual')\n",
        "plt.show()"
      ],
      "id": "fD83AaoAtnNo",
      "execution_count": null,
      "outputs": [
        {
          "output_type": "display_data",
          "data": {
            "image/png": "[encoded data removed]",
            "text/plain": [
              "<Figure size 864x720 with 2 Axes>"
            ]
          },
          "metadata": {
            "needs_background": "light"
          }
        }
      ]
    },
    {
      "cell_type": "code",
      "metadata": {
        "id": "93cf0778-b397-44ce-a96e-067fd98e9460"
      },
      "source": [
        "!cp /content/saved_models/*  /content/drive/MyDrive/DAI_Project/saved_models/"
      ],
      "id": "93cf0778-b397-44ce-a96e-067fd98e9460",
      "execution_count": null,
      "outputs": []
    },
    {
      "cell_type": "markdown",
      "metadata": {
        "id": "R3TGDKH937DK"
      },
      "source": [
        "### alpha = -0.05"
      ],
      "id": "R3TGDKH937DK"
    },
    {
      "cell_type": "code",
      "metadata": {
        "colab": {
          "base_uri": "https://localhost:8080/"
        },
        "id": "dj9kVT-137DK",
        "outputId": "bc60a246-dc8d-4131-8140-d2ba9b154816"
      },
      "source": [
        "model_bias_free = build_lstm_model_bias_free(glove_embed_matrix, EMBED_DIM, NUM_LABELS_REVIEW=2, NUM_LABELS_GENRE=9, verbose=True)"
      ],
      "id": "dj9kVT-137DK",
      "execution_count": null,
      "outputs": [
        {
          "output_type": "stream",
          "name": "stdout",
          "text": [
            "WARNING:tensorflow:Layer lstm_4 will not use cuDNN kernels since it doesn't meet the criteria. It will use a generic GPU kernel as fallback when running on GPU.\n",
            "WARNING:tensorflow:Layer lstm_4 will not use cuDNN kernels since it doesn't meet the criteria. It will use a generic GPU kernel as fallback when running on GPU.\n",
            "WARNING:tensorflow:Layer lstm_4 will not use cuDNN kernels since it doesn't meet the criteria. It will use a generic GPU kernel as fallback when running on GPU.\n",
            "WARNING:tensorflow:Layer lstm_5 will not use cuDNN kernels since it doesn't meet the criteria. It will use a generic GPU kernel as fallback when running on GPU.\n",
            "WARNING:tensorflow:Layer lstm_5 will not use cuDNN kernels since it doesn't meet the criteria. It will use a generic GPU kernel as fallback when running on GPU.\n",
            "WARNING:tensorflow:Layer lstm_5 will not use cuDNN kernels since it doesn't meet the criteria. It will use a generic GPU kernel as fallback when running on GPU.\n",
            "Model: \"model_2\"\n",
            "__________________________________________________________________________________________________\n",
            " Layer (type)                   Output Shape         Param #     Connected to                     \n",
            "==================================================================================================\n",
            " input (InputLayer)             [(None, 300)]        0           []                               \n",
            "                                                                                                  \n",
            " embed_rating (Embedding)       (None, 300, 50)      1750000     ['input[0][0]']                  \n",
            "                                                                                                  \n",
            " embed_genre (Embedding)        (None, 300, 50)      1750000     ['input[0][0]']                  \n",
            "                                                                                                  \n",
            " lstm_rating (Bidirectional)    (None, 128)          58880       ['embed_rating[0][0]']           \n",
            "                                                                                                  \n",
            " lstm_genre (Bidirectional)     (None, 128)          58880       ['embed_genre[0][0]']            \n",
            "                                                                                                  \n",
            " concatenate_2 (Concatenate)    (None, 256)          0           ['lstm_rating[0][0]',            \n",
            "                                                                  'lstm_genre[0][0]']             \n",
            "                                                                                                  \n",
            " dense_4 (Dense)                (None, 128)          32896       ['concatenate_2[0][0]']          \n",
            "                                                                                                  \n",
            " dense_5 (Dense)                (None, 64)           8256        ['dense_4[0][0]']                \n",
            "                                                                                                  \n",
            " output_rating (Dense)          (None, 2)            130         ['dense_5[0][0]']                \n",
            "                                                                                                  \n",
            " output_genre (Dense)           (None, 9)            585         ['dense_5[0][0]']                \n",
            "                                                                                                  \n",
            "==================================================================================================\n",
            "Total params: 3,659,627\n",
            "Trainable params: 159,627\n",
            "Non-trainable params: 3,500,000\n",
            "__________________________________________________________________________________________________\n",
            "None\n"
          ]
        }
      ]
    },
    {
      "cell_type": "code",
      "metadata": {
        "execution": {
          "iopub.execute_input": "2021-11-29T21:04:31.711460Z",
          "iopub.status.busy": "2021-11-29T21:04:31.711460Z",
          "iopub.status.idle": "2021-11-29T21:04:31.724430Z",
          "shell.execute_reply": "2021-11-29T21:04:31.723465Z",
          "shell.execute_reply.started": "2021-11-29T21:04:31.711460Z"
        },
        "tags": [],
        "id": "8umzxi3H37DK"
      },
      "source": [
        "#Since our inputs and outputs are named (we passed them a \"name\" argument)\n",
        "\n",
        "# optimizer = SGD(learning_rate=0.01, momentum=0.9)\n",
        "optimizer = Adam()\n",
        "loss = sparse_categorical_crossentropy\n",
        "alpha = -0.10\n",
        "\n",
        "model_bias_free .compile(optimizer=optimizer,\n",
        "                         loss={'output_rating': loss, 'output_genre': loss},\n",
        "                         loss_weights={'output_rating': 1., 'output_genre': alpha},\n",
        "                         metrics = ['accuracy'])"
      ],
      "id": "8umzxi3H37DK",
      "execution_count": null,
      "outputs": []
    },
    {
      "cell_type": "code",
      "metadata": {
        "execution": {
          "iopub.execute_input": "2021-11-29T21:04:39.952838Z",
          "iopub.status.busy": "2021-11-29T21:04:39.951872Z"
        },
        "tags": [],
        "colab": {
          "base_uri": "https://localhost:8080/"
        },
        "id": "m87Fy11W37DK",
        "outputId": "263a7a57-da27-4906-f755-466f09b3a2c1"
      },
      "source": [
        "epochs = 5\n",
        "batch_size = 512\n",
        "\n",
        "history_bias_free = model_bias_free.fit(x_train_idx_padded, \n",
        "                                        y={\"output_rating\": y_train_bin, \"output_genre\": y_train_genre},\n",
        "                                        batch_size = batch_size,\n",
        "                                        epochs = epochs,\n",
        "                                        callbacks = [checkpoint_callback, earlystop_callback],\n",
        "                                        validation_data=(x_test_idx_padded,\n",
        "                                                         {\"output_rating\": y_test_bin, \"output_genre\": y_test_genre}),\n",
        "                                       )"
      ],
      "id": "m87Fy11W37DK",
      "execution_count": null,
      "outputs": [
        {
          "output_type": "stream",
          "name": "stdout",
          "text": [
            "Epoch 1/5\n",
            "12/12 [==============================] - ETA: 0s - loss: 3.4073 - output_rating_loss: 0.6741 - output_genre_loss: 2.3465 - output_rating_accuracy: 0.5858 - output_genre_accuracy: 0.0950\n",
            "Epoch 00001: val_output_rating_accuracy improved from -inf to 0.62933, saving model to saved_models/lstm_bias_01_0.6293.h5\n",
            "12/12 [==============================] - 124s 9s/step - loss: 3.4073 - output_rating_loss: 0.6741 - output_genre_loss: 2.3465 - output_rating_accuracy: 0.5858 - output_genre_accuracy: 0.0950 - val_loss: 2.9138 - val_output_rating_loss: 0.6286 - val_output_genre_loss: 2.8099 - val_output_rating_accuracy: 0.6293 - val_output_genre_accuracy: 0.0427\n",
            "Epoch 2/5\n",
            "12/12 [==============================] - ETA: 0s - loss: 2.4131 - output_rating_loss: 0.6114 - output_genre_loss: 4.8344 - output_rating_accuracy: 0.6673 - output_genre_accuracy: 0.0405\n",
            "Epoch 00002: val_output_rating_accuracy improved from 0.62933 to 0.67000, saving model to saved_models/lstm_bias_02_0.6700.h5\n",
            "12/12 [==============================] - 110s 9s/step - loss: 2.4131 - output_rating_loss: 0.6114 - output_genre_loss: 4.8344 - output_rating_accuracy: 0.6673 - output_genre_accuracy: 0.0405 - val_loss: 1.5448 - val_output_rating_loss: 0.5982 - val_output_genre_loss: 10.2336 - val_output_rating_accuracy: 0.6700 - val_output_genre_accuracy: 0.0620\n",
            "Epoch 3/5\n",
            "12/12 [==============================] - ETA: 0s - loss: -0.0020 - output_rating_loss: 0.6061 - output_genre_loss: 23.7282 - output_rating_accuracy: 0.6728 - output_genre_accuracy: 0.0448\n",
            "Epoch 00003: val_output_rating_accuracy improved from 0.67000 to 0.68000, saving model to saved_models/lstm_bias_03_0.6800.h5\n",
            "12/12 [==============================] - 108s 9s/step - loss: -0.0020 - output_rating_loss: 0.6061 - output_genre_loss: 23.7282 - output_rating_accuracy: 0.6728 - output_genre_accuracy: 0.0448 - val_loss: -2.9092 - val_output_rating_loss: 0.6185 - val_output_genre_loss: 50.6525 - val_output_rating_accuracy: 0.6800 - val_output_genre_accuracy: 0.0627\n",
            "Epoch 4/5\n",
            "12/12 [==============================] - ETA: 0s - loss: -7.8972 - output_rating_loss: 0.6606 - output_genre_loss: 99.4765 - output_rating_accuracy: 0.6188 - output_genre_accuracy: 0.0448\n",
            "Epoch 00004: val_output_rating_accuracy did not improve from 0.68000\n",
            "12/12 [==============================] - 106s 9s/step - loss: -7.8972 - output_rating_loss: 0.6606 - output_genre_loss: 99.4765 - output_rating_accuracy: 0.6188 - output_genre_accuracy: 0.0448 - val_loss: -15.6545 - val_output_rating_loss: 0.7028 - val_output_genre_loss: 175.8355 - val_output_rating_accuracy: 0.4353 - val_output_genre_accuracy: 0.0627\n",
            "Epoch 5/5\n",
            "12/12 [==============================] - ETA: 0s - loss: -25.7099 - output_rating_loss: 0.7785 - output_genre_loss: 276.0777 - output_rating_accuracy: 0.5258 - output_genre_accuracy: 0.0448\n",
            "Epoch 00005: val_output_rating_accuracy did not improve from 0.68000\n",
            "12/12 [==============================] - 108s 9s/step - loss: -25.7099 - output_rating_loss: 0.7785 - output_genre_loss: 276.0777 - output_rating_accuracy: 0.5258 - output_genre_accuracy: 0.0448 - val_loss: -39.1823 - val_output_rating_loss: 0.6877 - val_output_genre_loss: 408.6924 - val_output_rating_accuracy: 0.5760 - val_output_genre_accuracy: 0.0627\n"
          ]
        }
      ]
    },
    {
      "cell_type": "code",
      "metadata": {
        "colab": {
          "base_uri": "https://localhost:8080/",
          "height": 226
        },
        "id": "QI5iZTWgB-Ab",
        "outputId": "81b29750-4826-4a8b-8b37-c65bef20e197"
      },
      "source": [
        "pd.DataFrame(history_bias_free.history)"
      ],
      "id": "QI5iZTWgB-Ab",
      "execution_count": null,
      "outputs": [
        {
          "output_type": "execute_result",
          "data": {
            "text/html": [
              "<div>\n",
              "<style scoped>\n",
              "    .dataframe tbody tr th:only-of-type {\n",
              "        vertical-align: middle;\n",
              "    }\n",
              "\n",
              "    .dataframe tbody tr th {\n",
              "        vertical-align: top;\n",
              "    }\n",
              "\n",
              "    .dataframe thead th {\n",
              "        text-align: right;\n",
              "    }\n",
              "</style>\n",
              "<table border=\"1\" class=\"dataframe\">\n",
              "  <thead>\n",
              "    <tr style=\"text-align: right;\">\n",
              "      <th></th>\n",
              "      <th>loss</th>\n",
              "      <th>output_rating_loss</th>\n",
              "      <th>output_genre_loss</th>\n",
              "      <th>output_rating_accuracy</th>\n",
              "      <th>output_genre_accuracy</th>\n",
              "      <th>val_loss</th>\n",
              "      <th>val_output_rating_loss</th>\n",
              "      <th>val_output_genre_loss</th>\n",
              "      <th>val_output_rating_accuracy</th>\n",
              "      <th>val_output_genre_accuracy</th>\n",
              "    </tr>\n",
              "  </thead>\n",
              "  <tbody>\n",
              "    <tr>\n",
              "      <th>0</th>\n",
              "      <td>3.407258</td>\n",
              "      <td>0.674142</td>\n",
              "      <td>2.346550</td>\n",
              "      <td>0.585833</td>\n",
              "      <td>0.095000</td>\n",
              "      <td>2.913821</td>\n",
              "      <td>0.628570</td>\n",
              "      <td>2.809865</td>\n",
              "      <td>0.629333</td>\n",
              "      <td>0.042667</td>\n",
              "    </tr>\n",
              "    <tr>\n",
              "      <th>1</th>\n",
              "      <td>2.413059</td>\n",
              "      <td>0.611402</td>\n",
              "      <td>4.834399</td>\n",
              "      <td>0.667333</td>\n",
              "      <td>0.040500</td>\n",
              "      <td>1.544805</td>\n",
              "      <td>0.598194</td>\n",
              "      <td>10.233562</td>\n",
              "      <td>0.670000</td>\n",
              "      <td>0.062000</td>\n",
              "    </tr>\n",
              "    <tr>\n",
              "      <th>2</th>\n",
              "      <td>-0.001975</td>\n",
              "      <td>0.606136</td>\n",
              "      <td>23.728245</td>\n",
              "      <td>0.672833</td>\n",
              "      <td>0.044833</td>\n",
              "      <td>-2.909179</td>\n",
              "      <td>0.618467</td>\n",
              "      <td>50.652538</td>\n",
              "      <td>0.680000</td>\n",
              "      <td>0.062667</td>\n",
              "    </tr>\n",
              "    <tr>\n",
              "      <th>3</th>\n",
              "      <td>-7.897210</td>\n",
              "      <td>0.660616</td>\n",
              "      <td>99.476524</td>\n",
              "      <td>0.618833</td>\n",
              "      <td>0.044833</td>\n",
              "      <td>-15.654451</td>\n",
              "      <td>0.702771</td>\n",
              "      <td>175.835495</td>\n",
              "      <td>0.435333</td>\n",
              "      <td>0.062667</td>\n",
              "    </tr>\n",
              "    <tr>\n",
              "      <th>4</th>\n",
              "      <td>-25.709917</td>\n",
              "      <td>0.778464</td>\n",
              "      <td>276.077698</td>\n",
              "      <td>0.525833</td>\n",
              "      <td>0.044833</td>\n",
              "      <td>-39.182343</td>\n",
              "      <td>0.687709</td>\n",
              "      <td>408.692383</td>\n",
              "      <td>0.576000</td>\n",
              "      <td>0.062667</td>\n",
              "    </tr>\n",
              "  </tbody>\n",
              "</table>\n",
              "</div>"
            ],
            "text/plain": [
              "        loss  ...  val_output_genre_accuracy\n",
              "0   3.407258  ...                   0.042667\n",
              "1   2.413059  ...                   0.062000\n",
              "2  -0.001975  ...                   0.062667\n",
              "3  -7.897210  ...                   0.062667\n",
              "4 -25.709917  ...                   0.062667\n",
              "\n",
              "[5 rows x 10 columns]"
            ]
          },
          "metadata": {},
          "execution_count": 86
        }
      ]
    },
    {
      "cell_type": "markdown",
      "metadata": {
        "id": "KdYX9jbzKk2A"
      },
      "source": [
        "#### plots"
      ],
      "id": "KdYX9jbzKk2A"
    },
    {
      "cell_type": "code",
      "metadata": {
        "id": "B-ttNDCCKmrD"
      },
      "source": [
        "df_log_005 = pd.read_csv(\"bias_free_logs_alpha=-0.05.csv\")\n",
        "df_log_005"
      ],
      "id": "B-ttNDCCKmrD",
      "execution_count": null,
      "outputs": []
    },
    {
      "cell_type": "code",
      "metadata": {
        "colab": {
          "base_uri": "https://localhost:8080/",
          "height": 500
        },
        "id": "FB1j9me1LZ4L",
        "outputId": "ecf061dc-86f5-41e1-a054-1d9473c20887"
      },
      "source": [
        "df_log_005[[\"val_loss\", \"val_output_rating_loss\", \"val_output_genre_loss\"]].plot(figsize=(10, 8))"
      ],
      "id": "FB1j9me1LZ4L",
      "execution_count": null,
      "outputs": [
        {
          "output_type": "execute_result",
          "data": {
            "text/plain": [
              "<matplotlib.axes._subplots.AxesSubplot at 0x7f9fbcf21790>"
            ]
          },
          "metadata": {},
          "execution_count": 46
        },
        {
          "output_type": "display_data",
          "data": {
            "image/png": "[encoded data removed]",
            "text/plain": [
              "<Figure size 720x576 with 1 Axes>"
            ]
          },
          "metadata": {
            "needs_background": "light"
          }
        }
      ]
    },
    {
      "cell_type": "code",
      "metadata": {
        "colab": {
          "base_uri": "https://localhost:8080/",
          "height": 500
        },
        "id": "RwQX_UmnLZ4M",
        "outputId": "00d4ddc9-7b8f-4cb9-a46f-23a2783770f7"
      },
      "source": [
        "df_log_005[[\"val_output_rating_accuracy\", \"val_output_genre_accuracy\"]].plot(figsize=(10, 8))"
      ],
      "id": "RwQX_UmnLZ4M",
      "execution_count": null,
      "outputs": [
        {
          "output_type": "execute_result",
          "data": {
            "text/plain": [
              "<matplotlib.axes._subplots.AxesSubplot at 0x7f9fbcf9f690>"
            ]
          },
          "metadata": {},
          "execution_count": 44
        },
        {
          "output_type": "display_data",
          "data": {
            "image/png": "[encoded data removed]",
            "text/plain": [
              "<Figure size 720x576 with 1 Axes>"
            ]
          },
          "metadata": {
            "needs_background": "light"
          }
        }
      ]
    },
    {
      "cell_type": "markdown",
      "metadata": {
        "id": "ZAsWH2fQ37DL"
      },
      "source": [
        "#### prediction"
      ],
      "id": "ZAsWH2fQ37DL"
    },
    {
      "cell_type": "code",
      "metadata": {
        "execution": {
          "iopub.execute_input": "2021-11-29T20:20:54.229970Z",
          "iopub.status.busy": "2021-11-29T20:20:54.228966Z",
          "iopub.status.idle": "2021-11-29T20:20:56.129771Z",
          "shell.execute_reply": "2021-11-29T20:20:56.129771Z",
          "shell.execute_reply.started": "2021-11-29T20:20:54.229970Z"
        },
        "tags": [],
        "colab": {
          "base_uri": "https://localhost:8080/"
        },
        "id": "4ThD34m937DL",
        "outputId": "f4ea5c91-4d4e-4e58-9e5d-3bc61112233d"
      },
      "source": [
        "y_pred = model_bias_free.predict(x_test_idx_padded)\n",
        "print(y_pred[0].shape, y_pred[1].shape)"
      ],
      "id": "4ThD34m937DL",
      "execution_count": null,
      "outputs": [
        {
          "output_type": "stream",
          "name": "stdout",
          "text": [
            "(1500, 2) (1500, 9)\n"
          ]
        }
      ]
    },
    {
      "cell_type": "code",
      "metadata": {
        "colab": {
          "base_uri": "https://localhost:8080/"
        },
        "id": "JYMP6nzV37DL",
        "outputId": "296e57e1-5808-4521-9de4-417bfaf3239c"
      },
      "source": [
        "y_pred_rating = np.argmax(y_pred[0], axis=1)\n",
        "y_pred_genre = np.argmax(y_pred[1], axis=1)\n",
        "print(y_pred_rating.shape, y_pred_genre.shape)"
      ],
      "id": "JYMP6nzV37DL",
      "execution_count": null,
      "outputs": [
        {
          "output_type": "stream",
          "name": "stdout",
          "text": [
            "(1500,) (1500,)\n"
          ]
        }
      ]
    },
    {
      "cell_type": "code",
      "metadata": {
        "execution": {
          "iopub.execute_input": "2021-11-29T19:51:06.565672Z",
          "iopub.status.busy": "2021-11-29T19:51:06.564639Z",
          "iopub.status.idle": "2021-11-29T19:51:06.873696Z",
          "shell.execute_reply": "2021-11-29T19:51:06.873696Z",
          "shell.execute_reply.started": "2021-11-29T19:51:06.565672Z"
        },
        "tags": [],
        "colab": {
          "base_uri": "https://localhost:8080/",
          "height": 606
        },
        "id": "-Ai-vUyu37DL",
        "outputId": "7ee603be-3367-4afb-8ebf-6cd7538f6608"
      },
      "source": [
        "# confusion matrix\n",
        "class_names = [\"bad\", \"good\"]\n",
        "cmat = confusion_matrix(y_test_bin, y_pred_rating)\n",
        "plt.figure(figsize=(12,10))\n",
        "sns.heatmap(cmat, xticklabels=class_names, yticklabels=class_names, fmt='d', annot=True, cmap='YlGnBu')\n",
        "plt.xlabel('Predicted')\n",
        "plt.ylabel('Actual')\n",
        "plt.show()"
      ],
      "id": "-Ai-vUyu37DL",
      "execution_count": null,
      "outputs": [
        {
          "output_type": "display_data",
          "data": {
            "image/png": "[encoded data removed]",
            "text/plain": [
              "<Figure size 864x720 with 2 Axes>"
            ]
          },
          "metadata": {
            "needs_background": "light"
          }
        }
      ]
    },
    {
      "cell_type": "code",
      "metadata": {
        "colab": {
          "base_uri": "https://localhost:8080/"
        },
        "id": "2sitaIxF37DL",
        "outputId": "c42c410b-5a56-4f63-d086-1eec232ccb27"
      },
      "source": [
        "y_pred[0][:10]"
      ],
      "id": "2sitaIxF37DL",
      "execution_count": null,
      "outputs": [
        {
          "output_type": "execute_result",
          "data": {
            "text/plain": [
              "array([[0.3798478 , 0.62015224],\n",
              "       [0.34471396, 0.6552861 ],\n",
              "       [0.35604817, 0.64395183],\n",
              "       [0.3601066 , 0.63989335],\n",
              "       [0.36524707, 0.6347529 ],\n",
              "       [0.34094876, 0.6590512 ],\n",
              "       [0.35501677, 0.64498323],\n",
              "       [0.3527407 , 0.6472593 ],\n",
              "       [0.33146033, 0.6685397 ],\n",
              "       [0.3549945 , 0.6450055 ]], dtype=float32)"
            ]
          },
          "metadata": {},
          "execution_count": 96
        }
      ]
    },
    {
      "cell_type": "code",
      "metadata": {
        "colab": {
          "base_uri": "https://localhost:8080/"
        },
        "id": "8NO_LRZM37DL",
        "outputId": "0e7b1d61-9284-4d6a-b5bc-dbdb6648d7b9"
      },
      "source": [
        "thresholds = list(np.arange(.60, .70, .01))\n",
        "print(thresholds)\n",
        "\n",
        "for thres in thresholds:\n",
        "    print(\"\\n\", \"-\"*50)\n",
        "    print(f\"thres: {thres}\")\n",
        "    y_pred_rating = [1 if pred[1]>=thres else 0 for pred in y_pred[0]]\n",
        "    print(classification_report(y_test_bin, y_pred_rating))\n",
        "    "
      ],
      "id": "8NO_LRZM37DL",
      "execution_count": null,
      "outputs": [
        {
          "output_type": "stream",
          "name": "stdout",
          "text": [
            "[0.6, 0.61, 0.62, 0.63, 0.64, 0.65, 0.66, 0.67, 0.68, 0.6900000000000001]\n",
            "\n",
            " --------------------------------------------------\n",
            "thres: 0.6\n",
            "              precision    recall  f1-score   support\n",
            "\n",
            "           0       0.75      0.01      0.03       638\n",
            "           1       0.58      1.00      0.73       862\n",
            "\n",
            "    accuracy                           0.58      1500\n",
            "   macro avg       0.66      0.51      0.38      1500\n",
            "weighted avg       0.65      0.58      0.43      1500\n",
            "\n",
            "\n",
            " --------------------------------------------------\n",
            "thres: 0.61\n",
            "              precision    recall  f1-score   support\n",
            "\n",
            "           0       0.73      0.02      0.03       638\n",
            "           1       0.58      1.00      0.73       862\n",
            "\n",
            "    accuracy                           0.58      1500\n",
            "   macro avg       0.66      0.51      0.38      1500\n",
            "weighted avg       0.64      0.58      0.43      1500\n",
            "\n",
            "\n",
            " --------------------------------------------------\n",
            "thres: 0.62\n",
            "              precision    recall  f1-score   support\n",
            "\n",
            "           0       0.60      0.02      0.04       638\n",
            "           1       0.58      0.99      0.73       862\n",
            "\n",
            "    accuracy                           0.58      1500\n",
            "   macro avg       0.59      0.50      0.38      1500\n",
            "weighted avg       0.59      0.58      0.43      1500\n",
            "\n",
            "\n",
            " --------------------------------------------------\n",
            "thres: 0.63\n",
            "              precision    recall  f1-score   support\n",
            "\n",
            "           0       0.62      0.05      0.09       638\n",
            "           1       0.58      0.98      0.73       862\n",
            "\n",
            "    accuracy                           0.58      1500\n",
            "   macro avg       0.60      0.51      0.41      1500\n",
            "weighted avg       0.60      0.58      0.46      1500\n",
            "\n",
            "\n",
            " --------------------------------------------------\n",
            "thres: 0.64\n",
            "              precision    recall  f1-score   support\n",
            "\n",
            "           0       0.64      0.18      0.29       638\n",
            "           1       0.60      0.92      0.73       862\n",
            "\n",
            "    accuracy                           0.61      1500\n",
            "   macro avg       0.62      0.55      0.51      1500\n",
            "weighted avg       0.62      0.61      0.54      1500\n",
            "\n",
            "\n",
            " --------------------------------------------------\n",
            "thres: 0.65\n",
            "              precision    recall  f1-score   support\n",
            "\n",
            "           0       0.58      0.49      0.53       638\n",
            "           1       0.66      0.73      0.70       862\n",
            "\n",
            "    accuracy                           0.63      1500\n",
            "   macro avg       0.62      0.61      0.61      1500\n",
            "weighted avg       0.63      0.63      0.63      1500\n",
            "\n",
            "\n",
            " --------------------------------------------------\n",
            "thres: 0.66\n",
            "              precision    recall  f1-score   support\n",
            "\n",
            "           0       0.48      0.85      0.62       638\n",
            "           1       0.75      0.33      0.46       862\n",
            "\n",
            "    accuracy                           0.55      1500\n",
            "   macro avg       0.62      0.59      0.54      1500\n",
            "weighted avg       0.64      0.55      0.53      1500\n",
            "\n",
            "\n",
            " --------------------------------------------------\n",
            "thres: 0.67\n",
            "              precision    recall  f1-score   support\n",
            "\n",
            "           0       0.43      0.97      0.60       638\n",
            "           1       0.72      0.05      0.09       862\n",
            "\n",
            "    accuracy                           0.44      1500\n",
            "   macro avg       0.58      0.51      0.34      1500\n",
            "weighted avg       0.60      0.44      0.31      1500\n",
            "\n",
            "\n",
            " --------------------------------------------------\n",
            "thres: 0.68\n",
            "              precision    recall  f1-score   support\n",
            "\n",
            "           0       0.43      1.00      0.60       638\n",
            "           1       1.00      0.00      0.01       862\n",
            "\n",
            "    accuracy                           0.43      1500\n",
            "   macro avg       0.71      0.50      0.30      1500\n",
            "weighted avg       0.76      0.43      0.26      1500\n",
            "\n",
            "\n",
            " --------------------------------------------------\n",
            "thres: 0.6900000000000001\n",
            "              precision    recall  f1-score   support\n",
            "\n",
            "           0       0.43      1.00      0.60       638\n",
            "           1       0.00      0.00      0.00       862\n",
            "\n",
            "    accuracy                           0.43      1500\n",
            "   macro avg       0.21      0.50      0.30      1500\n",
            "weighted avg       0.18      0.43      0.25      1500\n",
            "\n"
          ]
        },
        {
          "output_type": "stream",
          "name": "stderr",
          "text": [
            "/usr/local/lib/python3.7/dist-packages/sklearn/metrics/_classification.py:1308: UndefinedMetricWarning: Precision and F-score are ill-defined and being set to 0.0 in labels with no predicted samples. Use `zero_division` parameter to control this behavior.\n",
            "  _warn_prf(average, modifier, msg_start, len(result))\n",
            "/usr/local/lib/python3.7/dist-packages/sklearn/metrics/_classification.py:1308: UndefinedMetricWarning: Precision and F-score are ill-defined and being set to 0.0 in labels with no predicted samples. Use `zero_division` parameter to control this behavior.\n",
            "  _warn_prf(average, modifier, msg_start, len(result))\n",
            "/usr/local/lib/python3.7/dist-packages/sklearn/metrics/_classification.py:1308: UndefinedMetricWarning: Precision and F-score are ill-defined and being set to 0.0 in labels with no predicted samples. Use `zero_division` parameter to control this behavior.\n",
            "  _warn_prf(average, modifier, msg_start, len(result))\n"
          ]
        }
      ]
    },
    {
      "cell_type": "code",
      "metadata": {
        "colab": {
          "base_uri": "https://localhost:8080/",
          "height": 606
        },
        "id": "8TX55rub37DL",
        "outputId": "0ac36144-8b7d-4449-bbf6-bff1b92aa476"
      },
      "source": [
        "# confusion matrix\n",
        "class_names = list(genre2id.keys())\n",
        "cmat = confusion_matrix(y_test_genre, y_pred_genre)\n",
        "plt.figure(figsize=(12,10))\n",
        "sns.heatmap(cmat, xticklabels=class_names, yticklabels=class_names, fmt='d', annot=True, cmap='YlGnBu')\n",
        "plt.xlabel('Predicted')\n",
        "plt.ylabel('Actual')\n",
        "plt.show()"
      ],
      "id": "8TX55rub37DL",
      "execution_count": null,
      "outputs": [
        {
          "output_type": "display_data",
          "data": {
            "image/png": "[encoded data removed]",
            "text/plain": [
              "<Figure size 864x720 with 2 Axes>"
            ]
          },
          "metadata": {
            "needs_background": "light"
          }
        }
      ]
    },
    {
      "cell_type": "code",
      "metadata": {
        "id": "MITpA16K37DM"
      },
      "source": [
        "!cp /content/saved_models/*  /content/drive/MyDrive/DAI_Project/saved_models/"
      ],
      "id": "MITpA16K37DM",
      "execution_count": null,
      "outputs": []
    },
    {
      "cell_type": "markdown",
      "metadata": {
        "id": "_7fNAogp4Ab_"
      },
      "source": [
        "### weighted version"
      ],
      "id": "_7fNAogp4Ab_"
    },
    {
      "cell_type": "code",
      "metadata": {
        "colab": {
          "base_uri": "https://localhost:8080/"
        },
        "id": "2qmurzGZ6pEx",
        "outputId": "5a47f8f7-ae4b-45b5-87f0-1436507a95a7"
      },
      "source": [
        "weight_rating = {i:wt for i,wt in enumerate(class_weight.compute_class_weight('balanced', classes=np.unique(y_train_bin), y=y_train_bin))}\n",
        "weight_genre = {i:wt for i,wt in enumerate(class_weight.compute_class_weight('balanced', classes=np.unique(y_train_genre), y=y_train_genre))}\n",
        "\n",
        "print(Counter(y_train_bin))\n",
        "print(weight_rating)\n",
        "print(\"\")\n",
        "\n",
        "print(Counter(y_train_genre))\n",
        "print(weight_genre)"
      ],
      "id": "2qmurzGZ6pEx",
      "execution_count": null,
      "outputs": [
        {
          "output_type": "stream",
          "name": "stdout",
          "text": [
            "Counter({1: 3377, 0: 2623})\n",
            "{0: 1.1437285550895921, 1: 0.8883624518803672}\n",
            "\n",
            "Counter({0: 1789, 1: 1297, 2: 1182, 3: 685, 4: 369, 5: 269, 6: 234, 7: 153, 8: 22})\n",
            "{0: 0.3726476616359232, 1: 0.5140066820868672, 2: 0.5640157924421884, 3: 0.9732360097323601, 4: 1.8066847335140017, 5: 2.4783147459727384, 6: 2.849002849002849, 7: 4.357298474945534, 8: 30.303030303030305}\n"
          ]
        }
      ]
    },
    {
      "cell_type": "code",
      "metadata": {
        "colab": {
          "base_uri": "https://localhost:8080/"
        },
        "id": "bED9uafM-UmM",
        "outputId": "87fd13ed-e691-4ce5-9045-78780d68f302"
      },
      "source": [
        "model_bias_free_wt = build_lstm_model_bias_free(glove_embed_matrix, EMBED_DIM, NUM_LABELS_REVIEW=2, NUM_LABELS_GENRE=9, verbose=True)"
      ],
      "id": "bED9uafM-UmM",
      "execution_count": null,
      "outputs": [
        {
          "output_type": "stream",
          "name": "stdout",
          "text": [
            "Model: \"model_1\"\n",
            "__________________________________________________________________________________________________\n",
            "Layer (type)                    Output Shape         Param #     Connected to                     \n",
            "==================================================================================================\n",
            "input (InputLayer)              [(None, 300)]        0                                            \n",
            "__________________________________________________________________________________________________\n",
            "embed_rating (Embedding)        (None, 300, 50)      1750000     input[0][0]                      \n",
            "__________________________________________________________________________________________________\n",
            "embed_genre (Embedding)         (None, 300, 50)      1750000     input[0][0]                      \n",
            "__________________________________________________________________________________________________\n",
            "lstm_rating (Bidirectional)     (None, 128)          58880       embed_rating[0][0]               \n",
            "__________________________________________________________________________________________________\n",
            "lstm_genre (Bidirectional)      (None, 128)          58880       embed_genre[0][0]                \n",
            "__________________________________________________________________________________________________\n",
            "concatenate_1 (Concatenate)     (None, 256)          0           lstm_rating[0][0]                \n",
            "                                                                 lstm_genre[0][0]                 \n",
            "__________________________________________________________________________________________________\n",
            "dense_2 (Dense)                 (None, 128)          32896       concatenate_1[0][0]              \n",
            "__________________________________________________________________________________________________\n",
            "dense_3 (Dense)                 (None, 64)           8256        dense_2[0][0]                    \n",
            "__________________________________________________________________________________________________\n",
            "output_rating (Dense)           (None, 2)            130         dense_3[0][0]                    \n",
            "__________________________________________________________________________________________________\n",
            "output_genre (Dense)            (None, 9)            585         dense_3[0][0]                    \n",
            "==================================================================================================\n",
            "Total params: 3,659,627\n",
            "Trainable params: 159,627\n",
            "Non-trainable params: 3,500,000\n",
            "__________________________________________________________________________________________________\n",
            "None\n"
          ]
        }
      ]
    },
    {
      "cell_type": "code",
      "metadata": {
        "execution": {
          "iopub.execute_input": "2021-11-29T21:04:31.711460Z",
          "iopub.status.busy": "2021-11-29T21:04:31.711460Z",
          "iopub.status.idle": "2021-11-29T21:04:31.724430Z",
          "shell.execute_reply": "2021-11-29T21:04:31.723465Z",
          "shell.execute_reply.started": "2021-11-29T21:04:31.711460Z"
        },
        "tags": [],
        "id": "-w_eYm_5-UmM"
      },
      "source": [
        "#Since our inputs and outputs are named (we passed them a \"name\" argument)\n",
        "\n",
        "# optimizer = SGD(learning_rate=0.01, momentum=0.9)\n",
        "optimizer = Adam()\n",
        "loss = sparse_categorical_crossentropy\n",
        "alpha = -0.10\n",
        "\n",
        "model_bias_free_wt .compile(optimizer=optimizer,\n",
        "                         loss={'output_rating': loss, 'output_genre': loss},\n",
        "                         loss_weights={'output_rating': 1., 'output_genre': alpha},\n",
        "                         metrics = ['accuracy'])"
      ],
      "id": "-w_eYm_5-UmM",
      "execution_count": null,
      "outputs": []
    },
    {
      "cell_type": "code",
      "metadata": {
        "id": "_KuvDZQy-z_n"
      },
      "source": [
        "model_folder = 'saved_models/'\n",
        "checkpoint_callback = ModelCheckpoint(model_folder + 'lstm_bias_wt_{epoch:02d}_{val_output_rating_accuracy:.4f}.h5', save_best_only=True, \n",
        "                                      monitor='val_output_rating_accuracy', verbose=1)\n",
        "earlystop_callback = EarlyStopping(monitor='val_output_rating_accuracy', patience=5, restore_best_weights=True, verbose=1)"
      ],
      "id": "_KuvDZQy-z_n",
      "execution_count": null,
      "outputs": []
    },
    {
      "cell_type": "code",
      "metadata": {
        "execution": {
          "iopub.execute_input": "2021-11-29T21:04:39.952838Z",
          "iopub.status.busy": "2021-11-29T21:04:39.951872Z"
        },
        "tags": [],
        "colab": {
          "base_uri": "https://localhost:8080/"
        },
        "id": "DLhd9NjL-UmM",
        "outputId": "edfae66e-43d4-4cde-fd8d-3a643716fbc1"
      },
      "source": [
        "epochs = 5\n",
        "batch_size = 512\n",
        "\n",
        "history_bias_free = model_bias_free_wt.fit(x_train_idx_padded, \n",
        "                                        y={\"output_rating\": y_train_bin, \"output_genre\": y_train_genre},\n",
        "                                        batch_size = batch_size,\n",
        "                                        epochs = epochs,\n",
        "                                        callbacks = [checkpoint_callback, earlystop_callback],\n",
        "                                        validation_data=(x_test_idx_padded,\n",
        "                                                         {\"output_rating\": y_test_bin, \"output_genre\": y_test_genre}),\n",
        "                                       class_weight = {'output_rating': weight_rating , 'output_genre': weight_genre}\n",
        "                                       )"
      ],
      "id": "DLhd9NjL-UmM",
      "execution_count": null,
      "outputs": [
        {
          "output_type": "stream",
          "name": "stdout",
          "text": [
            "Train on 6000 samples, validate on 1500 samples\n",
            "Epoch 1/5\n",
            "5632/6000 [===========================>..] - ETA: 7s - loss: 3.4568 - output_rating_loss: 0.6634 - output_genre_loss: 2.2503 - output_rating_accuracy: 0.6051 - output_genre_accuracy: 0.0744 \n",
            "Epoch 00001: val_output_rating_accuracy improved from -inf to 0.64333, saving model to saved_models/lstm_bias_wt_01_0.6433.h5\n",
            "6000/6000 [==============================] - 131s 22ms/sample - loss: 3.4330 - output_rating_loss: 0.6597 - output_genre_loss: 2.2263 - output_rating_accuracy: 0.6080 - output_genre_accuracy: 0.0770 - val_loss: 2.9879 - val_output_rating_loss: 0.6266 - val_output_genre_loss: 2.2788 - val_output_rating_accuracy: 0.6433 - val_output_genre_accuracy: 0.0880\n",
            "Epoch 2/5\n",
            "5632/6000 [===========================>..] - ETA: 6s - loss: 2.6779 - output_rating_loss: 0.6039 - output_genre_loss: 2.4872 - output_rating_accuracy: 0.6738 - output_genre_accuracy: 0.0620 \n",
            "Epoch 00002: val_output_rating_accuracy improved from 0.64333 to 0.67800, saving model to saved_models/lstm_bias_wt_02_0.6780.h5\n",
            "6000/6000 [==============================] - 117s 19ms/sample - loss: 2.6565 - output_rating_loss: 0.6044 - output_genre_loss: 2.5381 - output_rating_accuracy: 0.6727 - output_genre_accuracy: 0.0603 - val_loss: 2.2400 - val_output_rating_loss: 0.5936 - val_output_genre_loss: 3.3611 - val_output_rating_accuracy: 0.6780 - val_output_genre_accuracy: 0.0260\n",
            "Epoch 3/5\n",
            "5632/6000 [===========================>..] - ETA: 6s - loss: 1.7367 - output_rating_loss: 0.5787 - output_genre_loss: 6.1930 - output_rating_accuracy: 0.6962 - output_genre_accuracy: 0.0085 \n",
            "Epoch 00003: val_output_rating_accuracy did not improve from 0.67800\n",
            "6000/6000 [==============================] - 118s 20ms/sample - loss: 1.6738 - output_rating_loss: 0.5765 - output_genre_loss: 6.8392 - output_rating_accuracy: 0.6978 - output_genre_accuracy: 0.0085 - val_loss: 0.2934 - val_output_rating_loss: 0.5962 - val_output_genre_loss: 18.2630 - val_output_rating_accuracy: 0.6540 - val_output_genre_accuracy: 0.0027\n",
            "Epoch 4/5\n",
            "5632/6000 [===========================>..] - ETA: 6s - loss: -2.1448 - output_rating_loss: 0.6241 - output_genre_loss: 41.4615 - output_rating_accuracy: 0.6477 - output_genre_accuracy: 0.0039 \n",
            "Epoch 00004: val_output_rating_accuracy did not improve from 0.67800\n",
            "6000/6000 [==============================] - 117s 19ms/sample - loss: -2.3918 - output_rating_loss: 0.6291 - output_genre_loss: 44.7388 - output_rating_accuracy: 0.6363 - output_genre_accuracy: 0.0037 - val_loss: -7.5585 - val_output_rating_loss: 0.7637 - val_output_genre_loss: 95.3425 - val_output_rating_accuracy: 0.5773 - val_output_genre_accuracy: 0.0027\n",
            "Epoch 5/5\n",
            "5632/6000 [===========================>..] - ETA: 7s - loss: -13.0845 - output_rating_loss: 0.7599 - output_genre_loss: 149.4592 - output_rating_accuracy: 0.5495 - output_genre_accuracy: 0.0037 \n",
            "Epoch 00005: val_output_rating_accuracy did not improve from 0.67800\n",
            "6000/6000 [==============================] - 123s 20ms/sample - loss: -13.6248 - output_rating_loss: 0.7521 - output_genre_loss: 156.6327 - output_rating_accuracy: 0.5557 - output_genre_accuracy: 0.0037 - val_loss: -23.9245 - val_output_rating_loss: 0.9246 - val_output_genre_loss: 258.5438 - val_output_rating_accuracy: 0.5753 - val_output_genre_accuracy: 0.0027\n"
          ]
        }
      ]
    },
    {
      "cell_type": "code",
      "metadata": {
        "colab": {
          "base_uri": "https://localhost:8080/",
          "height": 226
        },
        "id": "A3uY3vRlBrWA",
        "outputId": "75a1a317-ddf1-479f-dee0-e763398645b6"
      },
      "source": [
        "pd.DataFrame(history_bias_free.history)"
      ],
      "id": "A3uY3vRlBrWA",
      "execution_count": null,
      "outputs": [
        {
          "output_type": "execute_result",
          "data": {
            "text/html": [
              "<div>\n",
              "<style scoped>\n",
              "    .dataframe tbody tr th:only-of-type {\n",
              "        vertical-align: middle;\n",
              "    }\n",
              "\n",
              "    .dataframe tbody tr th {\n",
              "        vertical-align: top;\n",
              "    }\n",
              "\n",
              "    .dataframe thead th {\n",
              "        text-align: right;\n",
              "    }\n",
              "</style>\n",
              "<table border=\"1\" class=\"dataframe\">\n",
              "  <thead>\n",
              "    <tr style=\"text-align: right;\">\n",
              "      <th></th>\n",
              "      <th>loss</th>\n",
              "      <th>output_rating_loss</th>\n",
              "      <th>output_genre_loss</th>\n",
              "      <th>output_rating_accuracy</th>\n",
              "      <th>output_genre_accuracy</th>\n",
              "      <th>val_loss</th>\n",
              "      <th>val_output_rating_loss</th>\n",
              "      <th>val_output_genre_loss</th>\n",
              "      <th>val_output_rating_accuracy</th>\n",
              "      <th>val_output_genre_accuracy</th>\n",
              "    </tr>\n",
              "  </thead>\n",
              "  <tbody>\n",
              "    <tr>\n",
              "      <th>0</th>\n",
              "      <td>3.432954</td>\n",
              "      <td>0.659654</td>\n",
              "      <td>2.226311</td>\n",
              "      <td>0.608000</td>\n",
              "      <td>0.077000</td>\n",
              "      <td>2.987880</td>\n",
              "      <td>0.626587</td>\n",
              "      <td>2.278787</td>\n",
              "      <td>0.643333</td>\n",
              "      <td>0.088000</td>\n",
              "    </tr>\n",
              "    <tr>\n",
              "      <th>1</th>\n",
              "      <td>2.656467</td>\n",
              "      <td>0.604438</td>\n",
              "      <td>2.538085</td>\n",
              "      <td>0.672667</td>\n",
              "      <td>0.060333</td>\n",
              "      <td>2.240021</td>\n",
              "      <td>0.593630</td>\n",
              "      <td>3.361074</td>\n",
              "      <td>0.678000</td>\n",
              "      <td>0.026000</td>\n",
              "    </tr>\n",
              "    <tr>\n",
              "      <th>2</th>\n",
              "      <td>1.673770</td>\n",
              "      <td>0.576462</td>\n",
              "      <td>6.839178</td>\n",
              "      <td>0.697833</td>\n",
              "      <td>0.008500</td>\n",
              "      <td>0.293398</td>\n",
              "      <td>0.596180</td>\n",
              "      <td>18.263008</td>\n",
              "      <td>0.654000</td>\n",
              "      <td>0.002667</td>\n",
              "    </tr>\n",
              "    <tr>\n",
              "      <th>3</th>\n",
              "      <td>-2.391801</td>\n",
              "      <td>0.629112</td>\n",
              "      <td>44.738819</td>\n",
              "      <td>0.636333</td>\n",
              "      <td>0.003667</td>\n",
              "      <td>-7.558481</td>\n",
              "      <td>0.763706</td>\n",
              "      <td>95.342522</td>\n",
              "      <td>0.577333</td>\n",
              "      <td>0.002667</td>\n",
              "    </tr>\n",
              "    <tr>\n",
              "      <th>4</th>\n",
              "      <td>-13.624802</td>\n",
              "      <td>0.752136</td>\n",
              "      <td>156.632736</td>\n",
              "      <td>0.555667</td>\n",
              "      <td>0.003667</td>\n",
              "      <td>-23.924514</td>\n",
              "      <td>0.924602</td>\n",
              "      <td>258.543793</td>\n",
              "      <td>0.575333</td>\n",
              "      <td>0.002667</td>\n",
              "    </tr>\n",
              "  </tbody>\n",
              "</table>\n",
              "</div>"
            ],
            "text/plain": [
              "        loss  ...  val_output_genre_accuracy\n",
              "0   3.432954  ...                   0.088000\n",
              "1   2.656467  ...                   0.026000\n",
              "2   1.673770  ...                   0.002667\n",
              "3  -2.391801  ...                   0.002667\n",
              "4 -13.624802  ...                   0.002667\n",
              "\n",
              "[5 rows x 10 columns]"
            ]
          },
          "metadata": {},
          "execution_count": 51
        }
      ]
    },
    {
      "cell_type": "code",
      "metadata": {
        "id": "f4EUmIs7D8zt"
      },
      "source": [
        "!cp /content/saved_models/*  /content/drive/MyDrive/DAI_Project/saved_models/"
      ],
      "id": "f4EUmIs7D8zt",
      "execution_count": null,
      "outputs": []
    },
    {
      "cell_type": "markdown",
      "metadata": {
        "id": "_8bIMC0SBrV-"
      },
      "source": [
        "#### prediction"
      ],
      "id": "_8bIMC0SBrV-"
    },
    {
      "cell_type": "code",
      "metadata": {
        "execution": {
          "iopub.execute_input": "2021-11-29T20:20:54.229970Z",
          "iopub.status.busy": "2021-11-29T20:20:54.228966Z",
          "iopub.status.idle": "2021-11-29T20:20:56.129771Z",
          "shell.execute_reply": "2021-11-29T20:20:56.129771Z",
          "shell.execute_reply.started": "2021-11-29T20:20:54.229970Z"
        },
        "tags": [],
        "colab": {
          "base_uri": "https://localhost:8080/"
        },
        "id": "cr0YKYOABrV_",
        "outputId": "c9bb158f-d5d8-44a8-d233-bf50aedfce78"
      },
      "source": [
        "y_pred = model_bias_free_wt.predict(x_test_idx_padded)\n",
        "print(y_pred[0].shape, y_pred[1].shape)"
      ],
      "id": "cr0YKYOABrV_",
      "execution_count": null,
      "outputs": [
        {
          "output_type": "stream",
          "name": "stdout",
          "text": [
            "(1500, 2) (1500, 9)\n"
          ]
        }
      ]
    },
    {
      "cell_type": "code",
      "metadata": {
        "colab": {
          "base_uri": "https://localhost:8080/"
        },
        "id": "f10b2zg1BrV_",
        "outputId": "b766eb5f-8975-46d5-b86f-986c37614364"
      },
      "source": [
        "y_pred_rating = np.argmax(y_pred[0], axis=1)\n",
        "y_pred_genre = np.argmax(y_pred[1], axis=1)\n",
        "print(y_pred_rating.shape, y_pred_genre.shape)"
      ],
      "id": "f10b2zg1BrV_",
      "execution_count": null,
      "outputs": [
        {
          "output_type": "stream",
          "name": "stdout",
          "text": [
            "(1500,) (1500,)\n"
          ]
        }
      ]
    },
    {
      "cell_type": "code",
      "metadata": {
        "execution": {
          "iopub.execute_input": "2021-11-29T19:51:06.565672Z",
          "iopub.status.busy": "2021-11-29T19:51:06.564639Z",
          "iopub.status.idle": "2021-11-29T19:51:06.873696Z",
          "shell.execute_reply": "2021-11-29T19:51:06.873696Z",
          "shell.execute_reply.started": "2021-11-29T19:51:06.565672Z"
        },
        "tags": [],
        "colab": {
          "base_uri": "https://localhost:8080/",
          "height": 606
        },
        "id": "A562UHfRBrV_",
        "outputId": "19961634-0ca9-4ef9-c22f-47efce70e7d8"
      },
      "source": [
        "# confusion matrix\n",
        "class_names = [\"bad\", \"good\"]\n",
        "cmat = confusion_matrix(y_test_bin, y_pred_rating)\n",
        "plt.figure(figsize=(12,10))\n",
        "sns.heatmap(cmat, xticklabels=class_names, yticklabels=class_names, fmt='d', annot=True, cmap='YlGnBu')\n",
        "plt.xlabel('Predicted')\n",
        "plt.ylabel('Actual')\n",
        "plt.show()"
      ],
      "id": "A562UHfRBrV_",
      "execution_count": null,
      "outputs": [
        {
          "output_type": "display_data",
          "data": {
            "image/png": "[encoded data removed]",
            "text/plain": [
              "<Figure size 864x720 with 2 Axes>"
            ]
          },
          "metadata": {
            "needs_background": "light"
          }
        }
      ]
    },
    {
      "cell_type": "code",
      "metadata": {
        "colab": {
          "base_uri": "https://localhost:8080/"
        },
        "id": "nD-5R0ieBrV_",
        "outputId": "55b61406-1d61-4964-a079-09367b7a49c9"
      },
      "source": [
        "np.min(y_pred[0], axis=0), np.max(y_pred[0], axis=0), np.quantile(y_pred[0], q=0.5, axis=0), np.quantile(y_pred[0], q=0.6, axis=0), np.quantile(y_pred[0], q=0.7, axis=0), np.quantile(y_pred[0], q=0.9, axis=0)"
      ],
      "id": "nD-5R0ieBrV_",
      "execution_count": null,
      "outputs": [
        {
          "output_type": "execute_result",
          "data": {
            "text/plain": [
              "(array([0.11624219, 0.09427531], dtype=float32),\n",
              " array([0.90572464, 0.8837578 ], dtype=float32),\n",
              " array([0.17543183, 0.82456818]),\n",
              " array([0.18039145, 0.83016106]),\n",
              " array([0.18564775, 0.83511286]),\n",
              " array([0.19851449, 0.85160298]))"
            ]
          },
          "metadata": {},
          "execution_count": 64
        }
      ]
    },
    {
      "cell_type": "code",
      "metadata": {
        "colab": {
          "base_uri": "https://localhost:8080/"
        },
        "id": "qWEiOO8mBrV_",
        "outputId": "42070fec-ccdb-435a-a8d4-9c62e0a4c749"
      },
      "source": [
        "thresholds = list(np.arange(.75, .9, .01))\n",
        "print(thresholds)\n",
        "\n",
        "for thres in thresholds:\n",
        "    print(\"\\n\", \"-\"*50)\n",
        "    print(f\"thres: {thres}\")\n",
        "    y_pred_rating = [1 if pred[1]>=thres else 0 for pred in y_pred[0]]\n",
        "    print(classification_report(y_test_bin, y_pred_rating))\n",
        "    "
      ],
      "id": "qWEiOO8mBrV_",
      "execution_count": null,
      "outputs": [
        {
          "output_type": "stream",
          "name": "stdout",
          "text": [
            "[0.75, 0.76, 0.77, 0.78, 0.79, 0.8, 0.81, 0.8200000000000001, 0.8300000000000001, 0.8400000000000001, 0.8500000000000001, 0.8600000000000001, 0.8700000000000001, 0.8800000000000001, 0.8900000000000001, 0.9000000000000001]\n",
            "\n",
            " --------------------------------------------------\n",
            "thres: 0.75\n",
            "              precision    recall  f1-score   support\n",
            "\n",
            "           0       1.00      0.00      0.01       638\n",
            "           1       0.58      1.00      0.73       862\n",
            "\n",
            "    accuracy                           0.58      1500\n",
            "   macro avg       0.79      0.50      0.37      1500\n",
            "weighted avg       0.76      0.58      0.42      1500\n",
            "\n",
            "\n",
            " --------------------------------------------------\n",
            "thres: 0.76\n",
            "              precision    recall  f1-score   support\n",
            "\n",
            "           0       1.00      0.00      0.01       638\n",
            "           1       0.58      1.00      0.73       862\n",
            "\n",
            "    accuracy                           0.58      1500\n",
            "   macro avg       0.79      0.50      0.37      1500\n",
            "weighted avg       0.76      0.58      0.42      1500\n",
            "\n",
            "\n",
            " --------------------------------------------------\n",
            "thres: 0.77\n",
            "              precision    recall  f1-score   support\n",
            "\n",
            "           0       1.00      0.00      0.01       638\n",
            "           1       0.58      1.00      0.73       862\n",
            "\n",
            "    accuracy                           0.58      1500\n",
            "   macro avg       0.79      0.50      0.37      1500\n",
            "weighted avg       0.76      0.58      0.42      1500\n",
            "\n",
            "\n",
            " --------------------------------------------------\n",
            "thres: 0.78\n",
            "              precision    recall  f1-score   support\n",
            "\n",
            "           0       0.80      0.01      0.02       638\n",
            "           1       0.58      1.00      0.73       862\n",
            "\n",
            "    accuracy                           0.58      1500\n",
            "   macro avg       0.69      0.51      0.38      1500\n",
            "weighted avg       0.67      0.58      0.43      1500\n",
            "\n",
            "\n",
            " --------------------------------------------------\n",
            "thres: 0.79\n",
            "              precision    recall  f1-score   support\n",
            "\n",
            "           0       0.65      0.04      0.08       638\n",
            "           1       0.58      0.98      0.73       862\n",
            "\n",
            "    accuracy                           0.58      1500\n",
            "   macro avg       0.62      0.51      0.40      1500\n",
            "weighted avg       0.61      0.58      0.45      1500\n",
            "\n",
            "\n",
            " --------------------------------------------------\n",
            "thres: 0.8\n",
            "              precision    recall  f1-score   support\n",
            "\n",
            "           0       0.67      0.13      0.22       638\n",
            "           1       0.60      0.95      0.73       862\n",
            "\n",
            "    accuracy                           0.60      1500\n",
            "   macro avg       0.63      0.54      0.48      1500\n",
            "weighted avg       0.63      0.60      0.52      1500\n",
            "\n",
            "\n",
            " --------------------------------------------------\n",
            "thres: 0.81\n",
            "              precision    recall  f1-score   support\n",
            "\n",
            "           0       0.62      0.32      0.42       638\n",
            "           1       0.63      0.86      0.73       862\n",
            "\n",
            "    accuracy                           0.63      1500\n",
            "   macro avg       0.63      0.59      0.58      1500\n",
            "weighted avg       0.63      0.63      0.60      1500\n",
            "\n",
            "\n",
            " --------------------------------------------------\n",
            "thres: 0.8200000000000001\n",
            "              precision    recall  f1-score   support\n",
            "\n",
            "           0       0.59      0.56      0.58       638\n",
            "           1       0.69      0.71      0.70       862\n",
            "\n",
            "    accuracy                           0.65      1500\n",
            "   macro avg       0.64      0.64      0.64      1500\n",
            "weighted avg       0.65      0.65      0.65      1500\n",
            "\n",
            "\n",
            " --------------------------------------------------\n",
            "thres: 0.8300000000000001\n",
            "              precision    recall  f1-score   support\n",
            "\n",
            "           0       0.55      0.77      0.64       638\n",
            "           1       0.75      0.53      0.62       862\n",
            "\n",
            "    accuracy                           0.63      1500\n",
            "   macro avg       0.65      0.65      0.63      1500\n",
            "weighted avg       0.67      0.63      0.63      1500\n",
            "\n",
            "\n",
            " --------------------------------------------------\n",
            "thres: 0.8400000000000001\n",
            "              precision    recall  f1-score   support\n",
            "\n",
            "           0       0.49      0.90      0.64       638\n",
            "           1       0.82      0.31      0.45       862\n",
            "\n",
            "    accuracy                           0.57      1500\n",
            "   macro avg       0.66      0.61      0.55      1500\n",
            "weighted avg       0.68      0.57      0.53      1500\n",
            "\n",
            "\n",
            " --------------------------------------------------\n",
            "thres: 0.8500000000000001\n",
            "              precision    recall  f1-score   support\n",
            "\n",
            "           0       0.46      0.96      0.62       638\n",
            "           1       0.83      0.16      0.27       862\n",
            "\n",
            "    accuracy                           0.50      1500\n",
            "   macro avg       0.64      0.56      0.44      1500\n",
            "weighted avg       0.67      0.50      0.42      1500\n",
            "\n",
            "\n",
            " --------------------------------------------------\n",
            "thres: 0.8600000000000001\n",
            "              precision    recall  f1-score   support\n",
            "\n",
            "           0       0.44      0.99      0.60       638\n",
            "           1       0.86      0.05      0.10       862\n",
            "\n",
            "    accuracy                           0.45      1500\n",
            "   macro avg       0.65      0.52      0.35      1500\n",
            "weighted avg       0.68      0.45      0.31      1500\n",
            "\n",
            "\n",
            " --------------------------------------------------\n",
            "thres: 0.8700000000000001\n",
            "              precision    recall  f1-score   support\n",
            "\n",
            "           0       0.43      1.00      0.60       638\n",
            "           1       0.82      0.01      0.02       862\n",
            "\n",
            "    accuracy                           0.43      1500\n",
            "   macro avg       0.62      0.50      0.31      1500\n",
            "weighted avg       0.65      0.43      0.27      1500\n",
            "\n",
            "\n",
            " --------------------------------------------------\n",
            "thres: 0.8800000000000001\n",
            "              precision    recall  f1-score   support\n",
            "\n",
            "           0       0.43      1.00      0.60       638\n",
            "           1       1.00      0.00      0.00       862\n",
            "\n",
            "    accuracy                           0.43      1500\n",
            "   macro avg       0.71      0.50      0.30      1500\n",
            "weighted avg       0.76      0.43      0.26      1500\n",
            "\n",
            "\n",
            " --------------------------------------------------\n",
            "thres: 0.8900000000000001\n",
            "              precision    recall  f1-score   support\n",
            "\n",
            "           0       0.43      1.00      0.60       638\n",
            "           1       0.00      0.00      0.00       862\n",
            "\n",
            "    accuracy                           0.43      1500\n",
            "   macro avg       0.21      0.50      0.30      1500\n",
            "weighted avg       0.18      0.43      0.25      1500\n",
            "\n",
            "\n",
            " --------------------------------------------------\n",
            "thres: 0.9000000000000001\n",
            "              precision    recall  f1-score   support\n",
            "\n",
            "           0       0.43      1.00      0.60       638\n",
            "           1       0.00      0.00      0.00       862\n",
            "\n",
            "    accuracy                           0.43      1500\n",
            "   macro avg       0.21      0.50      0.30      1500\n",
            "weighted avg       0.18      0.43      0.25      1500\n",
            "\n"
          ]
        },
        {
          "output_type": "stream",
          "name": "stderr",
          "text": [
            "/usr/local/lib/python3.7/dist-packages/sklearn/metrics/_classification.py:1308: UndefinedMetricWarning: Precision and F-score are ill-defined and being set to 0.0 in labels with no predicted samples. Use `zero_division` parameter to control this behavior.\n",
            "  _warn_prf(average, modifier, msg_start, len(result))\n",
            "/usr/local/lib/python3.7/dist-packages/sklearn/metrics/_classification.py:1308: UndefinedMetricWarning: Precision and F-score are ill-defined and being set to 0.0 in labels with no predicted samples. Use `zero_division` parameter to control this behavior.\n",
            "  _warn_prf(average, modifier, msg_start, len(result))\n",
            "/usr/local/lib/python3.7/dist-packages/sklearn/metrics/_classification.py:1308: UndefinedMetricWarning: Precision and F-score are ill-defined and being set to 0.0 in labels with no predicted samples. Use `zero_division` parameter to control this behavior.\n",
            "  _warn_prf(average, modifier, msg_start, len(result))\n",
            "/usr/local/lib/python3.7/dist-packages/sklearn/metrics/_classification.py:1308: UndefinedMetricWarning: Precision and F-score are ill-defined and being set to 0.0 in labels with no predicted samples. Use `zero_division` parameter to control this behavior.\n",
            "  _warn_prf(average, modifier, msg_start, len(result))\n",
            "/usr/local/lib/python3.7/dist-packages/sklearn/metrics/_classification.py:1308: UndefinedMetricWarning: Precision and F-score are ill-defined and being set to 0.0 in labels with no predicted samples. Use `zero_division` parameter to control this behavior.\n",
            "  _warn_prf(average, modifier, msg_start, len(result))\n",
            "/usr/local/lib/python3.7/dist-packages/sklearn/metrics/_classification.py:1308: UndefinedMetricWarning: Precision and F-score are ill-defined and being set to 0.0 in labels with no predicted samples. Use `zero_division` parameter to control this behavior.\n",
            "  _warn_prf(average, modifier, msg_start, len(result))\n"
          ]
        }
      ]
    },
    {
      "cell_type": "code",
      "metadata": {
        "colab": {
          "base_uri": "https://localhost:8080/",
          "height": 606
        },
        "id": "TFqwbhXGBrWA",
        "outputId": "25c05960-5aa0-4844-b42f-6c02d572f3ac"
      },
      "source": [
        "# confusion matrix\n",
        "class_names = list(genre2id.keys())\n",
        "cmat = confusion_matrix(y_test_genre, y_pred_genre)\n",
        "plt.figure(figsize=(12,10))\n",
        "sns.heatmap(cmat, xticklabels=class_names, yticklabels=class_names, fmt='d', annot=True, cmap='YlGnBu')\n",
        "plt.xlabel('Predicted')\n",
        "plt.ylabel('Actual')\n",
        "plt.show()"
      ],
      "id": "TFqwbhXGBrWA",
      "execution_count": null,
      "outputs": [
        {
          "output_type": "display_data",
          "data": {
            "image/png": "[encoded data removed]",
            "text/plain": [
              "<Figure size 864x720 with 2 Axes>"
            ]
          },
          "metadata": {
            "needs_background": "light"
          }
        }
      ]
    },
    {
      "cell_type": "markdown",
      "metadata": {
        "id": "OOlwQqKGv6pY"
      },
      "source": [
        "## compare"
      ],
      "id": "OOlwQqKGv6pY"
    },
    {
      "cell_type": "markdown",
      "metadata": {
        "id": "AcaMzx4m3Pnh"
      },
      "source": [
        "### load binary model"
      ],
      "id": "AcaMzx4m3Pnh"
    },
    {
      "cell_type": "code",
      "metadata": {
        "id": "IkjLYqY5HDl3"
      },
      "source": [
        "model_bin = load_model(\"/content/drive/MyDrive/DAI_Project/saved_models/lstm_binary_02_0.7380.h5\", custom_objects={'Functional':Model})"
      ],
      "id": "IkjLYqY5HDl3",
      "execution_count": null,
      "outputs": []
    },
    {
      "cell_type": "code",
      "metadata": {
        "id": "ky1XB_dbv8-f"
      },
      "source": [
        "model_bin = load_model(\"/content/drive/MyDrive/DAI_Project/saved_models/lstm_binary_02_0.7380.h5\")"
      ],
      "id": "ky1XB_dbv8-f",
      "execution_count": null,
      "outputs": []
    },
    {
      "cell_type": "code",
      "metadata": {
        "colab": {
          "base_uri": "https://localhost:8080/"
        },
        "id": "TQE-R824wIBe",
        "outputId": "17b9f88e-bda8-4146-e542-76390a6f0dc8"
      },
      "source": [
        "y_pred_bin = model_bin.predict(x_test_idx_padded)\n",
        "print(y_pred_bin.shape)\n",
        "\n",
        "y_pred_bin = np.argmax(y_pred_bin, axis=1)\n",
        "y_pred_bin.shape"
      ],
      "id": "TQE-R824wIBe",
      "execution_count": null,
      "outputs": [
        {
          "output_type": "stream",
          "name": "stdout",
          "text": [
            "(1500, 2)\n"
          ]
        },
        {
          "output_type": "execute_result",
          "data": {
            "text/plain": [
              "(1500,)"
            ]
          },
          "metadata": {},
          "execution_count": 106
        }
      ]
    },
    {
      "cell_type": "code",
      "metadata": {
        "colab": {
          "base_uri": "https://localhost:8080/"
        },
        "id": "3VApyF3gxn6h",
        "outputId": "1e7224e7-083d-40ec-d449-c9c79b824aa6"
      },
      "source": [
        "print(classification_report(y_test_bin, y_pred_bin))"
      ],
      "id": "3VApyF3gxn6h",
      "execution_count": null,
      "outputs": [
        {
          "output_type": "stream",
          "name": "stdout",
          "text": [
            "              precision    recall  f1-score   support\n",
            "\n",
            "           0       0.50      0.23      0.31       638\n",
            "           1       0.59      0.83      0.69       862\n",
            "\n",
            "    accuracy                           0.58      1500\n",
            "   macro avg       0.55      0.53      0.50      1500\n",
            "weighted avg       0.55      0.58      0.53      1500\n",
            "\n"
          ]
        }
      ]
    },
    {
      "cell_type": "markdown",
      "metadata": {
        "id": "-3SJ1_Da3WSn"
      },
      "source": [
        "### postive review comparision"
      ],
      "id": "-3SJ1_Da3WSn"
    },
    {
      "cell_type": "code",
      "metadata": {
        "id": "0Af9a5113cvK"
      },
      "source": [
        "y_pred_bin = model_bin.predict(x_test_idx_padded)\n",
        "y_pred_bias = model_bias_free.predict(x_test_idx_padded)\n",
        "print(y_pred_bin.shape, y_pred_bias[0].shape, y_pred_bias[1].shape)"
      ],
      "id": "0Af9a5113cvK",
      "execution_count": null,
      "outputs": []
    },
    {
      "cell_type": "code",
      "metadata": {
        "colab": {
          "base_uri": "https://localhost:8080/",
          "height": 380
        },
        "id": "4_VTvXSfyNa2",
        "outputId": "f7b1aaad-d69f-4084-ed73-57a474b7577a"
      },
      "source": [
        "cols = ['movie', 'rating', 'genre_primary_mapped', 'genre_label', 'review_title', 'review', 'review_processed', 'num_tokens', 'review_rating', 'review_class_bin']\n",
        "df_comp = df_test[cols].copy()\n",
        "df_comp.head()"
      ],
      "id": "4_VTvXSfyNa2",
      "execution_count": null,
      "outputs": [
        {
          "output_type": "execute_result",
          "data": {
            "text/html": [
              "<div>\n",
              "<style scoped>\n",
              "    .dataframe tbody tr th:only-of-type {\n",
              "        vertical-align: middle;\n",
              "    }\n",
              "\n",
              "    .dataframe tbody tr th {\n",
              "        vertical-align: top;\n",
              "    }\n",
              "\n",
              "    .dataframe thead th {\n",
              "        text-align: right;\n",
              "    }\n",
              "</style>\n",
              "<table border=\"1\" class=\"dataframe\">\n",
              "  <thead>\n",
              "    <tr style=\"text-align: right;\">\n",
              "      <th></th>\n",
              "      <th>movie</th>\n",
              "      <th>rating</th>\n",
              "      <th>genre_primary_mapped</th>\n",
              "      <th>genre_label</th>\n",
              "      <th>review_title</th>\n",
              "      <th>review</th>\n",
              "      <th>review_processed</th>\n",
              "      <th>num_tokens</th>\n",
              "      <th>review_rating</th>\n",
              "      <th>review_class_bin</th>\n",
              "    </tr>\n",
              "  </thead>\n",
              "  <tbody>\n",
              "    <tr>\n",
              "      <th>970</th>\n",
              "      <td>Dangal</td>\n",
              "      <td>8.3</td>\n",
              "      <td>action</td>\n",
              "      <td>0</td>\n",
              "      <td>Dangal is unmissable.</td>\n",
              "      <td>Dangal review :In his 2001 Oscar nominated 'La...</td>\n",
              "      <td>dangal unmissable dangal review in 2001 oscar ...</td>\n",
              "      <td>405</td>\n",
              "      <td>9/10</td>\n",
              "      <td>good</td>\n",
              "    </tr>\n",
              "    <tr>\n",
              "      <th>6279</th>\n",
              "      <td>Dor</td>\n",
              "      <td>7.8</td>\n",
              "      <td>drama</td>\n",
              "      <td>2</td>\n",
              "      <td>Simple and entertaining</td>\n",
              "      <td>Right from his debut, Hyderabad Blues, Kukunoo...</td>\n",
              "      <td>simple entertaining right from debut hyderabad...</td>\n",
              "      <td>369</td>\n",
              "      <td>6/10</td>\n",
              "      <td>bad</td>\n",
              "    </tr>\n",
              "    <tr>\n",
              "      <th>1859</th>\n",
              "      <td>Poove Unakkaga</td>\n",
              "      <td>7.9</td>\n",
              "      <td>comedy</td>\n",
              "      <td>1</td>\n",
              "      <td>Poovae unakaga</td>\n",
              "      <td>Vijay's first blockbuster movie and superb act...</td>\n",
              "      <td>poovae unakaga vijays first blockbuster movie ...</td>\n",
              "      <td>16</td>\n",
              "      <td>10/10</td>\n",
              "      <td>good</td>\n",
              "    </tr>\n",
              "    <tr>\n",
              "      <th>6803</th>\n",
              "      <td>Daddy Day Camp</td>\n",
              "      <td>3.5</td>\n",
              "      <td>comedy</td>\n",
              "      <td>1</td>\n",
              "      <td>4</td>\n",
              "      <td>I would say it was below average like 4. It wa...</td>\n",
              "      <td>4 would say below average like 4 wasnt worst b...</td>\n",
              "      <td>13</td>\n",
              "      <td>4/10</td>\n",
              "      <td>bad</td>\n",
              "    </tr>\n",
              "    <tr>\n",
              "      <th>6305</th>\n",
              "      <td>Anjaam Pathiraa</td>\n",
              "      <td>7.8</td>\n",
              "      <td>thriller/crime</td>\n",
              "      <td>3</td>\n",
              "      <td>Deviated mold from Midhun.</td>\n",
              "      <td>I was surprised because I can't expect this ki...</td>\n",
              "      <td>deviated mold from midhun surprised because ca...</td>\n",
              "      <td>61</td>\n",
              "      <td>7/10</td>\n",
              "      <td>good</td>\n",
              "    </tr>\n",
              "  </tbody>\n",
              "</table>\n",
              "</div>"
            ],
            "text/plain": [
              "                movie rating  ... review_rating  review_class_bin\n",
              "970            Dangal    8.3  ...          9/10              good\n",
              "6279              Dor    7.8  ...          6/10               bad\n",
              "1859   Poove Unakkaga    7.9  ...         10/10              good\n",
              "6803   Daddy Day Camp    3.5  ...          4/10               bad\n",
              "6305  Anjaam Pathiraa    7.8  ...          7/10              good\n",
              "\n",
              "[5 rows x 10 columns]"
            ]
          },
          "metadata": {},
          "execution_count": 118
        }
      ]
    },
    {
      "cell_type": "code",
      "metadata": {
        "colab": {
          "base_uri": "https://localhost:8080/"
        },
        "id": "yO4HT_zGzs5e",
        "outputId": "339f81e9-8af8-4815-83e1-669bfab8693a"
      },
      "source": [
        "df_comp[\"positive_prob\"] = [round(pred[1], 2) for pred in y_pred_bin]\n",
        "df_comp[\"bias_free_positive_prob\"] = [round(pred[1], 2) for pred in y_pred_bias[0]]"
      ],
      "id": "yO4HT_zGzs5e",
      "execution_count": null,
      "outputs": [
        {
          "output_type": "stream",
          "name": "stdout",
          "text": [
            "(1500, 2) (1500, 2) (1500, 9)\n"
          ]
        }
      ]
    },
    {
      "cell_type": "code",
      "metadata": {
        "colab": {
          "base_uri": "https://localhost:8080/",
          "height": 660
        },
        "id": "S1MDVEwS0vRy",
        "outputId": "24590c78-b83c-4c3d-eeb6-8ef1094721ee"
      },
      "source": [
        "df_comp[df_comp.review_rating == \"7/10\"][:5]"
      ],
      "id": "S1MDVEwS0vRy",
      "execution_count": null,
      "outputs": [
        {
          "output_type": "execute_result",
          "data": {
            "text/html": [
              "<div>\n",
              "<style scoped>\n",
              "    .dataframe tbody tr th:only-of-type {\n",
              "        vertical-align: middle;\n",
              "    }\n",
              "\n",
              "    .dataframe tbody tr th {\n",
              "        vertical-align: top;\n",
              "    }\n",
              "\n",
              "    .dataframe thead th {\n",
              "        text-align: right;\n",
              "    }\n",
              "</style>\n",
              "<table border=\"1\" class=\"dataframe\">\n",
              "  <thead>\n",
              "    <tr style=\"text-align: right;\">\n",
              "      <th></th>\n",
              "      <th>movie</th>\n",
              "      <th>rating</th>\n",
              "      <th>genre_primary_mapped</th>\n",
              "      <th>genre_label</th>\n",
              "      <th>review_title</th>\n",
              "      <th>review</th>\n",
              "      <th>review_processed</th>\n",
              "      <th>num_tokens</th>\n",
              "      <th>review_rating</th>\n",
              "      <th>review_class_bin</th>\n",
              "      <th>positive_prob</th>\n",
              "      <th>bias_free_positive_prob</th>\n",
              "    </tr>\n",
              "  </thead>\n",
              "  <tbody>\n",
              "    <tr>\n",
              "      <th>6305</th>\n",
              "      <td>Anjaam Pathiraa</td>\n",
              "      <td>7.8</td>\n",
              "      <td>thriller/crime</td>\n",
              "      <td>3</td>\n",
              "      <td>Deviated mold from Midhun.</td>\n",
              "      <td>I was surprised because I can't expect this ki...</td>\n",
              "      <td>deviated mold from midhun surprised because ca...</td>\n",
              "      <td>61</td>\n",
              "      <td>7/10</td>\n",
              "      <td>good</td>\n",
              "      <td>0.57</td>\n",
              "      <td>0.63</td>\n",
              "    </tr>\n",
              "    <tr>\n",
              "      <th>3039</th>\n",
              "      <td>In the Name of the King: A Dungeon Siege Tale</td>\n",
              "      <td>3.9</td>\n",
              "      <td>action</td>\n",
              "      <td>0</td>\n",
              "      <td>One of Uwe Boll's Better Forays into Film-maki...</td>\n",
              "      <td>\"Alone in the Dark\" director Uwe Boll's PG-13 ...</td>\n",
              "      <td>one of uwe bolls better forays into film makin...</td>\n",
              "      <td>507</td>\n",
              "      <td>7/10</td>\n",
              "      <td>good</td>\n",
              "      <td>0.77</td>\n",
              "      <td>0.66</td>\n",
              "    </tr>\n",
              "    <tr>\n",
              "      <th>5199</th>\n",
              "      <td>Earth</td>\n",
              "      <td>7.6</td>\n",
              "      <td>drama</td>\n",
              "      <td>2</td>\n",
              "      <td>Earth - did Deepa do it again?</td>\n",
              "      <td>1947 Earth is a story about the partition of I...</td>\n",
              "      <td>earth did deepa do again 1947 earth story abou...</td>\n",
              "      <td>318</td>\n",
              "      <td>7/10</td>\n",
              "      <td>good</td>\n",
              "      <td>0.44</td>\n",
              "      <td>0.67</td>\n",
              "    </tr>\n",
              "    <tr>\n",
              "      <th>6027</th>\n",
              "      <td>Batman Begins</td>\n",
              "      <td>8.2</td>\n",
              "      <td>action</td>\n",
              "      <td>0</td>\n",
              "      <td>A vast improvement over the Batman films of th...</td>\n",
              "      <td>I enjoyed the film BATMAN from Tim Burton, tho...</td>\n",
              "      <td>vast improvement over batman films of 1990s en...</td>\n",
              "      <td>202</td>\n",
              "      <td>7/10</td>\n",
              "      <td>good</td>\n",
              "      <td>0.69</td>\n",
              "      <td>0.67</td>\n",
              "    </tr>\n",
              "    <tr>\n",
              "      <th>7141</th>\n",
              "      <td>Queen</td>\n",
              "      <td>8.1</td>\n",
              "      <td>adventure</td>\n",
              "      <td>4</td>\n",
              "      <td>Finally, an Indian film that lives up to the hype</td>\n",
              "      <td>My experience with Indian cinema has been fair...</td>\n",
              "      <td>finally indian film lives up to hype experienc...</td>\n",
              "      <td>101</td>\n",
              "      <td>7/10</td>\n",
              "      <td>good</td>\n",
              "      <td>0.83</td>\n",
              "      <td>0.65</td>\n",
              "    </tr>\n",
              "  </tbody>\n",
              "</table>\n",
              "</div>"
            ],
            "text/plain": [
              "                                              movie  ... bias_free_positive_prob\n",
              "6305                                Anjaam Pathiraa  ...                    0.63\n",
              "3039  In the Name of the King: A Dungeon Siege Tale  ...                    0.66\n",
              "5199                                          Earth  ...                    0.67\n",
              "6027                                  Batman Begins  ...                    0.67\n",
              "7141                                          Queen  ...                    0.65\n",
              "\n",
              "[5 rows x 12 columns]"
            ]
          },
          "metadata": {},
          "execution_count": 120
        }
      ]
    },
    {
      "cell_type": "code",
      "metadata": {
        "colab": {
          "base_uri": "https://localhost:8080/",
          "height": 625
        },
        "id": "Rj0Y6gqc1ptb",
        "outputId": "e93f2562-3177-4b4e-a26b-b33ecafaa7d6"
      },
      "source": [
        "df_comp[df_comp.review_rating == \"8/10\"].sample(5)"
      ],
      "id": "Rj0Y6gqc1ptb",
      "execution_count": null,
      "outputs": [
        {
          "output_type": "execute_result",
          "data": {
            "text/html": [
              "<div>\n",
              "<style scoped>\n",
              "    .dataframe tbody tr th:only-of-type {\n",
              "        vertical-align: middle;\n",
              "    }\n",
              "\n",
              "    .dataframe tbody tr th {\n",
              "        vertical-align: top;\n",
              "    }\n",
              "\n",
              "    .dataframe thead th {\n",
              "        text-align: right;\n",
              "    }\n",
              "</style>\n",
              "<table border=\"1\" class=\"dataframe\">\n",
              "  <thead>\n",
              "    <tr style=\"text-align: right;\">\n",
              "      <th></th>\n",
              "      <th>movie</th>\n",
              "      <th>rating</th>\n",
              "      <th>genre_primary_mapped</th>\n",
              "      <th>genre_label</th>\n",
              "      <th>review_title</th>\n",
              "      <th>review</th>\n",
              "      <th>review_processed</th>\n",
              "      <th>num_tokens</th>\n",
              "      <th>review_rating</th>\n",
              "      <th>review_class_bin</th>\n",
              "      <th>positive_prob</th>\n",
              "      <th>bias_free_positive_prob</th>\n",
              "    </tr>\n",
              "  </thead>\n",
              "  <tbody>\n",
              "    <tr>\n",
              "      <th>1593</th>\n",
              "      <td>The Elephant Man</td>\n",
              "      <td>8.1</td>\n",
              "      <td>biography</td>\n",
              "      <td>5</td>\n",
              "      <td>One of Us.</td>\n",
              "      <td>This has to be the only totally straight movie...</td>\n",
              "      <td>one of us has to only totally straight movie d...</td>\n",
              "      <td>743</td>\n",
              "      <td>8/10</td>\n",
              "      <td>good</td>\n",
              "      <td>0.66</td>\n",
              "      <td>0.65</td>\n",
              "    </tr>\n",
              "    <tr>\n",
              "      <th>4623</th>\n",
              "      <td>The Kid</td>\n",
              "      <td>8.2</td>\n",
              "      <td>comedy</td>\n",
              "      <td>1</td>\n",
              "      <td>Sensitive and enjoyable film in which Chaplin ...</td>\n",
              "      <td>Wonderful picture mixes sentiment , drama , sl...</td>\n",
              "      <td>sensitive enjoyable film in chaplin meets stre...</td>\n",
              "      <td>335</td>\n",
              "      <td>8/10</td>\n",
              "      <td>good</td>\n",
              "      <td>0.66</td>\n",
              "      <td>0.65</td>\n",
              "    </tr>\n",
              "    <tr>\n",
              "      <th>6998</th>\n",
              "      <td>Chhichhore</td>\n",
              "      <td>8.1</td>\n",
              "      <td>comedy</td>\n",
              "      <td>1</td>\n",
              "      <td>One-Line Review: Chhichhore (8 Stars)</td>\n",
              "      <td>Nitesh Tiwari's Chhichhore (Loafers), although...</td>\n",
              "      <td>one line review chhichhore 8 stars nitesh tiwa...</td>\n",
              "      <td>53</td>\n",
              "      <td>8/10</td>\n",
              "      <td>good</td>\n",
              "      <td>0.74</td>\n",
              "      <td>0.66</td>\n",
              "    </tr>\n",
              "    <tr>\n",
              "      <th>1672</th>\n",
              "      <td>Bhaag Milkha Bhaag</td>\n",
              "      <td>8.1</td>\n",
              "      <td>biography</td>\n",
              "      <td>5</td>\n",
              "      <td>Milkha Singh Has Won. So Has The Biographical ...</td>\n",
              "      <td>In less than ten minutes into the film, you ge...</td>\n",
              "      <td>milkha singh has won so has biographical film ...</td>\n",
              "      <td>237</td>\n",
              "      <td>8/10</td>\n",
              "      <td>good</td>\n",
              "      <td>0.85</td>\n",
              "      <td>0.67</td>\n",
              "    </tr>\n",
              "    <tr>\n",
              "      <th>4147</th>\n",
              "      <td>Malik</td>\n",
              "      <td>7.9</td>\n",
              "      <td>action</td>\n",
              "      <td>0</td>\n",
              "      <td>Another best from Mahesh Narayanan, Fahadh Faazil</td>\n",
              "      <td>Superb movie from Mollywood. Made justice to t...</td>\n",
              "      <td>another best from mahesh narayanan fahadh faaz...</td>\n",
              "      <td>27</td>\n",
              "      <td>8/10</td>\n",
              "      <td>good</td>\n",
              "      <td>0.51</td>\n",
              "      <td>0.66</td>\n",
              "    </tr>\n",
              "  </tbody>\n",
              "</table>\n",
              "</div>"
            ],
            "text/plain": [
              "                   movie rating  ... positive_prob  bias_free_positive_prob\n",
              "1593    The Elephant Man    8.1  ...          0.66                     0.65\n",
              "4623             The Kid    8.2  ...          0.66                     0.65\n",
              "6998          Chhichhore    8.1  ...          0.74                     0.66\n",
              "1672  Bhaag Milkha Bhaag    8.1  ...          0.85                     0.67\n",
              "4147               Malik    7.9  ...          0.51                     0.66\n",
              "\n",
              "[5 rows x 12 columns]"
            ]
          },
          "metadata": {},
          "execution_count": 125
        }
      ]
    },
    {
      "cell_type": "code",
      "metadata": {
        "colab": {
          "base_uri": "https://localhost:8080/",
          "height": 573
        },
        "id": "9ky8Aywi1rgL",
        "outputId": "a34e94d0-1014-41a6-8ebf-1e8d379510ee"
      },
      "source": [
        "df_comp[df_comp.review_rating == \"9/10\"][:5]"
      ],
      "id": "9ky8Aywi1rgL",
      "execution_count": null,
      "outputs": [
        {
          "output_type": "execute_result",
          "data": {
            "text/html": [
              "<div>\n",
              "<style scoped>\n",
              "    .dataframe tbody tr th:only-of-type {\n",
              "        vertical-align: middle;\n",
              "    }\n",
              "\n",
              "    .dataframe tbody tr th {\n",
              "        vertical-align: top;\n",
              "    }\n",
              "\n",
              "    .dataframe thead th {\n",
              "        text-align: right;\n",
              "    }\n",
              "</style>\n",
              "<table border=\"1\" class=\"dataframe\">\n",
              "  <thead>\n",
              "    <tr style=\"text-align: right;\">\n",
              "      <th></th>\n",
              "      <th>movie</th>\n",
              "      <th>rating</th>\n",
              "      <th>genre_primary_mapped</th>\n",
              "      <th>genre_label</th>\n",
              "      <th>review_title</th>\n",
              "      <th>review</th>\n",
              "      <th>review_processed</th>\n",
              "      <th>num_tokens</th>\n",
              "      <th>review_rating</th>\n",
              "      <th>review_class_bin</th>\n",
              "      <th>positive_prob</th>\n",
              "      <th>bias_free_positive_prob</th>\n",
              "    </tr>\n",
              "  </thead>\n",
              "  <tbody>\n",
              "    <tr>\n",
              "      <th>970</th>\n",
              "      <td>Dangal</td>\n",
              "      <td>8.3</td>\n",
              "      <td>action</td>\n",
              "      <td>0</td>\n",
              "      <td>Dangal is unmissable.</td>\n",
              "      <td>Dangal review :In his 2001 Oscar nominated 'La...</td>\n",
              "      <td>dangal unmissable dangal review in 2001 oscar ...</td>\n",
              "      <td>405</td>\n",
              "      <td>9/10</td>\n",
              "      <td>good</td>\n",
              "      <td>0.66</td>\n",
              "      <td>0.62</td>\n",
              "    </tr>\n",
              "    <tr>\n",
              "      <th>3504</th>\n",
              "      <td>Angoor</td>\n",
              "      <td>8.2</td>\n",
              "      <td>comedy</td>\n",
              "      <td>1</td>\n",
              "      <td>One of Bollywood's finest comedies</td>\n",
              "      <td>Bollywood comedies are normally associated wit...</td>\n",
              "      <td>one of bollywoods finest comedies bollywood co...</td>\n",
              "      <td>268</td>\n",
              "      <td>9/10</td>\n",
              "      <td>good</td>\n",
              "      <td>0.85</td>\n",
              "      <td>0.65</td>\n",
              "    </tr>\n",
              "    <tr>\n",
              "      <th>6636</th>\n",
              "      <td>Kai Po Che</td>\n",
              "      <td>7.7</td>\n",
              "      <td>drama</td>\n",
              "      <td>2</td>\n",
              "      <td>Satire on the existing state of affairs in India</td>\n",
              "      <td>Three friends find their lives strangled as th...</td>\n",
              "      <td>satire on existing state of affairs in india t...</td>\n",
              "      <td>80</td>\n",
              "      <td>9/10</td>\n",
              "      <td>good</td>\n",
              "      <td>0.44</td>\n",
              "      <td>0.67</td>\n",
              "    </tr>\n",
              "    <tr>\n",
              "      <th>3014</th>\n",
              "      <td>Talvar</td>\n",
              "      <td>8.1</td>\n",
              "      <td>thriller/crime</td>\n",
              "      <td>3</td>\n",
              "      <td>As Good as a Movie About a Real-Life Legal Cas...</td>\n",
              "      <td>Reviewed by: Dare Devil Kid (DDK)Rating: 4.3/5...</td>\n",
              "      <td>as good as movie about real life legal case ca...</td>\n",
              "      <td>353</td>\n",
              "      <td>9/10</td>\n",
              "      <td>good</td>\n",
              "      <td>0.78</td>\n",
              "      <td>0.66</td>\n",
              "    </tr>\n",
              "    <tr>\n",
              "      <th>3481</th>\n",
              "      <td>Kirik Party</td>\n",
              "      <td>7.9</td>\n",
              "      <td>comedy</td>\n",
              "      <td>1</td>\n",
              "      <td>A treat for all college students</td>\n",
              "      <td>This is one of the best movies i watched in re...</td>\n",
              "      <td>treat for all college students one of best mov...</td>\n",
              "      <td>71</td>\n",
              "      <td>9/10</td>\n",
              "      <td>good</td>\n",
              "      <td>0.77</td>\n",
              "      <td>0.64</td>\n",
              "    </tr>\n",
              "  </tbody>\n",
              "</table>\n",
              "</div>"
            ],
            "text/plain": [
              "            movie rating  ... positive_prob  bias_free_positive_prob\n",
              "970        Dangal    8.3  ...          0.66                     0.62\n",
              "3504       Angoor    8.2  ...          0.85                     0.65\n",
              "6636   Kai Po Che    7.7  ...          0.44                     0.67\n",
              "3014       Talvar    8.1  ...          0.78                     0.66\n",
              "3481  Kirik Party    7.9  ...          0.77                     0.64\n",
              "\n",
              "[5 rows x 12 columns]"
            ]
          },
          "metadata": {},
          "execution_count": 122
        }
      ]
    },
    {
      "cell_type": "code",
      "metadata": {
        "colab": {
          "base_uri": "https://localhost:8080/",
          "height": 591
        },
        "id": "uwp7Gtzh1uaY",
        "outputId": "3a204f65-0a24-4039-85fc-e71a144a84cd"
      },
      "source": [
        "df_comp[df_comp.review_rating == \"10/10\"][:5]"
      ],
      "id": "uwp7Gtzh1uaY",
      "execution_count": null,
      "outputs": [
        {
          "output_type": "execute_result",
          "data": {
            "text/html": [
              "<div>\n",
              "<style scoped>\n",
              "    .dataframe tbody tr th:only-of-type {\n",
              "        vertical-align: middle;\n",
              "    }\n",
              "\n",
              "    .dataframe tbody tr th {\n",
              "        vertical-align: top;\n",
              "    }\n",
              "\n",
              "    .dataframe thead th {\n",
              "        text-align: right;\n",
              "    }\n",
              "</style>\n",
              "<table border=\"1\" class=\"dataframe\">\n",
              "  <thead>\n",
              "    <tr style=\"text-align: right;\">\n",
              "      <th></th>\n",
              "      <th>movie</th>\n",
              "      <th>rating</th>\n",
              "      <th>genre_primary_mapped</th>\n",
              "      <th>genre_label</th>\n",
              "      <th>review_title</th>\n",
              "      <th>review</th>\n",
              "      <th>review_processed</th>\n",
              "      <th>num_tokens</th>\n",
              "      <th>review_rating</th>\n",
              "      <th>review_class_bin</th>\n",
              "      <th>positive_prob</th>\n",
              "      <th>bias_free_positive_prob</th>\n",
              "    </tr>\n",
              "  </thead>\n",
              "  <tbody>\n",
              "    <tr>\n",
              "      <th>1859</th>\n",
              "      <td>Poove Unakkaga</td>\n",
              "      <td>7.9</td>\n",
              "      <td>comedy</td>\n",
              "      <td>1</td>\n",
              "      <td>Poovae unakaga</td>\n",
              "      <td>Vijay's first blockbuster movie and superb act...</td>\n",
              "      <td>poovae unakaga vijays first blockbuster movie ...</td>\n",
              "      <td>16</td>\n",
              "      <td>10/10</td>\n",
              "      <td>good</td>\n",
              "      <td>0.44</td>\n",
              "      <td>0.64</td>\n",
              "    </tr>\n",
              "    <tr>\n",
              "      <th>7194</th>\n",
              "      <td>Mahanati</td>\n",
              "      <td>8.2</td>\n",
              "      <td>biography</td>\n",
              "      <td>5</td>\n",
              "      <td>Mahanati - The Greatest Biopic Ever Made In Th...</td>\n",
              "      <td>To be frank, I've no expectations over this fi...</td>\n",
              "      <td>mahanati greatest biopic ever made in history ...</td>\n",
              "      <td>118</td>\n",
              "      <td>10/10</td>\n",
              "      <td>good</td>\n",
              "      <td>0.69</td>\n",
              "      <td>0.64</td>\n",
              "    </tr>\n",
              "    <tr>\n",
              "      <th>1850</th>\n",
              "      <td>Don</td>\n",
              "      <td>7.7</td>\n",
              "      <td>action</td>\n",
              "      <td>0</td>\n",
              "      <td>AB is the best!!!</td>\n",
              "      <td>This is another classic movie by Bachchan. The...</td>\n",
              "      <td>ab best another classic movie by bachchan rang...</td>\n",
              "      <td>88</td>\n",
              "      <td>10/10</td>\n",
              "      <td>good</td>\n",
              "      <td>0.87</td>\n",
              "      <td>0.64</td>\n",
              "    </tr>\n",
              "    <tr>\n",
              "      <th>429</th>\n",
              "      <td>Ghilli</td>\n",
              "      <td>7.7</td>\n",
              "      <td>action</td>\n",
              "      <td>0</td>\n",
              "      <td>Such an interesting movie espically Vijay's at...</td>\n",
              "      <td>Semmma semmma semmma movie to watch. Such an i...</td>\n",
              "      <td>such interesting movie espically vijays attitu...</td>\n",
              "      <td>28</td>\n",
              "      <td>10/10</td>\n",
              "      <td>good</td>\n",
              "      <td>0.62</td>\n",
              "      <td>0.66</td>\n",
              "    </tr>\n",
              "    <tr>\n",
              "      <th>101</th>\n",
              "      <td>Satya</td>\n",
              "      <td>8.2</td>\n",
              "      <td>action</td>\n",
              "      <td>0</td>\n",
              "      <td>One of the most intelligent movies ever made a...</td>\n",
              "      <td>SATYA stands out from the normal Bollywood rom...</td>\n",
              "      <td>one of most intelligent movies ever made about...</td>\n",
              "      <td>143</td>\n",
              "      <td>10/10</td>\n",
              "      <td>good</td>\n",
              "      <td>0.86</td>\n",
              "      <td>0.66</td>\n",
              "    </tr>\n",
              "  </tbody>\n",
              "</table>\n",
              "</div>"
            ],
            "text/plain": [
              "               movie rating  ... positive_prob  bias_free_positive_prob\n",
              "1859  Poove Unakkaga    7.9  ...          0.44                     0.64\n",
              "7194        Mahanati    8.2  ...          0.69                     0.64\n",
              "1850             Don    7.7  ...          0.87                     0.64\n",
              "429           Ghilli    7.7  ...          0.62                     0.66\n",
              "101            Satya    8.2  ...          0.86                     0.66\n",
              "\n",
              "[5 rows x 12 columns]"
            ]
          },
          "metadata": {},
          "execution_count": 123
        }
      ]
    },
    {
      "cell_type": "markdown",
      "metadata": {
        "id": "R7a4FuQq3k-M"
      },
      "source": [
        "### negative review comparision"
      ],
      "id": "R7a4FuQq3k-M"
    },
    {
      "cell_type": "code",
      "metadata": {
        "id": "yLP0lfnr2Mr2"
      },
      "source": [
        "df_comp.drop(columns=[\"positive_prob\", \"bias_free_positive_prob\"], inplace=True)\n",
        "\n",
        "df_comp[\"negative_prob\"] = [round(pred[0], 2) for pred in y_pred_bin]\n",
        "df_comp[\"bias_free_negative_prob\"] = [round(pred[0], 2) for pred in y_pred_bias[0]]"
      ],
      "id": "yLP0lfnr2Mr2",
      "execution_count": null,
      "outputs": []
    },
    {
      "cell_type": "code",
      "metadata": {
        "colab": {
          "base_uri": "https://localhost:8080/",
          "height": 643
        },
        "id": "Ee0erQ5W1NOc",
        "outputId": "073f2b29-e518-4124-f4f5-b1996c4d1191"
      },
      "source": [
        "df_comp[df_comp.review_rating == \"2/10\"].sample(5)"
      ],
      "id": "Ee0erQ5W1NOc",
      "execution_count": null,
      "outputs": [
        {
          "output_type": "execute_result",
          "data": {
            "text/html": [
              "<div>\n",
              "<style scoped>\n",
              "    .dataframe tbody tr th:only-of-type {\n",
              "        vertical-align: middle;\n",
              "    }\n",
              "\n",
              "    .dataframe tbody tr th {\n",
              "        vertical-align: top;\n",
              "    }\n",
              "\n",
              "    .dataframe thead th {\n",
              "        text-align: right;\n",
              "    }\n",
              "</style>\n",
              "<table border=\"1\" class=\"dataframe\">\n",
              "  <thead>\n",
              "    <tr style=\"text-align: right;\">\n",
              "      <th></th>\n",
              "      <th>movie</th>\n",
              "      <th>rating</th>\n",
              "      <th>genre_primary_mapped</th>\n",
              "      <th>genre_label</th>\n",
              "      <th>review_title</th>\n",
              "      <th>review</th>\n",
              "      <th>review_processed</th>\n",
              "      <th>num_tokens</th>\n",
              "      <th>review_rating</th>\n",
              "      <th>review_class_bin</th>\n",
              "      <th>negative_prob</th>\n",
              "      <th>bias_free_negative_prob</th>\n",
              "    </tr>\n",
              "  </thead>\n",
              "  <tbody>\n",
              "    <tr>\n",
              "      <th>6704</th>\n",
              "      <td>The Master of Disguise</td>\n",
              "      <td>3.6</td>\n",
              "      <td>adventure</td>\n",
              "      <td>4</td>\n",
              "      <td>Annoying and not funny at all</td>\n",
              "      <td>Pistachio Disguisey (Dana Carvey) is a waiter ...</td>\n",
              "      <td>annoying not funny at all pistachio disguisey ...</td>\n",
              "      <td>137</td>\n",
              "      <td>2/10</td>\n",
              "      <td>bad</td>\n",
              "      <td>0.39</td>\n",
              "      <td>0.35</td>\n",
              "    </tr>\n",
              "    <tr>\n",
              "      <th>7242</th>\n",
              "      <td>Laxmii</td>\n",
              "      <td>3.4</td>\n",
              "      <td>action</td>\n",
              "      <td>0</td>\n",
              "      <td>What kind of movie this is !!!!</td>\n",
              "      <td>The story of this movie is so bad and acting i...</td>\n",
              "      <td>kind of movie story of movie so bad acting ave...</td>\n",
              "      <td>21</td>\n",
              "      <td>2/10</td>\n",
              "      <td>bad</td>\n",
              "      <td>0.30</td>\n",
              "      <td>0.33</td>\n",
              "    </tr>\n",
              "    <tr>\n",
              "      <th>286</th>\n",
              "      <td>The Music Room</td>\n",
              "      <td>7.9</td>\n",
              "      <td>drama</td>\n",
              "      <td>2</td>\n",
              "      <td>The sensible review</td>\n",
              "      <td>If you are not from India and find the cast sy...</td>\n",
              "      <td>sensible review if not from india find cast sy...</td>\n",
              "      <td>468</td>\n",
              "      <td>2/10</td>\n",
              "      <td>bad</td>\n",
              "      <td>0.31</td>\n",
              "      <td>0.35</td>\n",
              "    </tr>\n",
              "    <tr>\n",
              "      <th>2465</th>\n",
              "      <td>Dabangg 3</td>\n",
              "      <td>3.7</td>\n",
              "      <td>action</td>\n",
              "      <td>0</td>\n",
              "      <td>Exaggerated with tons of overacting ....</td>\n",
              "      <td>Move on ...Nothing new to watch here. The nove...</td>\n",
              "      <td>exaggerated with tons of overacting move on no...</td>\n",
              "      <td>54</td>\n",
              "      <td>2/10</td>\n",
              "      <td>bad</td>\n",
              "      <td>0.27</td>\n",
              "      <td>0.37</td>\n",
              "    </tr>\n",
              "    <tr>\n",
              "      <th>1595</th>\n",
              "      <td>The Love Guru</td>\n",
              "      <td>3.9</td>\n",
              "      <td>comedy</td>\n",
              "      <td>1</td>\n",
              "      <td>Mike Myers hits a new low!</td>\n",
              "      <td>The Love Guru is another stupid comedy written...</td>\n",
              "      <td>mike myers hits new low love guru another stup...</td>\n",
              "      <td>182</td>\n",
              "      <td>2/10</td>\n",
              "      <td>bad</td>\n",
              "      <td>0.25</td>\n",
              "      <td>0.35</td>\n",
              "    </tr>\n",
              "  </tbody>\n",
              "</table>\n",
              "</div>"
            ],
            "text/plain": [
              "                       movie rating  ... negative_prob  bias_free_negative_prob\n",
              "6704  The Master of Disguise    3.6  ...          0.39                     0.35\n",
              "7242                  Laxmii    3.4  ...          0.30                     0.33\n",
              "286           The Music Room    7.9  ...          0.31                     0.35\n",
              "2465               Dabangg 3    3.7  ...          0.27                     0.37\n",
              "1595           The Love Guru    3.9  ...          0.25                     0.35\n",
              "\n",
              "[5 rows x 12 columns]"
            ]
          },
          "metadata": {},
          "execution_count": 135
        }
      ]
    },
    {
      "cell_type": "code",
      "metadata": {
        "colab": {
          "base_uri": "https://localhost:8080/",
          "height": 643
        },
        "id": "mZZwRcJx3Ghi",
        "outputId": "6213d483-ecb8-4fad-886d-4bbf8a9fe47d"
      },
      "source": [
        "df_comp[df_comp.review_rating == \"3/10\"].sample(5)"
      ],
      "id": "mZZwRcJx3Ghi",
      "execution_count": null,
      "outputs": [
        {
          "output_type": "execute_result",
          "data": {
            "text/html": [
              "<div>\n",
              "<style scoped>\n",
              "    .dataframe tbody tr th:only-of-type {\n",
              "        vertical-align: middle;\n",
              "    }\n",
              "\n",
              "    .dataframe tbody tr th {\n",
              "        vertical-align: top;\n",
              "    }\n",
              "\n",
              "    .dataframe thead th {\n",
              "        text-align: right;\n",
              "    }\n",
              "</style>\n",
              "<table border=\"1\" class=\"dataframe\">\n",
              "  <thead>\n",
              "    <tr style=\"text-align: right;\">\n",
              "      <th></th>\n",
              "      <th>movie</th>\n",
              "      <th>rating</th>\n",
              "      <th>genre_primary_mapped</th>\n",
              "      <th>genre_label</th>\n",
              "      <th>review_title</th>\n",
              "      <th>review</th>\n",
              "      <th>review_processed</th>\n",
              "      <th>num_tokens</th>\n",
              "      <th>review_rating</th>\n",
              "      <th>review_class_bin</th>\n",
              "      <th>negative_prob</th>\n",
              "      <th>bias_free_negative_prob</th>\n",
              "    </tr>\n",
              "  </thead>\n",
              "  <tbody>\n",
              "    <tr>\n",
              "      <th>2291</th>\n",
              "      <td>My Father and My Son</td>\n",
              "      <td>8.1</td>\n",
              "      <td>drama</td>\n",
              "      <td>2</td>\n",
              "      <td>An emotional drama that never hits hard</td>\n",
              "      <td>This is an emotional drama that, after the ope...</td>\n",
              "      <td>emotional drama never hits hard emotional dram...</td>\n",
              "      <td>149</td>\n",
              "      <td>3/10</td>\n",
              "      <td>bad</td>\n",
              "      <td>0.42</td>\n",
              "      <td>0.33</td>\n",
              "    </tr>\n",
              "    <tr>\n",
              "      <th>7499</th>\n",
              "      <td>Dragon Wars: D-War</td>\n",
              "      <td>3.8</td>\n",
              "      <td>action</td>\n",
              "      <td>0</td>\n",
              "      <td>The monsters attacks are some of the best visu...</td>\n",
              "      <td>First off you don't see any dragons until the ...</td>\n",
              "      <td>monsters attacks some of best visuals in years...</td>\n",
              "      <td>313</td>\n",
              "      <td>3/10</td>\n",
              "      <td>bad</td>\n",
              "      <td>0.58</td>\n",
              "      <td>0.34</td>\n",
              "    </tr>\n",
              "    <tr>\n",
              "      <th>6356</th>\n",
              "      <td>Date Movie</td>\n",
              "      <td>2.9</td>\n",
              "      <td>comedy</td>\n",
              "      <td>1</td>\n",
              "      <td>The best of the Friedberg-Seltzer spoof movies...</td>\n",
              "      <td>You may probably remember how much I dislike F...</td>\n",
              "      <td>best of friedberg seltzer spoof movies but not...</td>\n",
              "      <td>216</td>\n",
              "      <td>3/10</td>\n",
              "      <td>bad</td>\n",
              "      <td>0.28</td>\n",
              "      <td>0.33</td>\n",
              "    </tr>\n",
              "    <tr>\n",
              "      <th>1940</th>\n",
              "      <td>Dragonball Evolution</td>\n",
              "      <td>2.6</td>\n",
              "      <td>action</td>\n",
              "      <td>0</td>\n",
              "      <td>Goki , Master Roshi and Bulma battle Lord Picc...</td>\n",
              "      <td>The story starts with Goku (Justin Chatwin of ...</td>\n",
              "      <td>goki master roshi bulma battle lord piccolo to...</td>\n",
              "      <td>284</td>\n",
              "      <td>3/10</td>\n",
              "      <td>bad</td>\n",
              "      <td>0.44</td>\n",
              "      <td>0.35</td>\n",
              "    </tr>\n",
              "    <tr>\n",
              "      <th>3153</th>\n",
              "      <td>Daddy Day Camp</td>\n",
              "      <td>3.5</td>\n",
              "      <td>comedy</td>\n",
              "      <td>1</td>\n",
              "      <td>Daddy Day Camp</td>\n",
              "      <td>Always beware a sequel where none of the origi...</td>\n",
              "      <td>daddy day camp always beware sequel where none...</td>\n",
              "      <td>96</td>\n",
              "      <td>3/10</td>\n",
              "      <td>bad</td>\n",
              "      <td>0.22</td>\n",
              "      <td>0.35</td>\n",
              "    </tr>\n",
              "  </tbody>\n",
              "</table>\n",
              "</div>"
            ],
            "text/plain": [
              "                     movie rating  ... negative_prob  bias_free_negative_prob\n",
              "2291  My Father and My Son    8.1  ...          0.42                     0.33\n",
              "7499    Dragon Wars: D-War    3.8  ...          0.58                     0.34\n",
              "6356            Date Movie    2.9  ...          0.28                     0.33\n",
              "1940  Dragonball Evolution    2.6  ...          0.44                     0.35\n",
              "3153        Daddy Day Camp    3.5  ...          0.22                     0.35\n",
              "\n",
              "[5 rows x 12 columns]"
            ]
          },
          "metadata": {},
          "execution_count": 136
        }
      ]
    }
  ]
}